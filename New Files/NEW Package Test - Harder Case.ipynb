{
 "cells": [
  {
   "cell_type": "code",
   "execution_count": 1,
   "id": "54f1ac0f",
   "metadata": {},
   "outputs": [
    {
     "name": "stdout",
     "output_type": "stream",
     "text": [
      "Requirement already satisfied: pykalman in /home/firepanda415/anaconda3/envs/quantum/lib/python3.9/site-packages (0.9.5)\r\n"
     ]
    }
   ],
   "source": [
    "! pip install pykalman"
   ]
  },
  {
   "cell_type": "markdown",
   "id": "3ed58ee0",
   "metadata": {},
   "source": [
    "## Example"
   ]
  },
  {
   "cell_type": "code",
   "execution_count": 2,
   "id": "687a566a",
   "metadata": {},
   "outputs": [
    {
     "data": {
      "text/plain": [
       "{'transition_matrices': array([[1, 1],\n",
       "        [0, 1]]),\n",
       " 'observation_matrices': array([[ 0.1,  0.5],\n",
       "        [-0.3,  0. ]]),\n",
       " 'transition_covariance': array([[1.3939454 , 0.00828761],\n",
       "        [0.00828761, 0.3269986 ]]),\n",
       " 'observation_covariance': array([[ 0.34180639, -0.07294099],\n",
       "        [-0.07294099,  0.18519393]]),\n",
       " 'transition_offsets': array([0., 0.]),\n",
       " 'observation_offsets': array([0., 0.]),\n",
       " 'initial_state_mean': array([-0.62893648,  0.36286253]),\n",
       " 'initial_state_covariance': array([[ 0.28058382, -0.06524256],\n",
       "        [-0.06524256,  0.11905581]]),\n",
       " 'random_state': None,\n",
       " 'em_vars': ['transition_covariance',\n",
       "  'observation_covariance',\n",
       "  'initial_state_mean',\n",
       "  'initial_state_covariance'],\n",
       " 'n_dim_state': 2,\n",
       " 'n_dim_obs': 2}"
      ]
     },
     "execution_count": 2,
     "metadata": {},
     "output_type": "execute_result"
    }
   ],
   "source": [
    "from pykalman import KalmanFilter\n",
    "import numpy as np\n",
    "kf = KalmanFilter(transition_matrices = [[1, 1], [0, 1]], observation_matrices = [[0.1, 0.5], [-0.3, 0.0]])\n",
    "measurements = np.asarray([[1,0], [0,0], [0,1]])  # 3 observations\n",
    "kf = kf.em(measurements, n_iter=5)\n",
    "# (filtered_state_means, filtered_state_covariances) = kf.filter(measurements)\n",
    "# (smoothed_state_means, smoothed_state_covariances) = kf.smooth(measurements)\n",
    "kf.__dict__"
   ]
  },
  {
   "cell_type": "code",
   "execution_count": null,
   "id": "1aea5cda",
   "metadata": {},
   "outputs": [],
   "source": []
  },
  {
   "cell_type": "code",
   "execution_count": null,
   "id": "f5d028f6",
   "metadata": {},
   "outputs": [],
   "source": []
  },
  {
   "cell_type": "code",
   "execution_count": null,
   "id": "6b6dd078",
   "metadata": {},
   "outputs": [],
   "source": []
  },
  {
   "cell_type": "code",
   "execution_count": null,
   "id": "cb9c0c80",
   "metadata": {},
   "outputs": [],
   "source": []
  },
  {
   "cell_type": "markdown",
   "id": "2929a3b1",
   "metadata": {},
   "source": [
    "## Comparison"
   ]
  },
  {
   "cell_type": "code",
   "execution_count": 3,
   "id": "9a5ae810",
   "metadata": {},
   "outputs": [],
   "source": [
    "import numpy as np\n",
    "from collections import Counter\n",
    "from qiskit import IBMQ,Aer,schedule, execute, QuantumCircuit, QuantumRegister, ClassicalRegister, transpile\n",
    "from qiskit.tools.visualization import plot_histogram\n",
    "from qiskit.visualization import timeline_drawer\n",
    "from qiskit.visualization.pulse_v2 import draw, IQXDebugging\n",
    "from qiskit.tools.monitor import job_monitor\n",
    "from qiskit.providers.aer.noise import NoiseModel\n",
    "from qiskit.providers.aer import AerSimulator\n",
    "import qiskit.quantum_info as qi\n",
    "from qiskit.providers.aer.noise import QuantumError, ReadoutError\n",
    "\n",
    "# Tomography functions\n",
    "from qiskit_experiments.framework import ParallelExperiment\n",
    "from qiskit_experiments.library import StateTomography\n",
    "\n",
    "\n",
    "# Seeds\n",
    "from numpy.random import Generator, PCG64\n",
    "rng = Generator(PCG64(1897))\n",
    "MY_SEEDS = rng.integers(0,high=10**8,size=100)\n",
    "\n",
    "\n",
    "import KSEM\n",
    "from importlib import reload  \n",
    "KSEM = reload(KSEM)\n",
    "from KSEM import KSQS, EMLearn\n",
    "\n",
    "import matplotlib.pyplot as plt\n",
    "from matplotlib.pyplot import figure\n",
    "\n",
    "# plt.rcParams['text.usetex'] = True\n",
    "fig_size = (8,6)\n",
    "fig_dpi = 150"
   ]
  },
  {
   "cell_type": "code",
   "execution_count": 4,
   "id": "6d770bb9",
   "metadata": {},
   "outputs": [
    {
     "name": "stderr",
     "output_type": "stream",
     "text": [
      "<ipython-input-4-beb09c0bf764>:1: DeprecationWarning: The qiskit.IBMQ entrypoint and the qiskit-ibmq-provider package (accessible from 'qiskit.providers.ibmq`) are deprecated and will be removed in a future release. Instead you should use the qiskit-ibm-provider package which is accessible from 'qiskit_ibm_provider'. You can install it with 'pip install qiskit_ibm_provider'. Just replace 'qiskit.IBMQ' with 'qiskit_ibm_provider.IBMProvider'\n",
      "  IBMQ.load_account()\n"
     ]
    },
    {
     "data": {
      "text/plain": [
       "<AccountProvider for IBMQ(hub='ibm-q', group='open', project='main')>"
      ]
     },
     "execution_count": 4,
     "metadata": {},
     "output_type": "execute_result"
    }
   ],
   "source": [
    "IBMQ.load_account()"
   ]
  },
  {
   "cell_type": "code",
   "execution_count": 5,
   "id": "89b47260",
   "metadata": {},
   "outputs": [],
   "source": [
    "provider = IBMQ.get_provider(hub=\"ibm-q-ncsu\", group=\"lehigh-universit\", project=\"qc-error-model\") # ibm-q-ncsu/lehigh-universit/qc-error-model\n",
    "name = \"ibm_nairobi\"\n",
    "backend = provider.get_backend(name)\n",
    "backend_noise_model = NoiseModel.from_backend(backend)\n",
    "# # Remove readout errros\n",
    "# p0given1 = 0\n",
    "# p1given0 = 1\n",
    "# rde = ReadoutError([[1 - p1given0, p1given0], [p0given1, 1 - p0given1]])\n",
    "# for i in range(backend.configuration().num_qubits):\n",
    "#     backend_noise_model._local_readout_errors[(i,)] = rde\n",
    "den_simu = AerSimulator(method='density_matrix',noise_model=backend_noise_model)\n",
    "\n",
    "n_qubits = 3\n",
    "reps = 8\n",
    "max_num_itrs = 10"
   ]
  },
  {
   "cell_type": "code",
   "execution_count": 6,
   "id": "c7ba5c7a",
   "metadata": {},
   "outputs": [],
   "source": [
    "from qiskit import Aer\n",
    "def single_iter(n_qubits=2):\n",
    "    iterate = QuantumCircuit(n_qubits)\n",
    "    iterate.h(0)\n",
    "    iterate.cx(0,1)\n",
    "    iterate.cx(1,2)\n",
    "    iterate.ccx(0,1,2)\n",
    "    iterate.barrier()\n",
    "    return iterate\n",
    "\n",
    "def iterative_circ(num_itrs, n_qubits=2, save_den = True):   \n",
    "    total_circ = QuantumCircuit(n_qubits)\n",
    "    for i in range(num_itrs):\n",
    "        total_circ.compose(single_iter(n_qubits), inplace=True)\n",
    "    if save_den:\n",
    "        total_circ.save_density_matrix(pershot=False)\n",
    "    total_circ.measure_all()\n",
    "    return total_circ\n",
    "\n",
    "def vecden_meas(state):# H, measurement matrix for vectorized density matrix\n",
    "    num_qubits = int(np.log2(np.sqrt(state.shape[0])))\n",
    "    nrows = 2**num_qubits\n",
    "    ncols = nrows**2\n",
    "    mat = np.zeros((nrows, ncols), dtype=np.float64)\n",
    "    for k in range(nrows):\n",
    "        mat[k, nrows*k+k] = 1.0 # take out the diagonal terms in vectorized density matrix\n",
    "    return np.real(mat.dot(state))"
   ]
  },
  {
   "cell_type": "code",
   "execution_count": 7,
   "id": "5dae3c02",
   "metadata": {},
   "outputs": [],
   "source": [
    "unitary_simulator = Aer.get_backend('aer_simulator')\n",
    "unitary_circ = transpile(single_iter(n_qubits), backend=den_simu)\n",
    "unitary_circ.save_unitary()\n",
    "unitary_result = unitary_simulator.run(unitary_circ).result()\n",
    "unitary = unitary_result.get_unitary(unitary_circ)\n",
    "\n",
    "unitaries = []\n",
    "for i in range(1, max_num_itrs+1):\n",
    "    gate = unitary.data\n",
    "    F = np.kron(gate.conjugate(), gate)\n",
    "    unitaries.append(F)\n",
    "    \n",
    "trans_circ = transpile(iterative_circ(3, n_qubits), backend=den_simu)\n",
    "iter_res = den_simu.run(trans_circ,shots=8192*reps,seed_simulator=np.random.randint(10**8)).result()\n",
    "\n",
    "total_simu_dens = [] # quantum state in density-matrix form\n",
    "total_simu_probs = [] # measurement result\n",
    "total_simu_purs = [] # purity\n",
    "for i in range(1, max_num_itrs+1):\n",
    "    my_seed = MY_SEEDS[i]\n",
    "    trans_circ = transpile(iterative_circ(i, n_qubits, save_den = True), seed_transpiler=my_seed, backend=den_simu,optimization_level=0)\n",
    "    iter_res = den_simu.run(trans_circ,shots=8192*reps,seed_simulator=my_seed).result()\n",
    "    iter_den = iter_res.data()['density_matrix']\n",
    "    total_simu_dens.append(iter_den)\n",
    "    \n",
    "    trans_circ = transpile(iterative_circ(i, n_qubits, save_den = False), seed_transpiler=my_seed, backend=den_simu,optimization_level=0)\n",
    "    iter_res = den_simu.run(trans_circ,shots=8192*reps,seed_simulator=my_seed).result()\n",
    "    total_simu_probs.append(KSEM.dictToVec(iter_res.get_counts()))\n",
    "    total_simu_purs.append(np.real(iter_den.purity()))"
   ]
  },
  {
   "cell_type": "code",
   "execution_count": 8,
   "id": "0d4b9e76",
   "metadata": {},
   "outputs": [],
   "source": [
    "initial_state = np.array([0]*(total_simu_probs[0].size**2), dtype=complex)\n",
    "initial_state[0] = 1\n",
    "\n",
    "# initial state\n",
    "num_dim = initial_state.size\n",
    "x =initial_state\n",
    "x[0]-= 0.01/num_dim\n",
    "nrows = int(x.size-1)\n",
    "for k in range(1,nrows+1):\n",
    "    x[k] += 1/(num_dim*nrows)"
   ]
  },
  {
   "cell_type": "code",
   "execution_count": 9,
   "id": "1dfc2427",
   "metadata": {},
   "outputs": [],
   "source": [
    "# Other variance parameters\n",
    "num_dim_state = initial_state.size\n",
    "num_dim_obs = total_simu_probs[0].size\n",
    "\n",
    "M = np.identity(num_dim_state, dtype=complex)* 0.01 * (1) # a guess for covariance matrix, E[(x0-xhat0^+)(x0-xhat0^+)^T]\n",
    "Q = np.identity(num_dim_state, dtype=complex)* 0.2 * (1) # state covariance\n",
    "R = np.identity(num_dim_obs)* 0.2 * (1) # meas covariance\n",
    "P = np.identity(num_dim_state, dtype=complex)* 0.1 * (1)# \n",
    "# U = np.identity(num_dim_obs, dtype=complex)* 0.0"
   ]
  },
  {
   "cell_type": "code",
   "execution_count": 11,
   "id": "2fbcf1b3",
   "metadata": {},
   "outputs": [
    {
     "name": "stderr",
     "output_type": "stream",
     "text": [
      "/home/firepanda415/anaconda3/envs/quantum/lib/python3.9/site-packages/scipy/sparse/_index.py:82: SparseEfficiencyWarning: Changing the sparsity structure of a csc_matrix is expensive. lil_matrix is more efficient.\n",
      "  self._set_intXint(row, col, x.flat[0])\n"
     ]
    }
   ],
   "source": [
    "# Use existing code to construct arguemented system\n",
    "observs = total_simu_probs\n",
    "learn_obj = EMLearn(observs, unitaries[0], x, M, Q, R, P)"
   ]
  },
  {
   "cell_type": "code",
   "execution_count": 12,
   "id": "96a3f2e1",
   "metadata": {},
   "outputs": [
    {
     "data": {
      "text/plain": [
       "{'transition_matrices': array([[ 5.0000000e-01,  5.0000000e-01,  0.0000000e+00, ...,\n",
       "          0.0000000e+00,  0.0000000e+00,  0.0000000e+00],\n",
       "        [ 0.0000000e+00,  0.0000000e+00,  5.0000000e-01, ...,\n",
       "          0.0000000e+00,  0.0000000e+00,  0.0000000e+00],\n",
       "        [ 0.0000000e+00,  0.0000000e+00, -1.7431528e-32, ...,\n",
       "          0.0000000e+00,  0.0000000e+00,  0.0000000e+00],\n",
       "        ...,\n",
       "        [ 0.0000000e+00,  0.0000000e+00,  0.0000000e+00, ...,\n",
       "          0.0000000e+00,  0.0000000e+00,  0.0000000e+00],\n",
       "        [ 0.0000000e+00,  0.0000000e+00,  0.0000000e+00, ...,\n",
       "          0.0000000e+00,  0.0000000e+00,  0.0000000e+00],\n",
       "        [ 0.0000000e+00,  0.0000000e+00,  0.0000000e+00, ...,\n",
       "          0.0000000e+00,  0.0000000e+00,  0.0000000e+00]]),\n",
       " 'observation_matrices': array([[0.5, 0. , 0. , ..., 0. , 0. , 0. ],\n",
       "        [0. , 0. , 0. , ..., 0. , 0. , 0. ],\n",
       "        [0. , 0. , 0. , ..., 0. , 0. , 0. ],\n",
       "        ...,\n",
       "        [0. , 0. , 0. , ..., 0. , 0. , 0. ],\n",
       "        [0. , 0. , 0. , ..., 0. , 0. , 0. ],\n",
       "        [0. , 0. , 0. , ..., 0. , 0. , 0.5]]),\n",
       " 'transition_covariance': array([[ 5.52398364e-01,  2.24006479e-03, -2.41040622e-04, ...,\n",
       "          9.60568510e-04,  2.55903238e-06, -1.79160319e-03],\n",
       "        [ 2.24006479e-03,  8.12934689e-01,  7.28192832e-04, ...,\n",
       "          4.36573606e-04,  1.21266654e-03, -2.06651255e-05],\n",
       "        [-2.41040473e-04,  7.28192850e-04,  9.07281511e-01, ...,\n",
       "          3.57809544e-03, -4.21646936e-04,  9.61007244e-04],\n",
       "        ...,\n",
       "        [ 9.60568603e-04,  4.36573706e-04,  3.57809560e-03, ...,\n",
       "          9.07257079e-01, -6.95515443e-04, -1.77462365e-04],\n",
       "        [ 2.55903105e-06,  1.21266659e-03, -4.21647048e-04, ...,\n",
       "         -6.95515300e-04,  8.12771874e-01, -2.29616113e-03],\n",
       "        [-1.79160311e-03, -2.06651158e-05,  9.61007231e-04, ...,\n",
       "         -1.77462335e-04, -2.29616125e-03,  5.52169666e-01]]),\n",
       " 'observation_covariance': array([[ 0.02270945, -0.01262762,  0.0055161 , -0.0129638 ,  0.00429555,\n",
       "         -0.00503259,  0.00554707, -0.00499016],\n",
       "        [-0.01262762,  0.02268512, -0.00487902,  0.00551963, -0.00502524,\n",
       "          0.00425982, -0.01310586,  0.00556252],\n",
       "        [ 0.0055161 , -0.00487902,  0.0226611 , -0.01271804,  0.00558845,\n",
       "         -0.01299263,  0.00416138, -0.00499965],\n",
       "        [-0.0129638 ,  0.00551963, -0.01271804,  0.02267249, -0.004994  ,\n",
       "          0.00555679, -0.00493862,  0.00426625],\n",
       "        [ 0.00429555, -0.00502524,  0.00558845, -0.004994  ,  0.02249029,\n",
       "         -0.01259412,  0.00556649, -0.0129852 ],\n",
       "        [-0.00503259,  0.00425982, -0.01299263,  0.00555679, -0.01259412,\n",
       "          0.02252989, -0.00494247,  0.00554828],\n",
       "        [ 0.00554707, -0.01310586,  0.00416138, -0.00493862,  0.00556649,\n",
       "         -0.00494247,  0.02265877, -0.01261574],\n",
       "        [-0.00499016,  0.00556252, -0.00499965,  0.00426625, -0.0129852 ,\n",
       "          0.00554828, -0.01261574,  0.02254753]]),\n",
       " 'transition_offsets': array([0., 0., 0., 0., 0., 0., 0., 0., 0., 0., 0., 0., 0., 0., 0., 0., 0.,\n",
       "        0., 0., 0., 0., 0., 0., 0., 0., 0., 0., 0., 0., 0., 0., 0., 0., 0.,\n",
       "        0., 0., 0., 0., 0., 0., 0., 0., 0., 0., 0., 0., 0., 0., 0., 0., 0.,\n",
       "        0., 0., 0., 0., 0., 0., 0., 0., 0., 0., 0., 0., 0., 0., 0., 0., 0.,\n",
       "        0., 0., 0., 0., 0., 0., 0., 0., 0., 0., 0., 0., 0., 0., 0., 0., 0.,\n",
       "        0., 0., 0., 0., 0., 0., 0., 0., 0., 0., 0., 0., 0., 0., 0., 0., 0.,\n",
       "        0., 0., 0., 0., 0., 0., 0., 0., 0., 0., 0., 0., 0., 0., 0., 0., 0.,\n",
       "        0., 0., 0., 0., 0., 0., 0., 0., 0.]),\n",
       " 'observation_offsets': array([0., 0., 0., 0., 0., 0., 0., 0.]),\n",
       " 'initial_state_mean': array([ 0.43858569,  0.00620427, -0.05784848,  0.22505305, -0.00803825,\n",
       "         0.01880645,  0.01574323, -0.02768578,  0.00620427,  0.03252612,\n",
       "        -0.00587161,  0.00797849, -0.00266732, -0.01617775, -0.0032622 ,\n",
       "         0.0073097 , -0.05784848, -0.00587161,  0.01996192, -0.008731  ,\n",
       "        -0.00173612,  0.01810904,  0.02711592,  0.0053837 ,  0.22505305,\n",
       "         0.00797849, -0.008731  ,  0.40448821,  0.02241323,  0.00054592,\n",
       "        -0.00763402, -0.00289992, -0.00803825, -0.00266732, -0.00173612,\n",
       "         0.02241323,  0.03770568,  0.00754663,  0.01823057,  0.040028  ,\n",
       "         0.01880645, -0.01617775,  0.01810904,  0.00054592,  0.00754663,\n",
       "         0.01108663,  0.00979987,  0.0097767 ,  0.01574323, -0.0032622 ,\n",
       "         0.02711592, -0.00763402,  0.01823057,  0.00979987,  0.01045379,\n",
       "         0.00750089, -0.02768578,  0.0073097 ,  0.0053837 , -0.00289992,\n",
       "         0.040028  ,  0.0097767 ,  0.00750089,  0.04191521,  0.43858569,\n",
       "         0.00620427, -0.05784848,  0.22505305, -0.00803825,  0.01880645,\n",
       "         0.01574323, -0.02768578,  0.00620427,  0.03252612, -0.00587161,\n",
       "         0.00797849, -0.00266732, -0.01617775, -0.0032622 ,  0.0073097 ,\n",
       "        -0.05784848, -0.00587161,  0.01996192, -0.008731  , -0.00173612,\n",
       "         0.01810904,  0.02711592,  0.0053837 ,  0.22505305,  0.00797849,\n",
       "        -0.008731  ,  0.40448821,  0.02241323,  0.00054592, -0.00763402,\n",
       "        -0.00289992, -0.00803825, -0.00266732, -0.00173612,  0.02241323,\n",
       "         0.03770568,  0.00754663,  0.01823057,  0.040028  ,  0.01880645,\n",
       "        -0.01617775,  0.01810904,  0.00054592,  0.00754663,  0.01108663,\n",
       "         0.00979987,  0.0097767 ,  0.01574323, -0.0032622 ,  0.02711592,\n",
       "        -0.00763402,  0.01823057,  0.00979987,  0.01045379,  0.00750089,\n",
       "        -0.02768578,  0.0073097 ,  0.0053837 , -0.00289992,  0.040028  ,\n",
       "         0.0097767 ,  0.00750089,  0.04191521]),\n",
       " 'initial_state_covariance': array([[ 5.09168139e-01,  2.95135395e-04, -1.16643630e-03, ...,\n",
       "          5.09794590e-04, -3.17658530e-04, -1.13809503e-03],\n",
       "        [ 2.95135395e-04,  7.68809594e-01,  4.42781591e-04, ...,\n",
       "          1.95834850e-04,  1.98935779e-03,  3.13058564e-04],\n",
       "        [-1.16643630e-03,  4.42781591e-04,  8.52973905e-01, ...,\n",
       "          1.05275983e-02, -1.93330666e-04,  5.04828979e-04],\n",
       "        ...,\n",
       "        [ 5.09794590e-04,  1.95834850e-04,  1.05275983e-02, ...,\n",
       "          8.52957000e-01, -4.39177721e-04, -1.15205410e-03],\n",
       "        [-3.17658530e-04,  1.98935779e-03, -1.93330666e-04, ...,\n",
       "         -4.39177721e-04,  7.68766872e-01, -2.89239873e-04],\n",
       "        [-1.13809503e-03,  3.13058564e-04,  5.04828979e-04, ...,\n",
       "         -1.15205410e-03, -2.89239873e-04,  5.09076678e-01]]),\n",
       " 'random_state': None,\n",
       " 'em_vars': ['transition_covariance',\n",
       "  'observation_covariance',\n",
       "  'initial_state_mean',\n",
       "  'initial_state_covariance'],\n",
       " 'n_dim_state': 128,\n",
       " 'n_dim_obs': 8}"
      ]
     },
     "execution_count": 12,
     "metadata": {},
     "output_type": "execute_result"
    }
   ],
   "source": [
    "kfobj_for_em = KalmanFilter(transition_matrices = learn_obj.Fa.todense().real, observation_matrices = learn_obj.Ha.todense().real)\n",
    "measurements = np.asarray(learn_obj.ys)\n",
    "kfobj_for_em = kfobj_for_em.em(measurements, n_iter=8)\n",
    "kfobj_for_em.__dict__"
   ]
  },
  {
   "cell_type": "code",
   "execution_count": 13,
   "id": "b23a6b8b",
   "metadata": {},
   "outputs": [],
   "source": [
    "(smoothed_state_means, smoothed_state_covariances) = kfobj_for_em.smooth(measurements)"
   ]
  },
  {
   "cell_type": "code",
   "execution_count": 14,
   "id": "ea5104ee",
   "metadata": {},
   "outputs": [
    {
     "data": {
      "text/plain": [
       "(10, 128)"
      ]
     },
     "execution_count": 14,
     "metadata": {},
     "output_type": "execute_result"
    }
   ],
   "source": [
    "smoothed_state_means.shape"
   ]
  },
  {
   "cell_type": "code",
   "execution_count": 15,
   "id": "973fb34e",
   "metadata": {},
   "outputs": [
    {
     "data": {
      "text/plain": [
       "(10, 128, 128)"
      ]
     },
     "execution_count": 15,
     "metadata": {},
     "output_type": "execute_result"
    }
   ],
   "source": [
    "smoothed_state_covariances.shape"
   ]
  },
  {
   "cell_type": "code",
   "execution_count": 16,
   "id": "a950963e",
   "metadata": {},
   "outputs": [
    {
     "name": "stdout",
     "output_type": "stream",
     "text": [
      "0.3670252632235794\n",
      "0.3067499988647804\n",
      "0.25484744930150505\n",
      "0.22076117659524302\n",
      "0.18960887888152334\n",
      "0.171708332447256\n",
      "0.16417027858569877\n",
      "0.16122064522092597\n",
      "0.16134245798118402\n",
      "0.16222781222300686\n"
     ]
    }
   ],
   "source": [
    "norm_diffs = []\n",
    "\n",
    "for i in range(len(total_simu_dens)):\n",
    "    kf_state = smoothed_state_means[i][:num_dim_state].flatten().reshape((int(np.sqrt(num_dim_state)), int(np.sqrt(num_dim_state))), order='F')\n",
    "    norm_diff = np.linalg.norm(kf_state - total_simu_dens[i].data)\n",
    "    norm_diffs.append(norm_diff)\n",
    "    print(norm_diff)"
   ]
  },
  {
   "cell_type": "code",
   "execution_count": 17,
   "id": "7a6867c8",
   "metadata": {},
   "outputs": [
    {
     "data": {
      "text/plain": [
       "array([[ 0.20209839,  0.0085687 ,  0.16400747,  0.00639947,  0.00526678,\n",
       "        -0.17129588,  0.02061783,  0.18391882],\n",
       "       [ 0.0085687 ,  0.08095273, -0.034164  , -0.02470647,  0.00848402,\n",
       "        -0.00671804, -0.02277572,  0.04490952],\n",
       "       [ 0.16400747, -0.034164  ,  0.18861147,  0.00802677, -0.01910398,\n",
       "        -0.12513541,  0.00728193,  0.13938817],\n",
       "       [ 0.00639947, -0.02470647,  0.00802677,  0.0741618 ,  0.0109782 ,\n",
       "        -0.02334774,  0.03040325, -0.00583067],\n",
       "       [ 0.00526678,  0.00848402, -0.01910398,  0.0109782 ,  0.07398354,\n",
       "         0.01105923,  0.01074016,  0.00384237],\n",
       "       [-0.17129588, -0.00671804, -0.12513541, -0.02334774,  0.01105923,\n",
       "         0.16261775,  0.03364632, -0.1731168 ],\n",
       "       [ 0.02061783, -0.02277572,  0.00728193,  0.03040325,  0.01074016,\n",
       "         0.03364632,  0.06034579, -0.02341363],\n",
       "       [ 0.18391882,  0.04490952,  0.13938817, -0.00583067,  0.00384237,\n",
       "        -0.1731168 , -0.02341363,  0.15722614]])"
      ]
     },
     "execution_count": 17,
     "metadata": {},
     "output_type": "execute_result"
    }
   ],
   "source": [
    "kf_state"
   ]
  },
  {
   "cell_type": "code",
   "execution_count": 18,
   "id": "ac4c1b4b",
   "metadata": {
    "scrolled": true
   },
   "outputs": [
    {
     "name": "stderr",
     "output_type": "stream",
     "text": [
      "/home/firepanda415/anaconda3/envs/quantum/lib/python3.9/site-packages/scipy/sparse/linalg/dsolve/linsolve.py:318: SparseEfficiencyWarning: splu requires CSC matrix format\n",
      "  warn('splu requires CSC matrix format', SparseEfficiencyWarning)\n",
      "/home/firepanda415/anaconda3/envs/quantum/lib/python3.9/site-packages/scipy/sparse/linalg/dsolve/linsolve.py:215: SparseEfficiencyWarning: spsolve is more efficient when sparse b is in the CSC matrix format\n",
      "  warn('spsolve is more efficient when sparse b '\n"
     ]
    },
    {
     "name": "stdout",
     "output_type": "stream",
     "text": [
      "Iteration statrts New ll -6810.53, Last ll -6820.53\n",
      "Iteration     1, New log-likelihood -6.68095e+03, Last log-likelihood -6.81053e+03, Change 1.29577e+02\n",
      "Iteration     2, New log-likelihood 6.75159e+07, Last log-likelihood -6.68095e+03, Change 6.75226e+07\n"
     ]
    }
   ],
   "source": [
    "# Use own codes\n",
    "total_smoother_dens = []\n",
    "total_smoother_purs = []\n",
    "\n",
    "observs = total_simu_probs\n",
    "learn_obj = EMLearn(observs, unitaries[0], x, M, Q, R, P)\n",
    "estX0, estM0, estQ, estR, estF = learn_obj.learn() # they are all arguemented\n",
    "\n",
    "# Slice from argumented system\n",
    "realX0 = estX0.toarray()[:num_dim_state]\n",
    "# realX0 = realX0.flatten().reshape((int(np.sqrt(num_dim_state)), int(np.sqrt(num_dim_state))), order='F') # to matrix\n",
    "# realX0 = KSEM.closed_den_mat(realX0) # find closest valid density matrix\n",
    "# realX0 = np.array(realX0.flatten(order='C'))[0] # reshape to vector\n",
    "\n",
    "realM0 = estM0.toarray()[range(num_dim_state),:][:,range(num_dim_state)]\n",
    "realF = estF.toarray()[range(num_dim_state),:][:,range(num_dim_state)]\n",
    "realQ = estQ.toarray()[range(num_dim_state),:][:,range(num_dim_state)]\n",
    "realR = estR.toarray()[range(num_dim_obs),:][:,range(num_dim_obs)]\n",
    "realP = estQ.toarray()[range(num_dim_state),:][:,range(num_dim_state, 2*num_dim_state)]"
   ]
  },
  {
   "cell_type": "code",
   "execution_count": 19,
   "id": "e0e4f81b",
   "metadata": {},
   "outputs": [],
   "source": [
    "smoother = KSQS(observs, realF, realX0, realM0, realQ, realR, realP)\n",
    "x_seq, M_seq, M_prio_seq = smoother.smooth() "
   ]
  },
  {
   "cell_type": "code",
   "execution_count": 20,
   "id": "db7c0407",
   "metadata": {},
   "outputs": [
    {
     "name": "stdout",
     "output_type": "stream",
     "text": [
      "0.9553198724879353\n",
      "43.38215113965615\n",
      "183.21634522000457\n",
      "123.62400442921118\n",
      "141.05357759408253\n",
      "127.69333762512028\n",
      "145.11432680101268\n",
      "288.9058868552316\n",
      "242.71696735895182\n",
      "145.73901586859083\n"
     ]
    }
   ],
   "source": [
    "norm_diffs2 = []\n",
    "for i in range(len(total_simu_dens)):\n",
    "    kf_state2 = x_seq[i].todense()[:num_dim_state].flatten().reshape((int(np.sqrt(num_dim_state)), int(np.sqrt(num_dim_state))), order='F')\n",
    "    norm_diff = np.linalg.norm(kf_state2 - total_simu_dens[i].data)\n",
    "    norm_diffs2.append(norm_diff)\n",
    "    print(norm_diff)"
   ]
  },
  {
   "cell_type": "code",
   "execution_count": 21,
   "id": "bcc61d5b",
   "metadata": {},
   "outputs": [
    {
     "data": {
      "image/png": "[encoded data removed]",
      "text/plain": [
       "<Figure size 432x288 with 1 Axes>"
      ]
     },
     "metadata": {
      "needs_background": "light"
     },
     "output_type": "display_data"
    }
   ],
   "source": [
    "plt.plot(list(range(10)), norm_diffs, label='PyKalman')\n",
    "plt.plot(list(range(10)), norm_diffs2, label='Own Code')\n",
    "plt.ylabel('Norm Differences')\n",
    "plt.legend()\n",
    "plt.show()"
   ]
  },
  {
   "cell_type": "code",
   "execution_count": 22,
   "id": "1eaafc8a",
   "metadata": {},
   "outputs": [],
   "source": [
    "# State tomogtaphy\n",
    "\n",
    "backend_noise_model_for_tomo = NoiseModel.from_backend(backend)\n",
    "# Remove readout errros\n",
    "p0given1 = 0\n",
    "p1given0 = 0\n",
    "rde = ReadoutError([[1 - p1given0, p1given0], [p0given1, 1 - p0given1]])\n",
    "for i in range(backend.configuration().num_qubits):\n",
    "    backend_noise_model_for_tomo._local_readout_errors[(i,)] = rde\n",
    "den_simu_for_tomo = AerSimulator(method='density_matrix',noise_model=backend_noise_model_for_tomo)\n",
    "\n",
    "\n",
    "tomo_dens = [] # quantum state in density-matrix form\n",
    "tomo_probs = [] # measurement result\n",
    "tomo_purs = [] # purity\n",
    "for i in range(1, max_num_itrs+1):\n",
    "    my_seed = MY_SEEDS[i]\n",
    "    tomo_target_circ = transpile(iterative_circ(i, n_qubits, save_den = False), seed_transpiler=my_seed, backend=den_simu_for_tomo,optimization_level=0)\n",
    "    qstexp = StateTomography(tomo_target_circ)\n",
    "    qstdata = qstexp.run(den_simu, seed_simulation=my_seed).block_for_results()\n",
    "    tomo_state =  qstdata.analysis_results(\"state\")\n",
    "    \n",
    "    tomo_dens.append(tomo_state.value.data)\n",
    "    tomo_probs.append(tomo_state.value.probabilities())\n",
    "    tomo_purs.append(np.real(tomo_state.value.purity()))"
   ]
  },
  {
   "cell_type": "code",
   "execution_count": 23,
   "id": "d496157a",
   "metadata": {},
   "outputs": [
    {
     "name": "stdout",
     "output_type": "stream",
     "text": [
      "0.6802311175834849\n",
      "0.8035967286810904\n",
      "0.697028523155237\n",
      "0.6464038970007006\n",
      "0.6359881309793738\n",
      "0.5768496449720498\n",
      "0.5576417312684137\n",
      "0.5320558048923371\n",
      "0.5271771836005364\n",
      "0.5316026592921906\n"
     ]
    }
   ],
   "source": [
    "norm_diffs3 = []\n",
    "for i in range(len(total_simu_dens)):\n",
    "    norm_diff = np.linalg.norm(tomo_dens[i] - total_simu_dens[i].data)\n",
    "    norm_diffs3.append(norm_diff)\n",
    "    print(norm_diff)"
   ]
  },
  {
   "cell_type": "code",
   "execution_count": 24,
   "id": "f75893d6",
   "metadata": {},
   "outputs": [
    {
     "data": {
      "image/png": "[encoded data removed]",
      "text/plain": [
       "<Figure size 432x288 with 1 Axes>"
      ]
     },
     "metadata": {
      "needs_background": "light"
     },
     "output_type": "display_data"
    }
   ],
   "source": [
    "plt.plot(list(range(10)), norm_diffs, label='PyKalman')\n",
    "# plt.plot(list(range(10)), norm_diffs2, label='Own Code')\n",
    "plt.plot(list(range(10)), norm_diffs3, label='State Tomo')\n",
    "plt.xlabel('Iterations')\n",
    "plt.ylabel('Norm Differences to Actual State')\n",
    "plt.legend()\n",
    "plt.show()"
   ]
  },
  {
   "cell_type": "code",
   "execution_count": null,
   "id": "fffa719a",
   "metadata": {},
   "outputs": [],
   "source": []
  },
  {
   "cell_type": "code",
   "execution_count": null,
   "id": "c42144a5",
   "metadata": {},
   "outputs": [],
   "source": []
  },
  {
   "cell_type": "code",
   "execution_count": null,
   "id": "e6faf3e2",
   "metadata": {},
   "outputs": [],
   "source": []
  },
  {
   "cell_type": "code",
   "execution_count": 1,
   "id": "873be89c",
   "metadata": {},
   "outputs": [],
   "source": [
    "import numpy as np\n",
    "from collections import Counter\n",
    "from qiskit import IBMQ,Aer,schedule, execute, QuantumCircuit, QuantumRegister, ClassicalRegister, transpile\n",
    "from qiskit.tools.visualization import plot_histogram\n",
    "from qiskit.visualization import timeline_drawer\n",
    "from qiskit.visualization.pulse_v2 import draw, IQXDebugging\n",
    "from qiskit.tools.monitor import job_monitor\n",
    "from qiskit.providers.aer.noise import NoiseModel\n",
    "from qiskit.providers.aer import AerSimulator\n",
    "import qiskit.quantum_info as qi\n",
    "from qiskit.providers.aer.noise import QuantumError, ReadoutError\n",
    "\n",
    "# Tomography functions\n",
    "from qiskit_experiments.framework import ParallelExperiment\n",
    "from qiskit_experiments.library import StateTomography\n",
    "\n",
    "\n",
    "# Seeds\n",
    "from numpy.random import Generator, PCG64\n",
    "rng = Generator(PCG64(1897))\n",
    "MY_SEEDS = rng.integers(0,high=10**8,size=100)\n",
    "\n",
    "\n",
    "import KSEM\n",
    "from importlib import reload  \n",
    "KSEM = reload(KSEM)\n",
    "from KSEM import KSQS, EMLearn\n",
    "\n",
    "import matplotlib.pyplot as plt\n",
    "from matplotlib.pyplot import figure"
   ]
  },
  {
   "cell_type": "code",
   "execution_count": 2,
   "id": "63f1660f",
   "metadata": {},
   "outputs": [],
   "source": [
    "norm_diffs = np.array(\n",
    "[0.3670252632235794,\n",
    "0.3067499988647804,\n",
    "0.25484744930150505,\n",
    "0.22076117659524302,\n",
    "0.18960887888152334,\n",
    "0.171708332447256,\n",
    "0.16417027858569877,\n",
    "0.16122064522092597,\n",
    "0.16134245798118402,\n",
    "0.16222781222300686])"
   ]
  },
  {
   "cell_type": "code",
   "execution_count": 4,
   "id": "aee64ec0",
   "metadata": {},
   "outputs": [],
   "source": [
    "norm_diffs3 = np.array(\n",
    "[0.6802311175834849,\n",
    "0.8035967286810904,\n",
    "0.697028523155237,\n",
    "0.6464038970007006,\n",
    "0.6359881309793738,\n",
    "0.5768496449720498,\n",
    "0.5576417312684137,\n",
    "0.5320558048923371,\n",
    "0.5271771836005364,\n",
    "0.5316026592921906])"
   ]
  },
  {
   "cell_type": "code",
   "execution_count": 8,
   "id": "b3179e19",
   "metadata": {},
   "outputs": [
    {
     "data": {
      "image/png": "[encoded data removed]",
      "text/plain": [
       "<Figure size 432x288 with 1 Axes>"
      ]
     },
     "metadata": {
      "needs_background": "light"
     },
     "output_type": "display_data"
    }
   ],
   "source": [
    "\n",
    "    \n",
    "iter_range = range(10)\n",
    "plt.plot(np.array(iter_range)+1, np.array(norm_diffs)[iter_range], '+-', color='red', label='KS')\n",
    "plt.plot(np.array(iter_range)+1, np.array(norm_diffs3)[iter_range], '*-', color='blue', label='Tomo')\n",
    "plt.xlabel(\"Number of Iterations\")\n",
    "plt.ylabel(r'$||\\rho_{simu} - \\rho_{est}||_2$', fontsize=14)\n",
    "plt.xticks((np.array(iter_range)+1))\n",
    "plt.legend()\n",
    "plt.tight_layout()\n",
    "plt.savefig(\"pkalman_ibm_nairobi_Harder_Case_diff_norm.svg\")\n",
    "plt.show()"
   ]
  },
  {
   "cell_type": "code",
   "execution_count": 12,
   "id": "b7663a01",
   "metadata": {},
   "outputs": [],
   "source": [
    "KS_norm = np.array([0.06571062963610429,\n",
    "                   0.06952401593303774,\n",
    "                    0.07097250534726701,\n",
    "                   0.06845746512488939,\n",
    "                   0.0650887989394933,\n",
    "                   0.06687733815172905,\n",
    "                   0.0673818001551706,\n",
    "                    0.0650750865056518,\n",
    "                   0.06844639778354121,\n",
    "                    0.06625505479546008])\n",
    "Tomo_norm =  np.array([0.09185528841730818,\n",
    "0.10165721020106024,\n",
    "0.09674697983805347,\n",
    "0.09260881904639025,\n",
    "0.09068417005443226,\n",
    "0.09461849133176234,\n",
    "0.08885919583245001,\n",
    "0.09740241728032667,\n",
    "0.09447299339090132,\n",
    "0.09852003622325411])"
   ]
  },
  {
   "cell_type": "code",
   "execution_count": 13,
   "id": "60933da0",
   "metadata": {},
   "outputs": [
    {
     "data": {
      "image/png": "[encoded data removed]",
      "text/plain": [
       "<Figure size 432x288 with 1 Axes>"
      ]
     },
     "metadata": {
      "needs_background": "light"
     },
     "output_type": "display_data"
    }
   ],
   "source": [
    "iter_range = range(10)\n",
    "plt.plot(np.array(iter_range)+1, np.array(KS_norm)[iter_range], '+-', color='red', label='KS')\n",
    "plt.plot(np.array(iter_range)+1, np.array(Tomo_norm)[iter_range], '*-', color='blue', label='Tomo')\n",
    "plt.xlabel(\"Number of Iterations\")\n",
    "plt.ylabel(r'$||\\rho_{simu} - \\rho_{est}||_2$', fontsize=14)\n",
    "plt.xticks((np.array(iter_range)+1))\n",
    "plt.legend()\n",
    "plt.tight_layout()\n",
    "plt.savefig(\"ibm_perth_4q_iden_diff_norm.svg\")\n",
    "plt.show()"
   ]
  },
  {
   "cell_type": "code",
   "execution_count": null,
   "id": "fcb28ea3",
   "metadata": {},
   "outputs": [],
   "source": []
  }
 ],
 "metadata": {
  "kernelspec": {
   "display_name": "Python 3",
   "language": "python",
   "name": "python3"
  },
  "language_info": {
   "codemirror_mode": {
    "name": "ipython",
    "version": 3
   },
   "file_extension": ".py",
   "mimetype": "text/x-python",
   "name": "python",
   "nbconvert_exporter": "python",
   "pygments_lexer": "ipython3",
   "version": "3.9.7"
  }
 },
 "nbformat": 4,
 "nbformat_minor": 5
}
