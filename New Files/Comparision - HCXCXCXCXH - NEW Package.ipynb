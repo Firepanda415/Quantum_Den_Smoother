{
 "cells": [
  {
   "cell_type": "code",
   "execution_count": 1,
   "metadata": {},
   "outputs": [],
   "source": [
    "import numpy as np\n",
    "from collections import Counter\n",
    "from qiskit import IBMQ,Aer,schedule, execute, QuantumCircuit, QuantumRegister, ClassicalRegister, transpile\n",
    "from qiskit.tools.visualization import plot_histogram\n",
    "from qiskit.visualization import timeline_drawer\n",
    "from qiskit.visualization.pulse_v2 import draw, IQXDebugging\n",
    "from qiskit.tools.monitor import job_monitor\n",
    "from qiskit.providers.aer.noise import NoiseModel\n",
    "from qiskit.providers.aer import AerSimulator\n",
    "import qiskit.quantum_info as qi\n",
    "from qiskit.providers.aer.noise import QuantumError, ReadoutError\n",
    "\n",
    "# Tomography functions\n",
    "from qiskit_experiments.framework import ParallelExperiment\n",
    "from qiskit_experiments.library import StateTomography\n",
    "\n",
    "\n",
    "# Seeds\n",
    "from numpy.random import Generator, PCG64\n",
    "rng = Generator(PCG64(1897))\n",
    "MY_SEEDS = rng.integers(0,high=10**8,size=100)\n",
    "\n",
    "\n",
    "import KSEM\n",
    "from importlib import reload  \n",
    "KSEM = reload(KSEM)\n",
    "from KSEM import KSQS, EMLearn\n",
    "\n",
    "import matplotlib.pyplot as plt\n",
    "from matplotlib.pyplot import figure\n",
    "\n",
    "# plt.rcParams['text.usetex'] = True\n",
    "fig_size = (8,6)\n",
    "fig_dpi = 150"
   ]
  },
  {
   "cell_type": "code",
   "execution_count": 2,
   "metadata": {},
   "outputs": [
    {
     "data": {
      "text/plain": [
       "<AccountProvider for IBMQ(hub='ibm-q', group='open', project='main')>"
      ]
     },
     "execution_count": 2,
     "metadata": {},
     "output_type": "execute_result"
    }
   ],
   "source": [
    "IBMQ.load_account()"
   ]
  },
  {
   "cell_type": "code",
   "execution_count": 5,
   "metadata": {},
   "outputs": [
    {
     "name": "stderr",
     "output_type": "stream",
     "text": [
      "/home/firepanda415/anaconda3/envs/quantum/lib/python3.9/site-packages/qiskit_aer/noise/device/models.py:365: UserWarning: Device model returned an invalid T_2 relaxation time greater than the theoretical maximum value 2 * T_1 (86590.9256625567 > 2 * 42770.31553470434). Truncating to maximum value.\n",
      "  warn(\"Device model returned an invalid T_2 relaxation time greater than\"\n",
      "/home/firepanda415/anaconda3/envs/quantum/lib/python3.9/site-packages/qiskit_aer/noise/device/models.py:365: UserWarning: Device model returned an invalid T_2 relaxation time greater than the theoretical maximum value 2 * T_1 (86590.9256625567 > 2 * 42770.31553470434). Truncating to maximum value.\n",
      "  warn(\"Device model returned an invalid T_2 relaxation time greater than\"\n",
      "/home/firepanda415/anaconda3/envs/quantum/lib/python3.9/site-packages/qiskit_aer/noise/device/models.py:365: UserWarning: Device model returned an invalid T_2 relaxation time greater than the theoretical maximum value 2 * T_1 (86590.9256625567 > 2 * 42770.31553470434). Truncating to maximum value.\n",
      "  warn(\"Device model returned an invalid T_2 relaxation time greater than\"\n",
      "/home/firepanda415/anaconda3/envs/quantum/lib/python3.9/site-packages/qiskit_aer/noise/device/models.py:365: UserWarning: Device model returned an invalid T_2 relaxation time greater than the theoretical maximum value 2 * T_1 (86590.9256625567 > 2 * 42770.31553470434). Truncating to maximum value.\n",
      "  warn(\"Device model returned an invalid T_2 relaxation time greater than\"\n",
      "/home/firepanda415/anaconda3/envs/quantum/lib/python3.9/site-packages/qiskit_aer/noise/device/models.py:365: UserWarning: Device model returned an invalid T_2 relaxation time greater than the theoretical maximum value 2 * T_1 (86590.9256625567 > 2 * 42770.31553470434). Truncating to maximum value.\n",
      "  warn(\"Device model returned an invalid T_2 relaxation time greater than\"\n",
      "/home/firepanda415/anaconda3/envs/quantum/lib/python3.9/site-packages/qiskit_aer/noise/device/models.py:365: UserWarning: Device model returned an invalid T_2 relaxation time greater than the theoretical maximum value 2 * T_1 (86590.9256625567 > 2 * 42770.31553470434). Truncating to maximum value.\n",
      "  warn(\"Device model returned an invalid T_2 relaxation time greater than\"\n",
      "/home/firepanda415/anaconda3/envs/quantum/lib/python3.9/site-packages/qiskit_aer/noise/device/models.py:365: UserWarning: Device model returned an invalid T_2 relaxation time greater than the theoretical maximum value 2 * T_1 (8.659092566255672e-05 > 2 * 4.277031553470435e-05). Truncating to maximum value.\n",
      "  warn(\"Device model returned an invalid T_2 relaxation time greater than\"\n"
     ]
    }
   ],
   "source": [
    "provider = IBMQ.get_provider(hub=\"ibm-q-ncsu\", group=\"lehigh-universit\", project=\"qc-error-model\") # ibm-q-ncsu/lehigh-universit/qc-error-model\n",
    "name = \"ibm_nairobi\"\n",
    "backend = provider.get_backend(name)\n",
    "backend_noise_model = NoiseModel.from_backend(backend)\n",
    "# # Remove readout errros\n",
    "# p0given1 = 0\n",
    "# p1given0 = 1\n",
    "# rde = ReadoutError([[1 - p1given0, p1given0], [p0given1, 1 - p0given1]])\n",
    "# for i in range(backend.configuration().num_qubits):\n",
    "#     backend_noise_model._local_readout_errors[(i,)] = rde\n",
    "den_simu = AerSimulator(method='density_matrix',noise_model=backend_noise_model)\n",
    "\n",
    "n_qubits = 3\n",
    "reps = 8\n",
    "max_num_itrs = 10"
   ]
  },
  {
   "cell_type": "code",
   "execution_count": 6,
   "metadata": {},
   "outputs": [
    {
     "data": {
      "text/plain": [
       "{'type': 'roerror',\n",
       " 'operations': ['measure'],\n",
       " 'probabilities': [[0.9818, 0.0182], [0.04359999999999997, 0.9564]],\n",
       " 'gate_qubits': [(6,)]}"
      ]
     },
     "execution_count": 6,
     "metadata": {},
     "output_type": "execute_result"
    }
   ],
   "source": [
    "backend_noise_model.to_dict()['errors'][-1]"
   ]
  },
  {
   "cell_type": "code",
   "execution_count": 7,
   "metadata": {},
   "outputs": [
    {
     "name": "stdout",
     "output_type": "stream",
     "text": [
      "2023-04-11 08:01:30-04:00\n"
     ]
    }
   ],
   "source": [
    "print(backend.properties().to_dict()[ 'last_update_date'])"
   ]
  },
  {
   "cell_type": "code",
   "execution_count": 8,
   "metadata": {},
   "outputs": [],
   "source": [
    "from qiskit.visualization import plot_error_map, plot_gate_map\n",
    "%matplotlib inline\n",
    "\n",
    "# plot_error_map(backend, figsize=(18, 12))"
   ]
  },
  {
   "cell_type": "code",
   "execution_count": 9,
   "metadata": {},
   "outputs": [],
   "source": [
    "from qiskit import Aer\n",
    "def single_iter(n_qubits=2):\n",
    "    iterate = QuantumCircuit(n_qubits)\n",
    "    iterate.h(0)\n",
    "    iterate.cx(0,1)\n",
    "    iterate.cx(1,2)\n",
    "    iterate.barrier()\n",
    "    iterate.cx(1,2)\n",
    "    iterate.cx(0,1)\n",
    "    iterate.h(0)\n",
    "    iterate.barrier()\n",
    "    return iterate\n",
    "\n",
    "def iterative_circ(num_itrs, n_qubits=2, save_den = True):   \n",
    "    total_circ = QuantumCircuit(n_qubits)\n",
    "    for i in range(num_itrs):\n",
    "        total_circ.compose(single_iter(n_qubits), inplace=True)\n",
    "    if save_den:\n",
    "        total_circ.save_density_matrix(pershot=False)\n",
    "    total_circ.measure_all()\n",
    "    return total_circ"
   ]
  },
  {
   "cell_type": "code",
   "execution_count": 10,
   "metadata": {},
   "outputs": [
    {
     "data": {
      "image/png": "[encoded data removed]",
      "text/plain": [
       "<Figure size 568.197x204.68 with 1 Axes>"
      ]
     },
     "execution_count": 10,
     "metadata": {},
     "output_type": "execute_result"
    }
   ],
   "source": [
    "single_iter(n_qubits).draw(\"mpl\")"
   ]
  },
  {
   "cell_type": "code",
   "execution_count": 11,
   "metadata": {},
   "outputs": [
    {
     "name": "stdout",
     "output_type": "stream",
     "text": [
      "10\n"
     ]
    },
    {
     "data": {
      "image/png": "[encoded data removed]",
      "text/plain": [
       "<Figure size 808.997x204.68 with 1 Axes>"
      ]
     },
     "execution_count": 11,
     "metadata": {},
     "output_type": "execute_result"
    }
   ],
   "source": [
    "temp_circ = transpile(single_iter(n_qubits), backend=den_simu)\n",
    "print(temp_circ.depth())\n",
    "temp_circ.draw(\"mpl\")"
   ]
  },
  {
   "cell_type": "code",
   "execution_count": 12,
   "metadata": {},
   "outputs": [
    {
     "name": "stdout",
     "output_type": "stream",
     "text": [
      "Depth: 101\n",
      "T1: 0.00011918506843304976 sec\n",
      "T2: 3.603577681928723e-05 sec\n",
      "Circuit Operation Time: 1.978311111111111e-05 sec\n"
     ]
    }
   ],
   "source": [
    "temp_circ2 = iterative_circ(max_num_itrs, n_qubits, save_den = False)\n",
    "temp_circ3 = transpile(temp_circ2, backend=backend)\n",
    "print(\"Depth:\", temp_circ3.depth())\n",
    "print(\"T1:\", backend.properties().qubit_property(0)['T1'][0], \"sec\")\n",
    "print(\"T2:\", backend.properties().qubit_property(0)['T2'][0], \"sec\")\n",
    "dt = backend.configuration().dt # sec\n",
    "temp_sch = schedule(temp_circ3, backend)\n",
    "print(\"Circuit Operation Time:\",(temp_sch.stop_time - temp_sch.start_time)*dt, \"sec\")"
   ]
  },
  {
   "cell_type": "markdown",
   "metadata": {},
   "source": [
    "## Qiskit Backend-noise Simulation\n",
    "\n",
    "Obtain measurement data and actual quantum states (from a backend-noise simulator)\n",
    "\n",
    "Note that the outputs does not have measurement noise because the probabilities are obtained from density matrix object, instead of measurement operator API."
   ]
  },
  {
   "cell_type": "code",
   "execution_count": 13,
   "metadata": {},
   "outputs": [],
   "source": [
    "unitary_simulator = Aer.get_backend('aer_simulator')\n",
    "unitary_circ = transpile(single_iter(n_qubits), backend=den_simu)\n",
    "unitary_circ.save_unitary()\n",
    "unitary_result = unitary_simulator.run(unitary_circ).result()\n",
    "unitary = unitary_result.get_unitary(unitary_circ)\n",
    "\n",
    "unitaries = []\n",
    "for i in range(1, max_num_itrs+1):\n",
    "    gate = unitary.data\n",
    "    F = np.kron(gate.conjugate(), gate)\n",
    "    unitaries.append(F)"
   ]
  },
  {
   "cell_type": "code",
   "execution_count": 14,
   "metadata": {},
   "outputs": [
    {
     "data": {
      "text/plain": [
       "{'110': 3702,\n",
       " '111': 3573,\n",
       " '011': 4162,\n",
       " '101': 3809,\n",
       " '100': 4406,\n",
       " '001': 5238,\n",
       " '010': 5047,\n",
       " '000': 35599}"
      ]
     },
     "execution_count": 14,
     "metadata": {},
     "output_type": "execute_result"
    }
   ],
   "source": [
    "trans_circ = transpile(iterative_circ(3, n_qubits), backend=den_simu)\n",
    "iter_res = den_simu.run(trans_circ,shots=8192*reps,seed_simulator=np.random.randint(10**8)).result()\n",
    "iter_res.get_counts()"
   ]
  },
  {
   "cell_type": "code",
   "execution_count": 15,
   "metadata": {},
   "outputs": [
    {
     "name": "stdout",
     "output_type": "stream",
     "text": [
      "Purity\n",
      "0.6763306337647136\n",
      "0.4731608510218423\n",
      "0.34549642484208426\n",
      "0.26517801136973007\n",
      "0.21457321593371986\n",
      "0.18263488764053226\n",
      "0.16243716387244142\n",
      "0.1496346859539964\n",
      "0.14149872204642644\n",
      "0.13631393392345142\n",
      "\n",
      "Prob Vec\n",
      "[0.7869873  0.03904724 0.04423523 0.02607727 0.03369141 0.02445984\n",
      " 0.02297974 0.02252197]\n",
      "[0.65614319 0.06161499 0.06095886 0.04550171 0.05232239 0.04180908\n",
      " 0.0418396  0.03981018]\n",
      "[0.54115295 0.08151245 0.07824707 0.06343079 0.06643677 0.05706787\n",
      " 0.05636597 0.05578613]\n",
      "[0.462677   0.09355164 0.0874176  0.07572937 0.07844543 0.06921387\n",
      " 0.06832886 0.06463623]\n",
      "[0.39630127 0.10015869 0.09860229 0.0866394  0.08705139 0.08216858\n",
      " 0.07629395 0.07278442]\n",
      "[0.34205627 0.1096344  0.10641479 0.09667969 0.09228516 0.08665466\n",
      " 0.08480835 0.08146667]\n",
      "[0.30281067 0.11885071 0.11001587 0.10263062 0.09660339 0.09103394\n",
      " 0.08970642 0.08834839]\n",
      "[0.26780701 0.1230011  0.11557007 0.10839844 0.10423279 0.09628296\n",
      " 0.09614563 0.08856201]\n",
      "[0.2416687  0.12530518 0.12042236 0.10983276 0.10693359 0.10107422\n",
      " 0.09989929 0.09486389]\n",
      "[0.22398376 0.12763977 0.12207031 0.11378479 0.10945129 0.10519409\n",
      " 0.10084534 0.09703064]\n"
     ]
    }
   ],
   "source": [
    "total_simu_dens = [] # quantum state in density-matrix form\n",
    "total_simu_probs = [] # measurement result\n",
    "total_simu_purs = [] # purity\n",
    "for i in range(1, max_num_itrs+1):\n",
    "    my_seed = MY_SEEDS[i]\n",
    "    trans_circ = transpile(iterative_circ(i, n_qubits, save_den = True), seed_transpiler=my_seed, backend=den_simu,optimization_level=0)\n",
    "    iter_res = den_simu.run(trans_circ,shots=8192*reps,seed_simulator=my_seed).result()\n",
    "    iter_den = iter_res.data()['density_matrix']\n",
    "    total_simu_dens.append(iter_den)\n",
    "    \n",
    "    trans_circ = transpile(iterative_circ(i, n_qubits, save_den = False), seed_transpiler=my_seed, backend=den_simu,optimization_level=0)\n",
    "    iter_res = den_simu.run(trans_circ,shots=8192*reps,seed_simulator=my_seed).result()\n",
    "    total_simu_probs.append(KSEM.dictToVec(iter_res.get_counts()))\n",
    "    total_simu_purs.append(np.real(iter_den.purity()))\n",
    "    \n",
    "print(\"Purity\")\n",
    "for pu in total_simu_purs:\n",
    "    print(pu)\n",
    "    \n",
    "print(\"\\nProb Vec\")\n",
    "for p in total_simu_probs:\n",
    "    print(p)"
   ]
  },
  {
   "cell_type": "markdown",
   "metadata": {},
   "source": [
    "## State Tomography"
   ]
  },
  {
   "cell_type": "markdown",
   "metadata": {},
   "source": [
    "### Use a Noise Model without Measurement Error for Tomography"
   ]
  },
  {
   "cell_type": "code",
   "execution_count": 16,
   "metadata": {},
   "outputs": [
    {
     "name": "stderr",
     "output_type": "stream",
     "text": [
      "/home/firepanda415/anaconda3/envs/quantum/lib/python3.9/site-packages/qiskit_aer/noise/device/models.py:365: UserWarning: Device model returned an invalid T_2 relaxation time greater than the theoretical maximum value 2 * T_1 (86590.9256625567 > 2 * 42770.31553470434). Truncating to maximum value.\n",
      "  warn(\"Device model returned an invalid T_2 relaxation time greater than\"\n",
      "/home/firepanda415/anaconda3/envs/quantum/lib/python3.9/site-packages/qiskit_aer/noise/device/models.py:365: UserWarning: Device model returned an invalid T_2 relaxation time greater than the theoretical maximum value 2 * T_1 (86590.9256625567 > 2 * 42770.31553470434). Truncating to maximum value.\n",
      "  warn(\"Device model returned an invalid T_2 relaxation time greater than\"\n",
      "/home/firepanda415/anaconda3/envs/quantum/lib/python3.9/site-packages/qiskit_aer/noise/device/models.py:365: UserWarning: Device model returned an invalid T_2 relaxation time greater than the theoretical maximum value 2 * T_1 (86590.9256625567 > 2 * 42770.31553470434). Truncating to maximum value.\n",
      "  warn(\"Device model returned an invalid T_2 relaxation time greater than\"\n",
      "/home/firepanda415/anaconda3/envs/quantum/lib/python3.9/site-packages/qiskit_aer/noise/device/models.py:365: UserWarning: Device model returned an invalid T_2 relaxation time greater than the theoretical maximum value 2 * T_1 (86590.9256625567 > 2 * 42770.31553470434). Truncating to maximum value.\n",
      "  warn(\"Device model returned an invalid T_2 relaxation time greater than\"\n",
      "/home/firepanda415/anaconda3/envs/quantum/lib/python3.9/site-packages/qiskit_aer/noise/device/models.py:365: UserWarning: Device model returned an invalid T_2 relaxation time greater than the theoretical maximum value 2 * T_1 (86590.9256625567 > 2 * 42770.31553470434). Truncating to maximum value.\n",
      "  warn(\"Device model returned an invalid T_2 relaxation time greater than\"\n",
      "/home/firepanda415/anaconda3/envs/quantum/lib/python3.9/site-packages/qiskit_aer/noise/device/models.py:365: UserWarning: Device model returned an invalid T_2 relaxation time greater than the theoretical maximum value 2 * T_1 (86590.9256625567 > 2 * 42770.31553470434). Truncating to maximum value.\n",
      "  warn(\"Device model returned an invalid T_2 relaxation time greater than\"\n",
      "/home/firepanda415/anaconda3/envs/quantum/lib/python3.9/site-packages/qiskit_aer/noise/device/models.py:365: UserWarning: Device model returned an invalid T_2 relaxation time greater than the theoretical maximum value 2 * T_1 (8.659092566255672e-05 > 2 * 4.277031553470435e-05). Truncating to maximum value.\n",
      "  warn(\"Device model returned an invalid T_2 relaxation time greater than\"\n"
     ]
    }
   ],
   "source": [
    "backend_noise_model_for_tomo = NoiseModel.from_backend(backend)\n",
    "# Remove readout errros\n",
    "p0given1 = 0\n",
    "p1given0 = 0\n",
    "rde = ReadoutError([[1 - p1given0, p1given0], [p0given1, 1 - p0given1]])\n",
    "for i in range(backend.configuration().num_qubits):\n",
    "    backend_noise_model_for_tomo._local_readout_errors[(i,)] = rde\n",
    "den_simu_for_tomo = AerSimulator(method='density_matrix',noise_model=backend_noise_model_for_tomo)"
   ]
  },
  {
   "cell_type": "code",
   "execution_count": 17,
   "metadata": {},
   "outputs": [
    {
     "name": "stdout",
     "output_type": "stream",
     "text": [
      "Tomography Purity\n",
      "0.6170158503968043\n",
      "0.4497700679449387\n",
      "0.334186930715303\n",
      "0.25665657608597436\n",
      "0.216356748416101\n",
      "0.18571651129075112\n",
      "0.17086500003014166\n",
      "0.15192423926459486\n",
      "0.14462296756697368\n",
      "0.14022292619870116\n",
      "\n",
      "Tomography Prob Vec\n",
      "[0.7765842  0.04725477 0.05224609 0.02148438 0.03727214 0.02441406\n",
      " 0.01736111 0.02338325]\n",
      "[0.65318468 0.06583659 0.07668728 0.03816732 0.04142253 0.04977756\n",
      " 0.03719076 0.03773329]\n",
      "[0.54725477 0.07476128 0.07503255 0.06608073 0.05843099 0.06022135\n",
      " 0.06667752 0.0515408 ]\n",
      "[0.45651584 0.09589301 0.09269206 0.07451714 0.08091905 0.06925456\n",
      " 0.07256402 0.05764431]\n",
      "[0.39824761 0.10023329 0.10468207 0.08140734 0.08851454 0.07598199\n",
      " 0.07033963 0.08059353]\n",
      "[0.34586589 0.10617405 0.10259332 0.09499783 0.09950087 0.08376736\n",
      " 0.07986111 0.08723958]\n",
      "[0.31228299 0.10818142 0.10942925 0.10291884 0.09320747 0.09743924\n",
      " 0.09575738 0.08078342]\n",
      "[0.26280382 0.12136502 0.12375217 0.10112847 0.10427517 0.10118273\n",
      " 0.09152561 0.09396701]\n",
      "[0.23510742 0.12703451 0.12470161 0.10386827 0.10983615 0.10332574\n",
      " 0.09383138 0.10229492]\n",
      "[0.2175293  0.1340332  0.11889648 0.11808268 0.10652669 0.09692383\n",
      " 0.11140951 0.09659831]\n"
     ]
    }
   ],
   "source": [
    "tomo_dens = [] # quantum state in density-matrix form\n",
    "tomo_probs = [] # measurement result\n",
    "tomo_purs = [] # purity\n",
    "for i in range(1, max_num_itrs+1):\n",
    "    my_seed = MY_SEEDS[i]\n",
    "    tomo_target_circ = transpile(iterative_circ(i, n_qubits, save_den = False), seed_transpiler=my_seed, backend=den_simu_for_tomo,optimization_level=0)\n",
    "    qstexp = StateTomography(tomo_target_circ)\n",
    "    qstdata = qstexp.run(den_simu, seed_simulation=my_seed).block_for_results()\n",
    "    tomo_state =  qstdata.analysis_results(\"state\")\n",
    "    \n",
    "    tomo_dens.append(tomo_state.value.data)\n",
    "    tomo_probs.append(tomo_state.value.probabilities())\n",
    "    tomo_purs.append(np.real(tomo_state.value.purity()))\n",
    "    \n",
    "print(\"Tomography Purity\")\n",
    "for pu in tomo_purs:\n",
    "    print(pu)\n",
    "    \n",
    "print(\"\\nTomography Prob Vec\")\n",
    "for p in tomo_probs:\n",
    "    print(p)"
   ]
  },
  {
   "cell_type": "markdown",
   "metadata": {},
   "source": [
    "## Kalman Smoother"
   ]
  },
  {
   "cell_type": "code",
   "execution_count": 18,
   "metadata": {},
   "outputs": [],
   "source": [
    "def vecden_meas(state):# H, measurement matrix for vectorized density matrix\n",
    "    num_qubits = int(np.log2(np.sqrt(state.shape[0])))\n",
    "    nrows = 2**num_qubits\n",
    "    ncols = nrows**2\n",
    "    mat = np.zeros((nrows, ncols), dtype=np.float64)\n",
    "    for k in range(nrows):\n",
    "        mat[k, nrows*k+k] = 1.0 # take out the diagonal terms in vectorized density matrix\n",
    "    return np.real(mat.dot(state))"
   ]
  },
  {
   "cell_type": "markdown",
   "metadata": {},
   "source": [
    "### Initialize"
   ]
  },
  {
   "cell_type": "code",
   "execution_count": 19,
   "metadata": {},
   "outputs": [],
   "source": [
    "initial_state = np.array([0]*(total_simu_probs[0].size**2), dtype=complex)\n",
    "initial_state[0] = 1\n",
    "\n",
    "# initial state\n",
    "num_dim = initial_state.size\n",
    "x =initial_state\n",
    "x[0]-= 0.01/num_dim\n",
    "nrows = int(x.size-1)\n",
    "for k in range(1,nrows+1):\n",
    "    x[k] += 1/(num_dim*nrows)"
   ]
  },
  {
   "cell_type": "code",
   "execution_count": 20,
   "metadata": {},
   "outputs": [],
   "source": [
    "# Other variance parameters\n",
    "num_dim_state = initial_state.size\n",
    "num_dim_obs = total_simu_probs[0].size\n",
    "\n",
    "M = np.identity(num_dim_state, dtype=complex)* 0.01 * (1) # a guess for covariance matrix, E[(x0-xhat0^+)(x0-xhat0^+)^T]\n",
    "Q = np.identity(num_dim_state, dtype=complex)* 0.2 * (1) # state covariance\n",
    "R = np.identity(num_dim_obs)* 0.2 * (1) # meas covariance\n",
    "P = np.identity(num_dim_state, dtype=complex)* 0.1 * (1)# \n",
    "# U = np.identity(num_dim_obs, dtype=complex)* 0.0"
   ]
  },
  {
   "cell_type": "code",
   "execution_count": 21,
   "metadata": {},
   "outputs": [
    {
     "data": {
      "text/plain": [
       "(64, 64, 8, 4096)"
      ]
     },
     "execution_count": 21,
     "metadata": {},
     "output_type": "execute_result"
    }
   ],
   "source": [
    "x.size,num_dim_state,num_dim_obs, unitaries[0].size"
   ]
  },
  {
   "cell_type": "markdown",
   "metadata": {},
   "source": [
    "### EM and Smoother - Total"
   ]
  },
  {
   "cell_type": "markdown",
   "metadata": {},
   "source": [
    "Use longest iterations"
   ]
  },
  {
   "cell_type": "code",
   "execution_count": null,
   "metadata": {},
   "outputs": [],
   "source": [
    "observs[0].shape"
   ]
  },
  {
   "cell_type": "code",
   "execution_count": null,
   "metadata": {},
   "outputs": [],
   "source": [
    "realX0.shape, estF.toarray().shape, unitaries[0].shape"
   ]
  },
  {
   "cell_type": "code",
   "execution_count": null,
   "metadata": {},
   "outputs": [],
   "source": [
    "realM0.shape, realF.shape, realQ.shape, realR.shape, realP.shape"
   ]
  },
  {
   "cell_type": "code",
   "execution_count": null,
   "metadata": {},
   "outputs": [],
   "source": []
  },
  {
   "cell_type": "code",
   "execution_count": null,
   "metadata": {},
   "outputs": [],
   "source": [
    "total_smoother_dens = []\n",
    "total_smoother_purs = []\n",
    "\n",
    "observs = total_simu_probs\n",
    "learn_obj = EMLearn(observs, unitaries[0], x, M, Q, R, P)\n",
    "estX0, estM0, estQ, estR, estF = learn_obj.learn() # they are all arguemented\n",
    "\n",
    "# Slice from argumented system\n",
    "realX0 = estX0.toarray()[:num_dim_state]\n",
    "# realX0 = realX0.flatten().reshape((int(np.sqrt(num_dim_state)), int(np.sqrt(num_dim_state))), order='F') # to matrix\n",
    "# realX0 = KSEM.closed_den_mat(realX0) # find closest valid density matrix\n",
    "# realX0 = np.array(realX0.flatten(order='C'))[0] # reshape to vector\n",
    "\n",
    "realM0 = estM0.toarray()[range(num_dim_state),:][:,range(num_dim_state)]\n",
    "realF = estF.toarray()[range(num_dim_state),:][:,range(num_dim_state)]\n",
    "realQ = estQ.toarray()[range(num_dim_state),:][:,range(num_dim_state)]\n",
    "realR = estR.toarray()[range(num_dim_obs),:][:,range(num_dim_obs)]\n",
    "realP = estQ.toarray()[range(num_dim_state),:][:,range(num_dim_state, 2*num_dim_state)]\n",
    "\n",
    "smoother = KSQS(observs, realF, realX0, realM0, realQ, realR, realP)\n",
    "x_seq, M_seq, M_prio_seq = smoother.smooth() \n",
    "\n",
    "\n",
    "\n",
    "# x_est_norms = []\n",
    "# for j in range(max_num_itrs):\n",
    "#     x_est = np.array(x_seq[j+1][:num_dim_state].todense()).flatten()\n",
    "#     diag_sum = np.sum(vecden_meas(x_est))\n",
    "\n",
    "#     #normalize along the diagonal\n",
    "#     x_est_norm = x_est+0\n",
    "#     nrows = int(np.sqrt(x_est.size))\n",
    "#     for k in range(nrows):\n",
    "#         x_est_norm[k*nrows+k] = x_est_norm[k*nrows+k]/diag_sum\n",
    "#     x_est_norms.append(x_est_norm)\n",
    "#     final_den = x_est_norm.reshape(num_dim_obs, num_dim_obs)\n",
    "#     total_smoother_dens.append(final_den)\n",
    "#     total_smoother_purs.append(np.real(qi.DensityMatrix(final_den).purity()))\n",
    "for j in range(max_num_itrs):\n",
    "    x_est = np.matrix(x_seq[j+1][:num_dim_state].todense()).flatten().reshape((num_dim_obs, num_dim_obs), order='F')\n",
    "#     x_est = (x_est+x_est.H)/2\n",
    "    final_den = KSEM.closed_den_mat(x_est)\n",
    "    total_smoother_dens.append(final_den)\n",
    "    total_smoother_purs.append(np.real(qi.DensityMatrix(final_den).purity()))"
   ]
  },
  {
   "cell_type": "code",
   "execution_count": null,
   "metadata": {},
   "outputs": [],
   "source": [
    "plt.imshow(realQ.real<0)\n",
    "plt.colorbar()\n",
    "plt.show()"
   ]
  },
  {
   "cell_type": "code",
   "execution_count": null,
   "metadata": {},
   "outputs": [],
   "source": [
    "plt.imshow(realQ.real)\n",
    "plt.colorbar()\n",
    "plt.show()"
   ]
  },
  {
   "cell_type": "code",
   "execution_count": null,
   "metadata": {},
   "outputs": [],
   "source": [
    "plt.imshow(realQ.imag)\n",
    "plt.colorbar()\n",
    "plt.show()"
   ]
  },
  {
   "cell_type": "markdown",
   "metadata": {},
   "source": [
    "Only use the estimation in the final iteration as the valid output"
   ]
  },
  {
   "cell_type": "code",
   "execution_count": null,
   "metadata": {
    "scrolled": true
   },
   "outputs": [],
   "source": [
    "# total_smoother_dens = []\n",
    "# total_smoother_purs = []\n",
    "# for i in range(1,max_num_itrs+1):\n",
    "#     print(\"Circuit Iteration\", i)\n",
    "#     observs = total_simu_probs[0:i]\n",
    "#     learn_obj = EMLearn(observs, unitaries[0], x, M, Q, R, P)\n",
    "#     estX0, estM0, estQ, estR, estF = learn_obj.learn() # they are all arguemented\n",
    "    \n",
    "#     # Slice from argumented system\n",
    "#     realX0 = estX0.toarray()[:num_dim_state]\n",
    "#     realX0norm = np.sqrt(np.sum(np.abs(realX0)**2))\n",
    "#     realM0 = estM0.toarray()[range(num_dim_state),:][:,range(num_dim_state)]\n",
    "#     realF = estF.toarray()[range(num_dim_state),:][:,range(num_dim_state)]\n",
    "#     realQ = estQ.toarray()[range(num_dim_state),:][:,range(num_dim_state)]\n",
    "#     realR = estR.toarray()[range(num_dim_obs),:][:,range(num_dim_obs)]\n",
    "#     realP = estQ.toarray()[range(num_dim_state),:][:,range(num_dim_state, 2*num_dim_state)]\n",
    "\n",
    "#     smoother = KSQS(observs, realF, realX0, realM0, realQ, realR, realP)\n",
    "#     x_seq, M_seq, M_prio_seq = smoother.smooth() \n",
    "    \n",
    "    \n",
    "#     # Normalization\n",
    "# #     x_est_norms = []\n",
    "# #     for j in range(i):\n",
    "# #         x_est = np.array(x_seq[j+1][:num_dim_state].todense()).flatten()\n",
    "# #         diag_sum = np.sum(vecden_meas(x_est))\n",
    "\n",
    "# #         #normalize along the diagonal\n",
    "# #         x_est_norm = x_est+0\n",
    "# #         nrows = int(np.sqrt(x_est.size))\n",
    "# #         for k in range(nrows):\n",
    "# #             x_est_norm[k*nrows+k] = x_est_norm[k*nrows+k]/diag_sum\n",
    "# #     final_den = x_est_norm.reshape(num_dim_obs, num_dim_obs)\n",
    "\n",
    "#     x_est = np.matrix(x_seq[-1][:num_dim_state].todense()).flatten().reshape((num_dim_obs, num_dim_obs), order='F')\n",
    "# #     x_est = (x_est+x_est.H)/2\n",
    "#     final_den = KSEM.closed_den_mat(x_est)\n",
    "#     total_smoother_dens.append(final_den)\n",
    "#     total_smoother_purs.append(np.real(qi.DensityMatrix(final_den).purity()))"
   ]
  },
  {
   "cell_type": "code",
   "execution_count": null,
   "metadata": {},
   "outputs": [],
   "source": [
    "for den in total_smoother_dens:\n",
    "    print(\"Is state a valid density matrix:\", qi.DensityMatrix(den).is_valid())"
   ]
  },
  {
   "cell_type": "code",
   "execution_count": null,
   "metadata": {},
   "outputs": [],
   "source": [
    "total_smoother_dens[0].diagonal().flatten()"
   ]
  },
  {
   "cell_type": "code",
   "execution_count": null,
   "metadata": {},
   "outputs": [],
   "source": [
    "np.diag(np.array(total_smoother_dens[0].diagonal()).flatten())"
   ]
  },
  {
   "cell_type": "code",
   "execution_count": null,
   "metadata": {},
   "outputs": [],
   "source": [
    "with np.printoptions(precision=3, suppress=True):\n",
    "    for den in total_smoother_dens:\n",
    "        non_diag_den = den - np.diag(np.array(den.diagonal()).flatten())\n",
    "        print(np.linalg.norm(non_diag_den))\n",
    "#     print(total_smoother_dens[8])\n",
    "#     print(total_simu_dens[8].data)"
   ]
  },
  {
   "cell_type": "code",
   "execution_count": null,
   "metadata": {},
   "outputs": [],
   "source": [
    "print(\"Estimated Purity (Total)\")\n",
    "for pu in total_smoother_purs:\n",
    "    print(pu)"
   ]
  },
  {
   "cell_type": "markdown",
   "metadata": {},
   "source": [
    "## Check the fidelity between estimated state and the real state in the simulator"
   ]
  },
  {
   "cell_type": "code",
   "execution_count": null,
   "metadata": {},
   "outputs": [],
   "source": [
    "from scipy.linalg import sqrtm\n",
    "def state_fid(m1,m2):\n",
    "    sqm1 = sqrtm(m1)\n",
    "    temp = sqm1.dot(m2).dot(sqm1)\n",
    "    temp2 = sqrtm(temp)\n",
    "    return np.real(np.trace(temp2))**2"
   ]
  },
  {
   "cell_type": "code",
   "execution_count": null,
   "metadata": {},
   "outputs": [],
   "source": [
    "# Compare fidelity, use Qiskit API (when every state from KS is a valid density matrix)\n",
    "diff_fed_all= []\n",
    "diff_fed_tomo= []\n",
    "for i in range(max_num_itrs):\n",
    "    qis_den_tomo = qi.DensityMatrix(tomo_dens[i])\n",
    "    qis_den_all = qi.DensityMatrix(total_smoother_dens[i])\n",
    "    fed_difference_tomo =  qi.state_fidelity(total_simu_dens[i], qis_den_tomo)\n",
    "    fed_difference_all =  qi.state_fidelity(total_simu_dens[i], qis_den_all)\n",
    "    diff_fed_all.append(fed_difference_all)\n",
    "    diff_fed_tomo.append(fed_difference_tomo)\n",
    "    print(\"Iteration\",i+1, \"KS Fid:\", fed_difference_all, \"Tomo Fid:\", fed_difference_tomo)\n",
    "    \n",
    "iter_range = range(max_num_itrs)\n",
    "plt.plot(np.array(iter_range)+1, np.array(diff_fed_all)[iter_range], '+-', color='red', label='KS')\n",
    "plt.plot(np.array(iter_range)+1, np.array(diff_fed_tomo)[iter_range], '*-', color='blue', label='Tomo')\n",
    "# plt.plot(np.array(iter_range)+1, np.array([0.9]*max_num_itrs)[iter_range], '--', color='lightgray')\n",
    "plt.xlabel(\"Number of Iterations\")\n",
    "plt.ylabel(\"Fidelity\")\n",
    "plt.xticks((np.array(iter_range)+1))\n",
    "plt.legend()\n",
    "plt.tight_layout()\n",
    "# plt.savefig(\"diff_fed_qis.svg\")\n",
    "plt.show()"
   ]
  },
  {
   "cell_type": "code",
   "execution_count": null,
   "metadata": {},
   "outputs": [],
   "source": [
    "# Compare fidelity, use my own function (when some states from KS are not valid density matrices)\n",
    "diff_fed_all= []\n",
    "diff_fed_tomo= []\n",
    "for i in range(max_num_itrs):\n",
    "    fed_difference_tomo =  state_fid(total_simu_dens[i].data, tomo_dens[i])\n",
    "    fed_difference_all =  state_fid(total_simu_dens[i].data, total_smoother_dens[i])\n",
    "    diff_fed_all.append(fed_difference_all)\n",
    "    diff_fed_tomo.append(fed_difference_tomo)\n",
    "    print(\"Iteration\",i+1, \"KS Fid:\", fed_difference_all, \"Tomo Fid:\", fed_difference_tomo)\n",
    "    \n",
    "iter_range = range(max_num_itrs)\n",
    "plt.plot(np.array(iter_range)+1, np.array(diff_fed_all)[iter_range], '+-', color='red', label='KS')\n",
    "plt.plot(np.array(iter_range)+1, np.array(diff_fed_tomo)[iter_range], '*-', color='blue', label='Tomo')\n",
    "# plt.plot(np.array(iter_range)+1, np.array([0.9]*max_num_itrs)[iter_range], '--', color='lightgray')\n",
    "plt.xlabel(\"Number of Iterations\")\n",
    "plt.ylabel(\"Fidelity\")\n",
    "plt.xticks((np.array(iter_range)+1))\n",
    "plt.legend()\n",
    "plt.tight_layout()\n",
    "# plt.savefig(\"diff_fed.svg\")\n",
    "plt.show()"
   ]
  },
  {
   "cell_type": "code",
   "execution_count": null,
   "metadata": {},
   "outputs": [],
   "source": [
    "diff_norm_all= []\n",
    "diff_norm_tomo= []\n",
    "for i in range(max_num_itrs):\n",
    "    norm_difference_tomo =  np.linalg.norm(total_simu_dens[i].data-tomo_dens[i])\n",
    "    norm_difference_all =  np.linalg.norm(total_simu_dens[i].data-total_smoother_dens[i])\n",
    "    diff_norm_all.append(norm_difference_all)\n",
    "    diff_norm_tomo.append(norm_difference_tomo)\n",
    "    print(\"Iteration\",i+1, \"KS Norm:\", norm_difference_all, \"Tomo Norm:\", norm_difference_tomo)\n",
    "    \n",
    "iter_range = range(max_num_itrs)\n",
    "plt.plot(np.array(iter_range)+1, np.array(diff_norm_all)[iter_range], '+-', color='red', label='KS')\n",
    "plt.plot(np.array(iter_range)+1, np.array(diff_norm_tomo)[iter_range], '*-', color='blue', label='Tomo')\n",
    "plt.xlabel(\"Number of Iterations\")\n",
    "plt.ylabel(r'$||\\rho_{simu} - \\rho_{est}||_2$', fontsize=14)\n",
    "plt.xticks((np.array(iter_range)+1))\n",
    "plt.legend()\n",
    "plt.tight_layout()\n",
    "# plt.savefig(\"diff_norm.svg\")\n",
    "plt.show()"
   ]
  },
  {
   "cell_type": "code",
   "execution_count": null,
   "metadata": {},
   "outputs": [],
   "source": [
    "plt.plot(np.array(iter_range)+1, np.array(total_smoother_purs)[iter_range], '+-', label=\"KS\",color='red')\n",
    "plt.plot(np.array(iter_range)+1, np.array(tomo_purs)[iter_range], '*-', label=\"Tomo\",color='blue')\n",
    "# plt.plot(np.array(iter_range)+1, np.array(total_smoother_purs)[iter_range]-0.25, '+-', label=\"Estimated-0.25\",color='skyblue')\n",
    "plt.plot(np.array(iter_range)+1, np.array(total_simu_purs)[iter_range], label=\"Actual\", color='gray')\n",
    "plt.xlabel(\"Number of Iterations\")\n",
    "plt.ylabel(\"Purity\")\n",
    "plt.xticks((np.array(iter_range)+1))\n",
    "plt.legend()\n",
    "plt.tight_layout()\n",
    "# plt.savefig(\"diff_pur.svg\")\n",
    "plt.show()"
   ]
  },
  {
   "cell_type": "code",
   "execution_count": null,
   "metadata": {},
   "outputs": [],
   "source": [
    "plt.plot(np.array(iter_range)+1, np.abs(np.array(total_simu_purs)-np.array(total_smoother_purs))[iter_range], '+-', label=\"KS\",color='red')\n",
    "plt.plot(np.array(iter_range)+1, np.abs(np.array(total_simu_purs)-np.array(tomo_purs))[iter_range], '*-', label=\"Tomo\",color='blue')\n",
    "\n",
    "plt.xlabel(\"Number of Iterations\")\n",
    "plt.ylabel(\"Purity Difference\")\n",
    "plt.xticks((np.array(iter_range)+1))\n",
    "plt.legend()\n",
    "plt.tight_layout()\n",
    "# plt.savefig(\"diff_pur_diff.svg\")\n",
    "plt.show()"
   ]
  },
  {
   "cell_type": "code",
   "execution_count": null,
   "metadata": {},
   "outputs": [],
   "source": []
  },
  {
   "cell_type": "code",
   "execution_count": null,
   "metadata": {},
   "outputs": [],
   "source": []
  },
  {
   "cell_type": "code",
   "execution_count": null,
   "metadata": {},
   "outputs": [],
   "source": []
  }
 ],
 "metadata": {
  "kernelspec": {
   "display_name": "Python 3",
   "language": "python",
   "name": "python3"
  },
  "language_info": {
   "codemirror_mode": {
    "name": "ipython",
    "version": 3
   },
   "file_extension": ".py",
   "mimetype": "text/x-python",
   "name": "python",
   "nbconvert_exporter": "python",
   "pygments_lexer": "ipython3",
   "version": "3.9.7"
  }
 },
 "nbformat": 4,
 "nbformat_minor": 4
}
