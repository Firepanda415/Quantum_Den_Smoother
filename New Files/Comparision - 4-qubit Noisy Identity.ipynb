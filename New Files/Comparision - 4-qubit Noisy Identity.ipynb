{
 "cells": [
  {
   "cell_type": "code",
   "execution_count": 1,
   "metadata": {},
   "outputs": [],
   "source": [
    "import numpy as np\n",
    "from collections import Counter\n",
    "from qiskit import IBMQ,Aer,schedule, execute, QuantumCircuit, QuantumRegister, ClassicalRegister, transpile\n",
    "from qiskit.tools.visualization import plot_histogram\n",
    "from qiskit.visualization import timeline_drawer\n",
    "from qiskit.visualization.pulse_v2 import draw, IQXDebugging\n",
    "from qiskit.tools.monitor import job_monitor\n",
    "from qiskit.providers.aer.noise import NoiseModel\n",
    "from qiskit.providers.aer import AerSimulator\n",
    "import qiskit.quantum_info as qi\n",
    "from qiskit.providers.aer.noise import QuantumError, ReadoutError\n",
    "\n",
    "# Tomography functions\n",
    "from qiskit_experiments.framework import ParallelExperiment\n",
    "from qiskit_experiments.library import StateTomography\n",
    "\n",
    "\n",
    "# Seeds\n",
    "from numpy.random import Generator, PCG64\n",
    "rng = Generator(PCG64(1897))\n",
    "MY_SEEDS = rng.integers(0,high=10**8,size=100)\n",
    "\n",
    "\n",
    "import KSEM\n",
    "from importlib import reload  \n",
    "KSEM = reload(KSEM)\n",
    "from KSEM import KSQS, EMLearn\n",
    "\n",
    "import matplotlib.pyplot as plt\n",
    "from matplotlib.pyplot import figure\n",
    "\n",
    "# plt.rcParams['text.usetex'] = True\n",
    "fig_size = (8,6)\n",
    "fig_dpi = 150"
   ]
  },
  {
   "cell_type": "code",
   "execution_count": 2,
   "metadata": {},
   "outputs": [
    {
     "data": {
      "text/plain": [
       "<AccountProvider for IBMQ(hub='ibm-q', group='open', project='main')>"
      ]
     },
     "execution_count": 2,
     "metadata": {},
     "output_type": "execute_result"
    }
   ],
   "source": [
    "IBMQ.load_account()"
   ]
  },
  {
   "cell_type": "code",
   "execution_count": 3,
   "metadata": {},
   "outputs": [],
   "source": [
    "provider = IBMQ.get_provider(hub=\"ibm-q-pnnl\", group=\"internal\", project=\"default\")\n",
    "name = \"ibm_perth\"\n",
    "backend = provider.get_backend(name)\n",
    "backend_noise_model = NoiseModel.from_backend(backend)\n",
    "# # Remove readout errros\n",
    "# p0given1 = 0\n",
    "# p1given0 = 1\n",
    "# rde = ReadoutError([[1 - p1given0, p1given0], [p0given1, 1 - p0given1]])\n",
    "# for i in range(backend.configuration().num_qubits):\n",
    "#     backend_noise_model._local_readout_errors[(i,)] = rde\n",
    "den_simu = AerSimulator(method='density_matrix',noise_model=backend_noise_model)\n",
    "\n",
    "n_qubits = 4\n",
    "reps = 8\n",
    "max_num_itrs = 10"
   ]
  },
  {
   "cell_type": "code",
   "execution_count": 4,
   "metadata": {},
   "outputs": [
    {
     "data": {
      "text/plain": [
       "{'type': 'roerror',\n",
       " 'operations': ['measure'],\n",
       " 'probabilities': [[0.9946, 0.0054], [0.009399999999999964, 0.9906]],\n",
       " 'gate_qubits': [(6,)]}"
      ]
     },
     "execution_count": 4,
     "metadata": {},
     "output_type": "execute_result"
    }
   ],
   "source": [
    "backend_noise_model.to_dict()['errors'][-1]"
   ]
  },
  {
   "cell_type": "code",
   "execution_count": 5,
   "metadata": {},
   "outputs": [
    {
     "name": "stdout",
     "output_type": "stream",
     "text": [
      "2022-06-15 06:02:35-04:00\n"
     ]
    }
   ],
   "source": [
    "print(backend.properties().to_dict()[ 'last_update_date'])"
   ]
  },
  {
   "cell_type": "code",
   "execution_count": 6,
   "metadata": {},
   "outputs": [],
   "source": [
    "from qiskit.visualization import plot_error_map, plot_gate_map\n",
    "%matplotlib inline\n",
    "\n",
    "# plot_error_map(backend, figsize=(18, 12))"
   ]
  },
  {
   "cell_type": "code",
   "execution_count": 7,
   "metadata": {},
   "outputs": [],
   "source": [
    "from qiskit import Aer\n",
    "from qiskit.circuit.library import EfficientSU2\n",
    "def single_iter(n_qubits=4):\n",
    "    iterate = QuantumCircuit(n_qubits)\n",
    "    iterate.h(0)\n",
    "    iterate.cx(0,1)\n",
    "    iterate.cx(1,2)\n",
    "    iterate.cx(2,3)\n",
    "    iterate.barrier()\n",
    "    iterate.cx(2,3)\n",
    "    iterate.cx(1,2)\n",
    "    iterate.cx(0,1)\n",
    "    iterate.h(0)\n",
    "    iterate.barrier()\n",
    "    return iterate\n",
    "\n",
    "def iterative_circ(num_itrs, n_qubits=3, save_den = True):   \n",
    "    total_circ = QuantumCircuit(n_qubits)\n",
    "    for i in range(num_itrs):\n",
    "        total_circ.compose(single_iter(n_qubits), inplace=True)\n",
    "    if save_den:\n",
    "        total_circ.save_density_matrix(pershot=False)\n",
    "    total_circ.measure_all()\n",
    "    return total_circ"
   ]
  },
  {
   "cell_type": "code",
   "execution_count": 8,
   "metadata": {},
   "outputs": [
    {
     "data": {
      "image/png": "[encoded data removed]",
      "text/plain": [
       "<Figure size 688.597x264.88 with 1 Axes>"
      ]
     },
     "execution_count": 8,
     "metadata": {},
     "output_type": "execute_result"
    }
   ],
   "source": [
    "single_iter(n_qubits).draw(\"mpl\")"
   ]
  },
  {
   "cell_type": "code",
   "execution_count": 9,
   "metadata": {},
   "outputs": [
    {
     "name": "stdout",
     "output_type": "stream",
     "text": [
      "12\n"
     ]
    },
    {
     "data": {
      "image/png": "[encoded data removed]",
      "text/plain": [
       "<Figure size 929.397x264.88 with 1 Axes>"
      ]
     },
     "execution_count": 9,
     "metadata": {},
     "output_type": "execute_result"
    }
   ],
   "source": [
    "temp_circ = transpile(single_iter(n_qubits), backend=den_simu)\n",
    "print(temp_circ.depth())\n",
    "temp_circ.draw(\"mpl\")"
   ]
  },
  {
   "cell_type": "code",
   "execution_count": 10,
   "metadata": {},
   "outputs": [
    {
     "name": "stdout",
     "output_type": "stream",
     "text": [
      "Depth: 186\n",
      "T1: 0.00018159430335748367 sec\n",
      "T2: 7.821454993913367e-05 sec\n",
      "Circuit Operation Time: 6.485333333333333e-05 sec\n"
     ]
    }
   ],
   "source": [
    "temp_circ2 = iterative_circ(max_num_itrs, n_qubits, save_den = False)\n",
    "temp_circ3 = transpile(temp_circ2, backend=backend)\n",
    "print(\"Depth:\", temp_circ3.depth())\n",
    "print(\"T1:\", backend.properties().qubit_property(0)['T1'][0], \"sec\")\n",
    "print(\"T2:\", backend.properties().qubit_property(0)['T2'][0], \"sec\")\n",
    "dt = backend.configuration().dt # sec\n",
    "temp_sch = schedule(temp_circ3, backend)\n",
    "print(\"Circuit Operation Time:\",(temp_sch.stop_time - temp_sch.start_time)*dt, \"sec\")"
   ]
  },
  {
   "cell_type": "markdown",
   "metadata": {},
   "source": [
    "## Qiskit Backend-noise Simulation\n",
    "\n",
    "Obtain measurement data and actual quantum states (from a backend-noise simulator)\n",
    "\n",
    "Note that the outputs does not have measurement noise because the probabilities are obtained from density matrix object, instead of measurement operator API."
   ]
  },
  {
   "cell_type": "code",
   "execution_count": 11,
   "metadata": {},
   "outputs": [],
   "source": [
    "unitary_simulator = Aer.get_backend('aer_simulator')\n",
    "unitary_circ = transpile(single_iter(n_qubits), backend=den_simu)\n",
    "unitary_circ.save_unitary()\n",
    "unitary_result = unitary_simulator.run(unitary_circ).result()\n",
    "unitary = unitary_result.get_unitary(unitary_circ)\n",
    "\n",
    "unitaries = []\n",
    "for i in range(1, max_num_itrs+1):\n",
    "    gate = unitary.data\n",
    "    F = np.kron(gate.conjugate(), gate)\n",
    "    unitaries.append(F)"
   ]
  },
  {
   "cell_type": "code",
   "execution_count": 12,
   "metadata": {},
   "outputs": [
    {
     "data": {
      "text/plain": [
       "{'1000': 718,\n",
       " '0000': 56121,\n",
       " '0100': 1085,\n",
       " '0110': 320,\n",
       " '0111': 267,\n",
       " '0001': 3624,\n",
       " '0010': 2126,\n",
       " '0011': 882,\n",
       " '0101': 278,\n",
       " '1001': 57,\n",
       " '1100': 13,\n",
       " '1010': 32,\n",
       " '1101': 1,\n",
       " '1011': 9,\n",
       " '1110': 2,\n",
       " '1111': 1}"
      ]
     },
     "execution_count": 12,
     "metadata": {},
     "output_type": "execute_result"
    }
   ],
   "source": [
    "trans_circ = transpile(iterative_circ(3, n_qubits), backend=den_simu)\n",
    "iter_res = den_simu.run(trans_circ,shots=8192*reps,seed_simulator=np.random.randint(10**8)).result()\n",
    "iter_res.get_counts()"
   ]
  },
  {
   "cell_type": "code",
   "execution_count": 13,
   "metadata": {},
   "outputs": [
    {
     "name": "stdout",
     "output_type": "stream",
     "text": [
      "Purity\n",
      "0.9430354760588298\n",
      "0.8904334398424542\n",
      "0.8418420164684104\n",
      "0.7969384291131676\n",
      "0.7554265590016018\n",
      "0.7170347117795332\n",
      "0.6815135727143676\n",
      "0.6486343346676758\n",
      "0.6181869841540527\n",
      "0.5899787320538359\n",
      "\n",
      "Prob Vec\n",
      "[9.07882690e-01 3.09295654e-02 2.42309570e-02 5.09643555e-03\n",
      " 1.49688721e-02 1.73950195e-03 2.01416016e-03 1.32751465e-03\n",
      " 1.09252930e-02 2.89916992e-04 2.59399414e-04 3.05175781e-05\n",
      " 2.59399414e-04 3.05175781e-05 1.52587891e-05 0.00000000e+00]\n",
      "[8.82049561e-01 4.28619385e-02 2.84576416e-02 9.73510742e-03\n",
      " 1.55334473e-02 2.65502930e-03 3.23486328e-03 3.21960449e-03\n",
      " 1.10168457e-02 3.96728516e-04 3.20434570e-04 1.22070312e-04\n",
      " 2.74658203e-04 4.57763672e-05 3.05175781e-05 4.57763672e-05]\n",
      "[8.52905273e-01 5.63659668e-02 3.27911377e-02 1.44805908e-02\n",
      " 1.65252686e-02 5.14221191e-03 4.71496582e-03 4.30297852e-03\n",
      " 1.11999512e-02 6.71386719e-04 3.35693359e-04 1.83105469e-04\n",
      " 2.13623047e-04 3.05175781e-05 6.10351562e-05 7.62939453e-05]\n",
      "[8.31863403e-01 6.76879883e-02 3.45306396e-02 1.75781250e-02\n",
      " 1.81732178e-02 6.16455078e-03 5.90515137e-03 5.41687012e-03\n",
      " 1.07421875e-02 8.39233398e-04 4.42504883e-04 2.44140625e-04\n",
      " 1.83105469e-04 9.15527344e-05 7.62939453e-05 6.10351562e-05]\n",
      "[8.10882568e-01 7.65228271e-02 3.92150879e-02 2.16979980e-02\n",
      " 1.80511475e-02 6.66809082e-03 7.36999512e-03 6.98852539e-03\n",
      " 9.94873047e-03 1.22070312e-03 5.79833984e-04 3.05175781e-04\n",
      " 2.74658203e-04 1.22070312e-04 1.06811523e-04 4.57763672e-05]\n",
      "[7.87429810e-01 8.66699219e-02 4.26177979e-02 2.51159668e-02\n",
      " 1.94396973e-02 8.89587402e-03 8.27026367e-03 8.77380371e-03\n",
      " 1.01623535e-02 1.09863281e-03 6.10351562e-04 3.20434570e-04\n",
      " 3.20434570e-04 6.10351562e-05 7.62939453e-05 1.37329102e-04]\n",
      "[7.67196655e-01 9.49401855e-02 4.56390381e-02 2.93273926e-02\n",
      " 2.11486816e-02 9.82666016e-03 9.88769531e-03 9.46044922e-03\n",
      " 9.61303711e-03 1.32751465e-03 6.86645508e-04 3.35693359e-04\n",
      " 1.37329102e-04 1.52587891e-04 2.13623047e-04 1.06811523e-04]\n",
      "[7.49252319e-01 1.04629517e-01 4.80041504e-02 3.19366455e-02\n",
      " 2.10723877e-02 9.99450684e-03 1.09558105e-02 1.13372803e-02\n",
      " 9.67407227e-03 1.52587891e-03 6.40869141e-04 3.20434570e-04\n",
      " 2.44140625e-04 1.22070312e-04 1.52587891e-04 1.37329102e-04]\n",
      "[7.26684570e-01 1.14212036e-01 5.12084961e-02 3.61480713e-02\n",
      " 2.18658447e-02 1.21612549e-02 1.24816895e-02 1.21917725e-02\n",
      " 9.47570801e-03 1.54113770e-03 7.17163086e-04 4.42504883e-04\n",
      " 3.35693359e-04 1.83105469e-04 2.28881836e-04 1.22070312e-04]\n",
      "[7.10937500e-01 1.20590210e-01 5.40771484e-02 3.97033691e-02\n",
      " 2.31018066e-02 1.32446289e-02 1.35803223e-02 1.33361816e-02\n",
      " 8.28552246e-03 1.38854980e-03 5.95092773e-04 5.49316406e-04\n",
      " 2.74658203e-04 1.67846680e-04 7.62939453e-05 9.15527344e-05]\n"
     ]
    }
   ],
   "source": [
    "total_simu_dens = [] # quantum state in density-matrix form\n",
    "total_simu_probs = [] # measurement result\n",
    "total_simu_purs = [] # purity\n",
    "for i in range(1, max_num_itrs+1):\n",
    "    my_seed = MY_SEEDS[i]\n",
    "    trans_circ = transpile(iterative_circ(i, n_qubits, save_den = True), seed_transpiler=my_seed, backend=den_simu,optimization_level=0)\n",
    "    iter_res = den_simu.run(trans_circ,shots=8192*reps,seed_simulator=my_seed).result()\n",
    "    iter_den = iter_res.data()['density_matrix']\n",
    "    total_simu_dens.append(iter_den)\n",
    "    \n",
    "    trans_circ = transpile(iterative_circ(i, n_qubits, save_den = False), seed_transpiler=my_seed, backend=den_simu,optimization_level=0)\n",
    "    iter_res = den_simu.run(trans_circ,shots=8192*reps,seed_simulator=my_seed).result()\n",
    "    total_simu_probs.append(KSEM.dictToVec(iter_res.get_counts()))\n",
    "    total_simu_purs.append(np.real(iter_den.purity()))\n",
    "    \n",
    "print(\"Purity\")\n",
    "for pu in total_simu_purs:\n",
    "    print(pu)\n",
    "    \n",
    "print(\"\\nProb Vec\")\n",
    "for p in total_simu_probs:\n",
    "    print(p)"
   ]
  },
  {
   "cell_type": "markdown",
   "metadata": {},
   "source": [
    "## State Tomography"
   ]
  },
  {
   "cell_type": "markdown",
   "metadata": {},
   "source": [
    "### Use a Noise Model without Measurement Error for Tomography"
   ]
  },
  {
   "cell_type": "code",
   "execution_count": 14,
   "metadata": {},
   "outputs": [],
   "source": [
    "backend_noise_model_for_tomo = NoiseModel.from_backend(backend)\n",
    "# Remove readout errros\n",
    "p0given1 = 0\n",
    "p1given0 = 0\n",
    "rde = ReadoutError([[1 - p1given0, p1given0], [p0given1, 1 - p0given1]])\n",
    "for i in range(backend.configuration().num_qubits):\n",
    "    backend_noise_model_for_tomo._local_readout_errors[(i,)] = rde\n",
    "den_simu_for_tomo = AerSimulator(method='density_matrix',noise_model=backend_noise_model_for_tomo)"
   ]
  },
  {
   "cell_type": "code",
   "execution_count": 21,
   "metadata": {},
   "outputs": [
    {
     "name": "stdout",
     "output_type": "stream",
     "text": [
      "1\n",
      "2\n",
      "3\n",
      "4\n",
      "5\n",
      "6\n",
      "7\n",
      "8\n",
      "9\n",
      "10\n",
      "Tomography Purity\n",
      "0.8152508462789277\n",
      "0.7664834276848138\n",
      "0.7269498918047455\n",
      "0.6927681725855653\n",
      "0.6667487680733711\n",
      "0.6276116631205919\n",
      "0.6063104604799029\n",
      "0.5600315001092855\n",
      "0.5430250798076516\n",
      "0.5124884139764604\n",
      "\n",
      "Tomography Prob Vec\n",
      "[0.90053897 0.02461913 0.01942234 0.00378508 0.01065548 0.00385027\n",
      " 0.00553886 0.0038126  0.00874152 0.00582616 0.00361808 0.00123369\n",
      " 0.00234774 0.00214241 0.00208086 0.00178682]\n",
      "[0.87132524 0.03834373 0.01970043 0.00904519 0.01516747 0.00390834\n",
      " 0.0038509  0.00435416 0.0094233  0.00513059 0.00494986 0.00327717\n",
      " 0.00614105 0.00148804 0.00213021 0.00176432]\n",
      "[0.84809771 0.0491283  0.03120691 0.00497661 0.01042054 0.00430242\n",
      " 0.00910374 0.00441166 0.01074336 0.0086002  0.00447315 0.00174051\n",
      " 0.00545751 0.00215763 0.00230141 0.00287833]\n",
      "[0.82696991 0.05735285 0.02670366 0.0172537  0.0137399  0.00910712\n",
      " 0.00731606 0.00534849 0.0119218  0.00433456 0.00454658 0.00149817\n",
      " 0.00538034 0.00282239 0.0033954  0.00230907]\n",
      "[0.80997781 0.06479837 0.03095517 0.0190185  0.01695982 0.00622206\n",
      " 0.01055286 0.00492783 0.01009509 0.00686678 0.00532789 0.00308958\n",
      " 0.00356142 0.00224544 0.00271542 0.00268593]\n",
      "[0.78383644 0.0777007  0.03637368 0.02332236 0.01809125 0.01045801\n",
      " 0.00801359 0.00677477 0.01341069 0.00509661 0.00333229 0.001921\n",
      " 0.00367488 0.00142241 0.00353496 0.00303636]\n",
      "[0.76919346 0.08465063 0.03178186 0.02983175 0.01764169 0.00917227\n",
      " 0.01069165 0.00810665 0.00862571 0.00630907 0.00783226 0.00188485\n",
      " 0.00248586 0.00262517 0.00517215 0.00399499]\n",
      "[0.73569995 0.10060641 0.04526889 0.02699813 0.01666083 0.01317758\n",
      " 0.00882851 0.01097038 0.0109909  0.00541901 0.00530319 0.0043337\n",
      " 0.00381875 0.00563853 0.00480517 0.00148005]\n",
      "[0.72276223 0.10754075 0.0448086  0.03230093 0.02240105 0.00741908\n",
      " 0.0097417  0.01127081 0.0122993  0.0065796  0.00309162 0.00489299\n",
      " 0.00598483 0.00494251 0.00245847 0.00150552]\n",
      "[0.6984406  0.12035661 0.05437225 0.0284813  0.02318107 0.00932419\n",
      " 0.01083485 0.01450322 0.01339465 0.00350658 0.00573243 0.00426232\n",
      " 0.00348627 0.00406174 0.00363115 0.00243077]\n"
     ]
    }
   ],
   "source": [
    "tomo_dens = [] # quantum state in density-matrix form\n",
    "tomo_probs = [] # measurement result\n",
    "tomo_purs = [] # purity\n",
    "for i in range(1, max_num_itrs+1):\n",
    "    print(i)\n",
    "    my_seed = MY_SEEDS[i]\n",
    "    tomo_target_circ = transpile(iterative_circ(i, n_qubits, save_den = False), seed_transpiler=my_seed, backend=den_simu_for_tomo,optimization_level=0)\n",
    "    qstexp = StateTomography(tomo_target_circ)\n",
    "    qstdata = qstexp.run(den_simu, seed_simulation=my_seed).block_for_results()\n",
    "    tomo_state =  qstdata.analysis_results(\"state\")\n",
    "    \n",
    "    tomo_dens.append(tomo_state.value.data)\n",
    "    tomo_probs.append(tomo_state.value.probabilities())\n",
    "    tomo_purs.append(np.real(tomo_state.value.purity()))\n",
    "    \n",
    "print(\"Tomography Purity\")\n",
    "for pu in tomo_purs:\n",
    "    print(pu)\n",
    "    \n",
    "print(\"\\nTomography Prob Vec\")\n",
    "for p in tomo_probs:\n",
    "    print(p)"
   ]
  },
  {
   "cell_type": "code",
   "execution_count": 22,
   "metadata": {},
   "outputs": [
    {
     "data": {
      "image/png": "[encoded data removed]",
      "text/plain": [
       "<Figure size 432x288 with 1 Axes>"
      ]
     },
     "metadata": {
      "needs_background": "light"
     },
     "output_type": "display_data"
    }
   ],
   "source": [
    "# Compare fidelity, use Qiskit API (when every state from KS is a valid density matrix)\n",
    "diff_fed_tomo= []\n",
    "for i in range(max_num_itrs):\n",
    "    qis_den_tomo = qi.DensityMatrix(tomo_dens[i])\n",
    "    fed_difference_tomo =  qi.state_fidelity(total_simu_dens[i], qis_den_tomo)\n",
    "    diff_fed_tomo.append(fed_difference_tomo)\n",
    "    \n",
    "iter_range = range(max_num_itrs)\n",
    "plt.plot(np.array(iter_range)+1, np.array(diff_fed_tomo)[iter_range], '*-', color='blue', label='Tomo')\n",
    "plt.xlabel(\"Number of Iterations\")\n",
    "plt.ylabel(\"Fidelity\")\n",
    "plt.xticks((np.array(iter_range)+1))\n",
    "plt.legend()\n",
    "plt.tight_layout()\n",
    "plt.show()"
   ]
  },
  {
   "cell_type": "markdown",
   "metadata": {},
   "source": [
    "## Kalman Smoother"
   ]
  },
  {
   "cell_type": "code",
   "execution_count": 15,
   "metadata": {},
   "outputs": [],
   "source": [
    "def vecden_meas(state):# H, measurement matrix for vectorized density matrix\n",
    "    num_qubits = int(np.log2(np.sqrt(state.shape[0])))\n",
    "    nrows = 2**num_qubits\n",
    "    ncols = nrows**2\n",
    "    mat = np.zeros((nrows, ncols), dtype=np.float64)\n",
    "    for k in range(nrows):\n",
    "        mat[k, nrows*k+k] = 1.0 # take out the diagonal terms in vectorized density matrix\n",
    "    return np.real(mat.dot(state))"
   ]
  },
  {
   "cell_type": "markdown",
   "metadata": {},
   "source": [
    "### Initialize"
   ]
  },
  {
   "cell_type": "code",
   "execution_count": 16,
   "metadata": {},
   "outputs": [],
   "source": [
    "initial_state = np.array([0]*(total_simu_probs[0].size**2), dtype=complex)\n",
    "initial_state[0] = 1\n",
    "\n",
    "# initial state\n",
    "num_dim = initial_state.size\n",
    "x =initial_state\n",
    "x[0]-= 0.01/num_dim\n",
    "nrows = int(x.size-1)\n",
    "for k in range(1,nrows+1):\n",
    "    x[k] += 1/(num_dim*nrows)"
   ]
  },
  {
   "cell_type": "code",
   "execution_count": 37,
   "metadata": {},
   "outputs": [],
   "source": [
    "# Other variance parameters\n",
    "num_dim_state = initial_state.size\n",
    "num_dim_obs = total_simu_probs[0].size\n",
    "\n",
    "# M = np.identity(num_dim_state, dtype=complex)* 0.01 * (1) # a guess for covariance matrix, E[(x0-xhat0^+)(x0-xhat0^+)^T]\n",
    "# Q = np.identity(num_dim_state, dtype=complex)* 0.2 * (1) # state covariance\n",
    "# R = np.identity(num_dim_obs)* 0.2 * (1) # meas covariance\n",
    "# P = np.identity(num_dim_state, dtype=complex)* 0.1 * (1)# \n",
    "\n",
    "M = np.identity(num_dim_state, dtype=complex)* 0.01 * (1) # a guess for covariance matrix, E[(x0-xhat0^+)(x0-xhat0^+)^T]\n",
    "Q = np.identity(num_dim_state, dtype=complex)* 0.2 * (1) # state covariance\n",
    "R = np.identity(num_dim_obs)* 0.2 * (1) # meas covariance\n",
    "P = np.identity(num_dim_state, dtype=complex)* 0.1 * (1+1j)# "
   ]
  },
  {
   "cell_type": "code",
   "execution_count": 38,
   "metadata": {},
   "outputs": [
    {
     "data": {
      "text/plain": [
       "(256, 256, 16, 65536)"
      ]
     },
     "execution_count": 38,
     "metadata": {},
     "output_type": "execute_result"
    }
   ],
   "source": [
    "x.size,num_dim_state,num_dim_obs, unitaries[0].size"
   ]
  },
  {
   "cell_type": "markdown",
   "metadata": {},
   "source": [
    "### EM and Smoother - Total"
   ]
  },
  {
   "cell_type": "markdown",
   "metadata": {},
   "source": [
    "Use longest iterations"
   ]
  },
  {
   "cell_type": "code",
   "execution_count": 42,
   "metadata": {},
   "outputs": [
    {
     "name": "stdout",
     "output_type": "stream",
     "text": [
      "Iteration statrts New ll 3512.49, Last ll 3502.49\n",
      "Iteration     1, New log-likelihood 3.53417e+03, Last log-likelihood 3.51249e+03, Change 2.16820e+01\n",
      "Iteration     2, New log-likelihood 3.96968e+07, Last log-likelihood 3.53417e+03, Change 3.96933e+07\n"
     ]
    }
   ],
   "source": [
    "total_smoother_dens = []\n",
    "total_smoother_purs = []\n",
    "\n",
    "observs = total_simu_probs\n",
    "learn_obj = EMLearn(observs, unitaries[0], x, M, Q, R, P)\n",
    "estX0, estM0, estQ, estR, estF = learn_obj.learn() # they are all arguemented\n",
    "\n",
    "# Slice from argumented system\n",
    "realX0 = estX0.toarray()[:num_dim_state]\n",
    "# realX0 = realX0.flatten().reshape((int(np.sqrt(num_dim_state)), int(np.sqrt(num_dim_state))), order='F') # to matrix\n",
    "# realX0 = KSEM.closed_den_mat(realX0) # find closest valid density matrix\n",
    "# realX0 = np.array(realX0.flatten(order='C'))[0] # reshape to vector\n",
    "\n",
    "realM0 = estM0.toarray()[range(num_dim_state),:][:,range(num_dim_state)]\n",
    "realF = estF.toarray()[range(num_dim_state),:][:,range(num_dim_state)]\n",
    "realQ = estQ.toarray()[range(num_dim_state),:][:,range(num_dim_state)]\n",
    "realR = estR.toarray()[range(num_dim_obs),:][:,range(num_dim_obs)]\n",
    "realP = estQ.toarray()[range(num_dim_state),:][:,range(num_dim_state, 2*num_dim_state)]\n",
    "\n",
    "smoother = KSQS(observs, realF, realX0, realM0, realQ, realR, realP)\n",
    "x_seq, M_seq, M_prio_seq = smoother.smooth() \n",
    "\n",
    "\n",
    "\n",
    "# x_est_norms = []\n",
    "# for j in range(max_num_itrs):\n",
    "#     x_est = np.array(x_seq[j+1][:num_dim_state].todense()).flatten()\n",
    "#     diag_sum = np.sum(vecden_meas(x_est))\n",
    "\n",
    "#     #normalize along the diagonal\n",
    "#     x_est_norm = x_est+0\n",
    "#     nrows = int(np.sqrt(x_est.size))\n",
    "#     for k in range(nrows):\n",
    "#         x_est_norm[k*nrows+k] = x_est_norm[k*nrows+k]/diag_sum\n",
    "#     x_est_norms.append(x_est_norm)\n",
    "#     final_den = x_est_norm.reshape(num_dim_obs, num_dim_obs)\n",
    "#     total_smoother_dens.append(final_den)\n",
    "#     total_smoother_purs.append(np.real(qi.DensityMatrix(final_den).purity()))\n",
    "for j in range(max_num_itrs):\n",
    "    x_est = np.matrix(x_seq[j+1][:num_dim_state].todense()).flatten().reshape((num_dim_obs, num_dim_obs), order='F')\n",
    "    x_est = (x_est+x_est.H)/2\n",
    "    final_den = KSEM.closed_den_mat(x_est)\n",
    "    total_smoother_dens.append(final_den)\n",
    "    total_smoother_purs.append(np.real(qi.DensityMatrix(final_den).purity()))"
   ]
  },
  {
   "cell_type": "code",
   "execution_count": 43,
   "metadata": {},
   "outputs": [
    {
     "data": {
      "image/png": "[encoded data removed]",
      "text/plain": [
       "<Figure size 432x288 with 1 Axes>"
      ]
     },
     "metadata": {
      "needs_background": "light"
     },
     "output_type": "display_data"
    }
   ],
   "source": [
    "# Compare fidelity, use Qiskit API (when every state from KS is a valid density matrix)\n",
    "diff_fed_all= []\n",
    "for i in range(max_num_itrs):\n",
    "    qis_den_all = qi.DensityMatrix(total_smoother_dens[i])\n",
    "    fed_difference_all =  qi.state_fidelity(total_simu_dens[i], qis_den_all)\n",
    "    diff_fed_all.append(fed_difference_all)\n",
    "    \n",
    "iter_range = range(max_num_itrs)\n",
    "plt.plot(np.array(iter_range)+1, np.array(diff_fed_all)[iter_range], '+-', color='red', label='KS')\n",
    "plt.xlabel(\"Number of Iterations\")\n",
    "plt.ylabel(\"Fidelity\")\n",
    "plt.xticks((np.array(iter_range)+1))\n",
    "plt.legend()\n",
    "plt.tight_layout()\n",
    "plt.show()"
   ]
  },
  {
   "cell_type": "code",
   "execution_count": 44,
   "metadata": {},
   "outputs": [
    {
     "data": {
      "image/png": "[encoded data removed]",
      "text/plain": [
       "<Figure size 432x288 with 2 Axes>"
      ]
     },
     "metadata": {
      "needs_background": "light"
     },
     "output_type": "display_data"
    }
   ],
   "source": [
    "plt.imshow(realQ.real<0)\n",
    "plt.colorbar()\n",
    "plt.show()"
   ]
  },
  {
   "cell_type": "code",
   "execution_count": 45,
   "metadata": {},
   "outputs": [
    {
     "data": {
      "image/png": "[encoded data removed]",
      "text/plain": [
       "<Figure size 432x288 with 2 Axes>"
      ]
     },
     "metadata": {
      "needs_background": "light"
     },
     "output_type": "display_data"
    }
   ],
   "source": [
    "plt.imshow(realQ.real)\n",
    "plt.colorbar()\n",
    "plt.show()"
   ]
  },
  {
   "cell_type": "code",
   "execution_count": 46,
   "metadata": {},
   "outputs": [
    {
     "data": {
      "image/png": "[encoded data removed]",
      "text/plain": [
       "<Figure size 432x288 with 2 Axes>"
      ]
     },
     "metadata": {
      "needs_background": "light"
     },
     "output_type": "display_data"
    }
   ],
   "source": [
    "plt.imshow(realQ.imag)\n",
    "plt.colorbar()\n",
    "plt.show()"
   ]
  },
  {
   "cell_type": "markdown",
   "metadata": {},
   "source": [
    "Only use the estimation in the final iteration as the valid output"
   ]
  },
  {
   "cell_type": "code",
   "execution_count": 47,
   "metadata": {
    "scrolled": true
   },
   "outputs": [],
   "source": [
    "# total_smoother_dens = []\n",
    "# total_smoother_purs = []\n",
    "# for i in range(1,max_num_itrs+1):\n",
    "#     print(\"Circuit Iteration\", i)\n",
    "#     observs = total_simu_probs[0:i]\n",
    "#     learn_obj = EMLearn(observs, unitaries[0], x, M, Q, R, P)\n",
    "#     estX0, estM0, estQ, estR, estF = learn_obj.learn() # they are all arguemented\n",
    "    \n",
    "#     # Slice from argumented system\n",
    "#     realX0 = estX0.toarray()[:num_dim_state]\n",
    "#     realX0norm = np.sqrt(np.sum(np.abs(realX0)**2))\n",
    "#     realM0 = estM0.toarray()[range(num_dim_state),:][:,range(num_dim_state)]\n",
    "#     realF = estF.toarray()[range(num_dim_state),:][:,range(num_dim_state)]\n",
    "#     realQ = estQ.toarray()[range(num_dim_state),:][:,range(num_dim_state)]\n",
    "#     realR = estR.toarray()[range(num_dim_obs),:][:,range(num_dim_obs)]\n",
    "#     realP = estQ.toarray()[range(num_dim_state),:][:,range(num_dim_state, 2*num_dim_state)]\n",
    "\n",
    "#     smoother = KSQS(observs, realF, realX0, realM0, realQ, realR, realP)\n",
    "#     x_seq, M_seq, M_prio_seq = smoother.smooth() \n",
    "    \n",
    "    \n",
    "#     # Normalization\n",
    "# #     x_est_norms = []\n",
    "# #     for j in range(i):\n",
    "# #         x_est = np.array(x_seq[j+1][:num_dim_state].todense()).flatten()\n",
    "# #         diag_sum = np.sum(vecden_meas(x_est))\n",
    "\n",
    "# #         #normalize along the diagonal\n",
    "# #         x_est_norm = x_est+0\n",
    "# #         nrows = int(np.sqrt(x_est.size))\n",
    "# #         for k in range(nrows):\n",
    "# #             x_est_norm[k*nrows+k] = x_est_norm[k*nrows+k]/diag_sum\n",
    "# #     final_den = x_est_norm.reshape(num_dim_obs, num_dim_obs)\n",
    "\n",
    "#     x_est = np.matrix(x_seq[-1][:num_dim_state].todense()).flatten().reshape((num_dim_obs, num_dim_obs), order='F')\n",
    "# #     x_est = (x_est+x_est.H)/2\n",
    "#     final_den = KSEM.closed_den_mat(x_est)\n",
    "#     total_smoother_dens.append(final_den)\n",
    "#     total_smoother_purs.append(np.real(qi.DensityMatrix(final_den).purity()))"
   ]
  },
  {
   "cell_type": "code",
   "execution_count": 48,
   "metadata": {},
   "outputs": [
    {
     "name": "stdout",
     "output_type": "stream",
     "text": [
      "Is state a valid density matrix: True\n",
      "Is state a valid density matrix: True\n",
      "Is state a valid density matrix: True\n",
      "Is state a valid density matrix: True\n",
      "Is state a valid density matrix: True\n",
      "Is state a valid density matrix: True\n",
      "Is state a valid density matrix: True\n",
      "Is state a valid density matrix: True\n",
      "Is state a valid density matrix: True\n",
      "Is state a valid density matrix: True\n"
     ]
    }
   ],
   "source": [
    "for den in total_smoother_dens:\n",
    "    print(\"Is state a valid density matrix:\", qi.DensityMatrix(den).is_valid())"
   ]
  },
  {
   "cell_type": "code",
   "execution_count": 49,
   "metadata": {},
   "outputs": [
    {
     "data": {
      "text/plain": [
       "matrix([[9.12074738e-01+3.06400358e-57j, 2.80105526e-02+2.77064387e-53j,\n",
       "         2.27798897e-02-1.04109270e-52j, 8.31428128e-03-4.78831529e-52j,\n",
       "         3.68986251e-04+2.64992991e-51j, 1.77401558e-02+1.63035345e-52j,\n",
       "         2.51787295e-03-5.06932046e-50j, 5.53122922e-03+2.27210985e-50j,\n",
       "         2.28594290e-03-9.15419466e-52j, 1.26472308e-04+2.44055416e-50j,\n",
       "         6.59795188e-07+2.50741565e-52j, 4.77487117e-06+4.14747686e-51j,\n",
       "         6.82079007e-05+0.00000000e+00j, 1.87098011e-05+0.00000000e+00j,\n",
       "         9.15741210e-05+0.00000000e+00j, 6.59527083e-05+0.00000000e+00j]])"
      ]
     },
     "execution_count": 49,
     "metadata": {},
     "output_type": "execute_result"
    }
   ],
   "source": [
    "total_smoother_dens[0].diagonal().flatten()"
   ]
  },
  {
   "cell_type": "code",
   "execution_count": 50,
   "metadata": {},
   "outputs": [
    {
     "data": {
      "text/plain": [
       "array([[9.12074738e-01+3.06400358e-57j, 0.00000000e+00+0.00000000e+00j,\n",
       "        0.00000000e+00+0.00000000e+00j, 0.00000000e+00+0.00000000e+00j,\n",
       "        0.00000000e+00+0.00000000e+00j, 0.00000000e+00+0.00000000e+00j,\n",
       "        0.00000000e+00+0.00000000e+00j, 0.00000000e+00+0.00000000e+00j,\n",
       "        0.00000000e+00+0.00000000e+00j, 0.00000000e+00+0.00000000e+00j,\n",
       "        0.00000000e+00+0.00000000e+00j, 0.00000000e+00+0.00000000e+00j,\n",
       "        0.00000000e+00+0.00000000e+00j, 0.00000000e+00+0.00000000e+00j,\n",
       "        0.00000000e+00+0.00000000e+00j, 0.00000000e+00+0.00000000e+00j],\n",
       "       [0.00000000e+00+0.00000000e+00j, 2.80105526e-02+2.77064387e-53j,\n",
       "        0.00000000e+00+0.00000000e+00j, 0.00000000e+00+0.00000000e+00j,\n",
       "        0.00000000e+00+0.00000000e+00j, 0.00000000e+00+0.00000000e+00j,\n",
       "        0.00000000e+00+0.00000000e+00j, 0.00000000e+00+0.00000000e+00j,\n",
       "        0.00000000e+00+0.00000000e+00j, 0.00000000e+00+0.00000000e+00j,\n",
       "        0.00000000e+00+0.00000000e+00j, 0.00000000e+00+0.00000000e+00j,\n",
       "        0.00000000e+00+0.00000000e+00j, 0.00000000e+00+0.00000000e+00j,\n",
       "        0.00000000e+00+0.00000000e+00j, 0.00000000e+00+0.00000000e+00j],\n",
       "       [0.00000000e+00+0.00000000e+00j, 0.00000000e+00+0.00000000e+00j,\n",
       "        2.27798897e-02-1.04109270e-52j, 0.00000000e+00+0.00000000e+00j,\n",
       "        0.00000000e+00+0.00000000e+00j, 0.00000000e+00+0.00000000e+00j,\n",
       "        0.00000000e+00+0.00000000e+00j, 0.00000000e+00+0.00000000e+00j,\n",
       "        0.00000000e+00+0.00000000e+00j, 0.00000000e+00+0.00000000e+00j,\n",
       "        0.00000000e+00+0.00000000e+00j, 0.00000000e+00+0.00000000e+00j,\n",
       "        0.00000000e+00+0.00000000e+00j, 0.00000000e+00+0.00000000e+00j,\n",
       "        0.00000000e+00+0.00000000e+00j, 0.00000000e+00+0.00000000e+00j],\n",
       "       [0.00000000e+00+0.00000000e+00j, 0.00000000e+00+0.00000000e+00j,\n",
       "        0.00000000e+00+0.00000000e+00j, 8.31428128e-03-4.78831529e-52j,\n",
       "        0.00000000e+00+0.00000000e+00j, 0.00000000e+00+0.00000000e+00j,\n",
       "        0.00000000e+00+0.00000000e+00j, 0.00000000e+00+0.00000000e+00j,\n",
       "        0.00000000e+00+0.00000000e+00j, 0.00000000e+00+0.00000000e+00j,\n",
       "        0.00000000e+00+0.00000000e+00j, 0.00000000e+00+0.00000000e+00j,\n",
       "        0.00000000e+00+0.00000000e+00j, 0.00000000e+00+0.00000000e+00j,\n",
       "        0.00000000e+00+0.00000000e+00j, 0.00000000e+00+0.00000000e+00j],\n",
       "       [0.00000000e+00+0.00000000e+00j, 0.00000000e+00+0.00000000e+00j,\n",
       "        0.00000000e+00+0.00000000e+00j, 0.00000000e+00+0.00000000e+00j,\n",
       "        3.68986251e-04+2.64992991e-51j, 0.00000000e+00+0.00000000e+00j,\n",
       "        0.00000000e+00+0.00000000e+00j, 0.00000000e+00+0.00000000e+00j,\n",
       "        0.00000000e+00+0.00000000e+00j, 0.00000000e+00+0.00000000e+00j,\n",
       "        0.00000000e+00+0.00000000e+00j, 0.00000000e+00+0.00000000e+00j,\n",
       "        0.00000000e+00+0.00000000e+00j, 0.00000000e+00+0.00000000e+00j,\n",
       "        0.00000000e+00+0.00000000e+00j, 0.00000000e+00+0.00000000e+00j],\n",
       "       [0.00000000e+00+0.00000000e+00j, 0.00000000e+00+0.00000000e+00j,\n",
       "        0.00000000e+00+0.00000000e+00j, 0.00000000e+00+0.00000000e+00j,\n",
       "        0.00000000e+00+0.00000000e+00j, 1.77401558e-02+1.63035345e-52j,\n",
       "        0.00000000e+00+0.00000000e+00j, 0.00000000e+00+0.00000000e+00j,\n",
       "        0.00000000e+00+0.00000000e+00j, 0.00000000e+00+0.00000000e+00j,\n",
       "        0.00000000e+00+0.00000000e+00j, 0.00000000e+00+0.00000000e+00j,\n",
       "        0.00000000e+00+0.00000000e+00j, 0.00000000e+00+0.00000000e+00j,\n",
       "        0.00000000e+00+0.00000000e+00j, 0.00000000e+00+0.00000000e+00j],\n",
       "       [0.00000000e+00+0.00000000e+00j, 0.00000000e+00+0.00000000e+00j,\n",
       "        0.00000000e+00+0.00000000e+00j, 0.00000000e+00+0.00000000e+00j,\n",
       "        0.00000000e+00+0.00000000e+00j, 0.00000000e+00+0.00000000e+00j,\n",
       "        2.51787295e-03-5.06932046e-50j, 0.00000000e+00+0.00000000e+00j,\n",
       "        0.00000000e+00+0.00000000e+00j, 0.00000000e+00+0.00000000e+00j,\n",
       "        0.00000000e+00+0.00000000e+00j, 0.00000000e+00+0.00000000e+00j,\n",
       "        0.00000000e+00+0.00000000e+00j, 0.00000000e+00+0.00000000e+00j,\n",
       "        0.00000000e+00+0.00000000e+00j, 0.00000000e+00+0.00000000e+00j],\n",
       "       [0.00000000e+00+0.00000000e+00j, 0.00000000e+00+0.00000000e+00j,\n",
       "        0.00000000e+00+0.00000000e+00j, 0.00000000e+00+0.00000000e+00j,\n",
       "        0.00000000e+00+0.00000000e+00j, 0.00000000e+00+0.00000000e+00j,\n",
       "        0.00000000e+00+0.00000000e+00j, 5.53122922e-03+2.27210985e-50j,\n",
       "        0.00000000e+00+0.00000000e+00j, 0.00000000e+00+0.00000000e+00j,\n",
       "        0.00000000e+00+0.00000000e+00j, 0.00000000e+00+0.00000000e+00j,\n",
       "        0.00000000e+00+0.00000000e+00j, 0.00000000e+00+0.00000000e+00j,\n",
       "        0.00000000e+00+0.00000000e+00j, 0.00000000e+00+0.00000000e+00j],\n",
       "       [0.00000000e+00+0.00000000e+00j, 0.00000000e+00+0.00000000e+00j,\n",
       "        0.00000000e+00+0.00000000e+00j, 0.00000000e+00+0.00000000e+00j,\n",
       "        0.00000000e+00+0.00000000e+00j, 0.00000000e+00+0.00000000e+00j,\n",
       "        0.00000000e+00+0.00000000e+00j, 0.00000000e+00+0.00000000e+00j,\n",
       "        2.28594290e-03-9.15419466e-52j, 0.00000000e+00+0.00000000e+00j,\n",
       "        0.00000000e+00+0.00000000e+00j, 0.00000000e+00+0.00000000e+00j,\n",
       "        0.00000000e+00+0.00000000e+00j, 0.00000000e+00+0.00000000e+00j,\n",
       "        0.00000000e+00+0.00000000e+00j, 0.00000000e+00+0.00000000e+00j],\n",
       "       [0.00000000e+00+0.00000000e+00j, 0.00000000e+00+0.00000000e+00j,\n",
       "        0.00000000e+00+0.00000000e+00j, 0.00000000e+00+0.00000000e+00j,\n",
       "        0.00000000e+00+0.00000000e+00j, 0.00000000e+00+0.00000000e+00j,\n",
       "        0.00000000e+00+0.00000000e+00j, 0.00000000e+00+0.00000000e+00j,\n",
       "        0.00000000e+00+0.00000000e+00j, 1.26472308e-04+2.44055416e-50j,\n",
       "        0.00000000e+00+0.00000000e+00j, 0.00000000e+00+0.00000000e+00j,\n",
       "        0.00000000e+00+0.00000000e+00j, 0.00000000e+00+0.00000000e+00j,\n",
       "        0.00000000e+00+0.00000000e+00j, 0.00000000e+00+0.00000000e+00j],\n",
       "       [0.00000000e+00+0.00000000e+00j, 0.00000000e+00+0.00000000e+00j,\n",
       "        0.00000000e+00+0.00000000e+00j, 0.00000000e+00+0.00000000e+00j,\n",
       "        0.00000000e+00+0.00000000e+00j, 0.00000000e+00+0.00000000e+00j,\n",
       "        0.00000000e+00+0.00000000e+00j, 0.00000000e+00+0.00000000e+00j,\n",
       "        0.00000000e+00+0.00000000e+00j, 0.00000000e+00+0.00000000e+00j,\n",
       "        6.59795188e-07+2.50741565e-52j, 0.00000000e+00+0.00000000e+00j,\n",
       "        0.00000000e+00+0.00000000e+00j, 0.00000000e+00+0.00000000e+00j,\n",
       "        0.00000000e+00+0.00000000e+00j, 0.00000000e+00+0.00000000e+00j],\n",
       "       [0.00000000e+00+0.00000000e+00j, 0.00000000e+00+0.00000000e+00j,\n",
       "        0.00000000e+00+0.00000000e+00j, 0.00000000e+00+0.00000000e+00j,\n",
       "        0.00000000e+00+0.00000000e+00j, 0.00000000e+00+0.00000000e+00j,\n",
       "        0.00000000e+00+0.00000000e+00j, 0.00000000e+00+0.00000000e+00j,\n",
       "        0.00000000e+00+0.00000000e+00j, 0.00000000e+00+0.00000000e+00j,\n",
       "        0.00000000e+00+0.00000000e+00j, 4.77487117e-06+4.14747686e-51j,\n",
       "        0.00000000e+00+0.00000000e+00j, 0.00000000e+00+0.00000000e+00j,\n",
       "        0.00000000e+00+0.00000000e+00j, 0.00000000e+00+0.00000000e+00j],\n",
       "       [0.00000000e+00+0.00000000e+00j, 0.00000000e+00+0.00000000e+00j,\n",
       "        0.00000000e+00+0.00000000e+00j, 0.00000000e+00+0.00000000e+00j,\n",
       "        0.00000000e+00+0.00000000e+00j, 0.00000000e+00+0.00000000e+00j,\n",
       "        0.00000000e+00+0.00000000e+00j, 0.00000000e+00+0.00000000e+00j,\n",
       "        0.00000000e+00+0.00000000e+00j, 0.00000000e+00+0.00000000e+00j,\n",
       "        0.00000000e+00+0.00000000e+00j, 0.00000000e+00+0.00000000e+00j,\n",
       "        6.82079007e-05+0.00000000e+00j, 0.00000000e+00+0.00000000e+00j,\n",
       "        0.00000000e+00+0.00000000e+00j, 0.00000000e+00+0.00000000e+00j],\n",
       "       [0.00000000e+00+0.00000000e+00j, 0.00000000e+00+0.00000000e+00j,\n",
       "        0.00000000e+00+0.00000000e+00j, 0.00000000e+00+0.00000000e+00j,\n",
       "        0.00000000e+00+0.00000000e+00j, 0.00000000e+00+0.00000000e+00j,\n",
       "        0.00000000e+00+0.00000000e+00j, 0.00000000e+00+0.00000000e+00j,\n",
       "        0.00000000e+00+0.00000000e+00j, 0.00000000e+00+0.00000000e+00j,\n",
       "        0.00000000e+00+0.00000000e+00j, 0.00000000e+00+0.00000000e+00j,\n",
       "        0.00000000e+00+0.00000000e+00j, 1.87098011e-05+0.00000000e+00j,\n",
       "        0.00000000e+00+0.00000000e+00j, 0.00000000e+00+0.00000000e+00j],\n",
       "       [0.00000000e+00+0.00000000e+00j, 0.00000000e+00+0.00000000e+00j,\n",
       "        0.00000000e+00+0.00000000e+00j, 0.00000000e+00+0.00000000e+00j,\n",
       "        0.00000000e+00+0.00000000e+00j, 0.00000000e+00+0.00000000e+00j,\n",
       "        0.00000000e+00+0.00000000e+00j, 0.00000000e+00+0.00000000e+00j,\n",
       "        0.00000000e+00+0.00000000e+00j, 0.00000000e+00+0.00000000e+00j,\n",
       "        0.00000000e+00+0.00000000e+00j, 0.00000000e+00+0.00000000e+00j,\n",
       "        0.00000000e+00+0.00000000e+00j, 0.00000000e+00+0.00000000e+00j,\n",
       "        9.15741210e-05+0.00000000e+00j, 0.00000000e+00+0.00000000e+00j],\n",
       "       [0.00000000e+00+0.00000000e+00j, 0.00000000e+00+0.00000000e+00j,\n",
       "        0.00000000e+00+0.00000000e+00j, 0.00000000e+00+0.00000000e+00j,\n",
       "        0.00000000e+00+0.00000000e+00j, 0.00000000e+00+0.00000000e+00j,\n",
       "        0.00000000e+00+0.00000000e+00j, 0.00000000e+00+0.00000000e+00j,\n",
       "        0.00000000e+00+0.00000000e+00j, 0.00000000e+00+0.00000000e+00j,\n",
       "        0.00000000e+00+0.00000000e+00j, 0.00000000e+00+0.00000000e+00j,\n",
       "        0.00000000e+00+0.00000000e+00j, 0.00000000e+00+0.00000000e+00j,\n",
       "        0.00000000e+00+0.00000000e+00j, 6.59527083e-05+0.00000000e+00j]])"
      ]
     },
     "execution_count": 50,
     "metadata": {},
     "output_type": "execute_result"
    }
   ],
   "source": [
    "np.diag(np.array(total_smoother_dens[0].diagonal()).flatten())"
   ]
  },
  {
   "cell_type": "code",
   "execution_count": 51,
   "metadata": {},
   "outputs": [
    {
     "name": "stdout",
     "output_type": "stream",
     "text": [
      "0.000838543005659266\n",
      "0.0007293429593887095\n",
      "0.00045282805760878684\n",
      "0.00041332423709046923\n",
      "0.0011872274984118841\n",
      "0.0007899227651936034\n",
      "0.00023528878514255557\n",
      "0.0003251826932295312\n",
      "0.0006096491373294987\n",
      "0.0002487351837916872\n"
     ]
    }
   ],
   "source": [
    "with np.printoptions(precision=3, suppress=True):\n",
    "    for den in total_smoother_dens:\n",
    "        non_diag_den = den - np.diag(np.array(den.diagonal()).flatten())\n",
    "        print(np.linalg.norm(non_diag_den))"
   ]
  },
  {
   "cell_type": "code",
   "execution_count": 52,
   "metadata": {},
   "outputs": [
    {
     "name": "stdout",
     "output_type": "stream",
     "text": [
      "Estimated Purity (Total)\n",
      "0.83361071484727\n",
      "0.7818065834347875\n",
      "0.7338948738981406\n",
      "0.6978051685381312\n",
      "0.6668412084225284\n",
      "0.6316323868069601\n",
      "0.6002674083886479\n",
      "0.5755651171330788\n",
      "0.5500073840722334\n",
      "0.5263471073092277\n"
     ]
    }
   ],
   "source": [
    "print(\"Estimated Purity (Total)\")\n",
    "for pu in total_smoother_purs:\n",
    "    print(pu)"
   ]
  },
  {
   "cell_type": "markdown",
   "metadata": {},
   "source": [
    "## Check the fidelity between estimated state and the real state in the simulator"
   ]
  },
  {
   "cell_type": "code",
   "execution_count": 53,
   "metadata": {},
   "outputs": [],
   "source": [
    "from scipy.linalg import sqrtm\n",
    "def state_fid(m1,m2):\n",
    "    sqm1 = sqrtm(m1)\n",
    "    temp = sqm1.dot(m2).dot(sqm1)\n",
    "    temp2 = sqrtm(temp)\n",
    "    return np.real(np.trace(temp2))**2"
   ]
  },
  {
   "cell_type": "code",
   "execution_count": 59,
   "metadata": {},
   "outputs": [
    {
     "name": "stdout",
     "output_type": "stream",
     "text": [
      "Iteration 1 KS Fid: 0.9751238261081819 Tomo Fid: 0.9462696415055912\n",
      "Iteration 2 KS Fid: 0.96985478815236 Tomo Fid: 0.9414831035581118\n",
      "Iteration 3 KS Fid: 0.9754318068017725 Tomo Fid: 0.9391995685730516\n",
      "Iteration 4 KS Fid: 0.9788969755875102 Tomo Fid: 0.9442955286948326\n",
      "Iteration 5 KS Fid: 0.9794368633695341 Tomo Fid: 0.945235151694162\n",
      "Iteration 6 KS Fid: 0.9778249835294495 Tomo Fid: 0.9500608415714854\n",
      "Iteration 7 KS Fid: 0.9819736069946134 Tomo Fid: 0.9527067221627539\n",
      "Iteration 8 KS Fid: 0.9788970594661646 Tomo Fid: 0.9459629167197235\n",
      "Iteration 9 KS Fid: 0.972540416353296 Tomo Fid: 0.9418712864314417\n",
      "Iteration 10 KS Fid: 0.9852558641637869 Tomo Fid: 0.9400735275442801\n"
     ]
    },
    {
     "data": {
      "image/png": "[encoded data removed]",
      "text/plain": [
       "<Figure size 432x288 with 1 Axes>"
      ]
     },
     "metadata": {
      "needs_background": "light"
     },
     "output_type": "display_data"
    }
   ],
   "source": [
    "# Compare fidelity, use Qiskit API (when every state from KS is a valid density matrix)\n",
    "diff_fed_all= []\n",
    "diff_fed_tomo= []\n",
    "for i in range(max_num_itrs):\n",
    "    qis_den_tomo = qi.DensityMatrix(tomo_dens[i])\n",
    "    qis_den_all = qi.DensityMatrix(total_smoother_dens[i])\n",
    "    fed_difference_tomo =  qi.state_fidelity(total_simu_dens[i], qis_den_tomo)\n",
    "    fed_difference_all =  qi.state_fidelity(total_simu_dens[i], qis_den_all)\n",
    "    diff_fed_all.append(fed_difference_all)\n",
    "    diff_fed_tomo.append(fed_difference_tomo)\n",
    "    print(\"Iteration\",i+1, \"KS Fid:\", fed_difference_all, \"Tomo Fid:\", fed_difference_tomo)\n",
    "    \n",
    "iter_range = range(max_num_itrs)\n",
    "plt.plot(np.array(iter_range)+1, np.array(diff_fed_all)[iter_range], '+-', color='red', label='KS')\n",
    "plt.plot(np.array(iter_range)+1, np.array(diff_fed_tomo)[iter_range], '*-', color='blue', label='Tomo')\n",
    "# plt.plot(np.array(iter_range)+1, np.array([0.9]*max_num_itrs)[iter_range], '--', color='lightgray')\n",
    "plt.xlabel(\"Number of Iterations\")\n",
    "plt.ylabel(\"Fidelity\")\n",
    "plt.xticks((np.array(iter_range)+1))\n",
    "plt.legend()\n",
    "plt.tight_layout()\n",
    "plt.savefig(\"diff_fed_qis.svg\")\n",
    "plt.show()"
   ]
  },
  {
   "cell_type": "code",
   "execution_count": 60,
   "metadata": {},
   "outputs": [
    {
     "name": "stdout",
     "output_type": "stream",
     "text": [
      "Iteration 1 KS Fid: 0.9751238261081833 Tomo Fid: 0.9462696414362606\n",
      "Iteration 2 KS Fid: 0.9698547881523605 Tomo Fid: 0.9414831034220053\n",
      "Iteration 3 KS Fid: 0.9754318068017753 Tomo Fid: 0.9391995684718868\n",
      "Iteration 4 KS Fid: 0.9788969755875131 Tomo Fid: 0.944295528694833\n",
      "Iteration 5 KS Fid: 0.9794368633695343 Tomo Fid: 0.945235151694162\n",
      "Iteration 6 KS Fid: 0.9778249835294495 Tomo Fid: 0.9500608415714872\n",
      "Iteration 7 KS Fid: 0.981973606994613 Tomo Fid: 0.9527067221627561\n",
      "Iteration 8 KS Fid: 0.9788970594661659 Tomo Fid: 0.9459629167197218\n",
      "Iteration 9 KS Fid: 0.9725404163532951 Tomo Fid: 0.9418712864314408\n",
      "Iteration 10 KS Fid: 0.9852558641637873 Tomo Fid: 0.9400735275442823\n"
     ]
    },
    {
     "data": {
      "image/png": "[encoded data removed]",
      "text/plain": [
       "<Figure size 432x288 with 1 Axes>"
      ]
     },
     "metadata": {
      "needs_background": "light"
     },
     "output_type": "display_data"
    }
   ],
   "source": [
    "# Compare fidelity, use my own function (when some states from KS are not valid density matrices)\n",
    "diff_fed_all= []\n",
    "diff_fed_tomo= []\n",
    "for i in range(max_num_itrs):\n",
    "    fed_difference_tomo =  state_fid(total_simu_dens[i].data, tomo_dens[i])\n",
    "    fed_difference_all =  state_fid(total_simu_dens[i].data, total_smoother_dens[i])\n",
    "    diff_fed_all.append(fed_difference_all)\n",
    "    diff_fed_tomo.append(fed_difference_tomo)\n",
    "    print(\"Iteration\",i+1, \"KS Fid:\", fed_difference_all, \"Tomo Fid:\", fed_difference_tomo)\n",
    "    \n",
    "iter_range = range(max_num_itrs)\n",
    "plt.plot(np.array(iter_range)+1, np.array(diff_fed_all)[iter_range], '+-', color='red', label='KS')\n",
    "plt.plot(np.array(iter_range)+1, np.array(diff_fed_tomo)[iter_range], '*-', color='blue', label='Tomo')\n",
    "# plt.plot(np.array(iter_range)+1, np.array([0.9]*max_num_itrs)[iter_range], '--', color='lightgray')\n",
    "plt.xlabel(\"Number of Iterations\")\n",
    "plt.ylabel(\"Fidelity\")\n",
    "plt.xticks((np.array(iter_range)+1))\n",
    "plt.legend()\n",
    "plt.tight_layout()\n",
    "plt.savefig(\"diff_fed.svg\")\n",
    "plt.show()"
   ]
  },
  {
   "cell_type": "code",
   "execution_count": 61,
   "metadata": {},
   "outputs": [
    {
     "name": "stdout",
     "output_type": "stream",
     "text": [
      "Iteration 1 KS Norm: 0.06571062963610429 Tomo Norm: 0.09185528841730818\n",
      "Iteration 2 KS Norm: 0.06952401593303774 Tomo Norm: 0.10165721020106024\n",
      "Iteration 3 KS Norm: 0.07097250534726701 Tomo Norm: 0.09674697983805347\n",
      "Iteration 4 KS Norm: 0.06845746512488939 Tomo Norm: 0.09260881904639025\n",
      "Iteration 5 KS Norm: 0.0650887989394933 Tomo Norm: 0.09068417005443226\n",
      "Iteration 6 KS Norm: 0.06687733815172905 Tomo Norm: 0.09461849133176234\n",
      "Iteration 7 KS Norm: 0.0673818001551706 Tomo Norm: 0.08885919583245001\n",
      "Iteration 8 KS Norm: 0.0650750865056518 Tomo Norm: 0.09740241728032667\n",
      "Iteration 9 KS Norm: 0.06844639778354121 Tomo Norm: 0.09447299339090132\n",
      "Iteration 10 KS Norm: 0.06625505479546008 Tomo Norm: 0.09852003622325411\n"
     ]
    },
    {
     "data": {
      "image/png": "[encoded data removed]",
      "text/plain": [
       "<Figure size 432x288 with 1 Axes>"
      ]
     },
     "metadata": {
      "needs_background": "light"
     },
     "output_type": "display_data"
    }
   ],
   "source": [
    "diff_norm_all= []\n",
    "diff_norm_tomo= []\n",
    "for i in range(max_num_itrs):\n",
    "    norm_difference_tomo =  np.linalg.norm(total_simu_dens[i].data-tomo_dens[i])\n",
    "    norm_difference_all =  np.linalg.norm(total_simu_dens[i].data-total_smoother_dens[i])\n",
    "    diff_norm_all.append(norm_difference_all)\n",
    "    diff_norm_tomo.append(norm_difference_tomo)\n",
    "    print(\"Iteration\",i+1, \"KS Norm:\", norm_difference_all, \"Tomo Norm:\", norm_difference_tomo)\n",
    "    \n",
    "iter_range = range(max_num_itrs)\n",
    "plt.plot(np.array(iter_range)+1, np.array(diff_norm_all)[iter_range], '+-', color='red', label='KS')\n",
    "plt.plot(np.array(iter_range)+1, np.array(diff_norm_tomo)[iter_range], '*-', color='blue', label='Tomo')\n",
    "plt.xlabel(\"Number of Iterations\")\n",
    "plt.ylabel(r'$||\\rho_{simu} - \\rho_{est}||_2$', fontsize=14)\n",
    "plt.xticks((np.array(iter_range)+1))\n",
    "plt.legend()\n",
    "plt.tight_layout()\n",
    "plt.savefig(\"diff_norm.svg\")\n",
    "plt.show()"
   ]
  },
  {
   "cell_type": "code",
   "execution_count": 62,
   "metadata": {},
   "outputs": [
    {
     "data": {
      "image/png": "[encoded data removed]",
      "text/plain": [
       "<Figure size 432x288 with 1 Axes>"
      ]
     },
     "metadata": {
      "needs_background": "light"
     },
     "output_type": "display_data"
    }
   ],
   "source": [
    "plt.plot(np.array(iter_range)+1, np.array(total_smoother_purs)[iter_range], '+-', label=\"KS\",color='red')\n",
    "plt.plot(np.array(iter_range)+1, np.array(tomo_purs)[iter_range], '*-', label=\"Tomo\",color='blue')\n",
    "# plt.plot(np.array(iter_range)+1, np.array(total_smoother_purs)[iter_range]-0.25, '+-', label=\"Estimated-0.25\",color='skyblue')\n",
    "plt.plot(np.array(iter_range)+1, np.array(total_simu_purs)[iter_range], label=\"Actual\", color='gray')\n",
    "plt.xlabel(\"Number of Iterations\")\n",
    "plt.ylabel(\"Purity\")\n",
    "plt.xticks((np.array(iter_range)+1))\n",
    "plt.legend()\n",
    "plt.tight_layout()\n",
    "plt.savefig(\"diff_pur.svg\")\n",
    "plt.show()"
   ]
  },
  {
   "cell_type": "code",
   "execution_count": 63,
   "metadata": {},
   "outputs": [
    {
     "data": {
      "image/png": "[encoded data removed]",
      "text/plain": [
       "<Figure size 432x288 with 1 Axes>"
      ]
     },
     "metadata": {
      "needs_background": "light"
     },
     "output_type": "display_data"
    }
   ],
   "source": [
    "plt.plot(np.array(iter_range)+1, np.abs(np.array(total_simu_purs)-np.array(total_smoother_purs))[iter_range], '+-', label=\"KS\",color='red')\n",
    "plt.plot(np.array(iter_range)+1, np.abs(np.array(total_simu_purs)-np.array(tomo_purs))[iter_range], '*-', label=\"Tomo\",color='blue')\n",
    "\n",
    "plt.xlabel(\"Number of Iterations\")\n",
    "plt.ylabel(\"Purity Difference\")\n",
    "plt.xticks((np.array(iter_range)+1))\n",
    "plt.legend()\n",
    "plt.tight_layout()\n",
    "# plt.savefig(\"diff_pur_diff.svg\")\n",
    "plt.show()"
   ]
  },
  {
   "cell_type": "code",
   "execution_count": null,
   "metadata": {},
   "outputs": [],
   "source": []
  },
  {
   "cell_type": "code",
   "execution_count": null,
   "metadata": {},
   "outputs": [],
   "source": []
  }
 ],
 "metadata": {
  "kernelspec": {
   "display_name": "Python 3",
   "language": "python",
   "name": "python3"
  },
  "language_info": {
   "codemirror_mode": {
    "name": "ipython",
    "version": 3
   },
   "file_extension": ".py",
   "mimetype": "text/x-python",
   "name": "python",
   "nbconvert_exporter": "python",
   "pygments_lexer": "ipython3",
   "version": "3.9.7"
  }
 },
 "nbformat": 4,
 "nbformat_minor": 4
}
