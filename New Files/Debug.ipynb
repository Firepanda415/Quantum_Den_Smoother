{
 "cells": [
  {
   "cell_type": "code",
   "execution_count": 10,
   "id": "753747fd",
   "metadata": {},
   "outputs": [],
   "source": [
    "import KSEM\n",
    "import importlib\n",
    "importlib.reload(KSEM)\n",
    "\n",
    "from KSEM import *"
   ]
  },
  {
   "cell_type": "code",
   "execution_count": 2,
   "id": "3575cf54",
   "metadata": {},
   "outputs": [],
   "source": [
    "Fgate = np.array([[1,0],[0,1]], dtype=complex)\n",
    "Fsup = np.kron(Fgate.conjugate(), Fgate)\n",
    "ys = [np.array([0.95, 0.05],dtype=np.float64),\n",
    "     np.array([0.9, 0.1],dtype=np.float64),\n",
    "     np.array([0.8, 0.2],dtype=np.float64)]\n",
    "x = np.array([0.99,0,0,0.01], dtype=complex).reshape((4,1)) # matrix -> vector, numpy.reshape(, order='F')\n",
    "\n",
    "M = np.identity(4, dtype=complex)* 0.02 * (1) # a guess for covariance matrix, E[(x0-xhat0^+)(x0-xhat0^+)^T]\n",
    "Q = np.identity(4, dtype=complex)* 0.2 * (1) # state covariance\n",
    "R = np.identity(2, dtype=complex)* 0.1 * (1) # meas covariance\n",
    "P = np.identity(4, dtype=complex)* 0.05 * (1)# "
   ]
  },
  {
   "cell_type": "code",
   "execution_count": 3,
   "id": "0cf15794",
   "metadata": {},
   "outputs": [
    {
     "data": {
      "text/plain": [
       "((4, 1), (2,), (4, 4))"
      ]
     },
     "execution_count": 3,
     "metadata": {},
     "output_type": "execute_result"
    }
   ],
   "source": [
    "x.shape, ys[0].shape, Fsup.shape"
   ]
  },
  {
   "cell_type": "code",
   "execution_count": 4,
   "id": "083efd2e",
   "metadata": {},
   "outputs": [
    {
     "data": {
      "text/plain": [
       "((4, 4), (4, 4), (2, 2), (4, 4))"
      ]
     },
     "execution_count": 4,
     "metadata": {},
     "output_type": "execute_result"
    }
   ],
   "source": [
    "M.shape, Q.shape, R.shape, P.shape"
   ]
  },
  {
   "cell_type": "code",
   "execution_count": 5,
   "id": "e998f9ff",
   "metadata": {},
   "outputs": [
    {
     "name": "stderr",
     "output_type": "stream",
     "text": [
      "/home/firepanda415/anaconda3/envs/quantum/lib/python3.9/site-packages/scipy/sparse/_index.py:82: SparseEfficiencyWarning: Changing the sparsity structure of a csc_matrix is expensive. lil_matrix is more efficient.\n",
      "  self._set_intXint(row, col, x.flat[0])\n",
      "/home/firepanda415/anaconda3/envs/quantum/lib/python3.9/site-packages/scipy/sparse/linalg/dsolve/linsolve.py:318: SparseEfficiencyWarning: splu requires CSC matrix format\n",
      "  warn('splu requires CSC matrix format', SparseEfficiencyWarning)\n",
      "/home/firepanda415/anaconda3/envs/quantum/lib/python3.9/site-packages/scipy/sparse/linalg/dsolve/linsolve.py:215: SparseEfficiencyWarning: spsolve is more efficient when sparse b is in the CSC matrix format\n",
      "  warn('spsolve is more efficient when sparse b '\n"
     ]
    }
   ],
   "source": [
    "smthr = KSQS(ys, Fsup, x, M, Q, R, P)\n",
    "x_seq, M_seq, M_prio_seq = smthr.smooth()"
   ]
  },
  {
   "cell_type": "code",
   "execution_count": 6,
   "id": "f9134380",
   "metadata": {},
   "outputs": [
    {
     "data": {
      "text/plain": [
       "[array([0.98664445+0.j, 0.        +0.j, 0.        +0.j, 0.01335555+0.j,\n",
       "        0.98664445+0.j, 0.        +0.j, 0.        +0.j, 0.01335555+0.j]),\n",
       " array([0.94470005+0.j, 0.        +0.j, 0.        +0.j, 0.05529995+0.j,\n",
       "        0.94470005+0.j, 0.        +0.j, 0.        +0.j, 0.05529995+0.j]),\n",
       " array([0.89613071+0.j, 0.        +0.j, 0.        +0.j, 0.10386929+0.j,\n",
       "        0.89613071+0.j, 0.        +0.j, 0.        +0.j, 0.10386929+0.j]),\n",
       " array([0.84272476+0.j, 0.        +0.j, 0.        +0.j, 0.15727524+0.j,\n",
       "        0.84272476+0.j, 0.        +0.j, 0.        +0.j, 0.15727524+0.j])]"
      ]
     },
     "execution_count": 6,
     "metadata": {},
     "output_type": "execute_result"
    }
   ],
   "source": [
    "x_seq_np = []\n",
    "for i in range(len(x_seq)):\n",
    "    x_seq_np.append(x_seq[i].toarray().flatten())\n",
    "    \n",
    "x_seq_np"
   ]
  },
  {
   "cell_type": "code",
   "execution_count": 7,
   "id": "7238f165",
   "metadata": {},
   "outputs": [
    {
     "name": "stdout",
     "output_type": "stream",
     "text": [
      "0.0\n",
      "0.0\n",
      "0.0\n",
      "0.0\n"
     ]
    },
    {
     "data": {
      "text/plain": [
       "[array([[0.01950252, 0.        , 0.        , 0.        ],\n",
       "        [0.        , 0.02      , 0.        , 0.        ],\n",
       "        [0.        , 0.        , 0.02      , 0.        ],\n",
       "        [0.        , 0.        , 0.        , 0.01950252]]),\n",
       " array([[0.12933425, 0.        , 0.        , 0.        ],\n",
       "        [0.        , 0.22      , 0.        , 0.        ],\n",
       "        [0.        , 0.        , 0.22      , 0.        ],\n",
       "        [0.        , 0.        , 0.        , 0.12933425]]),\n",
       " array([[0.21018696, 0.        , 0.        , 0.        ],\n",
       "        [0.        , 0.42      , 0.        , 0.        ],\n",
       "        [0.        , 0.        , 0.42      , 0.        ],\n",
       "        [0.        , 0.        , 0.        , 0.21018696]]),\n",
       " array([[0.30046903, 0.        , 0.        , 0.        ],\n",
       "        [0.        , 0.62      , 0.        , 0.        ],\n",
       "        [0.        , 0.        , 0.62      , 0.        ],\n",
       "        [0.        , 0.        , 0.        , 0.30046903]])]"
      ]
     },
     "execution_count": 7,
     "metadata": {},
     "output_type": "execute_result"
    }
   ],
   "source": [
    "M_seq_np = []\n",
    "for j in range(len(M_seq)):\n",
    "    print(np.linalg.norm(M_seq[j].toarray()[range(4),:][:,range(4)].imag))\n",
    "    M_seq_np.append( M_seq[j].toarray()[range(4),:][:,range(4)].real)\n",
    "    \n",
    "M_seq_np"
   ]
  },
  {
   "cell_type": "code",
   "execution_count": 11,
   "id": "559b8346",
   "metadata": {},
   "outputs": [
    {
     "name": "stdout",
     "output_type": "stream",
     "text": [
      "Iteration statrts New ll 26.18, Last ll 16.18\n",
      "Iteration     1, New log-likelihood 3.00913e+01, Last log-likelihood 2.61808e+01, Change 3.91056e+00\n",
      "Iteration     2, New log-likelihood 3.38249e+01, Last log-likelihood 3.00913e+01, Change 3.73359e+00\n",
      "Iteration     3, New log-likelihood 3.73339e+01, Last log-likelihood 3.38249e+01, Change 3.50896e+00\n",
      "Iteration     4, New log-likelihood 4.05819e+01, Last log-likelihood 3.73339e+01, Change 3.24806e+00\n",
      "Iteration     5, New log-likelihood 4.35568e+01, Last log-likelihood 4.05819e+01, Change 2.97487e+00\n",
      "Iteration     6, New log-likelihood 4.62756e+01, Last log-likelihood 4.35568e+01, Change 2.71880e+00\n",
      "Iteration     7, New log-likelihood 4.87825e+01, Last log-likelihood 4.62756e+01, Change 2.50693e+00\n",
      "Iteration     8, New log-likelihood 5.11335e+01, Last log-likelihood 4.87825e+01, Change 2.35096e+00\n",
      "Iteration     9, New log-likelihood 5.33790e+01, Last log-likelihood 5.11335e+01, Change 2.24554e+00\n",
      "Iteration    10, New log-likelihood 5.55566e+01, Last log-likelihood 5.33790e+01, Change 2.17756e+00\n",
      "Iteration    11, New log-likelihood 5.76909e+01, Last log-likelihood 5.55566e+01, Change 2.13434e+00\n",
      "Iteration    12, New log-likelihood 5.97978e+01, Last log-likelihood 5.76909e+01, Change 2.10687e+00\n",
      "Iteration    13, New log-likelihood 1.13329e+02, Last log-likelihood 5.97978e+01, Change 5.35315e+01\n"
     ]
    }
   ],
   "source": [
    "num_dim_state = 4\n",
    "num_dim_obs = 2\n",
    "learn_obj = EMLearn(ys, Fsup, x, M, Q, R, P)\n",
    "estX0, estM0, estQ, estR, estF = learn_obj.learn() # they are all arguemented\n",
    "realM0 = estM0.toarray()[range(num_dim_state),:][:,range(num_dim_state)]\n",
    "realF = estF.toarray()[range(num_dim_state),:][:,range(num_dim_state)]\n",
    "realQ = estQ.toarray()[range(num_dim_state),:][:,range(num_dim_state)]\n",
    "realR = estR.toarray()[range(num_dim_obs),:][:,range(num_dim_obs)]\n",
    "realP = estQ.toarray()[range(num_dim_state),:][:,range(num_dim_state, 2*num_dim_state)]"
   ]
  },
  {
   "cell_type": "code",
   "execution_count": 12,
   "id": "3c1805b7",
   "metadata": {},
   "outputs": [
    {
     "data": {
      "text/plain": [
       "array([[1.+0.j, 0.+0.j, 0.+0.j, 0.+0.j],\n",
       "       [0.+0.j, 1.+0.j, 0.+0.j, 0.+0.j],\n",
       "       [0.+0.j, 0.+0.j, 1.+0.j, 0.+0.j],\n",
       "       [0.+0.j, 0.+0.j, 0.+0.j, 1.+0.j]])"
      ]
     },
     "execution_count": 12,
     "metadata": {},
     "output_type": "execute_result"
    }
   ],
   "source": [
    "realF"
   ]
  },
  {
   "cell_type": "code",
   "execution_count": 13,
   "id": "66fa641c",
   "metadata": {},
   "outputs": [
    {
     "data": {
      "text/plain": [
       "(array([[ 0.05808681,  0.        ,  0.        , -0.01342807],\n",
       "        [ 0.        ,  0.2       ,  0.        ,  0.        ],\n",
       "        [ 0.        ,  0.        ,  0.2       ,  0.        ],\n",
       "        [-0.01342807,  0.        ,  0.        ,  0.07806119]]),\n",
       " 0.0)"
      ]
     },
     "execution_count": 13,
     "metadata": {},
     "output_type": "execute_result"
    }
   ],
   "source": [
    "realQ.real, np.linalg.norm(realQ.imag)"
   ]
  },
  {
   "cell_type": "code",
   "execution_count": 14,
   "id": "f97a8ab3",
   "metadata": {},
   "outputs": [
    {
     "data": {
      "text/plain": [
       "(array([[ 0.00110675, -0.00107908],\n",
       "        [-0.00107908,  0.00110675]]),\n",
       " 0.0)"
      ]
     },
     "execution_count": 14,
     "metadata": {},
     "output_type": "execute_result"
    }
   ],
   "source": [
    "realR.real, np.linalg.norm(realR.imag)"
   ]
  },
  {
   "cell_type": "code",
   "execution_count": 15,
   "id": "0831f88b",
   "metadata": {},
   "outputs": [
    {
     "data": {
      "text/plain": [
       "(array([[-0.07264109,  0.        ,  0.        , -0.01415848],\n",
       "        [ 0.        ,  0.05      ,  0.        ,  0.        ],\n",
       "        [ 0.        ,  0.        ,  0.05      ,  0.        ],\n",
       "        [ 0.00578982,  0.        ,  0.        , -0.07266716]]),\n",
       " 0.0)"
      ]
     },
     "execution_count": 15,
     "metadata": {},
     "output_type": "execute_result"
    }
   ],
   "source": [
    "realP.real, np.linalg.norm(realP.imag)"
   ]
  },
  {
   "cell_type": "code",
   "execution_count": 16,
   "id": "3bf492c7",
   "metadata": {},
   "outputs": [
    {
     "data": {
      "text/plain": [
       "[array([0.96826674+0.j, 0.        +0.j, 0.        +0.j, 0.03172358+0.j,\n",
       "        0.96826674+0.j, 0.        +0.j, 0.        +0.j, 0.03172358+0.j]),\n",
       " array([0.94224591+0.j, 0.        +0.j, 0.        +0.j, 0.05775412+0.j,\n",
       "        0.94224591+0.j, 0.        +0.j, 0.        +0.j, 0.05775412+0.j]),\n",
       " array([0.8931002+0.j, 0.       +0.j, 0.       +0.j, 0.1068998+0.j,\n",
       "        0.8931002+0.j, 0.       +0.j, 0.       +0.j, 0.1068998+0.j]),\n",
       " array([0.82338564+0.j, 0.        +0.j, 0.        +0.j, 0.17661436+0.j,\n",
       "        0.82338564+0.j, 0.        +0.j, 0.        +0.j, 0.17661436+0.j])]"
      ]
     },
     "execution_count": 16,
     "metadata": {},
     "output_type": "execute_result"
    }
   ],
   "source": [
    "smthr2 = KSQS(ys, realF, x, realM0, realQ, realR, realP)\n",
    "x_seq2, M_seq2, M_prio_seq2 = smthr2.smooth() \n",
    "x_seq_np2 = []\n",
    "for i in range(len(x_seq2)):\n",
    "    x_seq_np2.append(x_seq2[i].toarray().flatten())\n",
    "    \n",
    "x_seq_np2"
   ]
  },
  {
   "cell_type": "code",
   "execution_count": null,
   "id": "d9e77c0e",
   "metadata": {},
   "outputs": [],
   "source": []
  }
 ],
 "metadata": {
  "kernelspec": {
   "display_name": "Python [conda env:quantum] *",
   "language": "python",
   "name": "conda-env-quantum-py"
  },
  "language_info": {
   "codemirror_mode": {
    "name": "ipython",
    "version": 3
   },
   "file_extension": ".py",
   "mimetype": "text/x-python",
   "name": "python",
   "nbconvert_exporter": "python",
   "pygments_lexer": "ipython3",
   "version": "3.9.7"
  }
 },
 "nbformat": 4,
 "nbformat_minor": 5
}
