{
 "cells": [
  {
   "cell_type": "code",
   "execution_count": 1,
   "metadata": {},
   "outputs": [
    {
     "data": {
      "text/plain": [
       "<AccountProvider for IBMQ(hub='ibm-q', group='open', project='main')>"
      ]
     },
     "execution_count": 1,
     "metadata": {},
     "output_type": "execute_result"
    }
   ],
   "source": [
    "import numpy as np\n",
    "from collections import Counter\n",
    "from qiskit import IBMQ,Aer,schedule, execute, QuantumCircuit, QuantumRegister, ClassicalRegister, transpile\n",
    "from qiskit.tools.visualization import plot_histogram\n",
    "from qiskit.visualization import timeline_drawer\n",
    "from qiskit.visualization.pulse_v2 import draw, IQXDebugging\n",
    "from qiskit.tools.monitor import job_monitor\n",
    "from qiskit.providers.aer.noise import NoiseModel\n",
    "from qiskit.providers.aer import AerSimulator\n",
    "import qiskit.quantum_info as qi\n",
    "from qiskit.providers.aer.noise import QuantumError, ReadoutError\n",
    "\n",
    "# Tomography functions\n",
    "from qiskit_experiments.framework import ParallelExperiment\n",
    "from qiskit_experiments.library import StateTomography\n",
    "\n",
    "# Seeds\n",
    "from numpy.random import Generator, PCG64\n",
    "rng = Generator(PCG64(1897))\n",
    "MY_SEEDS = rng.integers(0,high=10**8,size=100)\n",
    "\n",
    "import KSEMhd\n",
    "from importlib import reload  \n",
    "KSEMhd = reload(KSEMhd)\n",
    "from KSEMhd import KSQS, EMLearn\n",
    "\n",
    "import matplotlib.pyplot as plt\n",
    "from matplotlib.pyplot import figure\n",
    "\n",
    "# plt.rcParams['text.usetex'] = True\n",
    "fig_size = (8,6)\n",
    "fig_dpi = 150\n",
    "IBMQ.load_account()"
   ]
  },
  {
   "cell_type": "code",
   "execution_count": 2,
   "metadata": {},
   "outputs": [],
   "source": [
    "# provider.backends()"
   ]
  },
  {
   "cell_type": "code",
   "execution_count": 3,
   "metadata": {},
   "outputs": [
    {
     "name": "stdout",
     "output_type": "stream",
     "text": [
      "2022-11-17 08:22:55-05:00\n"
     ]
    },
    {
     "name": "stderr",
     "output_type": "stream",
     "text": [
      "/home/firepanda415/anaconda3/envs/quantum/lib/python3.9/site-packages/qiskit_aer/noise/device/models.py:365: UserWarning: Device model returned an invalid T_2 relaxation time greater than the theoretical maximum value 2 * T_1 (248486.40446034473 > 2 * 104611.66931085872). Truncating to maximum value.\n",
      "  warn(\"Device model returned an invalid T_2 relaxation time greater than\"\n",
      "/home/firepanda415/anaconda3/envs/quantum/lib/python3.9/site-packages/qiskit_aer/noise/device/models.py:365: UserWarning: Device model returned an invalid T_2 relaxation time greater than the theoretical maximum value 2 * T_1 (232360.31808010972 > 2 * 97355.2679531514). Truncating to maximum value.\n",
      "  warn(\"Device model returned an invalid T_2 relaxation time greater than\"\n",
      "/home/firepanda415/anaconda3/envs/quantum/lib/python3.9/site-packages/qiskit_aer/noise/device/models.py:365: UserWarning: Device model returned an invalid T_2 relaxation time greater than the theoretical maximum value 2 * T_1 (207782.54392148953 > 2 * 90206.20310615667). Truncating to maximum value.\n",
      "  warn(\"Device model returned an invalid T_2 relaxation time greater than\"\n",
      "/home/firepanda415/anaconda3/envs/quantum/lib/python3.9/site-packages/qiskit_aer/noise/device/models.py:365: UserWarning: Device model returned an invalid T_2 relaxation time greater than the theoretical maximum value 2 * T_1 (160336.2964006462 > 2 * 79166.67863253632). Truncating to maximum value.\n",
      "  warn(\"Device model returned an invalid T_2 relaxation time greater than\"\n",
      "/home/firepanda415/anaconda3/envs/quantum/lib/python3.9/site-packages/qiskit_aer/noise/device/models.py:365: UserWarning: Device model returned an invalid T_2 relaxation time greater than the theoretical maximum value 2 * T_1 (248486.40446034473 > 2 * 104611.66931085872). Truncating to maximum value.\n",
      "  warn(\"Device model returned an invalid T_2 relaxation time greater than\"\n",
      "/home/firepanda415/anaconda3/envs/quantum/lib/python3.9/site-packages/qiskit_aer/noise/device/models.py:365: UserWarning: Device model returned an invalid T_2 relaxation time greater than the theoretical maximum value 2 * T_1 (232360.31808010972 > 2 * 97355.2679531514). Truncating to maximum value.\n",
      "  warn(\"Device model returned an invalid T_2 relaxation time greater than\"\n",
      "/home/firepanda415/anaconda3/envs/quantum/lib/python3.9/site-packages/qiskit_aer/noise/device/models.py:365: UserWarning: Device model returned an invalid T_2 relaxation time greater than the theoretical maximum value 2 * T_1 (207782.54392148953 > 2 * 90206.20310615667). Truncating to maximum value.\n",
      "  warn(\"Device model returned an invalid T_2 relaxation time greater than\"\n",
      "/home/firepanda415/anaconda3/envs/quantum/lib/python3.9/site-packages/qiskit_aer/noise/device/models.py:365: UserWarning: Device model returned an invalid T_2 relaxation time greater than the theoretical maximum value 2 * T_1 (160336.2964006462 > 2 * 79166.67863253632). Truncating to maximum value.\n",
      "  warn(\"Device model returned an invalid T_2 relaxation time greater than\"\n",
      "/home/firepanda415/anaconda3/envs/quantum/lib/python3.9/site-packages/qiskit_aer/noise/device/models.py:365: UserWarning: Device model returned an invalid T_2 relaxation time greater than the theoretical maximum value 2 * T_1 (248486.40446034473 > 2 * 104611.66931085872). Truncating to maximum value.\n",
      "  warn(\"Device model returned an invalid T_2 relaxation time greater than\"\n",
      "/home/firepanda415/anaconda3/envs/quantum/lib/python3.9/site-packages/qiskit_aer/noise/device/models.py:365: UserWarning: Device model returned an invalid T_2 relaxation time greater than the theoretical maximum value 2 * T_1 (232360.31808010972 > 2 * 97355.2679531514). Truncating to maximum value.\n",
      "  warn(\"Device model returned an invalid T_2 relaxation time greater than\"\n",
      "/home/firepanda415/anaconda3/envs/quantum/lib/python3.9/site-packages/qiskit_aer/noise/device/models.py:365: UserWarning: Device model returned an invalid T_2 relaxation time greater than the theoretical maximum value 2 * T_1 (207782.54392148953 > 2 * 90206.20310615667). Truncating to maximum value.\n",
      "  warn(\"Device model returned an invalid T_2 relaxation time greater than\"\n",
      "/home/firepanda415/anaconda3/envs/quantum/lib/python3.9/site-packages/qiskit_aer/noise/device/models.py:365: UserWarning: Device model returned an invalid T_2 relaxation time greater than the theoretical maximum value 2 * T_1 (160336.2964006462 > 2 * 79166.67863253632). Truncating to maximum value.\n",
      "  warn(\"Device model returned an invalid T_2 relaxation time greater than\"\n",
      "/home/firepanda415/anaconda3/envs/quantum/lib/python3.9/site-packages/qiskit_aer/noise/device/models.py:365: UserWarning: Device model returned an invalid T_2 relaxation time greater than the theoretical maximum value 2 * T_1 (232360.31808010972 > 2 * 97355.2679531514). Truncating to maximum value.\n",
      "  warn(\"Device model returned an invalid T_2 relaxation time greater than\"\n",
      "/home/firepanda415/anaconda3/envs/quantum/lib/python3.9/site-packages/qiskit_aer/noise/device/models.py:365: UserWarning: Device model returned an invalid T_2 relaxation time greater than the theoretical maximum value 2 * T_1 (232360.31808010972 > 2 * 97355.2679531514). Truncating to maximum value.\n",
      "  warn(\"Device model returned an invalid T_2 relaxation time greater than\"\n",
      "/home/firepanda415/anaconda3/envs/quantum/lib/python3.9/site-packages/qiskit_aer/noise/device/models.py:365: UserWarning: Device model returned an invalid T_2 relaxation time greater than the theoretical maximum value 2 * T_1 (248486.40446034473 > 2 * 104611.66931085872). Truncating to maximum value.\n",
      "  warn(\"Device model returned an invalid T_2 relaxation time greater than\"\n",
      "/home/firepanda415/anaconda3/envs/quantum/lib/python3.9/site-packages/qiskit_aer/noise/device/models.py:365: UserWarning: Device model returned an invalid T_2 relaxation time greater than the theoretical maximum value 2 * T_1 (248486.40446034473 > 2 * 104611.66931085872). Truncating to maximum value.\n",
      "  warn(\"Device model returned an invalid T_2 relaxation time greater than\"\n",
      "/home/firepanda415/anaconda3/envs/quantum/lib/python3.9/site-packages/qiskit_aer/noise/device/models.py:365: UserWarning: Device model returned an invalid T_2 relaxation time greater than the theoretical maximum value 2 * T_1 (207782.54392148953 > 2 * 90206.20310615667). Truncating to maximum value.\n",
      "  warn(\"Device model returned an invalid T_2 relaxation time greater than\"\n",
      "/home/firepanda415/anaconda3/envs/quantum/lib/python3.9/site-packages/qiskit_aer/noise/device/models.py:365: UserWarning: Device model returned an invalid T_2 relaxation time greater than the theoretical maximum value 2 * T_1 (207782.54392148953 > 2 * 90206.20310615667). Truncating to maximum value.\n",
      "  warn(\"Device model returned an invalid T_2 relaxation time greater than\"\n",
      "/home/firepanda415/anaconda3/envs/quantum/lib/python3.9/site-packages/qiskit_aer/noise/device/models.py:365: UserWarning: Device model returned an invalid T_2 relaxation time greater than the theoretical maximum value 2 * T_1 (160336.2964006462 > 2 * 79166.67863253632). Truncating to maximum value.\n",
      "  warn(\"Device model returned an invalid T_2 relaxation time greater than\"\n",
      "/home/firepanda415/anaconda3/envs/quantum/lib/python3.9/site-packages/qiskit_aer/noise/device/models.py:365: UserWarning: Device model returned an invalid T_2 relaxation time greater than the theoretical maximum value 2 * T_1 (160336.2964006462 > 2 * 79166.67863253632). Truncating to maximum value.\n",
      "  warn(\"Device model returned an invalid T_2 relaxation time greater than\"\n",
      "/home/firepanda415/anaconda3/envs/quantum/lib/python3.9/site-packages/qiskit_aer/noise/device/models.py:365: UserWarning: Device model returned an invalid T_2 relaxation time greater than the theoretical maximum value 2 * T_1 (160336.2964006462 > 2 * 79166.67863253632). Truncating to maximum value.\n",
      "  warn(\"Device model returned an invalid T_2 relaxation time greater than\"\n",
      "/home/firepanda415/anaconda3/envs/quantum/lib/python3.9/site-packages/qiskit_aer/noise/device/models.py:365: UserWarning: Device model returned an invalid T_2 relaxation time greater than the theoretical maximum value 2 * T_1 (160336.2964006462 > 2 * 79166.67863253632). Truncating to maximum value.\n",
      "  warn(\"Device model returned an invalid T_2 relaxation time greater than\"\n",
      "/home/firepanda415/anaconda3/envs/quantum/lib/python3.9/site-packages/qiskit_aer/noise/device/models.py:365: UserWarning: Device model returned an invalid T_2 relaxation time greater than the theoretical maximum value 2 * T_1 (248486.40446034473 > 2 * 104611.66931085872). Truncating to maximum value.\n",
      "  warn(\"Device model returned an invalid T_2 relaxation time greater than\"\n",
      "/home/firepanda415/anaconda3/envs/quantum/lib/python3.9/site-packages/qiskit_aer/noise/device/models.py:365: UserWarning: Device model returned an invalid T_2 relaxation time greater than the theoretical maximum value 2 * T_1 (248486.40446034473 > 2 * 104611.66931085872). Truncating to maximum value.\n",
      "  warn(\"Device model returned an invalid T_2 relaxation time greater than\"\n",
      "/home/firepanda415/anaconda3/envs/quantum/lib/python3.9/site-packages/qiskit_aer/noise/device/models.py:365: UserWarning: Device model returned an invalid T_2 relaxation time greater than the theoretical maximum value 2 * T_1 (232360.31808010972 > 2 * 97355.2679531514). Truncating to maximum value.\n",
      "  warn(\"Device model returned an invalid T_2 relaxation time greater than\"\n",
      "/home/firepanda415/anaconda3/envs/quantum/lib/python3.9/site-packages/qiskit_aer/noise/device/models.py:365: UserWarning: Device model returned an invalid T_2 relaxation time greater than the theoretical maximum value 2 * T_1 (232360.31808010972 > 2 * 97355.2679531514). Truncating to maximum value.\n",
      "  warn(\"Device model returned an invalid T_2 relaxation time greater than\"\n",
      "/home/firepanda415/anaconda3/envs/quantum/lib/python3.9/site-packages/qiskit_aer/noise/device/models.py:365: UserWarning: Device model returned an invalid T_2 relaxation time greater than the theoretical maximum value 2 * T_1 (248486.40446034473 > 2 * 104611.66931085872). Truncating to maximum value.\n",
      "  warn(\"Device model returned an invalid T_2 relaxation time greater than\"\n",
      "/home/firepanda415/anaconda3/envs/quantum/lib/python3.9/site-packages/qiskit_aer/noise/device/models.py:365: UserWarning: Device model returned an invalid T_2 relaxation time greater than the theoretical maximum value 2 * T_1 (207782.54392148953 > 2 * 90206.20310615667). Truncating to maximum value.\n",
      "  warn(\"Device model returned an invalid T_2 relaxation time greater than\"\n",
      "/home/firepanda415/anaconda3/envs/quantum/lib/python3.9/site-packages/qiskit_aer/noise/device/models.py:365: UserWarning: Device model returned an invalid T_2 relaxation time greater than the theoretical maximum value 2 * T_1 (207782.54392148953 > 2 * 90206.20310615667). Truncating to maximum value.\n",
      "  warn(\"Device model returned an invalid T_2 relaxation time greater than\"\n",
      "/home/firepanda415/anaconda3/envs/quantum/lib/python3.9/site-packages/qiskit_aer/noise/device/models.py:365: UserWarning: Device model returned an invalid T_2 relaxation time greater than the theoretical maximum value 2 * T_1 (248486.40446034473 > 2 * 104611.66931085872). Truncating to maximum value.\n",
      "  warn(\"Device model returned an invalid T_2 relaxation time greater than\"\n"
     ]
    },
    {
     "name": "stderr",
     "output_type": "stream",
     "text": [
      "Device reported a gate error parameter greater than maximum allowed value (1.000000 > 0.800000). Truncating to maximum value.\n",
      "Device model returned a depolarizing error parameter greater than maximum allowed value (1.067074 > 1.066667). Truncating to maximum value.\n",
      "Device reported a gate error parameter greater than maximum allowed value (1.000000 > 0.800000). Truncating to maximum value.\n",
      "Device model returned a depolarizing error parameter greater than maximum allowed value (1.067187 > 1.066667). Truncating to maximum value.\n",
      "/home/firepanda415/anaconda3/envs/quantum/lib/python3.9/site-packages/qiskit_aer/noise/device/models.py:365: UserWarning: Device model returned an invalid T_2 relaxation time greater than the theoretical maximum value 2 * T_1 (160336.2964006462 > 2 * 79166.67863253632). Truncating to maximum value.\n",
      "  warn(\"Device model returned an invalid T_2 relaxation time greater than\"\n",
      "Device reported a gate error parameter greater than maximum allowed value (1.000000 > 0.800000). Truncating to maximum value.\n",
      "Device model returned a depolarizing error parameter greater than maximum allowed value (1.067064 > 1.066667). Truncating to maximum value.\n",
      "/home/firepanda415/anaconda3/envs/quantum/lib/python3.9/site-packages/qiskit_aer/noise/device/models.py:365: UserWarning: Device model returned an invalid T_2 relaxation time greater than the theoretical maximum value 2 * T_1 (160336.2964006462 > 2 * 79166.67863253632). Truncating to maximum value.\n",
      "  warn(\"Device model returned an invalid T_2 relaxation time greater than\"\n",
      "Device reported a gate error parameter greater than maximum allowed value (1.000000 > 0.800000). Truncating to maximum value.\n",
      "Device model returned a depolarizing error parameter greater than maximum allowed value (1.067170 > 1.066667). Truncating to maximum value.\n",
      "Device reported a gate error parameter greater than maximum allowed value (1.000000 > 0.800000). Truncating to maximum value.\n",
      "Device model returned a depolarizing error parameter greater than maximum allowed value (1.067001 > 1.066667). Truncating to maximum value.\n",
      "/home/firepanda415/anaconda3/envs/quantum/lib/python3.9/site-packages/qiskit_aer/noise/device/models.py:365: UserWarning: Device model returned an invalid T_2 relaxation time greater than the theoretical maximum value 2 * T_1 (232360.31808010972 > 2 * 97355.2679531514). Truncating to maximum value.\n",
      "  warn(\"Device model returned an invalid T_2 relaxation time greater than\"\n",
      "Device reported a gate error parameter greater than maximum allowed value (1.000000 > 0.800000). Truncating to maximum value.\n",
      "Device model returned a depolarizing error parameter greater than maximum allowed value (1.067066 > 1.066667). Truncating to maximum value.\n",
      "Device reported a gate error parameter greater than maximum allowed value (1.000000 > 0.800000). Truncating to maximum value.\n",
      "Device model returned a depolarizing error parameter greater than maximum allowed value (1.067031 > 1.066667). Truncating to maximum value.\n",
      "/home/firepanda415/anaconda3/envs/quantum/lib/python3.9/site-packages/qiskit_aer/noise/device/models.py:365: UserWarning: Device model returned an invalid T_2 relaxation time greater than the theoretical maximum value 2 * T_1 (232360.31808010972 > 2 * 97355.2679531514). Truncating to maximum value.\n",
      "  warn(\"Device model returned an invalid T_2 relaxation time greater than\"\n",
      "Device reported a gate error parameter greater than maximum allowed value (1.000000 > 0.800000). Truncating to maximum value.\n",
      "Device model returned a depolarizing error parameter greater than maximum allowed value (1.067089 > 1.066667). Truncating to maximum value.\n",
      "/home/firepanda415/anaconda3/envs/quantum/lib/python3.9/site-packages/qiskit_aer/noise/device/models.py:365: UserWarning: Device model returned an invalid T_2 relaxation time greater than the theoretical maximum value 2 * T_1 (248486.40446034473 > 2 * 104611.66931085872). Truncating to maximum value.\n",
      "  warn(\"Device model returned an invalid T_2 relaxation time greater than\"\n",
      "/home/firepanda415/anaconda3/envs/quantum/lib/python3.9/site-packages/qiskit_aer/noise/device/models.py:365: UserWarning: Device model returned an invalid T_2 relaxation time greater than the theoretical maximum value 2 * T_1 (232360.31808010972 > 2 * 97355.2679531514). Truncating to maximum value.\n",
      "  warn(\"Device model returned an invalid T_2 relaxation time greater than\"\n",
      "/home/firepanda415/anaconda3/envs/quantum/lib/python3.9/site-packages/qiskit_aer/noise/device/models.py:365: UserWarning: Device model returned an invalid T_2 relaxation time greater than the theoretical maximum value 2 * T_1 (207782.54392148953 > 2 * 90206.20310615667). Truncating to maximum value.\n",
      "  warn(\"Device model returned an invalid T_2 relaxation time greater than\"\n",
      "/home/firepanda415/anaconda3/envs/quantum/lib/python3.9/site-packages/qiskit_aer/noise/device/models.py:365: UserWarning: Device model returned an invalid T_2 relaxation time greater than the theoretical maximum value 2 * T_1 (160336.2964006462 > 2 * 79166.67863253632). Truncating to maximum value.\n",
      "  warn(\"Device model returned an invalid T_2 relaxation time greater than\"\n",
      "/home/firepanda415/anaconda3/envs/quantum/lib/python3.9/site-packages/qiskit_aer/noise/device/models.py:365: UserWarning: Device model returned an invalid T_2 relaxation time greater than the theoretical maximum value 2 * T_1 (0.00024848640446034474 > 2 * 0.00010461166931085872). Truncating to maximum value.\n",
      "  warn(\"Device model returned an invalid T_2 relaxation time greater than\"\n",
      "/home/firepanda415/anaconda3/envs/quantum/lib/python3.9/site-packages/qiskit_aer/noise/device/models.py:365: UserWarning: Device model returned an invalid T_2 relaxation time greater than the theoretical maximum value 2 * T_1 (0.00023236031808010973 > 2 * 9.73552679531514e-05). Truncating to maximum value.\n",
      "  warn(\"Device model returned an invalid T_2 relaxation time greater than\"\n",
      "/home/firepanda415/anaconda3/envs/quantum/lib/python3.9/site-packages/qiskit_aer/noise/device/models.py:365: UserWarning: Device model returned an invalid T_2 relaxation time greater than the theoretical maximum value 2 * T_1 (0.00020778254392148952 > 2 * 9.020620310615666e-05). Truncating to maximum value.\n",
      "  warn(\"Device model returned an invalid T_2 relaxation time greater than\"\n",
      "/home/firepanda415/anaconda3/envs/quantum/lib/python3.9/site-packages/qiskit_aer/noise/device/models.py:365: UserWarning: Device model returned an invalid T_2 relaxation time greater than the theoretical maximum value 2 * T_1 (0.0001603362964006462 > 2 * 7.916667863253632e-05). Truncating to maximum value.\n",
      "  warn(\"Device model returned an invalid T_2 relaxation time greater than\"\n"
     ]
    }
   ],
   "source": [
    "provider = IBMQ.get_provider(hub=\"ibm-q-pnnl\", group=\"internal\", project=\"default\")\n",
    "# print(provider.backends())\n",
    "name = \"ibm_hanoi\"\n",
    "backend = provider.get_backend(name)\n",
    "print(backend.properties().to_dict()[ 'last_update_date'])\n",
    "backend_noise_model = NoiseModel.from_backend(backend)\n",
    "# backend =  AerSimulator.from_backend(backend)\n",
    "# # Remove readout errros\n",
    "# p0given1 = 0\n",
    "# p1given0 = 1\n",
    "# rde = ReadoutError([[1 - p1given0, p1given0], [p0given1, 1 - p0given1]])\n",
    "# for i in range(backend.configuration().num_qubits):\n",
    "#     backend_noise_model._local_readout_errors[(i,)] = rde\n",
    "den_simu = AerSimulator(method='density_matrix')\n",
    "den_simu_noise = AerSimulator(method='density_matrix',noise_model=backend_noise_model)\n",
    "\n",
    "n_qubits = 3\n",
    "reps = 8\n",
    "max_num_itrs = 10"
   ]
  },
  {
   "cell_type": "code",
   "execution_count": 4,
   "metadata": {},
   "outputs": [
    {
     "data": {
      "text/plain": [
       "{'type': 'roerror',\n",
       " 'operations': ['measure'],\n",
       " 'probabilities': [[0.9922, 0.0078], [0.010199999999999987, 0.9898]],\n",
       " 'gate_qubits': [(26,)]}"
      ]
     },
     "execution_count": 4,
     "metadata": {},
     "output_type": "execute_result"
    }
   ],
   "source": [
    "backend_noise_model.to_dict()['errors'][-1]"
   ]
  },
  {
   "cell_type": "code",
   "execution_count": 5,
   "metadata": {},
   "outputs": [],
   "source": [
    "from qiskit.visualization import plot_error_map, plot_gate_map\n",
    "%matplotlib inline\n",
    "\n",
    "# plot_error_map(backend, figsize=(18, 12))"
   ]
  },
  {
   "cell_type": "code",
   "execution_count": 6,
   "metadata": {},
   "outputs": [],
   "source": [
    "from qiskit import Aer\n",
    "def single_iter(n_qubits=3):\n",
    "    iterate = QuantumCircuit(n_qubits)\n",
    "    iterate.ry(np.pi,0)\n",
    "    iterate.ry(np.pi,1)\n",
    "    iterate.cx(0,1)\n",
    "    iterate.ry(np.pi,0)\n",
    "    iterate.ry(np.pi,1)\n",
    "    iterate.barrier()\n",
    "    iterate.ry(np.pi,1)\n",
    "    iterate.ry(np.pi,2)\n",
    "    iterate.cx(1,2)\n",
    "    iterate.ry(np.pi,1)\n",
    "    iterate.ry(np.pi,2)\n",
    "    iterate.barrier()\n",
    "    return iterate\n",
    "# def single_iter(n_qubits=2):\n",
    "#     iterate = QuantumCircuit(n_qubits)\n",
    "#     iterate.h(0)\n",
    "#     iterate.cx(0,1)\n",
    "#     iterate.cx(1,2)\n",
    "#     iterate.barrier()\n",
    "#     iterate.cx(1,2)\n",
    "#     iterate.cx(0,1)\n",
    "#     iterate.h(0)\n",
    "#     iterate.barrier()\n",
    "#     return iterate\n",
    "\n",
    "def iterative_circ(num_itrs, n_qubits=3, save_den = True, meas_basis='z'):   \n",
    "    total_circ = QuantumCircuit(n_qubits)\n",
    "    for i in range(num_itrs):\n",
    "        total_circ.compose(single_iter(n_qubits), inplace=True)\n",
    "    if meas_basis == 'x':\n",
    "        for i in range(n_qubits):\n",
    "            total_circ.h(i)\n",
    "    if meas_basis == 'y':\n",
    "        for i in range(n_qubits):\n",
    "            total_circ.sdg(i)\n",
    "            total_circ.h(i)\n",
    "    if save_den:\n",
    "        total_circ.save_density_matrix(pershot=False)\n",
    "    total_circ.measure_all()\n",
    "    return total_circ"
   ]
  },
  {
   "cell_type": "code",
   "execution_count": 7,
   "metadata": {},
   "outputs": [
    {
     "data": {
      "image/png": "[encoded data removed]",
      "text/plain": [
       "<Figure size 568.197x204.68 with 1 Axes>"
      ]
     },
     "execution_count": 7,
     "metadata": {},
     "output_type": "execute_result"
    }
   ],
   "source": [
    "single_iter(n_qubits).draw(\"mpl\")"
   ]
  },
  {
   "cell_type": "code",
   "execution_count": 8,
   "metadata": {},
   "outputs": [
    {
     "name": "stdout",
     "output_type": "stream",
     "text": [
      "10\n"
     ]
    },
    {
     "data": {
      "image/png": "[encoded data removed]",
      "text/plain": [
       "<Figure size 808.997x204.68 with 1 Axes>"
      ]
     },
     "execution_count": 8,
     "metadata": {},
     "output_type": "execute_result"
    }
   ],
   "source": [
    "temp_circ = transpile(single_iter(n_qubits), backend=den_simu_noise)\n",
    "print(temp_circ.depth())\n",
    "temp_circ.draw(\"mpl\")"
   ]
  },
  {
   "cell_type": "code",
   "execution_count": 9,
   "metadata": {},
   "outputs": [
    {
     "name": "stdout",
     "output_type": "stream",
     "text": [
      "Depth: 101\n",
      "T1: 0.0001893559093040918 sec\n",
      "T2: 0.000305469454459999 sec\n",
      "Circuit Operation Time: 8e-06 sec\n"
     ]
    }
   ],
   "source": [
    "temp_circ2 = iterative_circ(max_num_itrs, n_qubits, save_den = False)\n",
    "temp_circ3 = transpile(temp_circ2, backend=backend)\n",
    "print(\"Depth:\", temp_circ3.depth())\n",
    "print(\"T1:\", backend.properties().qubit_property(0)['T1'][0], \"sec\")\n",
    "print(\"T2:\", backend.properties().qubit_property(0)['T2'][0], \"sec\")\n",
    "dt = backend.configuration().dt # sec\n",
    "temp_sch = schedule(temp_circ3, backend)\n",
    "print(\"Circuit Operation Time:\",(temp_sch.stop_time - temp_sch.start_time)*dt, \"sec\")"
   ]
  },
  {
   "cell_type": "markdown",
   "metadata": {},
   "source": [
    "## Qiskit Backend-noise Simulation\n",
    "\n",
    "Obtain measurement data and actual quantum states (from a backend-noise simulator)\n",
    "\n",
    "Note that the outputs does not have measurement noise because the probabilities are obtained from density matrix object, instead of measurement operator API."
   ]
  },
  {
   "cell_type": "code",
   "execution_count": 10,
   "metadata": {},
   "outputs": [],
   "source": [
    "unitary_simulator = Aer.get_backend('aer_simulator')\n",
    "unitary_circ = transpile(single_iter(n_qubits), backend=den_simu)\n",
    "unitary_circ.save_unitary()\n",
    "unitary_result = unitary_simulator.run(unitary_circ).result()\n",
    "unitary = unitary_result.get_unitary(unitary_circ)\n",
    "\n",
    "unitaries = []\n",
    "for i in range(1, max_num_itrs+1):\n",
    "    gate = unitary.data\n",
    "    F = np.kron(gate.conjugate(), gate)\n",
    "    unitaries.append(F)"
   ]
  },
  {
   "cell_type": "code",
   "execution_count": 11,
   "metadata": {},
   "outputs": [
    {
     "name": "stdout",
     "output_type": "stream",
     "text": [
      "Purity\n",
      "0.9818025813361291\n",
      "0.9620873697829619\n",
      "0.9488592065820719\n",
      "0.925777696699207\n",
      "0.9091338671055245\n",
      "0.8910839536629058\n",
      "0.879031842270624\n",
      "0.857856566202623\n",
      "0.8426325168454052\n",
      "0.8261055208560287\n",
      "\n",
      "Prob Vec\n",
      "[1.31072998e-02 7.62939453e-05 9.65728760e-01 8.02612305e-03\n",
      " 1.67846680e-03 1.19018555e-03 1.00708008e-02 1.22070312e-04]\n",
      "[1.38092041e-02 1.03759766e-03 4.24194336e-03 4.13513184e-03\n",
      " 9.52270508e-01 6.77490234e-03 1.75323486e-02 1.98364258e-04]\n",
      "[0.00544739 0.00404358 0.01502991 0.00411987 0.01617432 0.00135803\n",
      " 0.94586182 0.00796509]\n",
      "[0.9357605  0.00880432 0.02069092 0.0045166  0.01391602 0.00416565\n",
      " 0.00793457 0.00421143]\n",
      "[0.01979065 0.00421143 0.93034363 0.01156616 0.00880432 0.00527954\n",
      " 0.01585388 0.00415039]\n",
      "[0.01980591 0.00613403 0.01211548 0.00843811 0.91305542 0.01072693\n",
      " 0.02497864 0.00474548]\n",
      "[0.01254272 0.00791931 0.02172852 0.00837708 0.02388    0.0050354\n",
      " 0.90940857 0.0111084 ]\n",
      "[0.90156555 0.01280212 0.0269165  0.00827026 0.01976013 0.00761414\n",
      " 0.01449585 0.00857544]\n",
      "[0.02671814 0.00802612 0.89598083 0.0149231  0.01565552 0.00878906\n",
      " 0.0214386  0.00846863]\n",
      "[0.02497864 0.00961304 0.01905823 0.01167297 0.88145447 0.01535034\n",
      " 0.02949524 0.00837708]\n"
     ]
    }
   ],
   "source": [
    "total_simu_dens = [] # quantum state in density-matrix form\n",
    "total_simu_probs = [] # measurement result\n",
    "total_simu_purs = [] # purity\n",
    "for i in range(1, max_num_itrs+1):\n",
    "    my_seed = MY_SEEDS[i]\n",
    "    trans_circ = transpile(iterative_circ(i, n_qubits, save_den = True), seed_transpiler=my_seed, backend=den_simu,optimization_level=0)\n",
    "    iter_res = den_simu_noise.run(trans_circ,shots=8192*reps,seed_simulator=my_seed).result()\n",
    "    iter_den = iter_res.data()['density_matrix']\n",
    "    total_simu_dens.append(iter_den)\n",
    "    \n",
    "    trans_circ = transpile(iterative_circ(i, n_qubits, save_den = False), seed_transpiler=my_seed, backend=den_simu,optimization_level=0)\n",
    "    iter_res = den_simu_noise.run(trans_circ,shots=8192*reps,seed_simulator=my_seed).result()\n",
    "    total_simu_probs.append(KSEMhd.dictToVec(iter_res.get_counts()))\n",
    "    total_simu_purs.append(np.real(iter_den.purity()))\n",
    "    \n",
    "print(\"Purity\")\n",
    "for pu in total_simu_purs:\n",
    "    print(pu)\n",
    "    \n",
    "print(\"\\nProb Vec\")\n",
    "for p in total_simu_probs:\n",
    "    print(p)"
   ]
  },
  {
   "cell_type": "code",
   "execution_count": 12,
   "metadata": {},
   "outputs": [],
   "source": [
    "def meas_mat(num_qubits):# H, measurement matrix for vectorized density matrix\n",
    "    nrows = 2**num_qubits\n",
    "    ncols = nrows**2\n",
    "    mat = csc_matrix((nrows, ncols), dtype=complex)\n",
    "    for k in range(nrows):\n",
    "        mat[k, nrows*k+k] = 1 # take out the diagonal terms in vectorized density matrix\n",
    "    return mat"
   ]
  },
  {
   "cell_type": "markdown",
   "metadata": {},
   "source": [
    "## State Tomography"
   ]
  },
  {
   "cell_type": "markdown",
   "metadata": {},
   "source": [
    "### Use a Noise Model without Measurement Error for Tomography"
   ]
  },
  {
   "cell_type": "code",
   "execution_count": 19,
   "metadata": {},
   "outputs": [
    {
     "name": "stderr",
     "output_type": "stream",
     "text": [
      "/home/firepanda415/anaconda3/envs/quantum/lib/python3.9/site-packages/qiskit/providers/aer/noise/device/models.py:264: UserWarning: Device model returned an invalid T_2 relaxation time greater than the theoretical maximum value 2 * T_1 (338785.39973037876 > 2 * 162953.29014502844). Truncating to maximum value.\n",
      "  warn(\"Device model returned an invalid T_2 relaxation time greater than\"\n",
      "/home/firepanda415/anaconda3/envs/quantum/lib/python3.9/site-packages/qiskit/providers/aer/noise/device/models.py:264: UserWarning: Device model returned an invalid T_2 relaxation time greater than the theoretical maximum value 2 * T_1 (338785.39973037876 > 2 * 162953.29014502844). Truncating to maximum value.\n",
      "  warn(\"Device model returned an invalid T_2 relaxation time greater than\"\n",
      "/home/firepanda415/anaconda3/envs/quantum/lib/python3.9/site-packages/qiskit/providers/aer/noise/device/models.py:264: UserWarning: Device model returned an invalid T_2 relaxation time greater than the theoretical maximum value 2 * T_1 (338785.39973037876 > 2 * 162953.29014502844). Truncating to maximum value.\n",
      "  warn(\"Device model returned an invalid T_2 relaxation time greater than\"\n",
      "/home/firepanda415/anaconda3/envs/quantum/lib/python3.9/site-packages/qiskit/providers/aer/noise/device/models.py:264: UserWarning: Device model returned an invalid T_2 relaxation time greater than the theoretical maximum value 2 * T_1 (338785.39973037876 > 2 * 162953.29014502844). Truncating to maximum value.\n",
      "  warn(\"Device model returned an invalid T_2 relaxation time greater than\"\n",
      "/home/firepanda415/anaconda3/envs/quantum/lib/python3.9/site-packages/qiskit/providers/aer/noise/device/models.py:264: UserWarning: Device model returned an invalid T_2 relaxation time greater than the theoretical maximum value 2 * T_1 (338785.39973037876 > 2 * 162953.29014502844). Truncating to maximum value.\n",
      "  warn(\"Device model returned an invalid T_2 relaxation time greater than\"\n",
      "/home/firepanda415/anaconda3/envs/quantum/lib/python3.9/site-packages/qiskit/providers/aer/noise/device/models.py:264: UserWarning: Device model returned an invalid T_2 relaxation time greater than the theoretical maximum value 2 * T_1 (338785.39973037876 > 2 * 162953.29014502844). Truncating to maximum value.\n",
      "  warn(\"Device model returned an invalid T_2 relaxation time greater than\"\n",
      "/home/firepanda415/anaconda3/envs/quantum/lib/python3.9/site-packages/qiskit/providers/aer/noise/device/models.py:264: UserWarning: Device model returned an invalid T_2 relaxation time greater than the theoretical maximum value 2 * T_1 (338785.39973037876 > 2 * 162953.29014502844). Truncating to maximum value.\n",
      "  warn(\"Device model returned an invalid T_2 relaxation time greater than\"\n",
      "Device reported a gate error parameter greater than maximum allowed value (1.000000 > 0.800000). Truncating to maximum value.\n",
      "Device model returned a depolarizing error parameter greater than maximum allowed value (1.066935 > 1.066667). Truncating to maximum value.\n",
      "Device reported a gate error parameter greater than maximum allowed value (1.000000 > 0.800000). Truncating to maximum value.\n",
      "Device model returned a depolarizing error parameter greater than maximum allowed value (1.066998 > 1.066667). Truncating to maximum value.\n",
      "Device reported a gate error parameter greater than maximum allowed value (1.000000 > 0.800000). Truncating to maximum value.\n",
      "Device model returned a depolarizing error parameter greater than maximum allowed value (1.066953 > 1.066667). Truncating to maximum value.\n",
      "Device reported a gate error parameter greater than maximum allowed value (1.000000 > 0.800000). Truncating to maximum value.\n",
      "Device model returned a depolarizing error parameter greater than maximum allowed value (1.067011 > 1.066667). Truncating to maximum value.\n",
      "/home/firepanda415/anaconda3/envs/quantum/lib/python3.9/site-packages/qiskit/providers/aer/noise/device/models.py:264: UserWarning: Device model returned an invalid T_2 relaxation time greater than the theoretical maximum value 2 * T_1 (338785.39973037876 > 2 * 162953.29014502844). Truncating to maximum value.\n",
      "  warn(\"Device model returned an invalid T_2 relaxation time greater than\"\n",
      "/home/firepanda415/anaconda3/envs/quantum/lib/python3.9/site-packages/qiskit/providers/aer/noise/device/models.py:264: UserWarning: Device model returned an invalid T_2 relaxation time greater than the theoretical maximum value 2 * T_1 (0.00033878539973037876 > 2 * 0.00016295329014502844). Truncating to maximum value.\n",
      "  warn(\"Device model returned an invalid T_2 relaxation time greater than\"\n"
     ]
    }
   ],
   "source": [
    "backend_noise_model_for_tomo = NoiseModel.from_backend(backend)\n",
    "# Remove readout errros\n",
    "p0given1 = 0\n",
    "p1given0 = 0\n",
    "rde = ReadoutError([[1 - p1given0, p1given0], [p0given1, 1 - p0given1]])\n",
    "for i in range(backend.configuration().num_qubits):\n",
    "    backend_noise_model_for_tomo._local_readout_errors[(i,)] = rde\n",
    "den_simu_for_tomo = AerSimulator(method='density_matrix',noise_model=backend_noise_model_for_tomo)"
   ]
  },
  {
   "cell_type": "code",
   "execution_count": 20,
   "metadata": {},
   "outputs": [
    {
     "name": "stdout",
     "output_type": "stream",
     "text": [
      "Tomography Purity\n",
      "0.9242082398645697\n",
      "0.8576332534419603\n",
      "0.8071964525642982\n",
      "0.7665983996850984\n",
      "0.734400404289669\n",
      "0.6827976202210091\n",
      "0.6368548075358075\n",
      "0.6063451961275694\n",
      "0.5654601344355826\n",
      "0.545939928219643\n",
      "\n",
      "Tomography Prob Vec\n",
      "[0.00776281 0.00252323 0.95961313 0.0085591  0.00757314 0.00371643\n",
      " 0.00609238 0.00415979]\n",
      "[0.0094086  0.00500061 0.01815451 0.0082471  0.92474976 0.01189813\n",
      " 0.01677935 0.00576194]\n",
      "[0.02154253 0.00962238 0.01231006 0.01071053 0.0240913  0.00846517\n",
      " 0.89616421 0.01709381]\n",
      "[0.87251576 0.01613251 0.03300885 0.01103044 0.01032083 0.0137417\n",
      " 0.0317129  0.01153702]\n",
      "[0.02700288 0.017247   0.85216686 0.0199458  0.04123615 0.0111971\n",
      " 0.01925744 0.01194677]\n",
      "[0.01363376 0.01807176 0.0467252  0.021287   0.81918591 0.02431444\n",
      " 0.04414236 0.01263957]\n",
      "[0.05395508 0.02514648 0.02368164 0.01765951 0.04890951 0.01717122\n",
      " 0.79109701 0.02237956]\n",
      "[0.77001274 0.02291613 0.05952289 0.02113719 0.0236731  0.02083725\n",
      " 0.06017859 0.02172211]\n",
      "[0.06580946 0.02403429 0.74169922 0.02967665 0.0617947  0.02587891\n",
      " 0.0241428  0.02696398]\n",
      "[0.02555339 0.03455946 0.07166884 0.02859158 0.72677951 0.02517361\n",
      " 0.06228299 0.02539063]\n"
     ]
    }
   ],
   "source": [
    "tomo_dens = [] # quantum state in density-matrix form\n",
    "tomo_probs = [] # measurement result\n",
    "tomo_purs = [] # purity\n",
    "for i in range(1, max_num_itrs+1):\n",
    "    my_seed = MY_SEEDS[i]\n",
    "    tomo_target_circ = transpile(iterative_circ(i, n_qubits, save_den = False), seed_transpiler=my_seed, backend=den_simu_for_tomo,optimization_level=0)\n",
    "    qstexp = StateTomography(tomo_target_circ)\n",
    "    qstdata = qstexp.run(den_simu_for_tomo, seed_simulation=my_seed).block_for_results()\n",
    "    tomo_state =  qstdata.analysis_results(\"state\")\n",
    "    \n",
    "    tomo_dens.append(tomo_state.value.data)\n",
    "    tomo_probs.append(tomo_state.value.probabilities())\n",
    "    tomo_purs.append(np.real(tomo_state.value.purity()))\n",
    "    \n",
    "print(\"Tomography Purity\")\n",
    "for pu in tomo_purs:\n",
    "    print(pu)\n",
    "    \n",
    "print(\"\\nTomography Prob Vec\")\n",
    "for p in tomo_probs:\n",
    "    print(p)"
   ]
  },
  {
   "cell_type": "markdown",
   "metadata": {},
   "source": [
    "## Kalman Smoother"
   ]
  },
  {
   "cell_type": "code",
   "execution_count": 13,
   "metadata": {},
   "outputs": [],
   "source": [
    "def vecden_meas(state):# H, measurement matrix for vectorized density matrix\n",
    "    num_qubits = int(np.log2(np.sqrt(state.shape[0])))\n",
    "    nrows = 2**num_qubits\n",
    "    ncols = nrows**2\n",
    "    mat = np.zeros((nrows, ncols), dtype=np.float64)\n",
    "    for k in range(nrows):\n",
    "        mat[k, nrows*k+k] = 1.0 # take out the diagonal terms in vectorized density matrix\n",
    "    return np.real(mat.dot(state))"
   ]
  },
  {
   "cell_type": "markdown",
   "metadata": {},
   "source": [
    "## Add X,Y-basis measurements"
   ]
  },
  {
   "cell_type": "code",
   "execution_count": 14,
   "metadata": {},
   "outputs": [],
   "source": [
    "total_simu_probs_x = [] # measurement result, x-basis\n",
    "for i in range(1, max_num_itrs+1):\n",
    "    my_seed = MY_SEEDS[i]\n",
    "    trans_circ = transpile(iterative_circ(i, n_qubits, save_den = False, meas_basis = 'x'), seed_transpiler=my_seed, backend=den_simu,optimization_level=0)\n",
    "    iter_res = den_simu_noise.run(trans_circ,shots=8192*reps,seed_simulator=my_seed).result()\n",
    "    total_simu_probs_x.append(KSEMhd.dictToVec(iter_res.get_counts()))"
   ]
  },
  {
   "cell_type": "code",
   "execution_count": 15,
   "metadata": {},
   "outputs": [],
   "source": [
    "total_simu_probs_y = [] # measurement result, x-basis\n",
    "for i in range(1, max_num_itrs+1):\n",
    "    my_seed = MY_SEEDS[i]\n",
    "    trans_circ = transpile(iterative_circ(i, n_qubits, save_den = False, meas_basis = 'y'), seed_transpiler=my_seed, backend=den_simu,optimization_level=0)\n",
    "    iter_res = den_simu_noise.run(trans_circ,shots=8192*reps,seed_simulator=my_seed).result()\n",
    "    total_simu_probs_y.append(KSEMhd.dictToVec(iter_res.get_counts()))"
   ]
  },
  {
   "cell_type": "code",
   "execution_count": 16,
   "metadata": {},
   "outputs": [
    {
     "data": {
      "text/plain": [
       "[array([1.31072998e-02, 7.62939453e-05, 9.65728760e-01, 8.02612305e-03,\n",
       "        1.67846680e-03, 1.19018555e-03, 1.00708008e-02, 1.22070312e-04,\n",
       "        1.23947144e-01, 1.25717163e-01, 1.25747681e-01, 1.26647949e-01,\n",
       "        1.24084473e-01, 1.24359131e-01, 1.25656128e-01, 1.23840332e-01]),\n",
       " array([1.38092041e-02, 1.03759766e-03, 4.24194336e-03, 4.13513184e-03,\n",
       "        9.52270508e-01, 6.77490234e-03, 1.75323486e-02, 1.98364258e-04,\n",
       "        1.26800537e-01, 1.25717163e-01, 1.27655029e-01, 1.24099731e-01,\n",
       "        1.25366211e-01, 1.23565674e-01, 1.23764038e-01, 1.23031616e-01]),\n",
       " array([0.00544739, 0.00404358, 0.01502991, 0.00411987, 0.01617432,\n",
       "        0.00135803, 0.94586182, 0.00796509, 0.12651062, 0.12553406,\n",
       "        0.12435913, 0.12409973, 0.12277222, 0.12504578, 0.12574768,\n",
       "        0.12593079]),\n",
       " array([0.9357605 , 0.00880432, 0.02069092, 0.0045166 , 0.01391602,\n",
       "        0.00416565, 0.00793457, 0.00421143, 0.1242981 , 0.12606812,\n",
       "        0.1268158 , 0.12428284, 0.12442017, 0.12527466, 0.12432861,\n",
       "        0.12451172]),\n",
       " array([0.01979065, 0.00421143, 0.93034363, 0.01156616, 0.00880432,\n",
       "        0.00527954, 0.01585388, 0.00415039, 0.12785339, 0.12501526,\n",
       "        0.12393188, 0.12205505, 0.12606812, 0.12510681, 0.12654114,\n",
       "        0.12342834]),\n",
       " array([0.01980591, 0.00613403, 0.01211548, 0.00843811, 0.91305542,\n",
       "        0.01072693, 0.02497864, 0.00474548, 0.12510681, 0.12478638,\n",
       "        0.12457275, 0.12557983, 0.12680054, 0.12234497, 0.1242981 ,\n",
       "        0.12651062]),\n",
       " array([0.01254272, 0.00791931, 0.02172852, 0.00837708, 0.02388   ,\n",
       "        0.0050354 , 0.90940857, 0.0111084 , 0.12666321, 0.12452698,\n",
       "        0.12615967, 0.1264801 , 0.1265564 , 0.1212616 , 0.1230011 ,\n",
       "        0.12535095]),\n",
       " array([0.90156555, 0.01280212, 0.0269165 , 0.00827026, 0.01976013,\n",
       "        0.00761414, 0.01449585, 0.00857544, 0.12411499, 0.12467957,\n",
       "        0.12606812, 0.12693787, 0.12730408, 0.12423706, 0.12373352,\n",
       "        0.1229248 ]),\n",
       " array([0.02671814, 0.00802612, 0.89598083, 0.0149231 , 0.01565552,\n",
       "        0.00878906, 0.0214386 , 0.00846863, 0.12519836, 0.12461853,\n",
       "        0.12600708, 0.12521362, 0.12414551, 0.12373352, 0.12574768,\n",
       "        0.12533569]),\n",
       " array([0.02497864, 0.00961304, 0.01905823, 0.01167297, 0.88145447,\n",
       "        0.01535034, 0.02949524, 0.00837708, 0.12484741, 0.12632751,\n",
       "        0.12744141, 0.12463379, 0.1239624 , 0.12475586, 0.123703  ,\n",
       "        0.12432861])]"
      ]
     },
     "execution_count": 16,
     "metadata": {},
     "output_type": "execute_result"
    }
   ],
   "source": [
    "observs = []\n",
    "for i in range(len(total_simu_probs)):\n",
    "    z_meas_p = total_simu_probs[i]\n",
    "    x_meas_p = total_simu_probs_x[i]\n",
    "#     y_meas_p = total_simu_probs_y[i]\n",
    "#     observs.append(np.append(np.append(z_meas_p, x_meas_p),y_meas_p))\n",
    "    observs.append(np.append(z_meas_p, x_meas_p))\n",
    "observs"
   ]
  },
  {
   "cell_type": "markdown",
   "metadata": {},
   "source": [
    "### Initialize"
   ]
  },
  {
   "cell_type": "code",
   "execution_count": 23,
   "metadata": {},
   "outputs": [],
   "source": [
    "initial_state = np.array([0]*((2**3)**2), dtype=complex)\n",
    "initial_state[0] = 1\n",
    "\n",
    "# initial state\n",
    "num_dim = initial_state.size\n",
    "x =initial_state\n",
    "x[0]-= 0.01/num_dim\n",
    "nrows = int(x.size-1)\n",
    "for k in range(1,nrows+1):\n",
    "    x[k] += 1/(num_dim*nrows)"
   ]
  },
  {
   "cell_type": "code",
   "execution_count": 24,
   "metadata": {},
   "outputs": [],
   "source": [
    "# Other variance parameters\n",
    "num_dim_state = initial_state.size\n",
    "num_dim_obs = observs[0].size\n",
    "\n",
    "# M = np.identity(num_dim_state, dtype=complex)* 0.02 * (1) # a guess for covariance matrix, E[(x0-xhat0^+)(x0-xhat0^+)^T]\n",
    "# Q = np.identity(num_dim_state, dtype=complex)* 0.2 * (1) # state covariance\n",
    "# R = np.identity(num_dim_obs, dtype=complex)* 0.1 * (1) # meas covariance\n",
    "# P = np.identity(num_dim_state, dtype=complex)* 0.05 * (1)# \n",
    "M = np.identity(num_dim_state, dtype=complex)* 0.4 * (1) # a guess for covariance matrix, E[(x0-xhat0^+)(x0-xhat0^+)^T]\n",
    "Q = np.identity(num_dim_state, dtype=complex)* 1 * (1) # state covariance\n",
    "R = np.identity(num_dim_obs)* 0.2 * (1) # meas covariance\n",
    "P = np.identity(num_dim_state, dtype=complex)* 0.01 * (1)# "
   ]
  },
  {
   "cell_type": "code",
   "execution_count": 25,
   "metadata": {},
   "outputs": [
    {
     "data": {
      "text/plain": [
       "(64, 64, 16, 4096)"
      ]
     },
     "execution_count": 25,
     "metadata": {},
     "output_type": "execute_result"
    }
   ],
   "source": [
    "x.size,num_dim_state,num_dim_obs, unitaries[0].size"
   ]
  },
  {
   "cell_type": "markdown",
   "metadata": {},
   "source": [
    "### EM and Smoother - Total"
   ]
  },
  {
   "cell_type": "markdown",
   "metadata": {},
   "source": [
    "Use longest iterations"
   ]
  },
  {
   "cell_type": "code",
   "execution_count": 26,
   "metadata": {},
   "outputs": [],
   "source": [
    "def norm_diag(mat):\n",
    "    her_mat = mat.copy()\n",
    "    diags = her_mat.diagonal()\n",
    "    diagsum = diags.sum()\n",
    "    diags_normed = diags/diagsum\n",
    "    try: \n",
    "        np.fill_diagonal(her_mat, diags_normed)\n",
    "    except:\n",
    "        her_mat.setdiag(diags_normed)\n",
    "    return her_mat"
   ]
  },
  {
   "cell_type": "code",
   "execution_count": null,
   "metadata": {},
   "outputs": [],
   "source": []
  },
  {
   "cell_type": "code",
   "execution_count": null,
   "metadata": {},
   "outputs": [],
   "source": []
  },
  {
   "cell_type": "code",
   "execution_count": null,
   "metadata": {},
   "outputs": [],
   "source": []
  },
  {
   "cell_type": "code",
   "execution_count": null,
   "metadata": {},
   "outputs": [],
   "source": []
  },
  {
   "cell_type": "code",
   "execution_count": 27,
   "metadata": {},
   "outputs": [
    {
     "name": "stderr",
     "output_type": "stream",
     "text": [
      "/home/firepanda415/anaconda3/envs/quantum/lib/python3.9/site-packages/scipy/sparse/_index.py:82: SparseEfficiencyWarning: Changing the sparsity structure of a csc_matrix is expensive. lil_matrix is more efficient.\n",
      "  self._set_intXint(row, col, x.flat[0])\n"
     ]
    },
    {
     "ename": "ValueError",
     "evalue": "inconsistent shapes",
     "output_type": "error",
     "traceback": [
      "\u001b[0;31m---------------------------------------------------------------------------\u001b[0m",
      "\u001b[0;31mValueError\u001b[0m                                Traceback (most recent call last)",
      "Input \u001b[0;32mIn [27]\u001b[0m, in \u001b[0;36m<cell line: 6>\u001b[0;34m()\u001b[0m\n\u001b[1;32m      4\u001b[0m \u001b[38;5;66;03m# observs = total_simu_probs\u001b[39;00m\n\u001b[1;32m      5\u001b[0m learn_obj \u001b[38;5;241m=\u001b[39m EMLearn(observs, unitaries[\u001b[38;5;241m0\u001b[39m], x, M, Q, R, P)\n\u001b[0;32m----> 6\u001b[0m estX0, estM0, estQ, estR, estF \u001b[38;5;241m=\u001b[39m \u001b[43mlearn_obj\u001b[49m\u001b[38;5;241;43m.\u001b[39;49m\u001b[43mlearn\u001b[49m\u001b[43m(\u001b[49m\u001b[43m)\u001b[49m \u001b[38;5;66;03m# they are all arguemented\u001b[39;00m\n\u001b[1;32m      8\u001b[0m \u001b[38;5;66;03m# Slice from argumented system\u001b[39;00m\n\u001b[1;32m      9\u001b[0m realX0 \u001b[38;5;241m=\u001b[39m estX0\u001b[38;5;241m.\u001b[39mtoarray()[:num_dim_state]\n",
      "File \u001b[0;32m~/Quantum_Den_Smoother/KSEMhd.py:624\u001b[0m, in \u001b[0;36mEMLearn.learn\u001b[0;34m(self, eps)\u001b[0m\n\u001b[1;32m    616\u001b[0m \u001b[38;5;28;01mdef\u001b[39;00m \u001b[38;5;21mlearn\u001b[39m(\u001b[38;5;28mself\u001b[39m, eps\u001b[38;5;241m=\u001b[39m\u001b[38;5;241m1e-3\u001b[39m):\n\u001b[1;32m    617\u001b[0m     \u001b[38;5;66;03m# intialize parameters\u001b[39;00m\n\u001b[1;32m    618\u001b[0m     smoother \u001b[38;5;241m=\u001b[39m KSQS(\u001b[38;5;28mself\u001b[39m\u001b[38;5;241m.\u001b[39mys, \n\u001b[1;32m    619\u001b[0m                       \u001b[38;5;28mself\u001b[39m\u001b[38;5;241m.\u001b[39mFa, \n\u001b[1;32m    620\u001b[0m                       \u001b[38;5;28mself\u001b[39m\u001b[38;5;241m.\u001b[39mx0, \u001b[38;5;28mself\u001b[39m\u001b[38;5;241m.\u001b[39mM0, \n\u001b[1;32m    621\u001b[0m                       \u001b[38;5;28mself\u001b[39m\u001b[38;5;241m.\u001b[39mQa, \n\u001b[1;32m    622\u001b[0m                       \u001b[38;5;28mself\u001b[39m\u001b[38;5;241m.\u001b[39mRa, \n\u001b[1;32m    623\u001b[0m                       Augmented \u001b[38;5;241m=\u001b[39m \u001b[38;5;28;01mTrue\u001b[39;00m)\n\u001b[0;32m--> 624\u001b[0m     \u001b[38;5;28mself\u001b[39m\u001b[38;5;241m.\u001b[39mxa_seq, \u001b[38;5;28mself\u001b[39m\u001b[38;5;241m.\u001b[39mMa_seq, \u001b[38;5;28mself\u001b[39m\u001b[38;5;241m.\u001b[39mMa_prio_seq \u001b[38;5;241m=\u001b[39m \u001b[43msmoother\u001b[49m\u001b[38;5;241;43m.\u001b[39;49m\u001b[43msmooth\u001b[49m\u001b[43m(\u001b[49m\u001b[43m)\u001b[49m \u001b[38;5;66;03m# NOTE: self.xa_seq, self.Ma_seq contains elements at time 0, while the last two does not\u001b[39;00m\n\u001b[1;32m    625\u001b[0m     \u001b[38;5;28mself\u001b[39m\u001b[38;5;241m.\u001b[39mx0_smoothed \u001b[38;5;241m=\u001b[39m \u001b[38;5;28mself\u001b[39m\u001b[38;5;241m.\u001b[39mxa_seq[\u001b[38;5;241m0\u001b[39m]\u001b[38;5;241m.\u001b[39mcopy()\n\u001b[1;32m    626\u001b[0m     \u001b[38;5;28mself\u001b[39m\u001b[38;5;241m.\u001b[39mM0_smoothed \u001b[38;5;241m=\u001b[39m \u001b[38;5;28mself\u001b[39m\u001b[38;5;241m.\u001b[39mMa_seq[\u001b[38;5;241m0\u001b[39m]\u001b[38;5;241m.\u001b[39mcopy()\n",
      "File \u001b[0;32m~/Quantum_Den_Smoother/KSEMhd.py:311\u001b[0m, in \u001b[0;36mKSQS.smooth\u001b[0;34m(self)\u001b[0m\n\u001b[1;32m    309\u001b[0m \u001b[38;5;28mself\u001b[39m\u001b[38;5;241m.\u001b[39mMa_prio_seq\u001b[38;5;241m.\u001b[39mappend(\u001b[38;5;28;01mNone\u001b[39;00m) \u001b[38;5;66;03m# does not have prior for time 0\u001b[39;00m\n\u001b[1;32m    310\u001b[0m \u001b[38;5;28;01mfor\u001b[39;00m t \u001b[38;5;129;01min\u001b[39;00m \u001b[38;5;28mrange\u001b[39m(T):\n\u001b[0;32m--> 311\u001b[0m     xa_post, xa_prio, Ma_post, Ma_prio \u001b[38;5;241m=\u001b[39m \u001b[38;5;28;43mself\u001b[39;49m\u001b[38;5;241;43m.\u001b[39;49m\u001b[43mfiltering\u001b[49m\u001b[43m(\u001b[49m\u001b[38;5;28;43mself\u001b[39;49m\u001b[38;5;241;43m.\u001b[39;49m\u001b[43mys\u001b[49m\u001b[43m[\u001b[49m\u001b[43mt\u001b[49m\u001b[43m]\u001b[49m\u001b[43m)\u001b[49m\n\u001b[1;32m    312\u001b[0m     \u001b[38;5;66;03m# Record state, priori M, and posteriori M\u001b[39;00m\n\u001b[1;32m    313\u001b[0m     \u001b[38;5;28mself\u001b[39m\u001b[38;5;241m.\u001b[39mxa_seq\u001b[38;5;241m.\u001b[39mappend(xa_post)\n",
      "File \u001b[0;32m~/Quantum_Den_Smoother/KSEMhd.py:295\u001b[0m, in \u001b[0;36mKSQS.filtering\u001b[0;34m(self, y)\u001b[0m\n\u001b[1;32m    293\u001b[0m \u001b[38;5;28mself\u001b[39m\u001b[38;5;241m.\u001b[39mk \u001b[38;5;241m+\u001b[39m\u001b[38;5;241m=\u001b[39m \u001b[38;5;241m1\u001b[39m\n\u001b[1;32m    294\u001b[0m \u001b[38;5;28mself\u001b[39m\u001b[38;5;241m.\u001b[39mtime_update() \u001b[38;5;66;03m# update self.Fa in this function\u001b[39;00m\n\u001b[0;32m--> 295\u001b[0m \u001b[38;5;28;43mself\u001b[39;49m\u001b[38;5;241;43m.\u001b[39;49m\u001b[43mmeas_update\u001b[49m\u001b[43m(\u001b[49m\u001b[43my\u001b[49m\u001b[43m)\u001b[49m\n\u001b[1;32m    297\u001b[0m \u001b[38;5;66;03m# update non-augmented variables\u001b[39;00m\n\u001b[1;32m    298\u001b[0m \u001b[38;5;28mself\u001b[39m\u001b[38;5;241m.\u001b[39mx \u001b[38;5;241m=\u001b[39m \u001b[38;5;28mself\u001b[39m\u001b[38;5;241m.\u001b[39mxa[\u001b[38;5;241m0\u001b[39m:\u001b[38;5;28mself\u001b[39m\u001b[38;5;241m.\u001b[39mp]\n",
      "File \u001b[0;32m~/Quantum_Den_Smoother/KSEMhd.py:282\u001b[0m, in \u001b[0;36mKSQS.meas_update\u001b[0;34m(self, y)\u001b[0m\n\u001b[1;32m    279\u001b[0m Ha_Hem \u001b[38;5;241m=\u001b[39m \u001b[38;5;28mself\u001b[39m\u001b[38;5;241m.\u001b[39mHa\u001b[38;5;241m.\u001b[39mgetH()\u001b[38;5;241m.\u001b[39mtocsc()\n\u001b[1;32m    280\u001b[0m \u001b[38;5;66;03m# Kalman Gain, # G = MH^H(HMH^H + R)^-1 => (HMH^H + R)^T G^T = (MH)^T\u001b[39;00m\n\u001b[1;32m    281\u001b[0m \u001b[38;5;66;03m# So do not need to take inverse, faster!\u001b[39;00m\n\u001b[0;32m--> 282\u001b[0m hmhr \u001b[38;5;241m=\u001b[39m \u001b[38;5;28;43mself\u001b[39;49m\u001b[38;5;241;43m.\u001b[39;49m\u001b[43mHa\u001b[49m\u001b[38;5;241;43m.\u001b[39;49m\u001b[43mdot\u001b[49m\u001b[43m(\u001b[49m\u001b[38;5;28;43mself\u001b[39;49m\u001b[38;5;241;43m.\u001b[39;49m\u001b[43mMa_prio\u001b[49m\u001b[43m)\u001b[49m\u001b[38;5;241;43m.\u001b[39;49m\u001b[43mdot\u001b[49m\u001b[43m(\u001b[49m\u001b[43mHa_Hem\u001b[49m\u001b[43m)\u001b[49m\u001b[43m \u001b[49m\u001b[38;5;241;43m+\u001b[39;49m\u001b[43m \u001b[49m\u001b[38;5;28;43mself\u001b[39;49m\u001b[38;5;241;43m.\u001b[39;49m\u001b[43mRa\u001b[49m\n\u001b[1;32m    283\u001b[0m mh \u001b[38;5;241m=\u001b[39m \u001b[38;5;28mself\u001b[39m\u001b[38;5;241m.\u001b[39mMa_prio\u001b[38;5;241m.\u001b[39mdot(Ha_Hem)\n\u001b[1;32m    284\u001b[0m \u001b[38;5;28mself\u001b[39m\u001b[38;5;241m.\u001b[39mGa \u001b[38;5;241m=\u001b[39m spsolve(hmhr\u001b[38;5;241m.\u001b[39mtranspose(), mh\u001b[38;5;241m.\u001b[39mtranspose())\u001b[38;5;241m.\u001b[39mtranspose() \n",
      "File \u001b[0;32m~/anaconda3/envs/quantum/lib/python3.9/site-packages/scipy/sparse/base.py:414\u001b[0m, in \u001b[0;36mspmatrix.__add__\u001b[0;34m(self, other)\u001b[0m\n\u001b[1;32m    412\u001b[0m \u001b[38;5;28;01melif\u001b[39;00m isspmatrix(other):\n\u001b[1;32m    413\u001b[0m     \u001b[38;5;28;01mif\u001b[39;00m other\u001b[38;5;241m.\u001b[39mshape \u001b[38;5;241m!=\u001b[39m \u001b[38;5;28mself\u001b[39m\u001b[38;5;241m.\u001b[39mshape:\n\u001b[0;32m--> 414\u001b[0m         \u001b[38;5;28;01mraise\u001b[39;00m \u001b[38;5;167;01mValueError\u001b[39;00m(\u001b[38;5;124m\"\u001b[39m\u001b[38;5;124minconsistent shapes\u001b[39m\u001b[38;5;124m\"\u001b[39m)\n\u001b[1;32m    415\u001b[0m     \u001b[38;5;28;01mreturn\u001b[39;00m \u001b[38;5;28mself\u001b[39m\u001b[38;5;241m.\u001b[39m_add_sparse(other)\n\u001b[1;32m    416\u001b[0m \u001b[38;5;28;01melif\u001b[39;00m isdense(other):\n",
      "\u001b[0;31mValueError\u001b[0m: inconsistent shapes"
     ]
    }
   ],
   "source": [
    "total_smoother_dens = []\n",
    "total_smoother_purs = []\n",
    "\n",
    "# observs = total_simu_probs\n",
    "learn_obj = EMLearn(observs, unitaries[0], x, M, Q, R, P)\n",
    "estX0, estM0, estQ, estR, estF = learn_obj.learn() # they are all arguemented\n",
    "\n",
    "# Slice from argumented system\n",
    "realX0 = estX0.toarray()[:num_dim_state]\n",
    "realX0 = realX0.flatten().reshape((int(np.sqrt(num_dim_state)), int(np.sqrt(num_dim_state))), order='F') # to matrix\n",
    "realX0 = KSEMhd.closed_den_mat(realX0) # find closest valid density matrix\n",
    "realX0 = np.array(realX0.flatten(order='C'))[0] # reshape to vector\n",
    "\n",
    "realM0 = estM0.toarray()[range(num_dim_state),:][:,range(num_dim_state)]\n",
    "realF = estF.toarray()[range(num_dim_state),:][:,range(num_dim_state)]\n",
    "realQ = estQ.toarray()[range(num_dim_state),:][:,range(num_dim_state)]\n",
    "realR = estR.toarray()[range(num_dim_obs),:][:,range(num_dim_obs)]\n",
    "realP = estQ.toarray()[range(num_dim_state),:][:,range(num_dim_state, 2*num_dim_state)]\n",
    "\n",
    "smoother = KSQS(observs, realF, realX0, realM0, realQ, realR, realP)\n",
    "x_seq, M_seq, M_prio_seq = smoother.smooth() \n",
    "\n",
    "\n",
    "\n",
    "# x_est_norms = []\n",
    "# for j in range(max_num_itrs):\n",
    "#     x_est = np.array(x_seq[j+1][:num_dim_state].todense()).flatten()\n",
    "#     diag_sum = np.sum(vecden_meas(x_est))\n",
    "\n",
    "#     #normalize along the diagonal\n",
    "#     x_est_norm = x_est+0\n",
    "#     nrows = int(np.sqrt(x_est.size))\n",
    "#     for k in range(nrows):\n",
    "#         x_est_norm[k*nrows+k] = x_est_norm[k*nrows+k]/diag_sum\n",
    "#     x_est_norms.append(x_est_norm)\n",
    "#     final_den = x_est_norm.reshape(num_dim_obs, num_dim_obs)\n",
    "#     total_smoother_dens.append(final_den)\n",
    "#     total_smoother_purs.append(np.real(qi.DensityMatrix(final_den).purity()))\n",
    "for j in range(max_num_itrs):\n",
    "    x_est = np.matrix(x_seq[j+1][:num_dim_state].todense()).flatten().reshape((int(np.sqrt(num_dim_state)), int(np.sqrt(num_dim_state))), order='F')\n",
    "#     x_est = (x_est+x_est.H)/2\n",
    "    final_den = KSEMhd.closed_den_mat(x_est)\n",
    "#     final_den = norm_diag(x_est)\n",
    "    total_smoother_dens.append(final_den)\n",
    "    total_smoother_purs.append(np.real(qi.DensityMatrix(final_den).purity()))"
   ]
  },
  {
   "cell_type": "code",
   "execution_count": 61,
   "metadata": {},
   "outputs": [
    {
     "data": {
      "text/plain": [
       "0.0"
      ]
     },
     "execution_count": 61,
     "metadata": {},
     "output_type": "execute_result"
    }
   ],
   "source": [
    "np.linalg.norm(unitaries[0]-realF)"
   ]
  },
  {
   "cell_type": "code",
   "execution_count": 62,
   "metadata": {},
   "outputs": [
    {
     "name": "stdout",
     "output_type": "stream",
     "text": [
      "2096\n"
     ]
    }
   ],
   "source": [
    "print(np.sum(realQ.real<0))"
   ]
  },
  {
   "cell_type": "code",
   "execution_count": 63,
   "metadata": {},
   "outputs": [
    {
     "data": {
      "image/png": "[encoded data removed]",
      "text/plain": [
       "<Figure size 432x288 with 2 Axes>"
      ]
     },
     "metadata": {
      "needs_background": "light"
     },
     "output_type": "display_data"
    }
   ],
   "source": [
    "plt.imshow(realQ.real)\n",
    "plt.colorbar()\n",
    "plt.show()"
   ]
  },
  {
   "cell_type": "code",
   "execution_count": 64,
   "metadata": {},
   "outputs": [
    {
     "data": {
      "image/png": "[encoded data removed]",
      "text/plain": [
       "<Figure size 432x288 with 2 Axes>"
      ]
     },
     "metadata": {
      "needs_background": "light"
     },
     "output_type": "display_data"
    }
   ],
   "source": [
    "plt.imshow(realQ.imag)\n",
    "plt.colorbar()\n",
    "plt.show()"
   ]
  },
  {
   "cell_type": "markdown",
   "metadata": {},
   "source": [
    "Only use the estimation in the final iteration as the valid output"
   ]
  },
  {
   "cell_type": "code",
   "execution_count": 65,
   "metadata": {
    "scrolled": true
   },
   "outputs": [],
   "source": [
    "# total_smoother_dens = []\n",
    "# total_smoother_purs = []\n",
    "# for i in range(1,max_num_itrs+1):\n",
    "#     print(\"Circuit Iteration\", i)\n",
    "#     observs = total_simu_probs[0:i]\n",
    "#     learn_obj = EMLearn(observs, unitaries[0], x, M, Q, R, P)\n",
    "#     estX0, estM0, estQ, estR, estF = learn_obj.learn() # they are all arguemented\n",
    "    \n",
    "#     # Slice from argumented system\n",
    "#     realX0 = estX0.toarray()[:num_dim_state]\n",
    "#     realX0norm = np.sqrt(np.sum(np.abs(realX0)**2))\n",
    "#     realM0 = estM0.toarray()[range(num_dim_state),:][:,range(num_dim_state)]\n",
    "#     realF = estF.toarray()[range(num_dim_state),:][:,range(num_dim_state)]\n",
    "#     realQ = estQ.toarray()[range(num_dim_state),:][:,range(num_dim_state)]\n",
    "#     realR = estR.toarray()[range(num_dim_obs),:][:,range(num_dim_obs)]\n",
    "#     realP = estQ.toarray()[range(num_dim_state),:][:,range(num_dim_state, 2*num_dim_state)]\n",
    "\n",
    "#     smoother = KSQS(observs, realF, realX0, realM0, realQ, realR, realP)\n",
    "#     x_seq, M_seq, M_prio_seq = smoother.smooth() \n",
    "    \n",
    "    \n",
    "#     # Normalization\n",
    "# #     x_est_norms = []\n",
    "# #     for j in range(i):\n",
    "# #         x_est = np.array(x_seq[j+1][:num_dim_state].todense()).flatten()\n",
    "# #         diag_sum = np.sum(vecden_meas(x_est))\n",
    "\n",
    "# #         #normalize along the diagonal\n",
    "# #         x_est_norm = x_est+0\n",
    "# #         nrows = int(np.sqrt(x_est.size))\n",
    "# #         for k in range(nrows):\n",
    "# #             x_est_norm[k*nrows+k] = x_est_norm[k*nrows+k]/diag_sum\n",
    "# #     final_den = x_est_norm.reshape(num_dim_obs, num_dim_obs)\n",
    "\n",
    "#     x_est = np.matrix(x_seq[-1][:num_dim_state].todense()).flatten().reshape((num_dim_obs, num_dim_obs), order='F')\n",
    "# #     x_est = (x_est+x_est.H)/2\n",
    "#     final_den = KSEM.closed_den_mat(x_est)\n",
    "#     total_smoother_dens.append(final_den)\n",
    "#     total_smoother_purs.append(np.real(qi.DensityMatrix(final_den).purity()))"
   ]
  },
  {
   "cell_type": "code",
   "execution_count": 66,
   "metadata": {},
   "outputs": [
    {
     "name": "stdout",
     "output_type": "stream",
     "text": [
      "Is state a valid density matrix: True\n",
      "Is state a valid density matrix: True\n",
      "Is state a valid density matrix: True\n",
      "Is state a valid density matrix: True\n",
      "Is state a valid density matrix: True\n",
      "Is state a valid density matrix: True\n",
      "Is state a valid density matrix: True\n",
      "Is state a valid density matrix: True\n",
      "Is state a valid density matrix: True\n",
      "Is state a valid density matrix: True\n"
     ]
    }
   ],
   "source": [
    "for den in total_smoother_dens:\n",
    "    print(\"Is state a valid density matrix:\", qi.DensityMatrix(den).is_valid())"
   ]
  },
  {
   "cell_type": "code",
   "execution_count": 67,
   "metadata": {},
   "outputs": [
    {
     "data": {
      "text/plain": [
       "matrix([[0.00955214+0.j, 0.94289381+0.j, 0.00615117+0.j, 0.00159828+0.j,\n",
       "         0.01160088+0.j, 0.01169699+0.j, 0.01270167+0.j, 0.00380507+0.j]])"
      ]
     },
     "execution_count": 67,
     "metadata": {},
     "output_type": "execute_result"
    }
   ],
   "source": [
    "total_smoother_dens[0].diagonal().flatten()"
   ]
  },
  {
   "cell_type": "code",
   "execution_count": 68,
   "metadata": {},
   "outputs": [
    {
     "data": {
      "text/plain": [
       "array([[0.00955214+0.j, 0.        +0.j, 0.        +0.j, 0.        +0.j,\n",
       "        0.        +0.j, 0.        +0.j, 0.        +0.j, 0.        +0.j],\n",
       "       [0.        +0.j, 0.94289381+0.j, 0.        +0.j, 0.        +0.j,\n",
       "        0.        +0.j, 0.        +0.j, 0.        +0.j, 0.        +0.j],\n",
       "       [0.        +0.j, 0.        +0.j, 0.00615117+0.j, 0.        +0.j,\n",
       "        0.        +0.j, 0.        +0.j, 0.        +0.j, 0.        +0.j],\n",
       "       [0.        +0.j, 0.        +0.j, 0.        +0.j, 0.00159828+0.j,\n",
       "        0.        +0.j, 0.        +0.j, 0.        +0.j, 0.        +0.j],\n",
       "       [0.        +0.j, 0.        +0.j, 0.        +0.j, 0.        +0.j,\n",
       "        0.01160088+0.j, 0.        +0.j, 0.        +0.j, 0.        +0.j],\n",
       "       [0.        +0.j, 0.        +0.j, 0.        +0.j, 0.        +0.j,\n",
       "        0.        +0.j, 0.01169699+0.j, 0.        +0.j, 0.        +0.j],\n",
       "       [0.        +0.j, 0.        +0.j, 0.        +0.j, 0.        +0.j,\n",
       "        0.        +0.j, 0.        +0.j, 0.01270167+0.j, 0.        +0.j],\n",
       "       [0.        +0.j, 0.        +0.j, 0.        +0.j, 0.        +0.j,\n",
       "        0.        +0.j, 0.        +0.j, 0.        +0.j, 0.00380507+0.j]])"
      ]
     },
     "execution_count": 68,
     "metadata": {},
     "output_type": "execute_result"
    }
   ],
   "source": [
    "np.diag(np.array(total_smoother_dens[0].diagonal()).flatten())"
   ]
  },
  {
   "cell_type": "code",
   "execution_count": 69,
   "metadata": {},
   "outputs": [
    {
     "name": "stdout",
     "output_type": "stream",
     "text": [
      "0.16426969680933068\n",
      "0.7053986556280903\n",
      "0.6437051926007064\n",
      "0.0076821221550614745\n",
      "0.056673347698407456\n",
      "0.5649869524053681\n",
      "0.18823087613763675\n",
      "0.012415143963505635\n",
      "0.08783609773141257\n",
      "0.2629216212174431\n"
     ]
    }
   ],
   "source": [
    "with np.printoptions(precision=3, suppress=True):\n",
    "    for den in total_smoother_dens:\n",
    "        non_diag_den = den - np.diag(np.array(den.diagonal()).flatten())\n",
    "        print(np.linalg.norm(non_diag_den))\n",
    "#     print(total_smoother_dens[8])\n",
    "#     print(total_simu_dens[8].data)"
   ]
  },
  {
   "cell_type": "code",
   "execution_count": 70,
   "metadata": {},
   "outputs": [
    {
     "name": "stdout",
     "output_type": "stream",
     "text": [
      "Estimated Purity (Total)\n",
      "0.9166121135213103\n",
      "0.8793320654296413\n",
      "0.8317096481692046\n",
      "0.8047904216077375\n",
      "0.7672906495135456\n",
      "0.7349452125881168\n",
      "0.6987577752084017\n",
      "0.6809231474325571\n",
      "0.652457563747712\n",
      "0.627035393605906\n"
     ]
    }
   ],
   "source": [
    "print(\"Estimated Purity (Total)\")\n",
    "for pu in total_smoother_purs:\n",
    "    print(pu)"
   ]
  },
  {
   "cell_type": "markdown",
   "metadata": {},
   "source": [
    "## Check the fidelity between estimated state and the real state in the simulator"
   ]
  },
  {
   "cell_type": "code",
   "execution_count": 79,
   "metadata": {},
   "outputs": [],
   "source": [
    "from scipy.linalg import sqrtm\n",
    "def state_fid(m1,m2):\n",
    "    sqm1 = sqrtm(m1)\n",
    "    temp = sqm1.dot(m2).dot(sqm1)\n",
    "    temp2 = sqrtm(temp)\n",
    "    return np.real(np.trace(temp2))**2\n",
    "\n",
    "def prob_dist(p,q):\n",
    "    return np.abs(p-q).sum()*0.5"
   ]
  },
  {
   "cell_type": "code",
   "execution_count": 88,
   "metadata": {},
   "outputs": [
    {
     "data": {
      "text/plain": [
       "(10, 10)"
      ]
     },
     "execution_count": 88,
     "metadata": {},
     "output_type": "execute_result"
    }
   ],
   "source": [
    "len(total_simu_dens), max_num_itrs"
   ]
  },
  {
   "cell_type": "code",
   "execution_count": 91,
   "metadata": {},
   "outputs": [
    {
     "data": {
      "text/plain": [
       "(64,)"
      ]
     },
     "execution_count": 91,
     "metadata": {},
     "output_type": "execute_result"
    }
   ],
   "source": [
    "realX0.shape"
   ]
  },
  {
   "cell_type": "code",
   "execution_count": 105,
   "metadata": {},
   "outputs": [
    {
     "data": {
      "text/plain": [
       "matrix([[-0.+0.j, -0.+0.j,  0.+0.j,  0.+0.j,  0.+0.j, -0.+0.j,  1.+0.j,\n",
       "          0.+0.j],\n",
       "        [ 0.+0.j, -0.+0.j, -0.+0.j,  0.+0.j,  0.+0.j, -1.+0.j, -0.+0.j,\n",
       "         -0.+0.j],\n",
       "        [-1.+0.j, -0.+0.j,  0.+0.j,  0.+0.j, -0.+0.j, -0.+0.j, -0.+0.j,\n",
       "          0.+0.j],\n",
       "        [ 0.+0.j, -0.+0.j, -0.+0.j,  1.+0.j,  0.+0.j,  0.+0.j, -0.+0.j,\n",
       "          0.+0.j],\n",
       "        [ 0.+0.j, -0.+0.j,  1.+0.j,  0.+0.j, -0.+0.j, -0.+0.j,  0.+0.j,\n",
       "          0.+0.j],\n",
       "        [ 0.+0.j, -1.+0.j, -0.+0.j, -0.+0.j,  0.+0.j, -0.+0.j, -0.+0.j,\n",
       "          0.+0.j],\n",
       "        [ 0.+0.j,  0.+0.j, -0.+0.j, -0.+0.j, -1.+0.j, -0.+0.j,  0.+0.j,\n",
       "          0.+0.j],\n",
       "        [-0.+0.j,  0.+0.j,  0.+0.j, -0.+0.j,  0.+0.j, -0.+0.j, -0.+0.j,\n",
       "          1.+0.j]])"
      ]
     },
     "execution_count": 105,
     "metadata": {},
     "output_type": "execute_result"
    }
   ],
   "source": [
    "np.matrix(unitary)"
   ]
  },
  {
   "cell_type": "code",
   "execution_count": 108,
   "metadata": {},
   "outputs": [
    {
     "data": {
      "text/plain": [
       "(matrix([[ 0.+0.j],\n",
       "         [-0.+0.j],\n",
       "         [-0.+0.j],\n",
       "         [ 0.+0.j],\n",
       "         [-1.+0.j],\n",
       "         [ 0.+0.j],\n",
       "         [ 0.+0.j],\n",
       "         [-0.+0.j]]),\n",
       " array([0.00005618, 0.00000072, 0.00114783, 0.00010748, 0.99733985,\n",
       "        0.00068913, 0.00042093, 0.00023787]))"
      ]
     },
     "execution_count": 108,
     "metadata": {},
     "output_type": "execute_result"
    }
   ],
   "source": [
    "v = np.zeros(2**3, dtype=float)\n",
    "v[0] = 1\n",
    "\n",
    "\n",
    "res_den = unitaries[0].dot(unitaries[0].dot(realX0))\n",
    "np.matrix(unitary).dot(np.matrix(unitary).dot(v).reshape((8,1))), np.diag(np.matrix(res_den).flatten().reshape((int(np.sqrt(num_dim_state)), int(np.sqrt(num_dim_state))), order='F')).real"
   ]
  },
  {
   "cell_type": "code",
   "execution_count": null,
   "metadata": {},
   "outputs": [],
   "source": []
  },
  {
   "cell_type": "code",
   "execution_count": 109,
   "metadata": {},
   "outputs": [
    {
     "name": "stdout",
     "output_type": "stream",
     "text": [
      "\n",
      "[0.00100638 0.00001163 0.97947045 0.00669124 0.00567025 0.00469152\n",
      " 0.00242725 0.00003128]\n",
      "[0.00955214 0.94289381 0.00615117 0.00159828 0.01160088 0.01169699\n",
      " 0.01270167 0.00380507]\n",
      "[0.00776281 0.00252323 0.95961313 0.0085591  0.00757314 0.00371643\n",
      " 0.00609238 0.00415979]\n",
      "Iteration 1 KS Fid: 0.9784122376885802 Tomo Fid: 0.020832411156785573\n",
      "\n",
      "[0.00340687 0.00464337 0.00917964 0.01121711 0.95615355 0.00658506\n",
      " 0.00864662 0.00016777]\n",
      "[0.00919148 0.00623169 0.00517959 0.10432534 0.57913956 0.0845724\n",
      " 0.15962091 0.05173904]\n",
      "[0.0094086  0.00500061 0.01815451 0.0082471  0.92474976 0.01189813\n",
      " 0.01677935 0.00576194]\n",
      "Iteration 2 KS Fid: 0.38101405307014247 Tomo Fid: 0.03437379738044298\n",
      "\n",
      "[0.01388505 0.01098574 0.00449051 0.01115557 0.01004637 0.00471654\n",
      " 0.93801016 0.00671007]\n",
      "[0.00947772 0.01411347 0.31757613 0.00983175 0.55914547 0.02140629\n",
      " 0.05250658 0.0159426 ]\n",
      "[0.02154253 0.00962238 0.01231006 0.01071053 0.0240913  0.00846517\n",
      " 0.89616421 0.01709381]\n",
      "Iteration 3 KS Fid: 0.8912347301671 Tomo Fid: 0.04365433385471276\n",
      "\n",
      "[0.9144494  0.01094896 0.01664757 0.01120049 0.006833   0.01094226\n",
      " 0.01777571 0.01120261]\n",
      "[0.89615999 0.01942872 0.01147125 0.02008149 0.01650081 0.01146245\n",
      " 0.01126418 0.01363111]\n",
      "[0.87251576 0.01613251 0.03300885 0.01103044 0.01032083 0.0137417\n",
      " 0.0317129  0.01153702]\n",
      "Iteration 4 KS Fid: 0.029977267213506728 Tomo Fid: 0.042103700357469576\n",
      "\n",
      "[0.01840599 0.01093457 0.89598104 0.01732762 0.02158913 0.0152125\n",
      " 0.00922656 0.01132258]\n",
      "[0.02157331 0.87271175 0.01601833 0.01995919 0.01406956 0.01835205\n",
      " 0.02578633 0.01152948]\n",
      "[0.02700288 0.017247   0.85216686 0.0199458  0.04123615 0.0111971\n",
      " 0.01925744 0.01194677]\n",
      "Iteration 5 KS Fid: 0.8874822707200595 Tomo Fid: 0.04782958317618917\n",
      "\n",
      "[0.01016001 0.0151244  0.0256664  0.02151401 0.87488805 0.01689287\n",
      " 0.0242041  0.01155017]\n",
      "[0.01885766 0.0173001  0.03515798 0.03570395 0.0347969  0.03036025\n",
      " 0.59801894 0.22980421]\n",
      "[0.01363376 0.01807176 0.0467252  0.021287   0.81918591 0.02431444\n",
      " 0.04414236 0.01263957]\n",
      "Iteration 6 KS Fid: 0.8400911455352037 Tomo Fid: 0.05592915132619428\n",
      "\n",
      "[0.02871435 0.02086224 0.01130532 0.02151433 0.0262304  0.01520364\n",
      " 0.85859855 0.01757117]\n",
      "[0.01959945 0.02414181 0.81106511 0.02064134 0.03505675 0.01806635\n",
      " 0.03636122 0.03506797]\n",
      "[0.05395508 0.02514648 0.02368164 0.01765951 0.04890951 0.01717122\n",
      " 0.79109701 0.02237956]\n",
      "Iteration 7 KS Fid: 0.8322252098893337 Tomo Fid: 0.07135636666933795\n",
      "\n",
      "[0.83725651 0.02082238 0.03109601 0.02162293 0.01348954 0.02081161\n",
      " 0.03314639 0.02175464]\n",
      "[0.82223232 0.03309413 0.01982252 0.0228807  0.03064761 0.02131408\n",
      " 0.02013855 0.02987009]\n",
      "[0.77001274 0.02291613 0.05952289 0.02113719 0.0236731  0.02083725\n",
      " 0.06017859 0.02172211]\n",
      "Iteration 8 KS Fid: 0.03930551306561793 Tomo Fid: 0.06776203762788649\n",
      "\n",
      "[0.03345846 0.02078728 0.8206431  0.02723288 0.03539406 0.02469831\n",
      " 0.01583805 0.02194786]\n",
      "[0.03468859 0.79916779 0.02723812 0.02924563 0.02245392 0.02281788\n",
      " 0.02284098 0.04154708]\n",
      "[0.06580946 0.02403429 0.74169922 0.02967665 0.0617947  0.02587891\n",
      " 0.0241428  0.02696398]\n",
      "Iteration 9 KS Fid: 0.8082255455897748 Tomo Fid: 0.0789438806436811\n",
      "\n",
      "[0.01671598 0.02457766 0.03991078 0.03110329 0.80155521 0.02618972\n",
      " 0.03769804 0.02224932]\n",
      "[0.02839488 0.02758082 0.04926836 0.02205817 0.04656534 0.04834989\n",
      " 0.73992391 0.03785863]\n",
      "[0.02555339 0.03455946 0.07166884 0.02859158 0.72677951 0.02517361\n",
      " 0.06228299 0.02539063]\n",
      "Iteration 10 KS Fid: 0.7640349930515813 Tomo Fid: 0.07830351835387768\n"
     ]
    },
    {
     "data": {
      "image/png": "[encoded data removed]",
      "text/plain": [
       "<Figure size 432x288 with 1 Axes>"
      ]
     },
     "metadata": {
      "needs_background": "light"
     },
     "output_type": "display_data"
    }
   ],
   "source": [
    "# Compare fidelity, use Qiskit API (when every state from KS is a valid density matrix)\n",
    "np.set_printoptions(suppress=True)\n",
    "diff_prob_all= []\n",
    "diff_prob_tomo= []\n",
    "for i in range(max_num_itrs):\n",
    "    qis_den_tomo = qi.DensityMatrix(tomo_dens[i])\n",
    "    qis_den_all = qi.DensityMatrix(total_smoother_dens[i])\n",
    "    prob_difference_tomo =  prob_dist(total_simu_dens[i].probabilities(), qis_den_tomo.probabilities())\n",
    "    prob_difference_all =  prob_dist(total_simu_dens[i].probabilities(), qis_den_all.probabilities())\n",
    "    diff_prob_all.append(prob_difference_all)\n",
    "    diff_prob_tomo.append(prob_difference_tomo)\n",
    "    print()\n",
    "    print(total_simu_dens[i].probabilities())\n",
    "    print( qis_den_all.probabilities())\n",
    "    print(qis_den_tomo.probabilities())\n",
    "    \n",
    "    print(\"Iteration\",i+1, \"KS Fid:\", prob_difference_all, \"Tomo Fid:\", prob_difference_tomo)\n",
    "    \n",
    "iter_range = range(max_num_itrs)\n",
    "plt.plot(np.array(iter_range)+1, np.array(diff_prob_all)[iter_range], '+-', color='red', label='KS')\n",
    "plt.plot(np.array(iter_range)+1, np.array(diff_prob_tomo)[iter_range], '*-', color='blue', label='Tomo')\n",
    "# plt.plot(np.array(iter_range)+1, np.array([0.9]*max_num_itrs)[iter_range], '--', color='lightgray')\n",
    "plt.xlabel(\"Number of Iterations\")\n",
    "plt.ylabel(\"Prob Dist\")\n",
    "plt.xticks((np.array(iter_range)+1))\n",
    "plt.legend()\n",
    "plt.tight_layout()\n",
    "# plt.savefig(\"diff_fed_qis.svg\")\n",
    "plt.show()"
   ]
  },
  {
   "cell_type": "code",
   "execution_count": 74,
   "metadata": {},
   "outputs": [
    {
     "data": {
      "text/plain": [
       "array([0.02839488, 0.02758082, 0.04926836, 0.02205817, 0.04656534,\n",
       "       0.04834989, 0.73992391, 0.03785863])"
      ]
     },
     "execution_count": 74,
     "metadata": {},
     "output_type": "execute_result"
    }
   ],
   "source": [
    " qis_den_all.probabilities()"
   ]
  },
  {
   "cell_type": "code",
   "execution_count": 72,
   "metadata": {},
   "outputs": [
    {
     "name": "stdout",
     "output_type": "stream",
     "text": [
      "Iteration 1 KS Fid: 0.011104253220388374 Tomo Fid: 0.9767335572943865\n",
      "Iteration 2 KS Fid: 0.6323721972931486 Tomo Fid: 0.9705051039277524\n",
      "Iteration 3 KS Fid: 0.11581053553175033 Tomo Fid: 0.962339107021715\n",
      "Iteration 4 KS Fid: 0.9933400359952066 Tomo Fid: 0.9595037023664446\n",
      "Iteration 5 KS Fid: 0.09938161959916894 Tomo Fid: 0.9463721307777148\n",
      "Iteration 6 KS Fid: 0.16082366556478306 Tomo Fid: 0.9441483520331874\n",
      "Iteration 7 KS Fid: 0.1593625716842812 Tomo Fid: 0.9618775901610772\n",
      "Iteration 8 KS Fid: 0.9904257754725737 Tomo Fid: 0.9549654737884307\n",
      "Iteration 9 KS Fid: 0.19097111518120694 Tomo Fid: 0.9712288289643626\n",
      "Iteration 10 KS Fid: 0.27251916369313633 Tomo Fid: 0.9539027542686669\n"
     ]
    },
    {
     "data": {
      "image/png": "[encoded data removed]",
      "text/plain": [
       "<Figure size 432x288 with 1 Axes>"
      ]
     },
     "metadata": {
      "needs_background": "light"
     },
     "output_type": "display_data"
    }
   ],
   "source": [
    "# Compare fidelity, use Qiskit API (when every state from KS is a valid density matrix)\n",
    "diff_fed_all= []\n",
    "diff_fed_tomo= []\n",
    "for i in range(max_num_itrs):\n",
    "    qis_den_tomo = qi.DensityMatrix(tomo_dens[i])\n",
    "    qis_den_all = qi.DensityMatrix(total_smoother_dens[i])\n",
    "    fed_difference_tomo =  qi.state_fidelity(total_simu_dens[i], qis_den_tomo)\n",
    "    fed_difference_all =  qi.state_fidelity(total_simu_dens[i], qis_den_all)\n",
    "    diff_fed_all.append(fed_difference_all)\n",
    "    diff_fed_tomo.append(fed_difference_tomo)\n",
    "    print(\"Iteration\",i+1, \"KS Fid:\", fed_difference_all, \"Tomo Fid:\", fed_difference_tomo)\n",
    "    \n",
    "iter_range = range(max_num_itrs)\n",
    "plt.plot(np.array(iter_range)+1, np.array(diff_fed_all)[iter_range], '+-', color='red', label='KS')\n",
    "plt.plot(np.array(iter_range)+1, np.array(diff_fed_tomo)[iter_range], '*-', color='blue', label='Tomo')\n",
    "# plt.plot(np.array(iter_range)+1, np.array([0.9]*max_num_itrs)[iter_range], '--', color='lightgray')\n",
    "plt.xlabel(\"Number of Iterations\")\n",
    "plt.ylabel(\"Fidelity\")\n",
    "plt.xticks((np.array(iter_range)+1))\n",
    "plt.legend()\n",
    "plt.tight_layout()\n",
    "# plt.savefig(\"diff_fed_qis.svg\")\n",
    "plt.show()"
   ]
  },
  {
   "cell_type": "code",
   "execution_count": null,
   "metadata": {},
   "outputs": [],
   "source": [
    "# Compare fidelity, use my own function (when some states from KS are not valid density matrices)\n",
    "diff_fed_all= []\n",
    "diff_fed_tomo= []\n",
    "for i in range(max_num_itrs):\n",
    "    fed_difference_tomo =  state_fid(total_simu_dens[i].data, tomo_dens[i])\n",
    "    fed_difference_all =  state_fid(total_simu_dens[i].data, total_smoother_dens[i])\n",
    "    diff_fed_all.append(fed_difference_all)\n",
    "    diff_fed_tomo.append(fed_difference_tomo)\n",
    "    print(\"Iteration\",i+1, \"KS Fid:\", fed_difference_all, \"Tomo Fid:\", fed_difference_tomo)\n",
    "    \n",
    "iter_range = range(max_num_itrs)\n",
    "plt.plot(np.array(iter_range)+1, np.array(diff_fed_all)[iter_range], '+-', color='red', label='KS')\n",
    "plt.plot(np.array(iter_range)+1, np.array(diff_fed_tomo)[iter_range], '*-', color='blue', label='Tomo')\n",
    "# plt.plot(np.array(iter_range)+1, np.array([0.9]*max_num_itrs)[iter_range], '--', color='lightgray')\n",
    "plt.xlabel(\"Number of Iterations\")\n",
    "plt.ylabel(\"Fidelity\")\n",
    "plt.xticks((np.array(iter_range)+1))\n",
    "plt.legend()\n",
    "plt.tight_layout()\n",
    "# plt.savefig(\"diff_fed.svg\")\n",
    "plt.show()"
   ]
  },
  {
   "cell_type": "code",
   "execution_count": null,
   "metadata": {},
   "outputs": [],
   "source": [
    "diff_norm_all= []\n",
    "diff_norm_tomo= []\n",
    "for i in range(max_num_itrs):\n",
    "    norm_difference_tomo =  np.linalg.norm(total_simu_dens[i].data-tomo_dens[i])\n",
    "    norm_difference_all =  np.linalg.norm(total_simu_dens[i].data-total_smoother_dens[i])\n",
    "    diff_norm_all.append(norm_difference_all)\n",
    "    diff_norm_tomo.append(norm_difference_tomo)\n",
    "    print(\"Iteration\",i+1, \"KS Norm:\", norm_difference_all, \"Tomo Norm:\", norm_difference_tomo)\n",
    "    \n",
    "iter_range = range(max_num_itrs)\n",
    "plt.plot(np.array(iter_range)+1, np.array(diff_norm_all)[iter_range], '+-', color='red', label='KS')\n",
    "plt.plot(np.array(iter_range)+1, np.array(diff_norm_tomo)[iter_range], '*-', color='blue', label='Tomo')\n",
    "plt.xlabel(\"Number of Iterations\")\n",
    "plt.ylabel(r'$||\\rho_{simu} - \\rho_{est}||_2$', fontsize=14)\n",
    "plt.xticks((np.array(iter_range)+1))\n",
    "plt.legend()\n",
    "plt.tight_layout()\n",
    "# plt.savefig(\"diff_norm.svg\")\n",
    "plt.show()"
   ]
  },
  {
   "cell_type": "code",
   "execution_count": null,
   "metadata": {},
   "outputs": [],
   "source": [
    "plt.plot(np.array(iter_range)+1, np.array(total_smoother_purs)[iter_range], '+-', label=\"KS\",color='red')\n",
    "plt.plot(np.array(iter_range)+1, np.array(tomo_purs)[iter_range], '*-', label=\"Tomo\",color='blue')\n",
    "# plt.plot(np.array(iter_range)+1, np.array(total_smoother_purs)[iter_range]-0.25, '+-', label=\"Estimated-0.25\",color='skyblue')\n",
    "plt.plot(np.array(iter_range)+1, np.array(total_simu_purs)[iter_range], label=\"Actual\", color='gray')\n",
    "plt.xlabel(\"Number of Iterations\")\n",
    "plt.ylabel(\"Purity\")\n",
    "plt.xticks((np.array(iter_range)+1))\n",
    "plt.legend()\n",
    "plt.tight_layout()\n",
    "# plt.savefig(\"diff_pur.svg\")\n",
    "plt.show()"
   ]
  },
  {
   "cell_type": "code",
   "execution_count": null,
   "metadata": {},
   "outputs": [],
   "source": [
    "plt.plot(np.array(iter_range)+1, np.abs(np.array(total_simu_purs)-np.array(total_smoother_purs))[iter_range], '+-', label=\"KS\",color='red')\n",
    "plt.plot(np.array(iter_range)+1, np.abs(np.array(total_simu_purs)-np.array(tomo_purs))[iter_range], '*-', label=\"Tomo\",color='blue')\n",
    "\n",
    "plt.xlabel(\"Number of Iterations\")\n",
    "plt.ylabel(\"Purity Difference\")\n",
    "plt.xticks((np.array(iter_range)+1))\n",
    "plt.legend()\n",
    "plt.tight_layout()\n",
    "# plt.savefig(\"diff_pur_diff.svg\")\n",
    "plt.show()"
   ]
  },
  {
   "cell_type": "code",
   "execution_count": null,
   "metadata": {},
   "outputs": [],
   "source": []
  },
  {
   "cell_type": "code",
   "execution_count": null,
   "metadata": {},
   "outputs": [],
   "source": []
  },
  {
   "cell_type": "code",
   "execution_count": null,
   "metadata": {},
   "outputs": [],
   "source": []
  }
 ],
 "metadata": {
  "kernelspec": {
   "display_name": "Python 3",
   "language": "python",
   "name": "python3"
  },
  "language_info": {
   "codemirror_mode": {
    "name": "ipython",
    "version": 3
   },
   "file_extension": ".py",
   "mimetype": "text/x-python",
   "name": "python",
   "nbconvert_exporter": "python",
   "pygments_lexer": "ipython3",
   "version": "3.9.7"
  }
 },
 "nbformat": 4,
 "nbformat_minor": 4
}
