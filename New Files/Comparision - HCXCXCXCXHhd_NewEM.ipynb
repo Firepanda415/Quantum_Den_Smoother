{
 "cells": [
  {
   "cell_type": "code",
   "execution_count": 27,
   "metadata": {},
   "outputs": [],
   "source": [
    "import numpy as np\n",
    "from collections import Counter\n",
    "from qiskit import IBMQ,Aer,schedule, execute, QuantumCircuit, QuantumRegister, ClassicalRegister, transpile\n",
    "from qiskit.tools.visualization import plot_histogram\n",
    "from qiskit.visualization import timeline_drawer\n",
    "from qiskit.visualization.pulse_v2 import draw, IQXDebugging\n",
    "from qiskit.tools.monitor import job_monitor\n",
    "from qiskit.providers.aer.noise import NoiseModel\n",
    "from qiskit.providers.aer import AerSimulator\n",
    "import qiskit.quantum_info as qi\n",
    "from qiskit.providers.aer.noise import QuantumError, ReadoutError\n",
    "\n",
    "# Tomography functions\n",
    "from qiskit_experiments.framework import ParallelExperiment\n",
    "from qiskit_experiments.library import StateTomography\n",
    "\n",
    "\n",
    "import KSEMhd\n",
    "from importlib import reload  \n",
    "KSEMhd = reload(KSEMhd)\n",
    "from KSEMhd import KSQS, EMLearn\n",
    "\n",
    "import matplotlib.pyplot as plt\n",
    "from matplotlib.pyplot import figure\n",
    "\n",
    "# plt.rcParams['text.usetex'] = True\n",
    "fig_size = (8,6)\n",
    "fig_dpi = 150"
   ]
  },
  {
   "cell_type": "code",
   "execution_count": 2,
   "metadata": {},
   "outputs": [
    {
     "data": {
      "text/plain": [
       "<AccountProvider for IBMQ(hub='ibm-q', group='open', project='main')>"
      ]
     },
     "execution_count": 2,
     "metadata": {},
     "output_type": "execute_result"
    }
   ],
   "source": [
    "IBMQ.load_account()"
   ]
  },
  {
   "cell_type": "code",
   "execution_count": 3,
   "metadata": {},
   "outputs": [
    {
     "name": "stderr",
     "output_type": "stream",
     "text": [
      "/home/firepanda415/anaconda3/envs/quantum/lib/python3.9/site-packages/qiskit/providers/aer/noise/device/models.py:264: UserWarning: Device model returned an invalid T_2 relaxation time greater than the theoretical maximum value 2 * T_1 (156018.171662324 > 2 * 27305.177399710472). Truncating to maximum value.\n",
      "  warn(\"Device model returned an invalid T_2 relaxation time greater than\"\n",
      "/home/firepanda415/anaconda3/envs/quantum/lib/python3.9/site-packages/qiskit/providers/aer/noise/device/models.py:264: UserWarning: Device model returned an invalid T_2 relaxation time greater than the theoretical maximum value 2 * T_1 (156018.171662324 > 2 * 27305.177399710472). Truncating to maximum value.\n",
      "  warn(\"Device model returned an invalid T_2 relaxation time greater than\"\n",
      "/home/firepanda415/anaconda3/envs/quantum/lib/python3.9/site-packages/qiskit/providers/aer/noise/device/models.py:264: UserWarning: Device model returned an invalid T_2 relaxation time greater than the theoretical maximum value 2 * T_1 (156018.171662324 > 2 * 27305.177399710472). Truncating to maximum value.\n",
      "  warn(\"Device model returned an invalid T_2 relaxation time greater than\"\n",
      "/home/firepanda415/anaconda3/envs/quantum/lib/python3.9/site-packages/qiskit/providers/aer/noise/device/models.py:264: UserWarning: Device model returned an invalid T_2 relaxation time greater than the theoretical maximum value 2 * T_1 (156018.171662324 > 2 * 27305.177399710472). Truncating to maximum value.\n",
      "  warn(\"Device model returned an invalid T_2 relaxation time greater than\"\n",
      "/home/firepanda415/anaconda3/envs/quantum/lib/python3.9/site-packages/qiskit/providers/aer/noise/device/models.py:264: UserWarning: Device model returned an invalid T_2 relaxation time greater than the theoretical maximum value 2 * T_1 (156018.171662324 > 2 * 27305.177399710472). Truncating to maximum value.\n",
      "  warn(\"Device model returned an invalid T_2 relaxation time greater than\"\n",
      "/home/firepanda415/anaconda3/envs/quantum/lib/python3.9/site-packages/qiskit/providers/aer/noise/device/models.py:264: UserWarning: Device model returned an invalid T_2 relaxation time greater than the theoretical maximum value 2 * T_1 (156018.171662324 > 2 * 27305.177399710472). Truncating to maximum value.\n",
      "  warn(\"Device model returned an invalid T_2 relaxation time greater than\"\n",
      "/home/firepanda415/anaconda3/envs/quantum/lib/python3.9/site-packages/qiskit/providers/aer/noise/device/models.py:264: UserWarning: Device model returned an invalid T_2 relaxation time greater than the theoretical maximum value 2 * T_1 (0.00015601817166232399 > 2 * 2.730517739971047e-05). Truncating to maximum value.\n",
      "  warn(\"Device model returned an invalid T_2 relaxation time greater than\"\n"
     ]
    }
   ],
   "source": [
    "provider = IBMQ.get_provider(hub=\"ibm-q-pnnl\", group=\"internal\", project=\"default\")\n",
    "name = \"ibmq_montreal\"\n",
    "backend = provider.get_backend(name)\n",
    "backend_noise_model = NoiseModel.from_backend(backend)\n",
    "# # Remove readout errros\n",
    "# p0given1 = 0\n",
    "# p1given0 = 1\n",
    "# rde = ReadoutError([[1 - p1given0, p1given0], [p0given1, 1 - p0given1]])\n",
    "# for i in range(backend.configuration().num_qubits):\n",
    "#     backend_noise_model._local_readout_errors[(i,)] = rde\n",
    "den_simu = AerSimulator(method='density_matrix',noise_model=backend_noise_model)\n",
    "\n",
    "n_qubits = 3\n",
    "reps = 8\n",
    "max_num_itrs = 10"
   ]
  },
  {
   "cell_type": "code",
   "execution_count": 4,
   "metadata": {},
   "outputs": [
    {
     "data": {
      "text/plain": [
       "{'type': 'roerror',\n",
       " 'operations': ['measure'],\n",
       " 'probabilities': [[0.992, 0.008], [0.020000000000000018, 0.98]],\n",
       " 'gate_qubits': [(26,)]}"
      ]
     },
     "execution_count": 4,
     "metadata": {},
     "output_type": "execute_result"
    }
   ],
   "source": [
    "backend_noise_model.to_dict()['errors'][-1]"
   ]
  },
  {
   "cell_type": "code",
   "execution_count": 5,
   "metadata": {},
   "outputs": [
    {
     "name": "stdout",
     "output_type": "stream",
     "text": [
      "2022-09-29 07:30:20-04:00\n"
     ]
    }
   ],
   "source": [
    "print(backend.properties().to_dict()[ 'last_update_date'])"
   ]
  },
  {
   "cell_type": "code",
   "execution_count": 6,
   "metadata": {},
   "outputs": [],
   "source": [
    "from qiskit.visualization import plot_error_map, plot_gate_map\n",
    "%matplotlib inline\n",
    "\n",
    "# plot_error_map(backend, figsize=(18, 12))"
   ]
  },
  {
   "cell_type": "code",
   "execution_count": 7,
   "metadata": {},
   "outputs": [],
   "source": [
    "from qiskit import Aer\n",
    "def single_iter(n_qubits=2):\n",
    "    iterate = QuantumCircuit(n_qubits)\n",
    "    iterate.h(0)\n",
    "    iterate.cx(0,1)\n",
    "    iterate.cx(1,2)\n",
    "    iterate.barrier()\n",
    "    iterate.cx(1,2)\n",
    "    iterate.cx(0,1)\n",
    "    iterate.h(0)\n",
    "    iterate.barrier()\n",
    "    return iterate\n",
    "\n",
    "def iterative_circ(num_itrs, n_qubits=2, save_den = True, meas_x = False):   \n",
    "    total_circ = QuantumCircuit(n_qubits)\n",
    "    for i in range(num_itrs):\n",
    "        total_circ.compose(single_iter(n_qubits), inplace=True)\n",
    "    if meas_x:\n",
    "        for i in range(n_qubits):\n",
    "            total_circ.h(i)\n",
    "    if save_den:\n",
    "        total_circ.save_density_matrix(pershot=False)\n",
    "    total_circ.measure_all()\n",
    "    return total_circ"
   ]
  },
  {
   "cell_type": "code",
   "execution_count": 8,
   "metadata": {},
   "outputs": [
    {
     "data": {
      "image/png": "[encoded data removed]",
      "text/plain": [
       "<Figure size 568.197x204.68 with 1 Axes>"
      ]
     },
     "execution_count": 8,
     "metadata": {},
     "output_type": "execute_result"
    }
   ],
   "source": [
    "single_iter(n_qubits).draw(\"mpl\")"
   ]
  },
  {
   "cell_type": "code",
   "execution_count": 9,
   "metadata": {},
   "outputs": [
    {
     "name": "stdout",
     "output_type": "stream",
     "text": [
      "10\n"
     ]
    },
    {
     "data": {
      "image/png": "[encoded data removed]",
      "text/plain": [
       "<Figure size 808.997x204.68 with 1 Axes>"
      ]
     },
     "execution_count": 9,
     "metadata": {},
     "output_type": "execute_result"
    }
   ],
   "source": [
    "temp_circ = transpile(single_iter(n_qubits), backend=den_simu)\n",
    "print(temp_circ.depth())\n",
    "temp_circ.draw(\"mpl\")"
   ]
  },
  {
   "cell_type": "code",
   "execution_count": 10,
   "metadata": {},
   "outputs": [],
   "source": [
    "# temp_circ2 = iterative_circ(max_num_itrs, n_qubits, save_den = False)\n",
    "# temp_circ3 = transpile(temp_circ2, backend=backend)\n",
    "# print(\"Depth:\", temp_circ3.depth())\n",
    "# print(\"T1:\", backend.properties().qubit_property(0)['T1'][0], \"sec\")\n",
    "# print(\"T2:\", backend.properties().qubit_property(0)['T2'][0], \"sec\")\n",
    "# dt = backend.configuration().dt # sec\n",
    "# temp_sch = schedule(temp_circ3, backend)\n",
    "# print(\"Circuit Operation Time:\",(temp_sch.stop_time - temp_sch.start_time)*dt, \"sec\")"
   ]
  },
  {
   "cell_type": "markdown",
   "metadata": {},
   "source": [
    "## Qiskit Backend-noise Simulation\n",
    "\n",
    "Obtain measurement data and actual quantum states (from a backend-noise simulator)\n",
    "\n",
    "Note that the outputs does not have measurement noise because the probabilities are obtained from density matrix object, instead of measurement operator API."
   ]
  },
  {
   "cell_type": "code",
   "execution_count": 11,
   "metadata": {},
   "outputs": [],
   "source": [
    "unitary_simulator = Aer.get_backend('aer_simulator')\n",
    "unitary_circ = transpile(single_iter(n_qubits), backend=den_simu)\n",
    "unitary_circ.save_unitary()\n",
    "unitary_result = unitary_simulator.run(unitary_circ).result()\n",
    "unitary = unitary_result.get_unitary(unitary_circ)\n",
    "\n",
    "unitaries = []\n",
    "for i in range(1, max_num_itrs+1):\n",
    "    gate = unitary.data\n",
    "    F = np.kron(gate.conjugate(), gate)\n",
    "    unitaries.append(F)"
   ]
  },
  {
   "cell_type": "code",
   "execution_count": 12,
   "metadata": {},
   "outputs": [
    {
     "data": {
      "text/plain": [
       "{'111': 201,\n",
       " '011': 606,\n",
       " '000': 56667,\n",
       " '010': 1986,\n",
       " '100': 1559,\n",
       " '110': 244,\n",
       " '001': 3970,\n",
       " '101': 303}"
      ]
     },
     "execution_count": 12,
     "metadata": {},
     "output_type": "execute_result"
    }
   ],
   "source": [
    "trans_circ = transpile(iterative_circ(3, n_qubits), backend=den_simu)\n",
    "iter_res = den_simu.run(trans_circ,shots=8192*reps,seed_simulator=np.random.randint(10**8)).result()\n",
    "iter_res.get_counts()"
   ]
  },
  {
   "cell_type": "code",
   "execution_count": 13,
   "metadata": {},
   "outputs": [
    {
     "name": "stdout",
     "output_type": "stream",
     "text": [
      "Purity\n",
      "0.9387248345997158\n",
      "0.8832423047668297\n",
      "0.8329904349331702\n",
      "0.7874630399904101\n",
      "0.7462041135504048\n",
      "0.7088027847901779\n",
      "0.674888786042873\n",
      "0.6441283791922279\n",
      "0.6162206942225884\n",
      "0.5908944380306259\n",
      "\n",
      "Prob Vec\n",
      "[0.92059326 0.02476501 0.02493286 0.00357056 0.02180481 0.00157166\n",
      " 0.00161743 0.00114441]\n",
      "[0.8910675  0.0428772  0.02867126 0.00592041 0.02365112 0.00315857\n",
      " 0.00242615 0.00222778]\n",
      "[0.86489868 0.06118774 0.02992249 0.00971985 0.02336121 0.00419617\n",
      " 0.0037384  0.00297546]\n",
      "[0.84011841 0.07603455 0.03175354 0.01249695 0.0247345  0.00611877\n",
      " 0.0045166  0.00422668]\n",
      "[0.81660461 0.09185791 0.0335083  0.01564026 0.02459717 0.00660706\n",
      " 0.00588989 0.0052948 ]\n",
      "[0.79318237 0.10803223 0.03569031 0.01707458 0.02435303 0.00907898\n",
      " 0.00686646 0.00572205]\n",
      "[0.77067566 0.12185669 0.03671265 0.02113342 0.02563477 0.01016235\n",
      " 0.00717163 0.00665283]\n",
      "[0.75028992 0.13470459 0.04029846 0.02297974 0.02531433 0.01071167\n",
      " 0.008255   0.00744629]\n",
      "[0.72918701 0.1481781  0.04121399 0.02601624 0.026474   0.01173401\n",
      " 0.00923157 0.00796509]\n",
      "[0.71200562 0.15713501 0.0433197  0.02757263 0.02604675 0.01373291\n",
      " 0.00991821 0.01026917]\n"
     ]
    }
   ],
   "source": [
    "np.random.seed(7)\n",
    "\n",
    "\n",
    "total_simu_dens = [] # quantum state in density-matrix form\n",
    "total_simu_probs = [] # measurement result\n",
    "total_simu_purs = [] # purity\n",
    "for i in range(1, max_num_itrs+1):\n",
    "    trans_circ = transpile(iterative_circ(i, n_qubits), backend=den_simu)\n",
    "    iter_res = den_simu.run(trans_circ,shots=8192*reps,seed_simulator=np.random.randint(10**8)).result()\n",
    "    iter_den = iter_res.data()['density_matrix']\n",
    "    total_simu_dens.append(iter_den)\n",
    "    total_simu_probs.append(KSEMhd.dictToVec(iter_res.get_counts()))\n",
    "    total_simu_purs.append(np.real(iter_den.purity()))\n",
    "    \n",
    "print(\"Purity\")\n",
    "for pu in total_simu_purs:\n",
    "    print(pu)\n",
    "    \n",
    "print(\"\\nProb Vec\")\n",
    "for p in total_simu_probs:\n",
    "    print(p)"
   ]
  },
  {
   "cell_type": "code",
   "execution_count": 14,
   "metadata": {},
   "outputs": [],
   "source": [
    "def meas_mat(num_qubits):# H, measurement matrix for vectorized density matrix\n",
    "    nrows = 2**num_qubits\n",
    "    ncols = nrows**2\n",
    "    mat = csc_matrix((nrows, ncols), dtype=complex)\n",
    "    for k in range(nrows):\n",
    "        mat[k, nrows*k+k] = 1 # take out the diagonal terms in vectorized density matrix\n",
    "    return mat"
   ]
  },
  {
   "cell_type": "markdown",
   "metadata": {},
   "source": [
    "## State Tomography"
   ]
  },
  {
   "cell_type": "markdown",
   "metadata": {},
   "source": [
    "### Use a Noise Model without Measurement Error for Tomography"
   ]
  },
  {
   "cell_type": "code",
   "execution_count": 15,
   "metadata": {},
   "outputs": [
    {
     "name": "stderr",
     "output_type": "stream",
     "text": [
      "/home/firepanda415/anaconda3/envs/quantum/lib/python3.9/site-packages/qiskit/providers/aer/noise/device/models.py:264: UserWarning: Device model returned an invalid T_2 relaxation time greater than the theoretical maximum value 2 * T_1 (156018.171662324 > 2 * 27305.177399710472). Truncating to maximum value.\n",
      "  warn(\"Device model returned an invalid T_2 relaxation time greater than\"\n",
      "/home/firepanda415/anaconda3/envs/quantum/lib/python3.9/site-packages/qiskit/providers/aer/noise/device/models.py:264: UserWarning: Device model returned an invalid T_2 relaxation time greater than the theoretical maximum value 2 * T_1 (156018.171662324 > 2 * 27305.177399710472). Truncating to maximum value.\n",
      "  warn(\"Device model returned an invalid T_2 relaxation time greater than\"\n",
      "/home/firepanda415/anaconda3/envs/quantum/lib/python3.9/site-packages/qiskit/providers/aer/noise/device/models.py:264: UserWarning: Device model returned an invalid T_2 relaxation time greater than the theoretical maximum value 2 * T_1 (156018.171662324 > 2 * 27305.177399710472). Truncating to maximum value.\n",
      "  warn(\"Device model returned an invalid T_2 relaxation time greater than\"\n",
      "/home/firepanda415/anaconda3/envs/quantum/lib/python3.9/site-packages/qiskit/providers/aer/noise/device/models.py:264: UserWarning: Device model returned an invalid T_2 relaxation time greater than the theoretical maximum value 2 * T_1 (156018.171662324 > 2 * 27305.177399710472). Truncating to maximum value.\n",
      "  warn(\"Device model returned an invalid T_2 relaxation time greater than\"\n",
      "/home/firepanda415/anaconda3/envs/quantum/lib/python3.9/site-packages/qiskit/providers/aer/noise/device/models.py:264: UserWarning: Device model returned an invalid T_2 relaxation time greater than the theoretical maximum value 2 * T_1 (156018.171662324 > 2 * 27305.177399710472). Truncating to maximum value.\n",
      "  warn(\"Device model returned an invalid T_2 relaxation time greater than\"\n",
      "/home/firepanda415/anaconda3/envs/quantum/lib/python3.9/site-packages/qiskit/providers/aer/noise/device/models.py:264: UserWarning: Device model returned an invalid T_2 relaxation time greater than the theoretical maximum value 2 * T_1 (156018.171662324 > 2 * 27305.177399710472). Truncating to maximum value.\n",
      "  warn(\"Device model returned an invalid T_2 relaxation time greater than\"\n",
      "/home/firepanda415/anaconda3/envs/quantum/lib/python3.9/site-packages/qiskit/providers/aer/noise/device/models.py:264: UserWarning: Device model returned an invalid T_2 relaxation time greater than the theoretical maximum value 2 * T_1 (0.00015601817166232399 > 2 * 2.730517739971047e-05). Truncating to maximum value.\n",
      "  warn(\"Device model returned an invalid T_2 relaxation time greater than\"\n"
     ]
    }
   ],
   "source": [
    "backend_noise_model_for_tomo = NoiseModel.from_backend(backend)\n",
    "# Remove readout errros\n",
    "p0given1 = 0\n",
    "p1given0 = 0\n",
    "rde = ReadoutError([[1 - p1given0, p1given0], [p0given1, 1 - p0given1]])\n",
    "for i in range(backend.configuration().num_qubits):\n",
    "    backend_noise_model_for_tomo._local_readout_errors[(i,)] = rde\n",
    "den_simu_for_tomo = AerSimulator(method='density_matrix',noise_model=backend_noise_model_for_tomo)"
   ]
  },
  {
   "cell_type": "code",
   "execution_count": 16,
   "metadata": {},
   "outputs": [
    {
     "name": "stdout",
     "output_type": "stream",
     "text": [
      "Tomography Purity\n",
      "0.8363001560091098\n",
      "0.7974833095982583\n",
      "0.755336936672531\n",
      "0.7071572530386183\n",
      "0.6860850697893363\n",
      "0.653358607129645\n",
      "0.6108775533018599\n",
      "0.6076796368778349\n",
      "0.5661945413524507\n",
      "0.5534654193454321\n",
      "\n",
      "Tomography Prob Vec\n",
      "[0.90752268 0.02515714 0.0252223  0.00587538 0.01986892 0.00625149\n",
      " 0.00524652 0.00485556]\n",
      "[0.88672607 0.04106026 0.02741584 0.00557775 0.02330155 0.00763455\n",
      " 0.00501422 0.00326975]\n",
      "[0.86035867 0.05713711 0.03188851 0.0113001  0.02095035 0.00927576\n",
      " 0.00609686 0.00299264]\n",
      "[0.83103831 0.07493525 0.04009704 0.01114107 0.02696468 0.00632302\n",
      " 0.00491752 0.00458313]\n",
      "[0.8161974  0.08368614 0.02948156 0.0228297  0.02464183 0.00822149\n",
      " 0.00934132 0.00560057]\n",
      "[0.79363878 0.10466813 0.03412167 0.01828105 0.02120894 0.00974589\n",
      " 0.01088681 0.00744872]\n",
      "[0.76260041 0.12169022 0.037065   0.0199719  0.0343948  0.00912416\n",
      " 0.00526395 0.00988956]\n",
      "[0.75929422 0.12941614 0.03592104 0.0202115  0.02540094 0.01035683\n",
      " 0.00739926 0.01200008]\n",
      "[0.72813262 0.14026028 0.04015827 0.02928729 0.02941196 0.01471155\n",
      " 0.00862149 0.00941654]\n",
      "[0.72075738 0.15245226 0.03542752 0.03027344 0.02604167 0.01307509\n",
      " 0.01421441 0.00775825]\n"
     ]
    }
   ],
   "source": [
    "np.random.seed(7)\n",
    "\n",
    "tomo_dens = [] # quantum state in density-matrix form\n",
    "tomo_probs = [] # measurement result\n",
    "tomo_purs = [] # purity\n",
    "for i in range(1, max_num_itrs+1):\n",
    "    tomo_target_circ = transpile(iterative_circ(i, n_qubits, save_den = False), backend=den_simu_for_tomo)\n",
    "    qstexp = StateTomography(tomo_target_circ)\n",
    "    qstdata = qstexp.run(den_simu, seed_simulation=np.random.randint(10**8)).block_for_results()\n",
    "    tomo_state =  qstdata.analysis_results(\"state\")\n",
    "    \n",
    "    tomo_dens.append(tomo_state.value.data)\n",
    "    tomo_probs.append(tomo_state.value.probabilities())\n",
    "    tomo_purs.append(np.real(tomo_state.value.purity()))\n",
    "    \n",
    "print(\"Tomography Purity\")\n",
    "for pu in tomo_purs:\n",
    "    print(pu)\n",
    "    \n",
    "print(\"\\nTomography Prob Vec\")\n",
    "for p in tomo_probs:\n",
    "    print(p)"
   ]
  },
  {
   "cell_type": "markdown",
   "metadata": {},
   "source": [
    "## Kalman Smoother"
   ]
  },
  {
   "cell_type": "code",
   "execution_count": 17,
   "metadata": {},
   "outputs": [],
   "source": [
    "def vecden_meas(state):# H, measurement matrix for vectorized density matrix\n",
    "    num_qubits = int(np.log2(np.sqrt(state.shape[0])))\n",
    "    nrows = 2**num_qubits\n",
    "    ncols = nrows**2\n",
    "    mat = np.zeros((nrows, ncols), dtype=np.float64)\n",
    "    for k in range(nrows):\n",
    "        mat[k, nrows*k+k] = 1.0 # take out the diagonal terms in vectorized density matrix\n",
    "    return np.real(mat.dot(state))"
   ]
  },
  {
   "cell_type": "markdown",
   "metadata": {},
   "source": [
    "## Add X-basis measurements"
   ]
  },
  {
   "cell_type": "code",
   "execution_count": 18,
   "metadata": {},
   "outputs": [],
   "source": [
    "total_simu_probs_x = [] # measurement result, x-basis\n",
    "for i in range(1, max_num_itrs+1):\n",
    "    trans_circ = transpile(iterative_circ(i, n_qubits, save_den = False, meas_x = True), backend=den_simu)\n",
    "    iter_res = den_simu.run(trans_circ,shots=8192*reps,seed_simulator=np.random.randint(10**8)).result()\n",
    "    total_simu_probs_x.append(KSEMhd.dictToVec(iter_res.get_counts()))"
   ]
  },
  {
   "cell_type": "code",
   "execution_count": 19,
   "metadata": {},
   "outputs": [
    {
     "data": {
      "text/plain": [
       "[array([0.13873291, 0.13380432, 0.11593628, 0.11074829, 0.13949585,\n",
       "        0.13508606, 0.11376953, 0.11242676]),\n",
       " array([0.14152527, 0.13388062, 0.11668396, 0.11004639, 0.1391449 ,\n",
       "        0.1342926 , 0.11494446, 0.10948181]),\n",
       " array([0.13967896, 0.13330078, 0.11689758, 0.11006165, 0.14091492,\n",
       "        0.1335144 , 0.11721802, 0.1084137 ]),\n",
       " array([0.14335632, 0.13076782, 0.11813354, 0.10810852, 0.13978577,\n",
       "        0.13374329, 0.11578369, 0.11032104]),\n",
       " array([0.14358521, 0.12965393, 0.11790466, 0.10768127, 0.14257812,\n",
       "        0.13320923, 0.11639404, 0.10899353]),\n",
       " array([0.14256287, 0.13153076, 0.11854553, 0.10871887, 0.14230347,\n",
       "        0.13026428, 0.1161499 , 0.10992432]),\n",
       " array([0.14485168, 0.1312561 , 0.11843872, 0.10960388, 0.14309692,\n",
       "        0.12928772, 0.11961365, 0.10385132]),\n",
       " array([0.14546204, 0.12867737, 0.11976624, 0.10673523, 0.14413452,\n",
       "        0.1295929 , 0.11947632, 0.1061554 ]),\n",
       " array([0.14543152, 0.13064575, 0.11882019, 0.10710144, 0.14431763,\n",
       "        0.12942505, 0.11955261, 0.10470581]),\n",
       " array([0.1463623 , 0.12704468, 0.1227417 , 0.10673523, 0.14582825,\n",
       "        0.12670898, 0.11862183, 0.10595703])]"
      ]
     },
     "execution_count": 19,
     "metadata": {},
     "output_type": "execute_result"
    }
   ],
   "source": [
    "total_simu_probs_x"
   ]
  },
  {
   "cell_type": "code",
   "execution_count": 20,
   "metadata": {},
   "outputs": [
    {
     "data": {
      "text/plain": [
       "[array([0.92059326, 0.02476501, 0.02493286, 0.00357056, 0.02180481,\n",
       "        0.00157166, 0.00161743, 0.00114441, 0.13873291, 0.13380432,\n",
       "        0.11593628, 0.11074829, 0.13949585, 0.13508606, 0.11376953,\n",
       "        0.11242676]),\n",
       " array([0.8910675 , 0.0428772 , 0.02867126, 0.00592041, 0.02365112,\n",
       "        0.00315857, 0.00242615, 0.00222778, 0.14152527, 0.13388062,\n",
       "        0.11668396, 0.11004639, 0.1391449 , 0.1342926 , 0.11494446,\n",
       "        0.10948181]),\n",
       " array([0.86489868, 0.06118774, 0.02992249, 0.00971985, 0.02336121,\n",
       "        0.00419617, 0.0037384 , 0.00297546, 0.13967896, 0.13330078,\n",
       "        0.11689758, 0.11006165, 0.14091492, 0.1335144 , 0.11721802,\n",
       "        0.1084137 ]),\n",
       " array([0.84011841, 0.07603455, 0.03175354, 0.01249695, 0.0247345 ,\n",
       "        0.00611877, 0.0045166 , 0.00422668, 0.14335632, 0.13076782,\n",
       "        0.11813354, 0.10810852, 0.13978577, 0.13374329, 0.11578369,\n",
       "        0.11032104]),\n",
       " array([0.81660461, 0.09185791, 0.0335083 , 0.01564026, 0.02459717,\n",
       "        0.00660706, 0.00588989, 0.0052948 , 0.14358521, 0.12965393,\n",
       "        0.11790466, 0.10768127, 0.14257812, 0.13320923, 0.11639404,\n",
       "        0.10899353]),\n",
       " array([0.79318237, 0.10803223, 0.03569031, 0.01707458, 0.02435303,\n",
       "        0.00907898, 0.00686646, 0.00572205, 0.14256287, 0.13153076,\n",
       "        0.11854553, 0.10871887, 0.14230347, 0.13026428, 0.1161499 ,\n",
       "        0.10992432]),\n",
       " array([0.77067566, 0.12185669, 0.03671265, 0.02113342, 0.02563477,\n",
       "        0.01016235, 0.00717163, 0.00665283, 0.14485168, 0.1312561 ,\n",
       "        0.11843872, 0.10960388, 0.14309692, 0.12928772, 0.11961365,\n",
       "        0.10385132]),\n",
       " array([0.75028992, 0.13470459, 0.04029846, 0.02297974, 0.02531433,\n",
       "        0.01071167, 0.008255  , 0.00744629, 0.14546204, 0.12867737,\n",
       "        0.11976624, 0.10673523, 0.14413452, 0.1295929 , 0.11947632,\n",
       "        0.1061554 ]),\n",
       " array([0.72918701, 0.1481781 , 0.04121399, 0.02601624, 0.026474  ,\n",
       "        0.01173401, 0.00923157, 0.00796509, 0.14543152, 0.13064575,\n",
       "        0.11882019, 0.10710144, 0.14431763, 0.12942505, 0.11955261,\n",
       "        0.10470581]),\n",
       " array([0.71200562, 0.15713501, 0.0433197 , 0.02757263, 0.02604675,\n",
       "        0.01373291, 0.00991821, 0.01026917, 0.1463623 , 0.12704468,\n",
       "        0.1227417 , 0.10673523, 0.14582825, 0.12670898, 0.11862183,\n",
       "        0.10595703])]"
      ]
     },
     "execution_count": 20,
     "metadata": {},
     "output_type": "execute_result"
    }
   ],
   "source": [
    "observs = []\n",
    "for i in range(len(total_simu_probs)):\n",
    "    z_meas_p = total_simu_probs[i]\n",
    "    x_meas_p = total_simu_probs_x[i]\n",
    "    observs.append(np.append(z_meas_p, x_meas_p))\n",
    "observs"
   ]
  },
  {
   "cell_type": "markdown",
   "metadata": {},
   "source": [
    "### Initialize"
   ]
  },
  {
   "cell_type": "code",
   "execution_count": 21,
   "metadata": {},
   "outputs": [],
   "source": [
    "initial_state = np.array([0]*(total_simu_probs[0].size**2), dtype=complex)\n",
    "initial_state[0] = 1\n",
    "\n",
    "# initial state\n",
    "num_dim = initial_state.size\n",
    "x =initial_state\n",
    "x[0]-= 0.01/num_dim\n",
    "nrows = int(x.size-1)\n",
    "for k in range(1,nrows+1):\n",
    "    x[k] += 1/(num_dim*nrows)"
   ]
  },
  {
   "cell_type": "code",
   "execution_count": 22,
   "metadata": {},
   "outputs": [],
   "source": [
    "# Other variance parameters\n",
    "num_dim_state = initial_state.size\n",
    "num_dim_obs = observs[0].size\n",
    "\n",
    "M = np.identity(num_dim_state, dtype=complex)* 0.01 * (1) # a guess for covariance matrix, E[(x0-xhat0^+)(x0-xhat0^+)^T]\n",
    "Q = np.identity(num_dim_state, dtype=complex)* 0.2 * (1) # state covariance\n",
    "R = np.identity(num_dim_obs)* 0.2 * (1) # meas covariance\n",
    "P = np.identity(num_dim_state, dtype=complex)* 0.1 * (1)# \n",
    "# U = np.identity(num_dim_obs, dtype=complex)* 0.0"
   ]
  },
  {
   "cell_type": "code",
   "execution_count": 23,
   "metadata": {},
   "outputs": [
    {
     "data": {
      "text/plain": [
       "(64, 64, 16, 4096)"
      ]
     },
     "execution_count": 23,
     "metadata": {},
     "output_type": "execute_result"
    }
   ],
   "source": [
    "x.size,num_dim_state,num_dim_obs, unitaries[0].size"
   ]
  },
  {
   "cell_type": "markdown",
   "metadata": {},
   "source": [
    "### EM and Smoother - Total"
   ]
  },
  {
   "cell_type": "markdown",
   "metadata": {},
   "source": [
    "Use longest iterations"
   ]
  },
  {
   "cell_type": "code",
   "execution_count": 28,
   "metadata": {},
   "outputs": [
    {
     "name": "stdout",
     "output_type": "stream",
     "text": [
      "Iteration statrts New ll 2501.62-0.00j, Last ll 1250.81-0.00j\n",
      "WARNING: ll=2.2499e+23-2.6183e+20j, ||Q||=0.0000e+00+0.0000e+00j, ||R||=-9.2177e-164+5.2326e-180j, ||Q^-1A||=nan+nanj, ||R^-1B||=4.8026e+106+2.9882e+106j\n",
      "Iteration     1, New log-likelihood 2.24991e+23-2.61834e+20j, Last log-likelihood 2.50162e+03-1.49144e-31j, Change 2.24991e+23-2.61834e+20j\n",
      "WARNING: ll=1.0626e+12+7.1437e+10j, ||Q||=0.0000e+00+0.0000e+00j, ||R||=-4.1707e-118+1.5587e-118j, ||Q^-1A||=-3.6738e+257-2.8812e+256j, ||R^-1B||=5.4294e+56-2.6010e+56j\n",
      "Iteration     2, New log-likelihood 1.06261e+12+7.14372e+10j, Last log-likelihood 2.24991e+23-2.61834e+20j, Change -2.24991e+23+2.61834e+20j\n",
      "Iteration     3, New log-likelihood 2.73551e+08-1.05590e+08j, Last log-likelihood 1.06261e+12+7.14372e+10j, Change -1.06234e+12-7.15428e+10j\n",
      "Iteration     4, New log-likelihood 2.48100e+09+7.60962e+09j, Last log-likelihood 2.73551e+08-1.05590e+08j, Change 2.20745e+09+7.71521e+09j\n",
      "Iteration     5, New log-likelihood -1.10489e+15-6.89504e+15j, Last log-likelihood 2.48100e+09+7.60962e+09j, Change -1.10490e+15-6.89505e+15j\n"
     ]
    },
    {
     "ename": "KeyboardInterrupt",
     "evalue": "",
     "output_type": "error",
     "traceback": [
      "\u001b[0;31m---------------------------------------------------------------------------\u001b[0m",
      "\u001b[0;31mKeyboardInterrupt\u001b[0m                         Traceback (most recent call last)",
      "Input \u001b[0;32mIn [28]\u001b[0m, in \u001b[0;36m<cell line: 6>\u001b[0;34m()\u001b[0m\n\u001b[1;32m      4\u001b[0m \u001b[38;5;66;03m# observs = total_simu_probs\u001b[39;00m\n\u001b[1;32m      5\u001b[0m learn_obj \u001b[38;5;241m=\u001b[39m EMLearn(observs, unitaries[\u001b[38;5;241m0\u001b[39m], x, M, Q, R, P)\n\u001b[0;32m----> 6\u001b[0m estX0, estM0, estQ, estR, estF \u001b[38;5;241m=\u001b[39m \u001b[43mlearn_obj\u001b[49m\u001b[38;5;241;43m.\u001b[39;49m\u001b[43mlearn\u001b[49m\u001b[43m(\u001b[49m\u001b[43m)\u001b[49m \u001b[38;5;66;03m# they are all arguemented\u001b[39;00m\n\u001b[1;32m      8\u001b[0m \u001b[38;5;66;03m# Slice from argumented system\u001b[39;00m\n\u001b[1;32m      9\u001b[0m realX0 \u001b[38;5;241m=\u001b[39m estX0\u001b[38;5;241m.\u001b[39mtoarray()[:num_dim_state]\n",
      "File \u001b[0;32m~/Quantum_Den_Smoother/KSEMhd.py:645\u001b[0m, in \u001b[0;36mEMLearn.learn\u001b[0;34m(self, eps)\u001b[0m\n\u001b[1;32m    638\u001b[0m counter \u001b[38;5;241m+\u001b[39m\u001b[38;5;241m=\u001b[39m \u001b[38;5;241m1\u001b[39m            \n\u001b[1;32m    639\u001b[0m smoother \u001b[38;5;241m=\u001b[39m KSQS(\u001b[38;5;28mself\u001b[39m\u001b[38;5;241m.\u001b[39mys, \n\u001b[1;32m    640\u001b[0m                 \u001b[38;5;28mself\u001b[39m\u001b[38;5;241m.\u001b[39mFa, \n\u001b[1;32m    641\u001b[0m                 \u001b[38;5;28mself\u001b[39m\u001b[38;5;241m.\u001b[39mx0, \u001b[38;5;28mself\u001b[39m\u001b[38;5;241m.\u001b[39mM0, \n\u001b[1;32m    642\u001b[0m                 \u001b[38;5;28mself\u001b[39m\u001b[38;5;241m.\u001b[39mQa, \n\u001b[1;32m    643\u001b[0m                 \u001b[38;5;28mself\u001b[39m\u001b[38;5;241m.\u001b[39mRa, \n\u001b[1;32m    644\u001b[0m                 Augmented \u001b[38;5;241m=\u001b[39m \u001b[38;5;28;01mTrue\u001b[39;00m)\n\u001b[0;32m--> 645\u001b[0m \u001b[38;5;28mself\u001b[39m\u001b[38;5;241m.\u001b[39mxa_seq, \u001b[38;5;28mself\u001b[39m\u001b[38;5;241m.\u001b[39mMa_seq, \u001b[38;5;28mself\u001b[39m\u001b[38;5;241m.\u001b[39mMa_prio_seq \u001b[38;5;241m=\u001b[39m \u001b[43msmoother\u001b[49m\u001b[38;5;241;43m.\u001b[39;49m\u001b[43msmooth\u001b[49m\u001b[43m(\u001b[49m\u001b[43m)\u001b[49m \u001b[38;5;66;03m# NOTE: self.xa_seq, self.Ma_seq contains elements at time 0, while the last two does not\u001b[39;00m\n\u001b[1;32m    646\u001b[0m \u001b[38;5;28mself\u001b[39m\u001b[38;5;241m.\u001b[39mx0_smoothed \u001b[38;5;241m=\u001b[39m \u001b[38;5;28mself\u001b[39m\u001b[38;5;241m.\u001b[39mxa_seq[\u001b[38;5;241m0\u001b[39m]\u001b[38;5;241m.\u001b[39mcopy()\n\u001b[1;32m    647\u001b[0m \u001b[38;5;28mself\u001b[39m\u001b[38;5;241m.\u001b[39mM0_smoothed \u001b[38;5;241m=\u001b[39m \u001b[38;5;28mself\u001b[39m\u001b[38;5;241m.\u001b[39mMa_seq[\u001b[38;5;241m0\u001b[39m]\u001b[38;5;241m.\u001b[39mcopy()\n",
      "File \u001b[0;32m~/Quantum_Den_Smoother/KSEMhd.py:310\u001b[0m, in \u001b[0;36mKSQS.smooth\u001b[0;34m(self)\u001b[0m\n\u001b[1;32m    308\u001b[0m \u001b[38;5;28mself\u001b[39m\u001b[38;5;241m.\u001b[39mMa_prio_seq\u001b[38;5;241m.\u001b[39mappend(\u001b[38;5;28;01mNone\u001b[39;00m) \u001b[38;5;66;03m# does not have prior for time 0\u001b[39;00m\n\u001b[1;32m    309\u001b[0m \u001b[38;5;28;01mfor\u001b[39;00m t \u001b[38;5;129;01min\u001b[39;00m \u001b[38;5;28mrange\u001b[39m(T):\n\u001b[0;32m--> 310\u001b[0m     xa_post, xa_prio, Ma_post, Ma_prio \u001b[38;5;241m=\u001b[39m \u001b[38;5;28;43mself\u001b[39;49m\u001b[38;5;241;43m.\u001b[39;49m\u001b[43mfiltering\u001b[49m\u001b[43m(\u001b[49m\u001b[38;5;28;43mself\u001b[39;49m\u001b[38;5;241;43m.\u001b[39;49m\u001b[43mys\u001b[49m\u001b[43m[\u001b[49m\u001b[43mt\u001b[49m\u001b[43m]\u001b[49m\u001b[43m)\u001b[49m\n\u001b[1;32m    311\u001b[0m     \u001b[38;5;66;03m# Record state, priori M, and posteriori M\u001b[39;00m\n\u001b[1;32m    312\u001b[0m     \u001b[38;5;28mself\u001b[39m\u001b[38;5;241m.\u001b[39mxa_seq\u001b[38;5;241m.\u001b[39mappend(xa_post)\n",
      "File \u001b[0;32m~/Quantum_Den_Smoother/KSEMhd.py:294\u001b[0m, in \u001b[0;36mKSQS.filtering\u001b[0;34m(self, y)\u001b[0m\n\u001b[1;32m    292\u001b[0m \u001b[38;5;28mself\u001b[39m\u001b[38;5;241m.\u001b[39mk \u001b[38;5;241m+\u001b[39m\u001b[38;5;241m=\u001b[39m \u001b[38;5;241m1\u001b[39m\n\u001b[1;32m    293\u001b[0m \u001b[38;5;28mself\u001b[39m\u001b[38;5;241m.\u001b[39mtime_update() \u001b[38;5;66;03m# update self.Fa in this function\u001b[39;00m\n\u001b[0;32m--> 294\u001b[0m \u001b[38;5;28;43mself\u001b[39;49m\u001b[38;5;241;43m.\u001b[39;49m\u001b[43mmeas_update\u001b[49m\u001b[43m(\u001b[49m\u001b[43my\u001b[49m\u001b[43m)\u001b[49m\n\u001b[1;32m    296\u001b[0m \u001b[38;5;66;03m# update non-augmented variables\u001b[39;00m\n\u001b[1;32m    297\u001b[0m \u001b[38;5;28mself\u001b[39m\u001b[38;5;241m.\u001b[39mx \u001b[38;5;241m=\u001b[39m \u001b[38;5;28mself\u001b[39m\u001b[38;5;241m.\u001b[39mxa[\u001b[38;5;241m0\u001b[39m:\u001b[38;5;28mself\u001b[39m\u001b[38;5;241m.\u001b[39mp]\n",
      "File \u001b[0;32m~/Quantum_Den_Smoother/KSEMhd.py:283\u001b[0m, in \u001b[0;36mKSQS.meas_update\u001b[0;34m(self, y)\u001b[0m\n\u001b[1;32m    281\u001b[0m hmhr \u001b[38;5;241m=\u001b[39m \u001b[38;5;28mself\u001b[39m\u001b[38;5;241m.\u001b[39mHa\u001b[38;5;241m.\u001b[39mdot(\u001b[38;5;28mself\u001b[39m\u001b[38;5;241m.\u001b[39mMa_prio)\u001b[38;5;241m.\u001b[39mdot(Ha_Hem) \u001b[38;5;241m+\u001b[39m \u001b[38;5;28mself\u001b[39m\u001b[38;5;241m.\u001b[39mRa\n\u001b[1;32m    282\u001b[0m mh \u001b[38;5;241m=\u001b[39m \u001b[38;5;28mself\u001b[39m\u001b[38;5;241m.\u001b[39mMa_prio\u001b[38;5;241m.\u001b[39mdot(Ha_Hem)\n\u001b[0;32m--> 283\u001b[0m \u001b[38;5;28mself\u001b[39m\u001b[38;5;241m.\u001b[39mGa \u001b[38;5;241m=\u001b[39m \u001b[43mspsolve\u001b[49m\u001b[43m(\u001b[49m\u001b[43mhmhr\u001b[49m\u001b[38;5;241;43m.\u001b[39;49m\u001b[43mtranspose\u001b[49m\u001b[43m(\u001b[49m\u001b[43m)\u001b[49m\u001b[43m,\u001b[49m\u001b[43m \u001b[49m\u001b[43mmh\u001b[49m\u001b[38;5;241;43m.\u001b[39;49m\u001b[43mtranspose\u001b[49m\u001b[43m(\u001b[49m\u001b[43m)\u001b[49m\u001b[43m)\u001b[49m\u001b[38;5;241m.\u001b[39mtranspose() \n\u001b[1;32m    284\u001b[0m \u001b[38;5;66;03m# Correction\u001b[39;00m\n\u001b[1;32m    285\u001b[0m \u001b[38;5;28mself\u001b[39m\u001b[38;5;241m.\u001b[39mxa \u001b[38;5;241m=\u001b[39m \u001b[38;5;28mself\u001b[39m\u001b[38;5;241m.\u001b[39mxa_prio \u001b[38;5;241m+\u001b[39m sparse_col_vec_dot(\u001b[38;5;28mself\u001b[39m\u001b[38;5;241m.\u001b[39mGa, ya\u001b[38;5;241m-\u001b[39m\u001b[38;5;28mself\u001b[39m\u001b[38;5;241m.\u001b[39mmeas_func(\u001b[38;5;28mself\u001b[39m\u001b[38;5;241m.\u001b[39mxa_prio)) \u001b[38;5;66;03m# STILL FIRST ORDER!\u001b[39;00m\n",
      "File \u001b[0;32m~/anaconda3/envs/quantum/lib/python3.9/site-packages/scipy/sparse/linalg/dsolve/linsolve.py:225\u001b[0m, in \u001b[0;36mspsolve\u001b[0;34m(A, b, permc_spec, use_umfpack)\u001b[0m\n\u001b[1;32m    223\u001b[0m col_segs \u001b[38;5;241m=\u001b[39m []\n\u001b[1;32m    224\u001b[0m \u001b[38;5;28;01mfor\u001b[39;00m j \u001b[38;5;129;01min\u001b[39;00m \u001b[38;5;28mrange\u001b[39m(b\u001b[38;5;241m.\u001b[39mshape[\u001b[38;5;241m1\u001b[39m]):\n\u001b[0;32m--> 225\u001b[0m     bj \u001b[38;5;241m=\u001b[39m np\u001b[38;5;241m.\u001b[39masarray(\u001b[43mb\u001b[49m\u001b[43m[\u001b[49m\u001b[43m:\u001b[49m\u001b[43m,\u001b[49m\u001b[43m \u001b[49m\u001b[43mj\u001b[49m\u001b[43m]\u001b[49m\u001b[38;5;241m.\u001b[39mtodense())\u001b[38;5;241m.\u001b[39mravel()\n\u001b[1;32m    226\u001b[0m     xj \u001b[38;5;241m=\u001b[39m Afactsolve(bj)\n\u001b[1;32m    227\u001b[0m     w \u001b[38;5;241m=\u001b[39m np\u001b[38;5;241m.\u001b[39mflatnonzero(xj)\n",
      "File \u001b[0;32m~/anaconda3/envs/quantum/lib/python3.9/site-packages/scipy/sparse/_index.py:45\u001b[0m, in \u001b[0;36mIndexMixin.__getitem__\u001b[0;34m(self, key)\u001b[0m\n\u001b[1;32m     43\u001b[0m \u001b[38;5;28;01melif\u001b[39;00m \u001b[38;5;28misinstance\u001b[39m(row, \u001b[38;5;28mslice\u001b[39m):\n\u001b[1;32m     44\u001b[0m     \u001b[38;5;28;01mif\u001b[39;00m \u001b[38;5;28misinstance\u001b[39m(col, INT_TYPES):\n\u001b[0;32m---> 45\u001b[0m         \u001b[38;5;28;01mreturn\u001b[39;00m \u001b[38;5;28;43mself\u001b[39;49m\u001b[38;5;241;43m.\u001b[39;49m\u001b[43m_get_sliceXint\u001b[49m\u001b[43m(\u001b[49m\u001b[43mrow\u001b[49m\u001b[43m,\u001b[49m\u001b[43m \u001b[49m\u001b[43mcol\u001b[49m\u001b[43m)\u001b[49m\n\u001b[1;32m     46\u001b[0m     \u001b[38;5;28;01melif\u001b[39;00m \u001b[38;5;28misinstance\u001b[39m(col, \u001b[38;5;28mslice\u001b[39m):\n\u001b[1;32m     47\u001b[0m         \u001b[38;5;28;01mif\u001b[39;00m row \u001b[38;5;241m==\u001b[39m \u001b[38;5;28mslice\u001b[39m(\u001b[38;5;28;01mNone\u001b[39;00m) \u001b[38;5;129;01mand\u001b[39;00m row \u001b[38;5;241m==\u001b[39m col:\n",
      "File \u001b[0;32m~/anaconda3/envs/quantum/lib/python3.9/site-packages/scipy/sparse/csc.py:213\u001b[0m, in \u001b[0;36mcsc_matrix._get_sliceXint\u001b[0;34m(self, row, col)\u001b[0m\n\u001b[1;32m    210\u001b[0m         \u001b[38;5;28;01mreturn\u001b[39;00m \u001b[38;5;28mself\u001b[39m\u001b[38;5;241m.\u001b[39m_get_submatrix(major\u001b[38;5;241m=\u001b[39mcol, minor\u001b[38;5;241m=\u001b[39mrow, copy\u001b[38;5;241m=\u001b[39m\u001b[38;5;28;01mTrue\u001b[39;00m)\n\u001b[1;32m    211\u001b[0m     \u001b[38;5;28;01mreturn\u001b[39;00m \u001b[38;5;28mself\u001b[39m\u001b[38;5;241m.\u001b[39m_major_slice(col)\u001b[38;5;241m.\u001b[39m_get_submatrix(minor\u001b[38;5;241m=\u001b[39mrow)\n\u001b[0;32m--> 213\u001b[0m \u001b[38;5;28;01mdef\u001b[39;00m \u001b[38;5;21m_get_sliceXint\u001b[39m(\u001b[38;5;28mself\u001b[39m, row, col):\n\u001b[1;32m    214\u001b[0m     \u001b[38;5;28;01mif\u001b[39;00m row\u001b[38;5;241m.\u001b[39mstep \u001b[38;5;129;01min\u001b[39;00m (\u001b[38;5;241m1\u001b[39m, \u001b[38;5;28;01mNone\u001b[39;00m):\n\u001b[1;32m    215\u001b[0m         \u001b[38;5;28;01mreturn\u001b[39;00m \u001b[38;5;28mself\u001b[39m\u001b[38;5;241m.\u001b[39m_get_submatrix(major\u001b[38;5;241m=\u001b[39mcol, minor\u001b[38;5;241m=\u001b[39mrow, copy\u001b[38;5;241m=\u001b[39m\u001b[38;5;28;01mTrue\u001b[39;00m)\n",
      "\u001b[0;31mKeyboardInterrupt\u001b[0m: "
     ]
    }
   ],
   "source": [
    "total_smoother_dens = []\n",
    "total_smoother_purs = []\n",
    "\n",
    "# observs = total_simu_probs\n",
    "learn_obj = EMLearn(observs, unitaries[0], x, M, Q, R, P)\n",
    "estX0, estM0, estQ, estR, estF = learn_obj.learn() # they are all arguemented\n",
    "\n",
    "# Slice from argumented system\n",
    "realX0 = estX0.toarray()[:num_dim_state]\n",
    "realX0norm = np.sqrt(np.sum(np.abs(realX0)**2))\n",
    "realM0 = estM0.toarray()[range(num_dim_state),:][:,range(num_dim_state)]\n",
    "realF = estF.toarray()[range(num_dim_state),:][:,range(num_dim_state)]\n",
    "realQ = estQ.toarray()[range(num_dim_state),:][:,range(num_dim_state)]\n",
    "realR = estR.toarray()[range(num_dim_obs),:][:,range(num_dim_obs)]\n",
    "realP = estQ.toarray()[range(num_dim_state),:][:,range(num_dim_state, 2*num_dim_state)]\n",
    "\n",
    "smoother = KSQS(observs, realF, realX0, realM0, realQ, realR, realP)\n",
    "x_seq, M_seq, M_prio_seq = smoother.smooth() \n",
    "\n",
    "\n",
    "\n",
    "# x_est_norms = []\n",
    "# for j in range(max_num_itrs):\n",
    "#     x_est = np.array(x_seq[j+1][:num_dim_state].todense()).flatten()\n",
    "#     diag_sum = np.sum(vecden_meas(x_est))\n",
    "\n",
    "#     #normalize along the diagonal\n",
    "#     x_est_norm = x_est+0\n",
    "#     nrows = int(np.sqrt(x_est.size))\n",
    "#     for k in range(nrows):\n",
    "#         x_est_norm[k*nrows+k] = x_est_norm[k*nrows+k]/diag_sum\n",
    "#     x_est_norms.append(x_est_norm)\n",
    "#     final_den = x_est_norm.reshape(num_dim_obs, num_dim_obs)\n",
    "#     total_smoother_dens.append(final_den)\n",
    "#     total_smoother_purs.append(np.real(qi.DensityMatrix(final_den).purity()))\n",
    "for j in range(max_num_itrs):\n",
    "    x_est = np.matrix(x_seq[j+1][:num_dim_state].todense()).flatten().reshape((int(np.sqrt(num_dim_state)), int(np.sqrt(num_dim_state))), order='F')\n",
    "    x_est = (x_est+x_est.H)/2\n",
    "    final_den = KSEMhd.closed_den_mat(x_est)\n",
    "    total_smoother_dens.append(final_den)\n",
    "    total_smoother_purs.append(np.real(qi.DensityMatrix(final_den).purity()))"
   ]
  },
  {
   "cell_type": "code",
   "execution_count": null,
   "metadata": {},
   "outputs": [],
   "source": []
  },
  {
   "cell_type": "code",
   "execution_count": null,
   "metadata": {},
   "outputs": [],
   "source": []
  },
  {
   "cell_type": "code",
   "execution_count": null,
   "metadata": {},
   "outputs": [],
   "source": []
  },
  {
   "cell_type": "code",
   "execution_count": null,
   "metadata": {},
   "outputs": [],
   "source": [
    "plt.imshow(realF.real)\n",
    "plt.colorbar()\n",
    "plt.show()"
   ]
  },
  {
   "cell_type": "code",
   "execution_count": null,
   "metadata": {},
   "outputs": [],
   "source": [
    "np.linalg.norm(realQ.imag), np.linalg.norm(realR.imag)"
   ]
  },
  {
   "cell_type": "code",
   "execution_count": null,
   "metadata": {},
   "outputs": [],
   "source": [
    "plt.imshow(realQ.real)\n",
    "plt.colorbar()\n",
    "plt.show()"
   ]
  },
  {
   "cell_type": "markdown",
   "metadata": {},
   "source": [
    "Only use the estimation in the final iteration as the valid output"
   ]
  },
  {
   "cell_type": "code",
   "execution_count": null,
   "metadata": {
    "scrolled": true
   },
   "outputs": [],
   "source": [
    "# total_smoother_dens = []\n",
    "# total_smoother_purs = []\n",
    "# for i in range(1,max_num_itrs+1):\n",
    "#     print(\"Circuit Iteration\", i)\n",
    "#     observs = total_simu_probs[0:i]\n",
    "#     learn_obj = EMLearn(observs, unitaries[0], x, M, Q, R, P)\n",
    "#     estX0, estM0, estQ, estR, estF = learn_obj.learn() # they are all arguemented\n",
    "    \n",
    "#     # Slice from argumented system\n",
    "#     realX0 = estX0.toarray()[:num_dim_state]\n",
    "#     realX0norm = np.sqrt(np.sum(np.abs(realX0)**2))\n",
    "#     realM0 = estM0.toarray()[range(num_dim_state),:][:,range(num_dim_state)]\n",
    "#     realF = estF.toarray()[range(num_dim_state),:][:,range(num_dim_state)]\n",
    "#     realQ = estQ.toarray()[range(num_dim_state),:][:,range(num_dim_state)]\n",
    "#     realR = estR.toarray()[range(num_dim_obs),:][:,range(num_dim_obs)]\n",
    "#     realP = estQ.toarray()[range(num_dim_state),:][:,range(num_dim_state, 2*num_dim_state)]\n",
    "\n",
    "#     smoother = KSQS(observs, realF, realX0, realM0, realQ, realR, realP)\n",
    "#     x_seq, M_seq, M_prio_seq = smoother.smooth() \n",
    "    \n",
    "    \n",
    "#     # Normalization\n",
    "# #     x_est_norms = []\n",
    "# #     for j in range(i):\n",
    "# #         x_est = np.array(x_seq[j+1][:num_dim_state].todense()).flatten()\n",
    "# #         diag_sum = np.sum(vecden_meas(x_est))\n",
    "\n",
    "# #         #normalize along the diagonal\n",
    "# #         x_est_norm = x_est+0\n",
    "# #         nrows = int(np.sqrt(x_est.size))\n",
    "# #         for k in range(nrows):\n",
    "# #             x_est_norm[k*nrows+k] = x_est_norm[k*nrows+k]/diag_sum\n",
    "# #     final_den = x_est_norm.reshape(num_dim_obs, num_dim_obs)\n",
    "\n",
    "#     x_est = np.matrix(x_seq[-1][:num_dim_state].todense()).flatten().reshape((num_dim_obs, num_dim_obs), order='F')\n",
    "# #     x_est = (x_est+x_est.H)/2\n",
    "#     final_den = KSEM.closed_den_mat(x_est)\n",
    "#     total_smoother_dens.append(final_den)\n",
    "#     total_smoother_purs.append(np.real(qi.DensityMatrix(final_den).purity()))"
   ]
  },
  {
   "cell_type": "code",
   "execution_count": null,
   "metadata": {},
   "outputs": [],
   "source": [
    "for den in total_smoother_dens:\n",
    "    print(\"Is state a valid density matrix:\", qi.DensityMatrix(den).is_valid())"
   ]
  },
  {
   "cell_type": "code",
   "execution_count": null,
   "metadata": {},
   "outputs": [],
   "source": [
    "total_smoother_dens[0].diagonal().flatten()"
   ]
  },
  {
   "cell_type": "code",
   "execution_count": null,
   "metadata": {},
   "outputs": [],
   "source": [
    "np.diag(np.array(total_smoother_dens[0].diagonal()).flatten())"
   ]
  },
  {
   "cell_type": "code",
   "execution_count": null,
   "metadata": {},
   "outputs": [],
   "source": [
    "with np.printoptions(precision=3, suppress=True):\n",
    "    for den in total_smoother_dens:\n",
    "        non_diag_den = den - np.diag(np.array(den.diagonal()).flatten())\n",
    "        print(np.linalg.norm(non_diag_den))\n",
    "#     print(total_smoother_dens[8])\n",
    "#     print(total_simu_dens[8].data)"
   ]
  },
  {
   "cell_type": "code",
   "execution_count": null,
   "metadata": {},
   "outputs": [],
   "source": [
    "print(\"Estimated Purity (Total)\")\n",
    "for pu in total_smoother_purs:\n",
    "    print(pu)"
   ]
  },
  {
   "cell_type": "markdown",
   "metadata": {},
   "source": [
    "## Check the fidelity between estimated state and the real state in the simulator"
   ]
  },
  {
   "cell_type": "code",
   "execution_count": null,
   "metadata": {},
   "outputs": [],
   "source": [
    "from scipy.linalg import sqrtm\n",
    "def state_fid(m1,m2):\n",
    "    sqm1 = sqrtm(m1)\n",
    "    temp = sqm1.dot(m2).dot(sqm1)\n",
    "    temp2 = sqrtm(temp)\n",
    "    return np.real(np.trace(temp2))**2"
   ]
  },
  {
   "cell_type": "code",
   "execution_count": null,
   "metadata": {},
   "outputs": [],
   "source": [
    "# Compare fidelity, use Qiskit API (when every state from KS is a valid density matrix)\n",
    "diff_fed_all= []\n",
    "diff_fed_tomo= []\n",
    "for i in range(max_num_itrs):\n",
    "    qis_den_tomo = qi.DensityMatrix(tomo_dens[i])\n",
    "    qis_den_all = qi.DensityMatrix(total_smoother_dens[i])\n",
    "    fed_difference_tomo =  qi.state_fidelity(total_simu_dens[i], qis_den_tomo)\n",
    "    fed_difference_all =  qi.state_fidelity(total_simu_dens[i], qis_den_all)\n",
    "    diff_fed_all.append(fed_difference_all)\n",
    "    diff_fed_tomo.append(fed_difference_tomo)\n",
    "    print(\"Iteration\",i+1, \"KS Fid:\", fed_difference_all, \"Tomo Fid:\", fed_difference_tomo)\n",
    "    \n",
    "iter_range = range(max_num_itrs)\n",
    "plt.plot(np.array(iter_range)+1, np.array(diff_fed_all)[iter_range], '+-', color='red', label='KS')\n",
    "plt.plot(np.array(iter_range)+1, np.array(diff_fed_tomo)[iter_range], '*-', color='blue', label='Tomo')\n",
    "# plt.plot(np.array(iter_range)+1, np.array([0.9]*max_num_itrs)[iter_range], '--', color='lightgray')\n",
    "plt.xlabel(\"Number of Iterations\")\n",
    "plt.ylabel(\"Fidelity\")\n",
    "plt.xticks((np.array(iter_range)+1))\n",
    "plt.legend()\n",
    "plt.tight_layout()\n",
    "# plt.savefig(\"diff_fed_qis.svg\")\n",
    "plt.show()"
   ]
  },
  {
   "cell_type": "code",
   "execution_count": null,
   "metadata": {},
   "outputs": [],
   "source": [
    "# Compare fidelity, use my own function (when some states from KS are not valid density matrices)\n",
    "diff_fed_all= []\n",
    "diff_fed_tomo= []\n",
    "for i in range(max_num_itrs):\n",
    "    fed_difference_tomo =  state_fid(total_simu_dens[i].data, tomo_dens[i])\n",
    "    fed_difference_all =  state_fid(total_simu_dens[i].data, total_smoother_dens[i])\n",
    "    diff_fed_all.append(fed_difference_all)\n",
    "    diff_fed_tomo.append(fed_difference_tomo)\n",
    "    print(\"Iteration\",i+1, \"KS Fid:\", fed_difference_all, \"Tomo Fid:\", fed_difference_tomo)\n",
    "    \n",
    "iter_range = range(max_num_itrs)\n",
    "plt.plot(np.array(iter_range)+1, np.array(diff_fed_all)[iter_range], '+-', color='red', label='KS')\n",
    "plt.plot(np.array(iter_range)+1, np.array(diff_fed_tomo)[iter_range], '*-', color='blue', label='Tomo')\n",
    "# plt.plot(np.array(iter_range)+1, np.array([0.9]*max_num_itrs)[iter_range], '--', color='lightgray')\n",
    "plt.xlabel(\"Number of Iterations\")\n",
    "plt.ylabel(\"Fidelity\")\n",
    "plt.xticks((np.array(iter_range)+1))\n",
    "plt.legend()\n",
    "plt.tight_layout()\n",
    "# plt.savefig(\"diff_fed.svg\")\n",
    "plt.show()"
   ]
  },
  {
   "cell_type": "code",
   "execution_count": null,
   "metadata": {},
   "outputs": [],
   "source": [
    "diff_norm_all= []\n",
    "diff_norm_tomo= []\n",
    "for i in range(max_num_itrs):\n",
    "    norm_difference_tomo =  np.linalg.norm(total_simu_dens[i].data-tomo_dens[i])\n",
    "    norm_difference_all =  np.linalg.norm(total_simu_dens[i].data-total_smoother_dens[i])\n",
    "    diff_norm_all.append(norm_difference_all)\n",
    "    diff_norm_tomo.append(norm_difference_tomo)\n",
    "    print(\"Iteration\",i+1, \"KS Norm:\", norm_difference_all, \"Tomo Norm:\", norm_difference_tomo)\n",
    "    \n",
    "iter_range = range(max_num_itrs)\n",
    "plt.plot(np.array(iter_range)+1, np.array(diff_norm_all)[iter_range], '+-', color='red', label='KS')\n",
    "plt.plot(np.array(iter_range)+1, np.array(diff_norm_tomo)[iter_range], '*-', color='blue', label='Tomo')\n",
    "plt.xlabel(\"Number of Iterations\")\n",
    "plt.ylabel(r'$||\\rho_{simu} - \\rho_{est}||_2$', fontsize=14)\n",
    "plt.xticks((np.array(iter_range)+1))\n",
    "plt.legend()\n",
    "plt.tight_layout()\n",
    "# plt.savefig(\"diff_norm.svg\")\n",
    "plt.show()"
   ]
  },
  {
   "cell_type": "code",
   "execution_count": null,
   "metadata": {},
   "outputs": [],
   "source": [
    "plt.plot(np.array(iter_range)+1, np.array(total_smoother_purs)[iter_range], '+-', label=\"KS\",color='red')\n",
    "plt.plot(np.array(iter_range)+1, np.array(tomo_purs)[iter_range], '*-', label=\"Tomo\",color='blue')\n",
    "# plt.plot(np.array(iter_range)+1, np.array(total_smoother_purs)[iter_range]-0.25, '+-', label=\"Estimated-0.25\",color='skyblue')\n",
    "plt.plot(np.array(iter_range)+1, np.array(total_simu_purs)[iter_range], label=\"Actual\", color='gray')\n",
    "plt.xlabel(\"Number of Iterations\")\n",
    "plt.ylabel(\"Purity\")\n",
    "plt.xticks((np.array(iter_range)+1))\n",
    "plt.legend()\n",
    "plt.tight_layout()\n",
    "# plt.savefig(\"diff_pur.svg\")\n",
    "plt.show()"
   ]
  },
  {
   "cell_type": "code",
   "execution_count": null,
   "metadata": {},
   "outputs": [],
   "source": [
    "plt.plot(np.array(iter_range)+1, np.abs(np.array(total_simu_purs)-np.array(total_smoother_purs))[iter_range], '+-', label=\"KS\",color='red')\n",
    "plt.plot(np.array(iter_range)+1, np.abs(np.array(total_simu_purs)-np.array(tomo_purs))[iter_range], '*-', label=\"Tomo\",color='blue')\n",
    "\n",
    "plt.xlabel(\"Number of Iterations\")\n",
    "plt.ylabel(\"Purity Difference\")\n",
    "plt.xticks((np.array(iter_range)+1))\n",
    "plt.legend()\n",
    "plt.tight_layout()\n",
    "# plt.savefig(\"diff_pur_diff.svg\")\n",
    "plt.show()"
   ]
  },
  {
   "cell_type": "code",
   "execution_count": null,
   "metadata": {},
   "outputs": [],
   "source": []
  },
  {
   "cell_type": "code",
   "execution_count": null,
   "metadata": {},
   "outputs": [],
   "source": []
  },
  {
   "cell_type": "code",
   "execution_count": null,
   "metadata": {},
   "outputs": [],
   "source": []
  }
 ],
 "metadata": {
  "kernelspec": {
   "display_name": "Python 3",
   "language": "python",
   "name": "python3"
  },
  "language_info": {
   "codemirror_mode": {
    "name": "ipython",
    "version": 3
   },
   "file_extension": ".py",
   "mimetype": "text/x-python",
   "name": "python",
   "nbconvert_exporter": "python",
   "pygments_lexer": "ipython3",
   "version": "3.9.7"
  }
 },
 "nbformat": 4,
 "nbformat_minor": 4
}
