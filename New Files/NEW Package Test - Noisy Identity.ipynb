{
 "cells": [
  {
   "cell_type": "code",
   "execution_count": 1,
   "id": "54f1ac0f",
   "metadata": {},
   "outputs": [
    {
     "name": "stdout",
     "output_type": "stream",
     "text": [
      "Collecting pykalman\n",
      "  Using cached pykalman-0.9.5-py3-none-any.whl\n",
      "Installing collected packages: pykalman\n",
      "Successfully installed pykalman-0.9.5\n"
     ]
    }
   ],
   "source": [
    "! pip install pykalman"
   ]
  },
  {
   "cell_type": "markdown",
   "id": "3ed58ee0",
   "metadata": {},
   "source": [
    "## Example"
   ]
  },
  {
   "cell_type": "code",
   "execution_count": 7,
   "id": "687a566a",
   "metadata": {},
   "outputs": [
    {
     "data": {
      "text/plain": [
       "{'transition_matrices': array([[1, 1],\n",
       "        [0, 1]]),\n",
       " 'observation_matrices': array([[ 0.1,  0.5],\n",
       "        [-0.3,  0. ]]),\n",
       " 'transition_covariance': array([[1.3939454 , 0.00828761],\n",
       "        [0.00828761, 0.3269986 ]]),\n",
       " 'observation_covariance': array([[ 0.34180639, -0.07294099],\n",
       "        [-0.07294099,  0.18519393]]),\n",
       " 'transition_offsets': array([0., 0.]),\n",
       " 'observation_offsets': array([0., 0.]),\n",
       " 'initial_state_mean': array([-0.62893648,  0.36286253]),\n",
       " 'initial_state_covariance': array([[ 0.28058382, -0.06524256],\n",
       "        [-0.06524256,  0.11905581]]),\n",
       " 'random_state': None,\n",
       " 'em_vars': ['transition_covariance',\n",
       "  'observation_covariance',\n",
       "  'initial_state_mean',\n",
       "  'initial_state_covariance'],\n",
       " 'n_dim_state': 2,\n",
       " 'n_dim_obs': 2}"
      ]
     },
     "execution_count": 7,
     "metadata": {},
     "output_type": "execute_result"
    }
   ],
   "source": [
    "from pykalman import KalmanFilter\n",
    "import numpy as np\n",
    "kf = KalmanFilter(transition_matrices = [[1, 1], [0, 1]], observation_matrices = [[0.1, 0.5], [-0.3, 0.0]])\n",
    "measurements = np.asarray([[1,0], [0,0], [0,1]])  # 3 observations\n",
    "kf = kf.em(measurements, n_iter=5)\n",
    "# (filtered_state_means, filtered_state_covariances) = kf.filter(measurements)\n",
    "# (smoothed_state_means, smoothed_state_covariances) = kf.smooth(measurements)\n",
    "kf.__dict__"
   ]
  },
  {
   "cell_type": "code",
   "execution_count": null,
   "id": "1aea5cda",
   "metadata": {},
   "outputs": [],
   "source": []
  },
  {
   "cell_type": "code",
   "execution_count": null,
   "id": "f5d028f6",
   "metadata": {},
   "outputs": [],
   "source": []
  },
  {
   "cell_type": "code",
   "execution_count": null,
   "id": "6b6dd078",
   "metadata": {},
   "outputs": [],
   "source": []
  },
  {
   "cell_type": "code",
   "execution_count": null,
   "id": "cb9c0c80",
   "metadata": {},
   "outputs": [],
   "source": []
  },
  {
   "cell_type": "markdown",
   "id": "2929a3b1",
   "metadata": {},
   "source": [
    "## Comparison"
   ]
  },
  {
   "cell_type": "code",
   "execution_count": 8,
   "id": "9a5ae810",
   "metadata": {},
   "outputs": [],
   "source": [
    "import numpy as np\n",
    "from collections import Counter\n",
    "from qiskit import IBMQ,Aer,schedule, execute, QuantumCircuit, QuantumRegister, ClassicalRegister, transpile\n",
    "from qiskit.tools.visualization import plot_histogram\n",
    "from qiskit.visualization import timeline_drawer\n",
    "from qiskit.visualization.pulse_v2 import draw, IQXDebugging\n",
    "from qiskit.tools.monitor import job_monitor\n",
    "from qiskit.providers.aer.noise import NoiseModel\n",
    "from qiskit.providers.aer import AerSimulator\n",
    "import qiskit.quantum_info as qi\n",
    "from qiskit.providers.aer.noise import QuantumError, ReadoutError\n",
    "\n",
    "# Tomography functions\n",
    "from qiskit_experiments.framework import ParallelExperiment\n",
    "from qiskit_experiments.library import StateTomography\n",
    "\n",
    "\n",
    "# Seeds\n",
    "from numpy.random import Generator, PCG64\n",
    "rng = Generator(PCG64(1897))\n",
    "MY_SEEDS = rng.integers(0,high=10**8,size=100)\n",
    "\n",
    "\n",
    "import KSEM\n",
    "from importlib import reload  \n",
    "KSEM = reload(KSEM)\n",
    "from KSEM import KSQS, EMLearn\n",
    "\n",
    "import matplotlib.pyplot as plt\n",
    "from matplotlib.pyplot import figure\n",
    "\n",
    "# plt.rcParams['text.usetex'] = True\n",
    "fig_size = (8,6)\n",
    "fig_dpi = 150"
   ]
  },
  {
   "cell_type": "code",
   "execution_count": 9,
   "id": "6d770bb9",
   "metadata": {},
   "outputs": [
    {
     "name": "stderr",
     "output_type": "stream",
     "text": [
      "<ipython-input-9-beb09c0bf764>:1: DeprecationWarning: The qiskit.IBMQ entrypoint and the qiskit-ibmq-provider package (accessible from 'qiskit.providers.ibmq`) are deprecated and will be removed in a future release. Instead you should use the qiskit-ibm-provider package which is accessible from 'qiskit_ibm_provider'. You can install it with 'pip install qiskit_ibm_provider'. Just replace 'qiskit.IBMQ' with 'qiskit_ibm_provider.IBMProvider'\n",
      "  IBMQ.load_account()\n"
     ]
    },
    {
     "data": {
      "text/plain": [
       "<AccountProvider for IBMQ(hub='ibm-q', group='open', project='main')>"
      ]
     },
     "execution_count": 9,
     "metadata": {},
     "output_type": "execute_result"
    }
   ],
   "source": [
    "IBMQ.load_account()"
   ]
  },
  {
   "cell_type": "code",
   "execution_count": 10,
   "id": "89b47260",
   "metadata": {},
   "outputs": [],
   "source": [
    "provider = IBMQ.get_provider(hub=\"ibm-q-ncsu\", group=\"lehigh-universit\", project=\"qc-error-model\") # ibm-q-ncsu/lehigh-universit/qc-error-model\n",
    "name = \"ibm_nairobi\"\n",
    "backend = provider.get_backend(name)\n",
    "backend_noise_model = NoiseModel.from_backend(backend)\n",
    "# # Remove readout errros\n",
    "# p0given1 = 0\n",
    "# p1given0 = 1\n",
    "# rde = ReadoutError([[1 - p1given0, p1given0], [p0given1, 1 - p0given1]])\n",
    "# for i in range(backend.configuration().num_qubits):\n",
    "#     backend_noise_model._local_readout_errors[(i,)] = rde\n",
    "den_simu = AerSimulator(method='density_matrix',noise_model=backend_noise_model)\n",
    "\n",
    "n_qubits = 3\n",
    "reps = 8\n",
    "max_num_itrs = 10"
   ]
  },
  {
   "cell_type": "code",
   "execution_count": 11,
   "id": "c7ba5c7a",
   "metadata": {},
   "outputs": [],
   "source": [
    "from qiskit import Aer\n",
    "def single_iter(n_qubits=2):\n",
    "    iterate = QuantumCircuit(n_qubits)\n",
    "    iterate.h(0)\n",
    "    iterate.cx(0,1)\n",
    "    iterate.cx(1,2)\n",
    "    iterate.barrier()\n",
    "    iterate.cx(1,2)\n",
    "    iterate.cx(0,1)\n",
    "    iterate.h(0)\n",
    "    iterate.barrier()\n",
    "    return iterate\n",
    "\n",
    "def iterative_circ(num_itrs, n_qubits=2, save_den = True):   \n",
    "    total_circ = QuantumCircuit(n_qubits)\n",
    "    for i in range(num_itrs):\n",
    "        total_circ.compose(single_iter(n_qubits), inplace=True)\n",
    "    if save_den:\n",
    "        total_circ.save_density_matrix(pershot=False)\n",
    "    total_circ.measure_all()\n",
    "    return total_circ\n",
    "\n",
    "def vecden_meas(state):# H, measurement matrix for vectorized density matrix\n",
    "    num_qubits = int(np.log2(np.sqrt(state.shape[0])))\n",
    "    nrows = 2**num_qubits\n",
    "    ncols = nrows**2\n",
    "    mat = np.zeros((nrows, ncols), dtype=np.float64)\n",
    "    for k in range(nrows):\n",
    "        mat[k, nrows*k+k] = 1.0 # take out the diagonal terms in vectorized density matrix\n",
    "    return np.real(mat.dot(state))"
   ]
  },
  {
   "cell_type": "code",
   "execution_count": null,
   "id": "71015839",
   "metadata": {},
   "outputs": [],
   "source": []
  },
  {
   "cell_type": "code",
   "execution_count": 12,
   "id": "5dae3c02",
   "metadata": {},
   "outputs": [],
   "source": [
    "unitary_simulator = Aer.get_backend('aer_simulator')\n",
    "unitary_circ = transpile(single_iter(n_qubits), backend=den_simu)\n",
    "unitary_circ.save_unitary()\n",
    "unitary_result = unitary_simulator.run(unitary_circ).result()\n",
    "unitary = unitary_result.get_unitary(unitary_circ)\n",
    "\n",
    "unitaries = []\n",
    "for i in range(1, max_num_itrs+1):\n",
    "    gate = unitary.data\n",
    "    F = np.kron(gate.conjugate(), gate)\n",
    "    unitaries.append(F)\n",
    "    \n",
    "trans_circ = transpile(iterative_circ(3, n_qubits), backend=den_simu)\n",
    "iter_res = den_simu.run(trans_circ,shots=8192*reps,seed_simulator=np.random.randint(10**8)).result()\n",
    "\n",
    "total_simu_dens = [] # quantum state in density-matrix form\n",
    "total_simu_probs = [] # measurement result\n",
    "total_simu_purs = [] # purity\n",
    "for i in range(1, max_num_itrs+1):\n",
    "    my_seed = MY_SEEDS[i]\n",
    "    trans_circ = transpile(iterative_circ(i, n_qubits, save_den = True), seed_transpiler=my_seed, backend=den_simu,optimization_level=0)\n",
    "    iter_res = den_simu.run(trans_circ,shots=8192*reps,seed_simulator=my_seed).result()\n",
    "    iter_den = iter_res.data()['density_matrix']\n",
    "    total_simu_dens.append(iter_den)\n",
    "    \n",
    "    trans_circ = transpile(iterative_circ(i, n_qubits, save_den = False), seed_transpiler=my_seed, backend=den_simu,optimization_level=0)\n",
    "    iter_res = den_simu.run(trans_circ,shots=8192*reps,seed_simulator=my_seed).result()\n",
    "    total_simu_probs.append(KSEM.dictToVec(iter_res.get_counts()))\n",
    "    total_simu_purs.append(np.real(iter_den.purity()))"
   ]
  },
  {
   "cell_type": "code",
   "execution_count": null,
   "id": "51b9b63f",
   "metadata": {},
   "outputs": [],
   "source": []
  },
  {
   "cell_type": "code",
   "execution_count": 13,
   "id": "0d4b9e76",
   "metadata": {},
   "outputs": [],
   "source": [
    "initial_state = np.array([0]*(total_simu_probs[0].size**2), dtype=complex)\n",
    "initial_state[0] = 1\n",
    "\n",
    "# initial state\n",
    "num_dim = initial_state.size\n",
    "x =initial_state\n",
    "x[0]-= 0.01/num_dim\n",
    "nrows = int(x.size-1)\n",
    "for k in range(1,nrows+1):\n",
    "    x[k] += 1/(num_dim*nrows)"
   ]
  },
  {
   "cell_type": "code",
   "execution_count": 14,
   "id": "1dfc2427",
   "metadata": {},
   "outputs": [],
   "source": [
    "# Other variance parameters\n",
    "num_dim_state = initial_state.size\n",
    "num_dim_obs = total_simu_probs[0].size\n",
    "\n",
    "M = np.identity(num_dim_state, dtype=complex)* 0.01 * (1) # a guess for covariance matrix, E[(x0-xhat0^+)(x0-xhat0^+)^T]\n",
    "Q = np.identity(num_dim_state, dtype=complex)* 0.2 * (1) # state covariance\n",
    "R = np.identity(num_dim_obs)* 0.2 * (1) # meas covariance\n",
    "P = np.identity(num_dim_state, dtype=complex)* 0.1 * (1)# \n",
    "# U = np.identity(num_dim_obs, dtype=complex)* 0.0"
   ]
  },
  {
   "cell_type": "code",
   "execution_count": 22,
   "id": "2fbcf1b3",
   "metadata": {},
   "outputs": [],
   "source": [
    "# Use existing code to construct arguemented system\n",
    "learn_obj = EMLearn(observs, unitaries[0], x, M, Q, R, P)"
   ]
  },
  {
   "cell_type": "code",
   "execution_count": 37,
   "id": "96a3f2e1",
   "metadata": {},
   "outputs": [
    {
     "data": {
      "text/plain": [
       "{'transition_matrices': array([[ 1.00000000e+00,  3.12528683e-32,  0.00000000e+00, ...,\n",
       "          0.00000000e+00,  0.00000000e+00,  0.00000000e+00],\n",
       "        [ 5.59047716e-32,  1.00000000e+00,  0.00000000e+00, ...,\n",
       "          0.00000000e+00,  0.00000000e+00,  0.00000000e+00],\n",
       "        [ 0.00000000e+00,  0.00000000e+00,  1.00000000e+00, ...,\n",
       "          0.00000000e+00,  0.00000000e+00,  0.00000000e+00],\n",
       "        ...,\n",
       "        [ 0.00000000e+00,  0.00000000e+00,  0.00000000e+00, ...,\n",
       "          1.00000000e+00,  0.00000000e+00,  0.00000000e+00],\n",
       "        [ 0.00000000e+00,  0.00000000e+00,  0.00000000e+00, ...,\n",
       "          0.00000000e+00,  1.00000000e+00, -5.59047716e-32],\n",
       "        [ 0.00000000e+00,  0.00000000e+00,  0.00000000e+00, ...,\n",
       "          0.00000000e+00, -3.12528683e-32,  1.00000000e+00]]),\n",
       " 'observation_matrices': array([[0.5, 0. , 0. , ..., 0. , 0. , 0. ],\n",
       "        [0. , 0. , 0. , ..., 0. , 0. , 0. ],\n",
       "        [0. , 0. , 0. , ..., 0. , 0. , 0. ],\n",
       "        ...,\n",
       "        [0. , 0. , 0. , ..., 0. , 0. , 0. ],\n",
       "        [0. , 0. , 0. , ..., 0. , 0. , 0. ],\n",
       "        [0. , 0. , 0. , ..., 0. , 0. , 0.5]]),\n",
       " 'transition_covariance': array([[ 5.03854322e-01,  5.28451217e-15, -1.24798464e-15, ...,\n",
       "          6.56058465e-16,  1.78680221e-18, -2.56808900e-05],\n",
       "        [ 5.28451217e-15,  1.00000000e+00, -7.46382840e-16, ...,\n",
       "         -1.39029061e-15,  3.48149162e-15,  2.28477901e-15],\n",
       "        [-1.24798464e-15, -7.46382840e-16,  1.00000000e+00, ...,\n",
       "         -1.53450367e-15, -8.20561767e-15, -6.78240683e-15],\n",
       "        ...,\n",
       "        [ 6.56058465e-16, -1.39029061e-15, -1.53450367e-15, ...,\n",
       "          1.00000000e+00, -5.16114025e-15,  3.52813852e-17],\n",
       "        [ 1.78680221e-18,  3.48149162e-15, -8.20561767e-15, ...,\n",
       "         -5.16114025e-15,  1.00000000e+00,  1.84742419e-15],\n",
       "        [-2.56808900e-05,  2.28477901e-15, -6.78240683e-15, ...,\n",
       "          3.52813852e-17,  1.84742420e-15,  5.03112514e-01]]),\n",
       " 'observation_covariance': array([[ 2.66452884e-03, -6.36341977e-05, -1.30248588e-05,\n",
       "         -1.69037049e-05,  1.77409730e-05, -1.31697302e-05,\n",
       "         -5.91917750e-06, -6.48818113e-06],\n",
       "        [-6.36341977e-05,  2.37052449e-03,  8.58797582e-06,\n",
       "          9.17312098e-06, -6.89662098e-07,  7.24169745e-06,\n",
       "          3.38877880e-06,  3.56121087e-06],\n",
       "        [-1.30248588e-05,  8.58797582e-06,  2.33617285e-03,\n",
       "          2.16185282e-06, -1.77881051e-07,  1.78929312e-06,\n",
       "          7.65075002e-07,  8.19919232e-07],\n",
       "        [-1.69037049e-05,  9.17312098e-06,  2.16185282e-06,\n",
       "          2.33628255e-03, -2.51075882e-07,  1.85886770e-06,\n",
       "          8.43537892e-07,  8.87241150e-07],\n",
       "        [ 1.77409730e-05, -6.89662098e-07, -1.77881051e-07,\n",
       "         -2.51075882e-07,  2.33559445e-03, -2.03990406e-07,\n",
       "         -4.85006764e-08, -1.09063019e-07],\n",
       "        [-1.31697302e-05,  7.24169745e-06,  1.78929312e-06,\n",
       "          1.85886770e-06, -2.03990406e-07,  2.33543322e-03,\n",
       "          6.48168767e-07,  6.57947568e-07],\n",
       "        [-5.91917750e-06,  3.38877880e-06,  7.65075002e-07,\n",
       "          8.43537892e-07, -4.85006764e-08,  6.48168767e-07,\n",
       "          2.33426177e-03,  3.15695498e-07],\n",
       "        [-6.48818113e-06,  3.56121087e-06,  8.19919232e-07,\n",
       "          8.87241150e-07, -1.09063019e-07,  6.57947568e-07,\n",
       "          3.15695498e-07,  2.33431568e-03]]),\n",
       " 'transition_offsets': array([0., 0., 0., 0., 0., 0., 0., 0., 0., 0., 0., 0., 0., 0., 0., 0., 0.,\n",
       "        0., 0., 0., 0., 0., 0., 0., 0., 0., 0., 0., 0., 0., 0., 0., 0., 0.,\n",
       "        0., 0., 0., 0., 0., 0., 0., 0., 0., 0., 0., 0., 0., 0., 0., 0., 0.,\n",
       "        0., 0., 0., 0., 0., 0., 0., 0., 0., 0., 0., 0., 0., 0., 0., 0., 0.,\n",
       "        0., 0., 0., 0., 0., 0., 0., 0., 0., 0., 0., 0., 0., 0., 0., 0., 0.,\n",
       "        0., 0., 0., 0., 0., 0., 0., 0., 0., 0., 0., 0., 0., 0., 0., 0., 0.,\n",
       "        0., 0., 0., 0., 0., 0., 0., 0., 0., 0., 0., 0., 0., 0., 0., 0., 0.,\n",
       "        0., 0., 0., 0., 0., 0., 0., 0., 0.]),\n",
       " 'observation_offsets': array([0., 0., 0., 0., 0., 0., 0., 0.]),\n",
       " 'initial_state_mean': array([ 8.61813033e-01, -2.08522930e-16,  7.92356719e-16,  4.47727758e-16,\n",
       "         5.00299705e-19,  3.79752279e-18, -8.37372041e-18,  8.20733815e-17,\n",
       "         3.08200910e-17,  3.45746511e-02,  3.72846859e-17,  2.24919777e-17,\n",
       "        -2.62538233e-18, -1.11652901e-17, -1.08917134e-17, -5.45727652e-18,\n",
       "        -9.48426622e-18,  1.20327634e-17,  1.62206913e-02, -1.70465362e-17,\n",
       "         5.35128697e-18, -2.30982777e-17, -9.80891900e-19, -2.37806522e-18,\n",
       "         1.16556750e-17,  3.26844684e-18,  1.35250669e-18,  4.83108743e-03,\n",
       "         4.66240967e-18,  3.45765331e-18, -8.93530658e-18, -7.46531131e-18,\n",
       "        -1.05584239e-17,  1.13775546e-17, -1.05461729e-17, -1.03752434e-17,\n",
       "         6.95050719e-02,  1.10068592e-18,  4.18263272e-18, -4.68085439e-18,\n",
       "         2.64414751e-18, -6.71780080e-19,  2.62096053e-17,  1.84895609e-17,\n",
       "        -3.94598803e-18,  4.90273291e-03, -9.42639252e-18,  1.12761269e-17,\n",
       "        -8.32669697e-18,  8.82262280e-19,  1.49858850e-17,  8.48152412e-18,\n",
       "        -4.25212501e-19, -3.69797004e-18,  2.83324442e-03, -8.12991272e-18,\n",
       "        -2.63182026e-17,  2.43096014e-18, -2.12341286e-17, -1.30807116e-17,\n",
       "         2.07673768e-17,  1.10409378e-17,  1.36955222e-17,  1.84622520e-03,\n",
       "         8.61813033e-01,  8.28286550e-18,  2.96683324e-18, -3.08603193e-17,\n",
       "        -3.79131559e-17,  6.73005193e-19, -8.82879673e-18,  6.62494351e-18,\n",
       "         1.21028166e-17,  3.45746511e-02,  5.96495688e-18, -1.17451376e-17,\n",
       "        -7.60630917e-18, -3.74860009e-19, -7.38830544e-18, -3.23056725e-17,\n",
       "         4.18842704e-18,  3.27419905e-19,  1.62206913e-02, -1.68010154e-17,\n",
       "        -3.70371288e-18,  8.47512009e-19, -5.74313962e-18, -1.67166152e-17,\n",
       "         4.07740258e-18,  2.43254377e-18,  3.50775132e-18,  4.83108743e-03,\n",
       "         5.38384077e-18, -5.68380812e-18, -5.45374014e-18, -8.06608340e-18,\n",
       "         5.47910783e-18, -2.43108470e-18, -3.67022848e-18, -8.94611562e-18,\n",
       "         6.95050719e-02, -1.83379449e-17,  2.72207235e-18, -2.71376283e-18,\n",
       "        -1.16617927e-17,  2.46324467e-18,  2.12457222e-18, -6.05347452e-18,\n",
       "         1.13034053e-17,  4.90273291e-03,  6.75834040e-18,  8.95953460e-18,\n",
       "        -1.01350743e-17, -5.08412086e-19, -2.82944954e-18,  1.25557718e-18,\n",
       "        -2.19021316e-17,  3.35651951e-18,  2.83324442e-03,  4.00149692e-19,\n",
       "         3.61196701e-18,  2.56847819e-18, -1.72699875e-18,  7.63366664e-18,\n",
       "        -2.57696646e-18, -2.05056301e-18,  8.64531976e-18,  1.84622520e-03]),\n",
       " 'initial_state_covariance': array([[ 5.01731726e-01,  7.55160607e-18,  1.10110539e-17, ...,\n",
       "         -3.38298892e-20,  3.04739244e-20, -2.04453726e-06],\n",
       "        [ 7.55160607e-18,  1.00000000e+00, -1.14471371e-30, ...,\n",
       "          6.85609049e-32,  5.18285710e-32, -4.30608641e-19],\n",
       "        [ 1.10110539e-17, -1.14471371e-30,  1.00000000e+00, ...,\n",
       "         -9.60508203e-31,  2.14465141e-31, -9.48191974e-18],\n",
       "        ...,\n",
       "        [-3.38298892e-20,  6.85609049e-32, -9.60508203e-31, ...,\n",
       "          1.00000000e+00,  2.30031217e-33, -5.13036076e-19],\n",
       "        [ 3.04739244e-20,  5.18285710e-32,  2.14465141e-31, ...,\n",
       "          2.30031217e-33,  1.00000000e+00,  7.05607728e-19],\n",
       "        [-2.04453726e-06, -4.30608641e-19, -9.48191974e-18, ...,\n",
       "         -5.13036076e-19,  7.05607728e-19,  5.01559500e-01]]),\n",
       " 'random_state': None,\n",
       " 'em_vars': ['transition_covariance',\n",
       "  'observation_covariance',\n",
       "  'initial_state_mean',\n",
       "  'initial_state_covariance'],\n",
       " 'n_dim_state': 128,\n",
       " 'n_dim_obs': 8}"
      ]
     },
     "execution_count": 37,
     "metadata": {},
     "output_type": "execute_result"
    }
   ],
   "source": [
    "kfobj_for_em = KalmanFilter(transition_matrices = learn_obj.Fa.todense().real, observation_matrices = learn_obj.Ha.todense().real)\n",
    "measurements = np.asarray(learn_obj.ys)\n",
    "kfobj_for_em = kfobj_for_em.em(measurements, n_iter=8)\n",
    "kfobj_for_em.__dict__"
   ]
  },
  {
   "cell_type": "code",
   "execution_count": 38,
   "id": "b23a6b8b",
   "metadata": {},
   "outputs": [],
   "source": [
    "(smoothed_state_means, smoothed_state_covariances) = kfobj_for_em.smooth(measurements)"
   ]
  },
  {
   "cell_type": "code",
   "execution_count": 42,
   "id": "ea5104ee",
   "metadata": {},
   "outputs": [
    {
     "data": {
      "text/plain": [
       "(10, 128)"
      ]
     },
     "execution_count": 42,
     "metadata": {},
     "output_type": "execute_result"
    }
   ],
   "source": [
    "smoothed_state_means.shape"
   ]
  },
  {
   "cell_type": "code",
   "execution_count": 41,
   "id": "973fb34e",
   "metadata": {},
   "outputs": [
    {
     "data": {
      "text/plain": [
       "(10, 128, 128)"
      ]
     },
     "execution_count": 41,
     "metadata": {},
     "output_type": "execute_result"
    }
   ],
   "source": [
    "smoothed_state_covariances.shape"
   ]
  },
  {
   "cell_type": "code",
   "execution_count": 46,
   "id": "ba34121d",
   "metadata": {},
   "outputs": [
    {
     "data": {
      "text/plain": [
       "10"
      ]
     },
     "execution_count": 46,
     "metadata": {},
     "output_type": "execute_result"
    }
   ],
   "source": []
  },
  {
   "cell_type": "code",
   "execution_count": 67,
   "id": "a950963e",
   "metadata": {},
   "outputs": [
    {
     "name": "stdout",
     "output_type": "stream",
     "text": [
      "0.13020343372549129\n",
      "0.11839717607633954\n",
      "0.11415426670551647\n",
      "0.11087506451964955\n",
      "0.10708709488665559\n",
      "0.10464748738965451\n",
      "0.10242318106129374\n",
      "0.10040324206114329\n",
      "0.09871178911490527\n",
      "0.09387191125871336\n"
     ]
    }
   ],
   "source": [
    "norm_diffs = []\n",
    "\n",
    "for i in range(len(total_simu_dens)):\n",
    "    kf_state = smoothed_state_means[i][:num_dim_state].flatten().reshape((int(np.sqrt(num_dim_state)), int(np.sqrt(num_dim_state))), order='F')\n",
    "    norm_diff = np.linalg.norm(kf_state - total_simu_dens[i].data)\n",
    "    norm_diffs.append(norm_diff)\n",
    "    print(norm_diff)"
   ]
  },
  {
   "cell_type": "code",
   "execution_count": 59,
   "id": "7a6867c8",
   "metadata": {},
   "outputs": [
    {
     "data": {
      "text/plain": [
       "array([[ 8.63652946e-01,  2.03116971e-17, -4.72620701e-17,\n",
       "         1.36786546e-17, -1.49669951e-17,  4.50661173e-17,\n",
       "        -1.85969330e-17, -4.56363934e-17],\n",
       "       [ 1.40585038e-15,  3.44392930e-02,  1.61183003e-17,\n",
       "         3.94594322e-17,  2.70723855e-17, -2.04543712e-17,\n",
       "        -1.68047639e-17, -2.92227944e-17],\n",
       "       [-1.51185577e-15, -4.27387206e-18,  1.62031272e-02,\n",
       "        -7.33465249e-19, -4.62177422e-17,  5.17056566e-17,\n",
       "         2.39410183e-17, -6.48254547e-17],\n",
       "       [ 4.73414865e-16,  3.71854575e-17, -2.67748735e-17,\n",
       "         4.79058659e-03, -2.02091803e-17,  7.18011166e-17,\n",
       "         3.67884462e-17, -5.56224345e-17],\n",
       "       [-6.45347257e-17,  3.86478820e-18, -1.38465347e-18,\n",
       "         2.42452955e-17,  6.96273722e-02, -1.87475751e-17,\n",
       "         6.73662071e-18,  1.01800259e-16],\n",
       "       [-3.10552834e-17,  1.53254971e-17, -6.24179051e-17,\n",
       "         1.24660138e-17,  4.85076744e-18,  4.87295395e-03,\n",
       "         1.64300028e-17, -6.94497810e-18],\n",
       "       [-3.58522930e-17,  1.34167351e-17,  3.55377335e-17,\n",
       "         1.57232724e-17,  1.98501029e-17, -1.78000246e-17,\n",
       "         2.81945325e-03,  2.53904568e-17],\n",
       "       [ 1.14154730e-16, -8.69577284e-18,  1.50241258e-17,\n",
       "        -2.04368721e-17,  3.76024025e-17,  4.76140974e-17,\n",
       "        -8.15527319e-19,  1.83029066e-03]])"
      ]
     },
     "execution_count": 59,
     "metadata": {},
     "output_type": "execute_result"
    }
   ],
   "source": [
    "kf_state"
   ]
  },
  {
   "cell_type": "code",
   "execution_count": 62,
   "id": "ac4c1b4b",
   "metadata": {
    "scrolled": true
   },
   "outputs": [
    {
     "name": "stdout",
     "output_type": "stream",
     "text": [
      "Iteration statrts New ll 777.14, Last ll 767.14\n",
      "Iteration     1, New log-likelihood 8.33713e+02, Last log-likelihood 7.77145e+02, Change 5.65687e+01\n",
      "Iteration     2, New log-likelihood 8.88872e+02, Last log-likelihood 8.33713e+02, Change 5.51586e+01\n",
      "Iteration     3, New log-likelihood 9.43637e+02, Last log-likelihood 8.88872e+02, Change 5.47649e+01\n",
      "Iteration     4, New log-likelihood 9.97990e+02, Last log-likelihood 9.43637e+02, Change 5.43530e+01\n",
      "Iteration     5, New log-likelihood 1.05187e+03, Last log-likelihood 9.97990e+02, Change 5.38814e+01\n",
      "Iteration     6, New log-likelihood 1.10527e+03, Last log-likelihood 1.05187e+03, Change 5.33982e+01\n",
      "Iteration     7, New log-likelihood 1.15816e+03, Last log-likelihood 1.10527e+03, Change 5.28867e+01\n",
      "Iteration     8, New log-likelihood 1.21043e+03, Last log-likelihood 1.15816e+03, Change 5.22710e+01\n",
      "Iteration     9, New log-likelihood 1.26196e+03, Last log-likelihood 1.21043e+03, Change 5.15328e+01\n",
      "Iteration    10, New log-likelihood 1.17092e+04, Last log-likelihood 1.26196e+03, Change 1.04472e+04\n"
     ]
    }
   ],
   "source": [
    "# Use own codes\n",
    "total_smoother_dens = []\n",
    "total_smoother_purs = []\n",
    "\n",
    "observs = total_simu_probs\n",
    "learn_obj = EMLearn(observs, unitaries[0], x, M, Q, R, P)\n",
    "estX0, estM0, estQ, estR, estF = learn_obj.learn() # they are all arguemented\n",
    "\n",
    "# Slice from argumented system\n",
    "realX0 = estX0.toarray()[:num_dim_state]\n",
    "# realX0 = realX0.flatten().reshape((int(np.sqrt(num_dim_state)), int(np.sqrt(num_dim_state))), order='F') # to matrix\n",
    "# realX0 = KSEM.closed_den_mat(realX0) # find closest valid density matrix\n",
    "# realX0 = np.array(realX0.flatten(order='C'))[0] # reshape to vector\n",
    "\n",
    "realM0 = estM0.toarray()[range(num_dim_state),:][:,range(num_dim_state)]\n",
    "realF = estF.toarray()[range(num_dim_state),:][:,range(num_dim_state)]\n",
    "realQ = estQ.toarray()[range(num_dim_state),:][:,range(num_dim_state)]\n",
    "realR = estR.toarray()[range(num_dim_obs),:][:,range(num_dim_obs)]\n",
    "realP = estQ.toarray()[range(num_dim_state),:][:,range(num_dim_state, 2*num_dim_state)]"
   ]
  },
  {
   "cell_type": "code",
   "execution_count": 63,
   "id": "e0e4f81b",
   "metadata": {},
   "outputs": [],
   "source": [
    "smoother = KSQS(observs, realF, realX0, realM0, realQ, realR, realP)\n",
    "x_seq, M_seq, M_prio_seq = smoother.smooth() "
   ]
  },
  {
   "cell_type": "code",
   "execution_count": 68,
   "id": "db7c0407",
   "metadata": {},
   "outputs": [
    {
     "name": "stdout",
     "output_type": "stream",
     "text": [
      "0.10535861970678731\n",
      "0.10192863822213453\n",
      "0.09464731045000428\n",
      "0.0946572044347576\n",
      "0.09646526181649794\n",
      "0.09268073915561517\n",
      "0.09202129851231865\n",
      "0.09272718754260346\n",
      "0.09430132827621955\n",
      "0.09485017452147511\n"
     ]
    }
   ],
   "source": [
    "norm_diffs2 = []\n",
    "for i in range(len(total_simu_dens)):\n",
    "    kf_state2 = x_seq[i].todense()[:num_dim_state].flatten().reshape((int(np.sqrt(num_dim_state)), int(np.sqrt(num_dim_state))), order='F')\n",
    "    norm_diff = np.linalg.norm(kf_state2 - total_simu_dens[i].data)\n",
    "    norm_diffs2.append(norm_diff)\n",
    "    print(norm_diff)"
   ]
  },
  {
   "cell_type": "code",
   "execution_count": 73,
   "id": "bcc61d5b",
   "metadata": {},
   "outputs": [
    {
     "data": {
      "image/png": "[encoded data removed]",
      "text/plain": [
       "<Figure size 432x288 with 1 Axes>"
      ]
     },
     "metadata": {
      "needs_background": "light"
     },
     "output_type": "display_data"
    }
   ],
   "source": [
    "plt.plot(list(range(10)), norm_diffs, label='PyKalman')\n",
    "plt.plot(list(range(10)), norm_diffs2, label='Own Code')\n",
    "plt.ylabel('Norm Differences')\n",
    "plt.legend()\n",
    "plt.show()"
   ]
  },
  {
   "cell_type": "code",
   "execution_count": 74,
   "id": "1eaafc8a",
   "metadata": {},
   "outputs": [],
   "source": [
    "# State tomogtaphy\n",
    "\n",
    "backend_noise_model_for_tomo = NoiseModel.from_backend(backend)\n",
    "# Remove readout errros\n",
    "p0given1 = 0\n",
    "p1given0 = 0\n",
    "rde = ReadoutError([[1 - p1given0, p1given0], [p0given1, 1 - p0given1]])\n",
    "for i in range(backend.configuration().num_qubits):\n",
    "    backend_noise_model_for_tomo._local_readout_errors[(i,)] = rde\n",
    "den_simu_for_tomo = AerSimulator(method='density_matrix',noise_model=backend_noise_model_for_tomo)\n",
    "\n",
    "\n",
    "tomo_dens = [] # quantum state in density-matrix form\n",
    "tomo_probs = [] # measurement result\n",
    "tomo_purs = [] # purity\n",
    "for i in range(1, max_num_itrs+1):\n",
    "    my_seed = MY_SEEDS[i]\n",
    "    tomo_target_circ = transpile(iterative_circ(i, n_qubits, save_den = False), seed_transpiler=my_seed, backend=den_simu_for_tomo,optimization_level=0)\n",
    "    qstexp = StateTomography(tomo_target_circ)\n",
    "    qstdata = qstexp.run(den_simu, seed_simulation=my_seed).block_for_results()\n",
    "    tomo_state =  qstdata.analysis_results(\"state\")\n",
    "    \n",
    "    tomo_dens.append(tomo_state.value.data)\n",
    "    tomo_probs.append(tomo_state.value.probabilities())\n",
    "    tomo_purs.append(np.real(tomo_state.value.purity()))"
   ]
  },
  {
   "cell_type": "code",
   "execution_count": 77,
   "id": "d496157a",
   "metadata": {},
   "outputs": [
    {
     "name": "stdout",
     "output_type": "stream",
     "text": [
      "0.14962667641517371\n",
      "0.14532326816693444\n",
      "0.15194130480853776\n",
      "0.1391835491499797\n",
      "0.15063189310236783\n",
      "0.1257097134921955\n",
      "0.1507667739776124\n",
      "0.14185558492141517\n",
      "0.13998952086160604\n",
      "0.14136861240911877\n"
     ]
    }
   ],
   "source": [
    "norm_diffs3 = []\n",
    "for i in range(len(total_simu_dens)):\n",
    "    norm_diff = np.linalg.norm(tomo_dens[i] - total_simu_dens[i].data)\n",
    "    norm_diffs3.append(norm_diff)\n",
    "    print(norm_diff)"
   ]
  },
  {
   "cell_type": "code",
   "execution_count": 80,
   "id": "f75893d6",
   "metadata": {},
   "outputs": [
    {
     "data": {
      "image/png": "[encoded data removed]",
      "text/plain": [
       "<Figure size 432x288 with 1 Axes>"
      ]
     },
     "metadata": {
      "needs_background": "light"
     },
     "output_type": "display_data"
    }
   ],
   "source": [
    "plt.plot(list(range(10)), norm_diffs, label='PyKalman')\n",
    "plt.plot(list(range(10)), norm_diffs2, label='Own Code')\n",
    "plt.plot(list(range(10)), norm_diffs3, label='State Tomo')\n",
    "plt.xlabel('Iterations')\n",
    "plt.ylabel('Norm Differences to Actual State')\n",
    "plt.legend()\n",
    "plt.show()"
   ]
  },
  {
   "cell_type": "code",
   "execution_count": null,
   "id": "cdb35384",
   "metadata": {},
   "outputs": [],
   "source": []
  },
  {
   "cell_type": "code",
   "execution_count": null,
   "id": "152d40f5",
   "metadata": {},
   "outputs": [],
   "source": []
  }
 ],
 "metadata": {
  "kernelspec": {
   "display_name": "Python 3",
   "language": "python",
   "name": "python3"
  },
  "language_info": {
   "codemirror_mode": {
    "name": "ipython",
    "version": 3
   },
   "file_extension": ".py",
   "mimetype": "text/x-python",
   "name": "python",
   "nbconvert_exporter": "python",
   "pygments_lexer": "ipython3",
   "version": "3.9.7"
  }
 },
 "nbformat": 4,
 "nbformat_minor": 5
}
