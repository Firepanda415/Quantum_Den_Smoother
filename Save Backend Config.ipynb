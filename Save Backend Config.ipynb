{
 "cells": [
  {
   "cell_type": "code",
   "execution_count": 36,
   "metadata": {},
   "outputs": [
    {
     "name": "stderr",
     "output_type": "stream",
     "text": [
      "ibmqfactory.load_account:WARNING:2022-03-03 03:40:29,848: Credentials are already in use. The existing account in the session will be replaced.\n"
     ]
    }
   ],
   "source": [
    "import json\n",
    "from qiskit import IBMQ\n",
    "IBMQ.load_account()\n",
    "\n",
    "provider = IBMQ.get_provider(hub=\"ibm-q-pnnl\", group=\"internal\", project=\"default\")\n",
    "name = \"ibmq_brooklyn\"\n",
    "backend = provider.get_backend(name)\n",
    "\n",
    "prop_dict = backend.properties().to_dict()\n",
    "# Remove Dates\n",
    "prop_dict['last_update_date'] = 0\n",
    "for q in prop_dict['qubits']:\n",
    "    for con in q:\n",
    "        con['date'] = 0\n",
    "        \n",
    "for q in prop_dict['gates']:\n",
    "    for con in q['parameters']:\n",
    "        con['date'] = 0\n",
    "        \n",
    "for q in prop_dict['general']:\n",
    "    q['date'] = 0\n",
    "\n",
    "with open(prop_dict['backend_name']+'.json', 'w') as f:\n",
    "    json.dump(prop_dict, f)"
   ]
  },
  {
   "cell_type": "code",
   "execution_count": null,
   "metadata": {},
   "outputs": [],
   "source": []
  }
 ],
 "metadata": {
  "kernelspec": {
   "display_name": "Python 3 (ipykernel)",
   "language": "python",
   "name": "python3"
  },
  "language_info": {
   "codemirror_mode": {
    "name": "ipython",
    "version": 3
   },
   "file_extension": ".py",
   "mimetype": "text/x-python",
   "name": "python",
   "nbconvert_exporter": "python",
   "pygments_lexer": "ipython3",
   "version": "3.9.7"
  }
 },
 "nbformat": 4,
 "nbformat_minor": 4
}
