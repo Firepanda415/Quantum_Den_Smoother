{
 "cells": [
  {
   "cell_type": "code",
   "execution_count": 1,
   "metadata": {},
   "outputs": [],
   "source": [
    "import numpy as np\n",
    "from collections import Counter\n",
    "from qiskit import IBMQ,Aer,schedule, execute, QuantumCircuit, QuantumRegister, ClassicalRegister, transpile\n",
    "from qiskit.tools.visualization import plot_histogram\n",
    "from qiskit.visualization import timeline_drawer\n",
    "from qiskit.visualization.pulse_v2 import draw, IQXDebugging\n",
    "from qiskit.tools.monitor import job_monitor\n",
    "from qiskit.providers.aer.noise import NoiseModel\n",
    "from qiskit.providers.aer import AerSimulator\n",
    "import qiskit.quantum_info as qi\n",
    "from qiskit.providers.aer.noise import QuantumError, ReadoutError\n",
    "\n",
    "# Tomography functions\n",
    "from qiskit_experiments.framework import ParallelExperiment\n",
    "from qiskit_experiments.library import StateTomography\n",
    "\n",
    "\n",
    "import KSEM\n",
    "from importlib import reload  \n",
    "KSEM = reload(KSEM)\n",
    "from KSEM import KSQS, EMLearn\n",
    "\n",
    "import matplotlib.pyplot as plt\n",
    "from matplotlib.pyplot import figure\n",
    "\n",
    "# plt.rcParams['text.usetex'] = True\n",
    "fig_size = (8,6)\n",
    "fig_dpi = 150"
   ]
  },
  {
   "cell_type": "code",
   "execution_count": 2,
   "metadata": {},
   "outputs": [
    {
     "data": {
      "text/plain": [
       "<AccountProvider for IBMQ(hub='ibm-q', group='open', project='main')>"
      ]
     },
     "execution_count": 2,
     "metadata": {},
     "output_type": "execute_result"
    }
   ],
   "source": [
    "IBMQ.load_account()"
   ]
  },
  {
   "cell_type": "code",
   "execution_count": 3,
   "metadata": {},
   "outputs": [],
   "source": [
    "provider = IBMQ.get_provider(hub=\"ibm-q-pnnl\", group=\"internal\", project=\"default\")\n",
    "name = \"ibmq_brooklyn\"\n",
    "backend = provider.get_backend(name)\n",
    "backend_noise_model = NoiseModel.from_backend(backend)\n",
    "# # Remove readout errros\n",
    "# p0given1 = 0\n",
    "# p1given0 = 1\n",
    "# rde = ReadoutError([[1 - p1given0, p1given0], [p0given1, 1 - p0given1]])\n",
    "# for i in range(backend.configuration().num_qubits):\n",
    "#     backend_noise_model._local_readout_errors[(i,)] = rde\n",
    "den_simu = AerSimulator(method='density_matrix',noise_model=backend_noise_model)\n",
    "\n",
    "n_qubits = 3\n",
    "reps = 8\n",
    "max_num_itrs = 10"
   ]
  },
  {
   "cell_type": "code",
   "execution_count": 4,
   "metadata": {},
   "outputs": [
    {
     "data": {
      "text/plain": [
       "{'type': 'roerror',\n",
       " 'operations': ['measure'],\n",
       " 'probabilities': [[0.9756, 0.0244], [0.04920000000000002, 0.9508]],\n",
       " 'gate_qubits': [(64,)]}"
      ]
     },
     "execution_count": 4,
     "metadata": {},
     "output_type": "execute_result"
    }
   ],
   "source": [
    "backend_noise_model.to_dict()['errors'][-1]"
   ]
  },
  {
   "cell_type": "code",
   "execution_count": 5,
   "metadata": {},
   "outputs": [
    {
     "name": "stdout",
     "output_type": "stream",
     "text": [
      "2022-03-07 23:00:20-05:00\n"
     ]
    }
   ],
   "source": [
    "print(backend.properties().to_dict()[ 'last_update_date'])"
   ]
  },
  {
   "cell_type": "code",
   "execution_count": 6,
   "metadata": {},
   "outputs": [],
   "source": [
    "from qiskit.visualization import plot_error_map, plot_gate_map\n",
    "%matplotlib inline\n",
    "\n",
    "# plot_error_map(backend, figsize=(18, 12))"
   ]
  },
  {
   "cell_type": "code",
   "execution_count": 7,
   "metadata": {},
   "outputs": [],
   "source": [
    "from qiskit import Aer\n",
    "def single_iter(n_qubits=2):\n",
    "    iterate = QuantumCircuit(n_qubits)\n",
    "    iterate.h(0)\n",
    "    iterate.cx(0,1)\n",
    "    iterate.cx(1,2)\n",
    "    iterate.barrier()\n",
    "    iterate.cx(1,2)\n",
    "    iterate.cx(0,1)\n",
    "    iterate.h(0)\n",
    "    iterate.barrier()\n",
    "    return iterate\n",
    "\n",
    "def iterative_circ(num_itrs, n_qubits=2, save_den = True):   \n",
    "    total_circ = QuantumCircuit(n_qubits)\n",
    "    for i in range(num_itrs):\n",
    "        total_circ.compose(single_iter(n_qubits), inplace=True)\n",
    "    if save_den:\n",
    "        total_circ.save_density_matrix(pershot=False)\n",
    "    total_circ.measure_all()\n",
    "    return total_circ"
   ]
  },
  {
   "cell_type": "code",
   "execution_count": 8,
   "metadata": {},
   "outputs": [
    {
     "data": {
      "image/png": "[encoded data removed]",
      "text/plain": [
       "<Figure size 568.197x204.68 with 1 Axes>"
      ]
     },
     "execution_count": 8,
     "metadata": {},
     "output_type": "execute_result"
    }
   ],
   "source": [
    "single_iter(n_qubits).draw(\"mpl\")"
   ]
  },
  {
   "cell_type": "code",
   "execution_count": 9,
   "metadata": {},
   "outputs": [
    {
     "name": "stdout",
     "output_type": "stream",
     "text": [
      "10\n"
     ]
    },
    {
     "data": {
      "image/png": "[encoded data removed]",
      "text/plain": [
       "<Figure size 808.997x204.68 with 1 Axes>"
      ]
     },
     "execution_count": 9,
     "metadata": {},
     "output_type": "execute_result"
    }
   ],
   "source": [
    "temp_circ = transpile(single_iter(n_qubits), backend=den_simu)\n",
    "print(temp_circ.depth())\n",
    "temp_circ.draw(\"mpl\")"
   ]
  },
  {
   "cell_type": "code",
   "execution_count": 10,
   "metadata": {},
   "outputs": [
    {
     "name": "stdout",
     "output_type": "stream",
     "text": [
      "Depth: 101\n",
      "T1: 0.00010025178679293694 sec\n",
      "T2: 0.00010019964695396136 sec\n",
      "Circuit Operation Time: 2.2104888888888887e-05 sec\n"
     ]
    }
   ],
   "source": [
    "temp_circ2 = iterative_circ(max_num_itrs, n_qubits, save_den = False)\n",
    "temp_circ3 = transpile(temp_circ2, backend=backend)\n",
    "print(\"Depth:\", temp_circ3.depth())\n",
    "print(\"T1:\", backend.properties().qubit_property(0)['T1'][0], \"sec\")\n",
    "print(\"T2:\", backend.properties().qubit_property(0)['T2'][0], \"sec\")\n",
    "dt = backend.configuration().dt # sec\n",
    "temp_sch = schedule(temp_circ3, backend)\n",
    "print(\"Circuit Operation Time:\",(temp_sch.stop_time - temp_sch.start_time)*dt, \"sec\")"
   ]
  },
  {
   "cell_type": "markdown",
   "metadata": {},
   "source": [
    "## Qiskit Backend-noise Simulation\n",
    "\n",
    "Obtain measurement data and actual quantum states (from a backend-noise simulator)\n",
    "\n",
    "Note that the outputs does not have measurement noise because the probabilities are obtained from density matrix object, instead of measurement operator API."
   ]
  },
  {
   "cell_type": "code",
   "execution_count": 11,
   "metadata": {},
   "outputs": [],
   "source": [
    "unitary_simulator = Aer.get_backend('aer_simulator')\n",
    "unitary_circ = transpile(single_iter(n_qubits), backend=den_simu)\n",
    "unitary_circ.save_unitary()\n",
    "unitary_result = unitary_simulator.run(unitary_circ).result()\n",
    "unitary = unitary_result.get_unitary(unitary_circ)\n",
    "\n",
    "unitaries = []\n",
    "for i in range(1, max_num_itrs+1):\n",
    "    gate = unitary.data\n",
    "    F = np.kron(gate.conjugate(), gate)\n",
    "    unitaries.append(F)"
   ]
  },
  {
   "cell_type": "code",
   "execution_count": 12,
   "metadata": {},
   "outputs": [
    {
     "data": {
      "text/plain": [
       "{'001': 2597,\n",
       " '000': 56528,\n",
       " '100': 1192,\n",
       " '011': 1498,\n",
       " '110': 478,\n",
       " '111': 448,\n",
       " '010': 2292,\n",
       " '101': 503}"
      ]
     },
     "execution_count": 12,
     "metadata": {},
     "output_type": "execute_result"
    }
   ],
   "source": [
    "trans_circ = transpile(iterative_circ(3, n_qubits), backend=den_simu)\n",
    "iter_res = den_simu.run(trans_circ,shots=8192*reps,seed_simulator=np.random.randint(10**8)).result()\n",
    "iter_res.get_counts()"
   ]
  },
  {
   "cell_type": "code",
   "execution_count": 13,
   "metadata": {},
   "outputs": [
    {
     "name": "stdout",
     "output_type": "stream",
     "text": [
      "Purity\n",
      "0.922357625858562\n",
      "0.8524269515135124\n",
      "0.7894207693737086\n",
      "0.7326333137225919\n",
      "0.6814317712472796\n",
      "0.6352486810318386\n",
      "0.5935751304416804\n",
      "0.5559546632062807\n",
      "0.521977824840757\n",
      "0.49127727844456753\n",
      "\n",
      "Prob Vec\n",
      "[0.93087769 0.01805115 0.02062988 0.00860596 0.01358032 0.00292969\n",
      " 0.00279236 0.00253296]\n",
      "[0.89569092 0.02890015 0.02920532 0.0151825  0.01612854 0.00520325\n",
      " 0.00495911 0.00473022]\n",
      "[0.86022949 0.04118347 0.03460693 0.02288818 0.01805115 0.00848389\n",
      " 0.00799561 0.00656128]\n",
      "[0.82681274 0.05073547 0.04278564 0.02891541 0.02102661 0.01100159\n",
      " 0.00939941 0.00932312]\n",
      "[0.79652405 0.06065369 0.04614258 0.036026   0.02354431 0.01364136\n",
      " 0.01203918 0.01142883]\n",
      "[0.76821899 0.06817627 0.05441284 0.04301453 0.02412415 0.01489258\n",
      " 0.0133667  0.01379395]\n",
      "[0.74028015 0.07713318 0.05966187 0.04634094 0.02677917 0.01818848\n",
      " 0.01655579 0.01506042]\n",
      "[0.71421814 0.08590698 0.06416321 0.05368042 0.02861023 0.0196991\n",
      " 0.01683044 0.01689148]\n",
      "[0.68659973 0.09413147 0.06993103 0.05847168 0.0302887  0.02185059\n",
      " 0.02001953 0.01870728]\n",
      "[0.66589355 0.09973145 0.0743866  0.06080627 0.03244019 0.022995\n",
      " 0.02224731 0.02149963]\n"
     ]
    }
   ],
   "source": [
    "np.random.seed(7)\n",
    "\n",
    "\n",
    "total_simu_dens = [] # quantum state in density-matrix form\n",
    "total_simu_probs = [] # measurement result\n",
    "total_simu_purs = [] # purity\n",
    "for i in range(1, max_num_itrs+1):\n",
    "    trans_circ = transpile(iterative_circ(i, n_qubits), backend=den_simu)\n",
    "    iter_res = den_simu.run(trans_circ,shots=8192*reps,seed_simulator=np.random.randint(10**8)).result()\n",
    "    iter_den = iter_res.data()['density_matrix']\n",
    "    total_simu_dens.append(iter_den)\n",
    "    total_simu_probs.append(KSEM.dictToVec(iter_res.get_counts()))\n",
    "    total_simu_purs.append(np.real(iter_den.purity()))\n",
    "    \n",
    "print(\"Purity\")\n",
    "for pu in total_simu_purs:\n",
    "    print(pu)\n",
    "    \n",
    "print(\"\\nProb Vec\")\n",
    "for p in total_simu_probs:\n",
    "    print(p)"
   ]
  },
  {
   "cell_type": "markdown",
   "metadata": {},
   "source": [
    "## State Tomography"
   ]
  },
  {
   "cell_type": "markdown",
   "metadata": {},
   "source": [
    "### Use a Noise Model without Measurement Error for Tomography"
   ]
  },
  {
   "cell_type": "code",
   "execution_count": 14,
   "metadata": {},
   "outputs": [],
   "source": [
    "backend_noise_model_for_tomo = NoiseModel.from_backend(backend)\n",
    "# Remove readout errros\n",
    "p0given1 = 0\n",
    "p1given0 = 0\n",
    "rde = ReadoutError([[1 - p1given0, p1given0], [p0given1, 1 - p0given1]])\n",
    "for i in range(backend.configuration().num_qubits):\n",
    "    backend_noise_model_for_tomo._local_readout_errors[(i,)] = rde\n",
    "den_simu_for_tomo = AerSimulator(method='density_matrix',noise_model=backend_noise_model_for_tomo)"
   ]
  },
  {
   "cell_type": "code",
   "execution_count": 15,
   "metadata": {},
   "outputs": [
    {
     "name": "stdout",
     "output_type": "stream",
     "text": [
      "Tomography Purity\n",
      "0.8626072528054879\n",
      "0.7962758975571409\n",
      "0.7354599555089042\n",
      "0.6855694274902321\n",
      "0.6484612530306745\n",
      "0.6006505869672599\n",
      "0.5552261808155124\n",
      "0.5156748291323623\n",
      "0.48613355632836497\n",
      "0.4626261306073433\n",
      "\n",
      "Tomography Prob Vec\n",
      "[0.92595343 0.01770112 0.0186105  0.01000397 0.01398989 0.0043612\n",
      " 0.00600365 0.00337625]\n",
      "[0.88753149 0.03445933 0.03281911 0.00730657 0.01641857 0.00643789\n",
      " 0.00702018 0.00800687]\n",
      "[0.85179554 0.04006739 0.03850544 0.02166586 0.02603151 0.00722071\n",
      " 0.00575569 0.00895787]\n",
      "[0.82178549 0.0462027  0.0437584  0.03047576 0.02261762 0.0164094\n",
      " 0.00923646 0.00951418]\n",
      "[0.7972721  0.05807225 0.05205703 0.03517843 0.02275657 0.01332984\n",
      " 0.00876241 0.01257136]\n",
      "[0.76504589 0.06742398 0.05661226 0.0426316  0.02694356 0.01367691\n",
      " 0.01166923 0.01599657]\n",
      "[0.73096699 0.08303593 0.06652528 0.04167032 0.0315059  0.01526061\n",
      " 0.01220737 0.01882759]\n",
      "[0.70195852 0.08538289 0.06702073 0.05771322 0.03705374 0.01992224\n",
      " 0.0115928  0.01935586]\n",
      "[0.67859696 0.09898415 0.06690547 0.06287467 0.03926977 0.01539321\n",
      " 0.01681496 0.02116081]\n",
      "[0.65826908 0.10334662 0.07765692 0.06292364 0.04083949 0.01794934\n",
      " 0.01741768 0.02159723]\n"
     ]
    }
   ],
   "source": [
    "np.random.seed(7)\n",
    "\n",
    "tomo_dens = [] # quantum state in density-matrix form\n",
    "tomo_probs = [] # measurement result\n",
    "tomo_purs = [] # purity\n",
    "for i in range(1, max_num_itrs+1):\n",
    "    tomo_target_circ = transpile(iterative_circ(i, n_qubits, save_den = False), backend=den_simu_for_tomo)\n",
    "    qstexp = StateTomography(tomo_target_circ)\n",
    "    qstdata = qstexp.run(den_simu, seed_simulation=np.random.randint(10**8)).block_for_results()\n",
    "    tomo_state =  qstdata.analysis_results(\"state\")\n",
    "    \n",
    "    tomo_dens.append(tomo_state.value.data)\n",
    "    tomo_probs.append(tomo_state.value.probabilities())\n",
    "    tomo_purs.append(np.real(tomo_state.value.purity()))\n",
    "    \n",
    "print(\"Tomography Purity\")\n",
    "for pu in tomo_purs:\n",
    "    print(pu)\n",
    "    \n",
    "print(\"\\nTomography Prob Vec\")\n",
    "for p in tomo_probs:\n",
    "    print(p)"
   ]
  },
  {
   "cell_type": "markdown",
   "metadata": {},
   "source": [
    "## Kalman Smoother"
   ]
  },
  {
   "cell_type": "code",
   "execution_count": 16,
   "metadata": {},
   "outputs": [],
   "source": [
    "def vecden_meas(state):# H, measurement matrix for vectorized density matrix\n",
    "    num_qubits = int(np.log2(np.sqrt(state.shape[0])))\n",
    "    nrows = 2**num_qubits\n",
    "    ncols = nrows**2\n",
    "    mat = np.zeros((nrows, ncols), dtype=np.float64)\n",
    "    for k in range(nrows):\n",
    "        mat[k, nrows*k+k] = 1.0 # take out the diagonal terms in vectorized density matrix\n",
    "    return np.real(mat.dot(state))"
   ]
  },
  {
   "cell_type": "markdown",
   "metadata": {},
   "source": [
    "### Initialize"
   ]
  },
  {
   "cell_type": "code",
   "execution_count": 17,
   "metadata": {},
   "outputs": [],
   "source": [
    "initial_state = np.array([0]*(total_simu_probs[0].size**2), dtype=complex)\n",
    "initial_state[0] = 1\n",
    "\n",
    "# initial state\n",
    "num_dim = initial_state.size\n",
    "x =initial_state\n",
    "x[0]-= 0.01/num_dim\n",
    "nrows = int(x.size-1)\n",
    "for k in range(1,nrows+1):\n",
    "    x[k] += 1/(num_dim*nrows)"
   ]
  },
  {
   "cell_type": "code",
   "execution_count": 18,
   "metadata": {},
   "outputs": [],
   "source": [
    "# Other variance parameters\n",
    "num_dim_state = initial_state.size\n",
    "num_dim_obs = total_simu_probs[0].size\n",
    "\n",
    "M = np.identity(num_dim_state, dtype=complex)* 0.01 * (1) # a guess for covariance matrix, E[(x0-xhat0^+)(x0-xhat0^+)^T]\n",
    "Q = np.identity(num_dim_state, dtype=complex)* 0.2 * (1) # state covariance\n",
    "R = np.identity(num_dim_obs)* 0.2 * (1) # meas covariance\n",
    "P = np.identity(num_dim_state, dtype=complex)* 0.1 * (1+1j)# \n",
    "# U = np.identity(num_dim_obs, dtype=complex)* 0.0"
   ]
  },
  {
   "cell_type": "code",
   "execution_count": 19,
   "metadata": {},
   "outputs": [
    {
     "data": {
      "text/plain": [
       "(64, 64, 8, 4096)"
      ]
     },
     "execution_count": 19,
     "metadata": {},
     "output_type": "execute_result"
    }
   ],
   "source": [
    "x.size,num_dim_state,num_dim_obs, unitaries[0].size"
   ]
  },
  {
   "cell_type": "markdown",
   "metadata": {},
   "source": [
    "### EM and Smoother - Total"
   ]
  },
  {
   "cell_type": "markdown",
   "metadata": {},
   "source": [
    "Use longest iterations"
   ]
  },
  {
   "cell_type": "code",
   "execution_count": 20,
   "metadata": {},
   "outputs": [],
   "source": [
    "# total_smoother_dens = []\n",
    "# total_smoother_purs = []\n",
    "\n",
    "# observs = total_simu_probs\n",
    "# learn_obj = EMLearn(observs, unitaries[0], x, M, Q, R, P, U)\n",
    "# estX0, estM0, estQ, estR, estF = learn_obj.learn() # they are all arguemented\n",
    "\n",
    "# # Slice from argumented system\n",
    "# realX0 = estX0.toarray()[:num_dim_state]\n",
    "# realX0norm = np.sqrt(np.sum(np.abs(realX0)**2))\n",
    "# realM0 = estM0.toarray()[range(num_dim_state),:][:,range(num_dim_state)]\n",
    "# realF = estF.toarray()[range(num_dim_state),:][:,range(num_dim_state)]\n",
    "# realQ = estQ.toarray()[range(num_dim_state),:][:,range(num_dim_state)]\n",
    "# realR = estR.toarray()[range(num_dim_obs),:][:,range(num_dim_obs)]\n",
    "# realP = estQ.toarray()[range(num_dim_state),:][:,range(num_dim_state, 2*num_dim_state)]\n",
    "# realU = estR.toarray()[range(num_dim_obs),:][:,range(num_dim_obs, 2*num_dim_obs)]\n",
    "\n",
    "# smoother = KSQS(observs, realF, x, realM0, realQ, realR, realP, realU)\n",
    "# x_seq, M_seq, M_prio_seq = smoother.smooth() \n",
    "\n",
    "# x_est_norms = []\n",
    "# for j in range(max_num_itrs):\n",
    "#     x_est = np.array(x_seq[j+1][:num_dim_state].todense()).flatten()\n",
    "#     diag_sum = np.sum(vecden_meas(x_est))\n",
    "\n",
    "#     #normalize along the diagonal\n",
    "#     x_est_norm = x_est+0\n",
    "#     nrows = int(np.sqrt(x_est.size))\n",
    "#     for k in range(nrows):\n",
    "#         x_est_norm[k*nrows+k] = x_est_norm[k*nrows+k]/diag_sum\n",
    "#     x_est_norms.append(x_est_norm)\n",
    "#     final_den = x_est_norm.reshape(num_dim_obs, num_dim_obs)\n",
    "#     total_smoother_dens.append(final_den)\n",
    "#     total_smoother_purs.append(np.real(qi.DensityMatrix(final_den).purity()))"
   ]
  },
  {
   "cell_type": "markdown",
   "metadata": {},
   "source": [
    "Only use the estimation in the final iteration as the valid output"
   ]
  },
  {
   "cell_type": "code",
   "execution_count": 30,
   "metadata": {},
   "outputs": [
    {
     "name": "stderr",
     "output_type": "stream",
     "text": [
      "C:\\ProgramData\\Anaconda3\\envs\\quantum\\lib\\site-packages\\scipy\\sparse\\_index.py:82: SparseEfficiencyWarning: Changing the sparsity structure of a csc_matrix is expensive. lil_matrix is more efficient.\n",
      "  self._set_intXint(row, col, x.flat[0])\n",
      "C:\\ProgramData\\Anaconda3\\envs\\quantum\\lib\\site-packages\\scipy\\sparse\\linalg\\dsolve\\linsolve.py:318: SparseEfficiencyWarning: splu requires CSC matrix format\n",
      "  warn('splu requires CSC matrix format', SparseEfficiencyWarning)\n",
      "C:\\ProgramData\\Anaconda3\\envs\\quantum\\lib\\site-packages\\scipy\\sparse\\linalg\\dsolve\\linsolve.py:215: SparseEfficiencyWarning: spsolve is more efficient when sparse b is in the CSC matrix format\n",
      "  warn('spsolve is more efficient when sparse b '\n"
     ]
    },
    {
     "name": "stdout",
     "output_type": "stream",
     "text": [
      "Iteration     1, New log-likelihood 2.91932e+02, Last log-likelihood 2.93606e+02, Change -1.67471e+00\n",
      "Iteration     1, New log-likelihood 1.43950e+02, Last log-likelihood 2.52311e+02, Change -1.08361e+02\n",
      "Iteration     1, New log-likelihood -6.28063e+03, Last log-likelihood -1.17733e+03, Change -5.10330e+03\n",
      "Iteration     1, New log-likelihood -6.97537e+05, Last log-likelihood -2.00034e+04, Change -6.77533e+05\n",
      "Iteration     1, New log-likelihood -2.79450e+08, Last log-likelihood -2.49114e+05, Change -2.79201e+08\n",
      "Iteration     1, New log-likelihood -1.04732e+11, Last log-likelihood -2.97485e+06, Change -1.04729e+11\n",
      "Iteration     1, New log-likelihood -3.58502e+13, Last log-likelihood -3.50723e+07, Change -3.58501e+13\n",
      "Iteration     1, New log-likelihood -1.17536e+16, Last log-likelihood -4.11117e+08, Change -1.17536e+16\n",
      "Iteration     1, New log-likelihood -3.75324e+18, Last log-likelihood -4.80578e+09, Change -3.75324e+18\n",
      "Iteration     1, New log-likelihood -1.17439e+21, Last log-likelihood -5.60906e+10, Change -1.17439e+21\n"
     ]
    }
   ],
   "source": [
    "total_smoother_dens = []\n",
    "total_smoother_purs = []\n",
    "for i in range(1,max_num_itrs+1):\n",
    "    observs = total_simu_probs[0:i]\n",
    "    learn_obj = EMLearn(observs, unitaries[0], x, M, Q, R, P)\n",
    "    estX0, estM0, estQ, estR, estF = learn_obj.learn() # they are all arguemented\n",
    "    \n",
    "    # Slice from argumented system\n",
    "    realX0 = estX0.toarray()[:num_dim_state]\n",
    "    realX0norm = np.sqrt(np.sum(np.abs(realX0)**2))\n",
    "    realM0 = estM0.toarray()[range(num_dim_state),:][:,range(num_dim_state)]\n",
    "    realF = estF.toarray()[range(num_dim_state),:][:,range(num_dim_state)]\n",
    "    realQ = estQ.toarray()[range(num_dim_state),:][:,range(num_dim_state)]\n",
    "    realR = estR.toarray()[range(num_dim_obs),:][:,range(num_dim_obs)]\n",
    "    realP = estQ.toarray()[range(num_dim_state),:][:,range(num_dim_state, 2*num_dim_state)]\n",
    "    realU = estR.toarray()[range(num_dim_obs),:][:,range(num_dim_obs, 2*num_dim_obs)]*0\n",
    "\n",
    "    smoother = KSQS(observs, realF, x, realM0, realQ, realR, realP)\n",
    "    x_seq, M_seq, M_prio_seq = smoother.smooth() \n",
    "    \n",
    "    # Normalization\n",
    "#     x_est_norms = []\n",
    "#     for j in range(i):\n",
    "#         x_est = np.array(x_seq[j+1][:num_dim_state].todense()).flatten()\n",
    "#         diag_sum = np.sum(vecden_meas(x_est))\n",
    "\n",
    "#         #normalize along the diagonal\n",
    "#         x_est_norm = x_est+0\n",
    "#         nrows = int(np.sqrt(x_est.size))\n",
    "#         for k in range(nrows):\n",
    "#             x_est_norm[k*nrows+k] = x_est_norm[k*nrows+k]/diag_sum\n",
    "#     final_den = x_est_norm.reshape(num_dim_obs, num_dim_obs)\n",
    "\n",
    "    x_est = np.matrix(x_seq[-1][:num_dim_state].todense()).flatten().reshape((num_dim_obs, num_dim_obs), order='F')\n",
    "#     x_est = (x_est+x_est.H)/2\n",
    "    final_den = KSEM.closed_den_mat(x_est)\n",
    "    total_smoother_dens.append(final_den)\n",
    "    total_smoother_purs.append(np.real(qi.DensityMatrix(final_den).purity()))"
   ]
  },
  {
   "cell_type": "code",
   "execution_count": 31,
   "metadata": {},
   "outputs": [
    {
     "name": "stdout",
     "output_type": "stream",
     "text": [
      "Is state a valid density matrix: True\n",
      "Is state a valid density matrix: True\n",
      "Is state a valid density matrix: True\n",
      "Is state a valid density matrix: True\n",
      "Is state a valid density matrix: True\n",
      "Is state a valid density matrix: True\n",
      "Is state a valid density matrix: True\n",
      "Is state a valid density matrix: True\n",
      "Is state a valid density matrix: True\n",
      "Is state a valid density matrix: True\n"
     ]
    }
   ],
   "source": [
    "for den in total_smoother_dens:\n",
    "    print(\"Is state a valid density matrix:\", qi.DensityMatrix(den).is_valid())"
   ]
  },
  {
   "cell_type": "code",
   "execution_count": 32,
   "metadata": {},
   "outputs": [
    {
     "name": "stdout",
     "output_type": "stream",
     "text": [
      "[[ 0.7  +0.j    -0.   +0.j    -0.   +0.j    -0.   +0.j    -0.   +0.j\n",
      "  -0.   +0.j    -0.   +0.j    -0.   +0.j   ]\n",
      " [-0.   -0.j     0.09 +0.j    -0.   -0.j    -0.   -0.j    -0.   -0.j\n",
      "  -0.   -0.j    -0.   -0.j    -0.   -0.j   ]\n",
      " [-0.   -0.j    -0.   +0.j     0.067-0.j    -0.   -0.001j -0.   -0.j\n",
      "  -0.   -0.j    -0.   -0.j    -0.   -0.j   ]\n",
      " [-0.   -0.j    -0.   +0.j    -0.   +0.001j  0.056-0.j    -0.   -0.j\n",
      "  -0.   -0.j    -0.   -0.j    -0.   -0.j   ]\n",
      " [-0.   -0.j    -0.   +0.j    -0.   +0.j    -0.   +0.j     0.029-0.j\n",
      "  -0.   -0.j    -0.   -0.j    -0.   -0.j   ]\n",
      " [-0.   -0.j    -0.   +0.j    -0.   +0.j    -0.   +0.j    -0.   +0.j\n",
      "   0.021-0.j    -0.   -0.j    -0.   -0.001j]\n",
      " [-0.   -0.j    -0.   +0.j    -0.   +0.j    -0.   +0.j    -0.   +0.j\n",
      "  -0.   +0.j     0.018-0.j    -0.   +0.001j]\n",
      " [-0.   -0.j    -0.   +0.j    -0.   +0.j    -0.   +0.j    -0.   +0.j\n",
      "  -0.   +0.001j -0.   -0.001j  0.019+0.j   ]]\n",
      "[[ 0.707+0.j  0.052+0.j  0.   +0.j  0.   +0.j  0.   +0.j  0.   +0.j\n",
      "   0.   +0.j  0.   +0.j]\n",
      " [ 0.052+0.j  0.091+0.j  0.   +0.j  0.   +0.j  0.   +0.j  0.   +0.j\n",
      "   0.   +0.j  0.   +0.j]\n",
      " [ 0.   +0.j  0.   +0.j  0.06 +0.j -0.007-0.j  0.   +0.j  0.   +0.j\n",
      "   0.   +0.j  0.   +0.j]\n",
      " [ 0.   +0.j  0.   +0.j -0.007+0.j  0.059+0.j  0.   +0.j  0.   +0.j\n",
      "   0.   +0.j  0.   +0.j]\n",
      " [ 0.   +0.j  0.   +0.j  0.   +0.j  0.   +0.j  0.022+0.j -0.006-0.j\n",
      "   0.   +0.j  0.   +0.j]\n",
      " [ 0.   +0.j  0.   +0.j  0.   +0.j  0.   +0.j -0.006+0.j  0.022+0.j\n",
      "   0.   +0.j  0.   +0.j]\n",
      " [ 0.   +0.j  0.   +0.j  0.   +0.j  0.   +0.j  0.   +0.j  0.   +0.j\n",
      "   0.02 +0.j -0.005-0.j]\n",
      " [ 0.   +0.j  0.   +0.j  0.   +0.j  0.   +0.j  0.   +0.j  0.   +0.j\n",
      "  -0.005+0.j  0.02 +0.j]]\n"
     ]
    }
   ],
   "source": [
    "with np.printoptions(precision=3, suppress=True):\n",
    "#     for den in total_smoother_dens:\n",
    "#         print(den)\n",
    "    print(total_smoother_dens[8])\n",
    "    print(total_simu_dens[8].data)"
   ]
  },
  {
   "cell_type": "code",
   "execution_count": 33,
   "metadata": {},
   "outputs": [
    {
     "name": "stdout",
     "output_type": "stream",
     "text": [
      "Estimated Purity (Total)\n",
      "0.9202686236568378\n",
      "0.8439516569793772\n",
      "0.7769810878796173\n",
      "0.718305041427591\n",
      "0.6674299444617614\n",
      "0.6226604756026863\n",
      "0.5813842974675314\n",
      "0.5443506567747864\n",
      "0.5083059619353423\n",
      "0.4793391759687034\n"
     ]
    }
   ],
   "source": [
    "print(\"Estimated Purity (Total)\")\n",
    "for pu in total_smoother_purs:\n",
    "    print(pu)"
   ]
  },
  {
   "cell_type": "markdown",
   "metadata": {},
   "source": [
    "## Check the fidelity between estimated state and the real state in the simulator"
   ]
  },
  {
   "cell_type": "code",
   "execution_count": 34,
   "metadata": {},
   "outputs": [],
   "source": [
    "from scipy.linalg import sqrtm\n",
    "def state_fid(m1,m2):\n",
    "    sqm1 = sqrtm(m1)\n",
    "    temp = sqm1.dot(m2).dot(sqm1)\n",
    "    temp2 = sqrtm(temp)\n",
    "    return np.real(np.trace(temp2))**2"
   ]
  },
  {
   "cell_type": "code",
   "execution_count": 41,
   "metadata": {},
   "outputs": [
    {
     "name": "stdout",
     "output_type": "stream",
     "text": [
      "Iteration 1 KS Fid: 0.9970933080252647 Tomo Fid: 0.9677443659910364\n",
      "Iteration 2 KS Fid: 0.9954941467243303 Tomo Fid: 0.9603958885175642\n",
      "Iteration 3 KS Fid: 0.9956806757756649 Tomo Fid: 0.9579964004662064\n",
      "Iteration 4 KS Fid: 0.9952730098095386 Tomo Fid: 0.9487319864470444\n",
      "Iteration 5 KS Fid: 0.9951157007387627 Tomo Fid: 0.9691891980266245\n",
      "Iteration 6 KS Fid: 0.9947852654082093 Tomo Fid: 0.958670187518687\n",
      "Iteration 7 KS Fid: 0.9944003203848915 Tomo Fid: 0.9667795171780706\n",
      "Iteration 8 KS Fid: 0.9939406362844968 Tomo Fid: 0.9523666593342855\n",
      "Iteration 9 KS Fid: 0.9934729116790095 Tomo Fid: 0.9590667056975632\n",
      "Iteration 10 KS Fid: 0.9928493684171722 Tomo Fid: 0.9558665778205925\n"
     ]
    },
    {
     "data": {
      "image/png": "[encoded data removed]",
      "text/plain": [
       "<Figure size 432x288 with 1 Axes>"
      ]
     },
     "metadata": {
      "needs_background": "light"
     },
     "output_type": "display_data"
    }
   ],
   "source": [
    "# Compare fidelity, use Qiskit API (when every state from KS is a valid density matrix)\n",
    "diff_fed_all= []\n",
    "diff_fed_tomo= []\n",
    "for i in range(max_num_itrs):\n",
    "    qis_den_tomo = qi.DensityMatrix(tomo_dens[i])\n",
    "    qis_den_all = qi.DensityMatrix(total_smoother_dens[i])\n",
    "    fed_difference_tomo =  qi.state_fidelity(total_simu_dens[i], qis_den_tomo)\n",
    "    fed_difference_all =  qi.state_fidelity(total_simu_dens[i], qis_den_all)\n",
    "    diff_fed_all.append(fed_difference_all)\n",
    "    diff_fed_tomo.append(fed_difference_tomo)\n",
    "    print(\"Iteration\",i+1, \"KS Fid:\", fed_difference_all, \"Tomo Fid:\", fed_difference_tomo)\n",
    "    \n",
    "iter_range = range(max_num_itrs)\n",
    "plt.plot(np.array(iter_range)+1, np.array(diff_fed_all)[iter_range], '+-', color='red', label='KS')\n",
    "plt.plot(np.array(iter_range)+1, np.array(diff_fed_tomo)[iter_range], '*-', color='blue', label='Tomo')\n",
    "# plt.plot(np.array(iter_range)+1, np.array([0.9]*max_num_itrs)[iter_range], '--', color='lightgray')\n",
    "plt.xlabel(\"Number of Iterations\")\n",
    "plt.ylabel(\"Fidelity\")\n",
    "plt.xticks((np.array(iter_range)+1))\n",
    "plt.legend()\n",
    "plt.tight_layout()\n",
    "plt.savefig(\"diff_fed_qis.svg\")\n",
    "plt.show()"
   ]
  },
  {
   "cell_type": "code",
   "execution_count": 35,
   "metadata": {},
   "outputs": [
    {
     "name": "stdout",
     "output_type": "stream",
     "text": [
      "Iteration 1 KS Fid: 0.9970933080252667 Tomo Fid: 0.9677443661999708\n",
      "Iteration 2 KS Fid: 0.9954941467243306 Tomo Fid: 0.9603958884171973\n",
      "Iteration 3 KS Fid: 0.9956806757756664 Tomo Fid: 0.9579964008061109\n",
      "Iteration 4 KS Fid: 0.9952730098095408 Tomo Fid: 0.9487319861970599\n",
      "Iteration 5 KS Fid: 0.9951157007387607 Tomo Fid: 0.9691891980111144\n",
      "Iteration 6 KS Fid: 0.9947852654082107 Tomo Fid: 0.9586701873277449\n",
      "Iteration 7 KS Fid: 0.9944003203848908 Tomo Fid: 0.9667795178704057\n",
      "Iteration 8 KS Fid: 0.993940636284497 Tomo Fid: 0.9523666587064975\n",
      "Iteration 9 KS Fid: 0.99347291167901 Tomo Fid: 0.959066705638686\n",
      "Iteration 10 KS Fid: 0.9928493684171731 Tomo Fid: 0.9558665772519499\n"
     ]
    },
    {
     "data": {
      "image/png": "[encoded data removed]",
      "text/plain": [
       "<Figure size 432x288 with 1 Axes>"
      ]
     },
     "metadata": {
      "needs_background": "light"
     },
     "output_type": "display_data"
    }
   ],
   "source": [
    "# Compare fidelity, use my own function (when some states from KS are not valid density matrices)\n",
    "diff_fed_all= []\n",
    "diff_fed_tomo= []\n",
    "for i in range(max_num_itrs):\n",
    "    fed_difference_tomo =  state_fid(total_simu_dens[i].data, tomo_dens[i])\n",
    "    fed_difference_all =  state_fid(total_simu_dens[i].data, total_smoother_dens[i])\n",
    "    diff_fed_all.append(fed_difference_all)\n",
    "    diff_fed_tomo.append(fed_difference_tomo)\n",
    "    print(\"Iteration\",i+1, \"KS Fid:\", fed_difference_all, \"Tomo Fid:\", fed_difference_tomo)\n",
    "    \n",
    "iter_range = range(max_num_itrs)\n",
    "plt.plot(np.array(iter_range)+1, np.array(diff_fed_all)[iter_range], '+-', color='red', label='KS')\n",
    "plt.plot(np.array(iter_range)+1, np.array(diff_fed_tomo)[iter_range], '*-', color='blue', label='Tomo')\n",
    "# plt.plot(np.array(iter_range)+1, np.array([0.9]*max_num_itrs)[iter_range], '--', color='lightgray')\n",
    "plt.xlabel(\"Number of Iterations\")\n",
    "plt.ylabel(\"Fidelity\")\n",
    "plt.xticks((np.array(iter_range)+1))\n",
    "plt.legend()\n",
    "plt.tight_layout()\n",
    "plt.savefig(\"diff_fed.svg\")\n",
    "plt.show()"
   ]
  },
  {
   "cell_type": "code",
   "execution_count": 36,
   "metadata": {},
   "outputs": [
    {
     "name": "stdout",
     "output_type": "stream",
     "text": [
      "Iteration 1 KS Norm: 0.013707151721129166 Tomo Norm: 0.0740098138739486\n",
      "Iteration 2 KS Norm: 0.02541945479712953 Tomo Norm: 0.08634271416295312\n",
      "Iteration 3 KS Norm: 0.033975804031055594 Tomo Norm: 0.09362712210323243\n",
      "Iteration 4 KS Norm: 0.04270334030415505 Tomo Norm: 0.08282230626005005\n",
      "Iteration 5 KS Norm: 0.05021297772244123 Tomo Norm: 0.07610076988546477\n",
      "Iteration 6 KS Norm: 0.05752059525614444 Tomo Norm: 0.08599964661638623\n",
      "Iteration 7 KS Norm: 0.06450781399173923 Tomo Norm: 0.09504006412777863\n",
      "Iteration 8 KS Norm: 0.07092821718735538 Tomo Norm: 0.0975710445734693\n",
      "Iteration 9 KS Norm: 0.0771484615608215 Tomo Norm: 0.09902779968832714\n",
      "Iteration 10 KS Norm: 0.08289986758772201 Tomo Norm: 0.11598545273242407\n"
     ]
    },
    {
     "data": {
      "image/png": "[encoded data removed]",
      "text/plain": [
       "<Figure size 432x288 with 1 Axes>"
      ]
     },
     "metadata": {
      "needs_background": "light"
     },
     "output_type": "display_data"
    }
   ],
   "source": [
    "diff_norm_all= []\n",
    "diff_norm_tomo= []\n",
    "for i in range(max_num_itrs):\n",
    "    norm_difference_tomo =  np.linalg.norm(total_simu_dens[i].data-tomo_dens[i])\n",
    "    norm_difference_all =  np.linalg.norm(total_simu_dens[i].data-total_smoother_dens[i])\n",
    "    diff_norm_all.append(norm_difference_all)\n",
    "    diff_norm_tomo.append(norm_difference_tomo)\n",
    "    print(\"Iteration\",i+1, \"KS Norm:\", norm_difference_all, \"Tomo Norm:\", norm_difference_tomo)\n",
    "    \n",
    "iter_range = range(max_num_itrs)\n",
    "plt.plot(np.array(iter_range)+1, np.array(diff_norm_all)[iter_range], '+-', color='red', label='KS')\n",
    "plt.plot(np.array(iter_range)+1, np.array(diff_norm_tomo)[iter_range], '*-', color='blue', label='Tomo')\n",
    "plt.xlabel(\"Number of Iterations\")\n",
    "plt.ylabel(r'$||\\rho_{simu} - \\rho_{est}||_2$', fontsize=14)\n",
    "plt.xticks((np.array(iter_range)+1))\n",
    "plt.legend()\n",
    "plt.tight_layout()\n",
    "plt.savefig(\"diff_norm.svg\")\n",
    "plt.show()"
   ]
  },
  {
   "cell_type": "code",
   "execution_count": 37,
   "metadata": {},
   "outputs": [
    {
     "data": {
      "image/png": "[encoded data removed]",
      "text/plain": [
       "<Figure size 432x288 with 1 Axes>"
      ]
     },
     "metadata": {
      "needs_background": "light"
     },
     "output_type": "display_data"
    }
   ],
   "source": [
    "plt.plot(np.array(iter_range)+1, np.array(total_smoother_purs)[iter_range], '+-', label=\"KS\",color='red')\n",
    "plt.plot(np.array(iter_range)+1, np.array(tomo_purs)[iter_range], '*-', label=\"Tomo\",color='blue')\n",
    "# plt.plot(np.array(iter_range)+1, np.array(total_smoother_purs)[iter_range]-0.25, '+-', label=\"Estimated-0.25\",color='skyblue')\n",
    "plt.plot(np.array(iter_range)+1, np.array(total_simu_purs)[iter_range], label=\"Actual\", color='gray')\n",
    "plt.xlabel(\"Number of Iterations\")\n",
    "plt.ylabel(\"Purity\")\n",
    "plt.xticks((np.array(iter_range)+1))\n",
    "plt.legend()\n",
    "plt.tight_layout()\n",
    "plt.savefig(\"diff_pur.svg\")\n",
    "plt.show()"
   ]
  },
  {
   "cell_type": "code",
   "execution_count": 38,
   "metadata": {},
   "outputs": [
    {
     "data": {
      "image/png": "[encoded data removed]",
      "text/plain": [
       "<Figure size 432x288 with 1 Axes>"
      ]
     },
     "metadata": {
      "needs_background": "light"
     },
     "output_type": "display_data"
    }
   ],
   "source": [
    "plt.plot(np.array(iter_range)+1, np.abs(np.array(total_simu_purs)-np.array(total_smoother_purs))[iter_range], '+-', label=\"KS\",color='red')\n",
    "plt.plot(np.array(iter_range)+1, np.abs(np.array(total_simu_purs)-np.array(tomo_purs))[iter_range], '*-', label=\"Tomo\",color='blue')\n",
    "\n",
    "plt.xlabel(\"Number of Iterations\")\n",
    "plt.ylabel(\"Purity Difference\")\n",
    "plt.xticks((np.array(iter_range)+1))\n",
    "plt.legend()\n",
    "plt.tight_layout()\n",
    "plt.savefig(\"diff_pur_diff.svg\")\n",
    "plt.show()"
   ]
  },
  {
   "cell_type": "code",
   "execution_count": null,
   "metadata": {},
   "outputs": [],
   "source": []
  },
  {
   "cell_type": "code",
   "execution_count": null,
   "metadata": {},
   "outputs": [],
   "source": []
  }
 ],
 "metadata": {
  "kernelspec": {
   "display_name": "Python 3 (ipykernel)",
   "language": "python",
   "name": "python3"
  },
  "language_info": {
   "codemirror_mode": {
    "name": "ipython",
    "version": 3
   },
   "file_extension": ".py",
   "mimetype": "text/x-python",
   "name": "python",
   "nbconvert_exporter": "python",
   "pygments_lexer": "ipython3",
   "version": "3.9.7"
  }
 },
 "nbformat": 4,
 "nbformat_minor": 4
}
