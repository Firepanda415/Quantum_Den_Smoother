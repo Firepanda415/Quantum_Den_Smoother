{
 "cells": [
  {
   "cell_type": "code",
   "execution_count": 1,
   "metadata": {},
   "outputs": [],
   "source": [
    "import numpy as np\n",
    "from collections import Counter\n",
    "from qiskit import IBMQ,Aer,schedule, execute, QuantumCircuit, QuantumRegister, ClassicalRegister, transpile\n",
    "from qiskit.tools.visualization import plot_histogram\n",
    "from qiskit.visualization import timeline_drawer\n",
    "from qiskit.visualization.pulse_v2 import draw, IQXDebugging\n",
    "from qiskit.tools.monitor import job_monitor\n",
    "from qiskit.providers.aer.noise import NoiseModel\n",
    "from qiskit.providers.aer import AerSimulator\n",
    "import qiskit.quantum_info as qi\n",
    "from qiskit.providers.aer.noise import QuantumError, ReadoutError\n",
    "\n",
    "# Tomography functions\n",
    "from qiskit_experiments.framework import ParallelExperiment\n",
    "from qiskit_experiments.library import StateTomography\n",
    "\n",
    "\n",
    "# Seeds\n",
    "from numpy.random import Generator, PCG64\n",
    "rng = Generator(PCG64(1897))\n",
    "MY_SEEDS = rng.integers(0,high=10**8,size=100)\n",
    "\n",
    "\n",
    "import KSEM\n",
    "from importlib import reload  \n",
    "KSEM = reload(KSEM)\n",
    "from KSEM import KSQS, EMLearn\n",
    "\n",
    "import matplotlib.pyplot as plt\n",
    "from matplotlib.pyplot import figure\n",
    "\n",
    "# plt.rcParams['text.usetex'] = True\n",
    "fig_size = (8,6)\n",
    "fig_dpi = 150"
   ]
  },
  {
   "cell_type": "code",
   "execution_count": 2,
   "metadata": {},
   "outputs": [
    {
     "data": {
      "text/plain": [
       "<AccountProvider for IBMQ(hub='ibm-q', group='open', project='main')>"
      ]
     },
     "execution_count": 2,
     "metadata": {},
     "output_type": "execute_result"
    }
   ],
   "source": [
    "IBMQ.load_account()"
   ]
  },
  {
   "cell_type": "code",
   "execution_count": 3,
   "metadata": {},
   "outputs": [
    {
     "name": "stderr",
     "output_type": "stream",
     "text": [
      "Device reported a gate error parameter greater than maximum allowed value (1.000000 > 0.800000). Truncating to maximum value.\n",
      "Device model returned a depolarizing error parameter greater than maximum allowed value (1.067522 > 1.066667). Truncating to maximum value.\n",
      "Device reported a gate error parameter greater than maximum allowed value (1.000000 > 0.800000). Truncating to maximum value.\n",
      "Device model returned a depolarizing error parameter greater than maximum allowed value (1.067576 > 1.066667). Truncating to maximum value.\n",
      "Device reported a gate error parameter greater than maximum allowed value (1.000000 > 0.800000). Truncating to maximum value.\n",
      "Device model returned a depolarizing error parameter greater than maximum allowed value (1.067189 > 1.066667). Truncating to maximum value.\n",
      "Device reported a gate error parameter greater than maximum allowed value (1.000000 > 0.800000). Truncating to maximum value.\n",
      "Device model returned a depolarizing error parameter greater than maximum allowed value (1.067237 > 1.066667). Truncating to maximum value.\n",
      "Device reported a gate error parameter greater than maximum allowed value (1.000000 > 0.800000). Truncating to maximum value.\n",
      "Device model returned a depolarizing error parameter greater than maximum allowed value (1.067645 > 1.066667). Truncating to maximum value.\n",
      "Device reported a gate error parameter greater than maximum allowed value (1.000000 > 0.800000). Truncating to maximum value.\n",
      "Device model returned a depolarizing error parameter greater than maximum allowed value (1.067688 > 1.066667). Truncating to maximum value.\n",
      "Device reported a gate error parameter greater than maximum allowed value (1.000000 > 0.800000). Truncating to maximum value.\n",
      "Device model returned a depolarizing error parameter greater than maximum allowed value (1.067501 > 1.066667). Truncating to maximum value.\n",
      "Device reported a gate error parameter greater than maximum allowed value (1.000000 > 0.800000). Truncating to maximum value.\n",
      "Device model returned a depolarizing error parameter greater than maximum allowed value (1.067570 > 1.066667). Truncating to maximum value.\n"
     ]
    }
   ],
   "source": [
    "provider = IBMQ.get_provider(hub=\"ibm-q-pnnl\", group=\"internal\", project=\"default\")\n",
    "name = \"ibmq_brooklyn\"\n",
    "backend = provider.get_backend(name)\n",
    "backend_noise_model = NoiseModel.from_backend(backend)\n",
    "# # Remove readout errros\n",
    "# p0given1 = 0\n",
    "# p1given0 = 1\n",
    "# rde = ReadoutError([[1 - p1given0, p1given0], [p0given1, 1 - p0given1]])\n",
    "# for i in range(backend.configuration().num_qubits):\n",
    "#     backend_noise_model._local_readout_errors[(i,)] = rde\n",
    "den_simu = AerSimulator(method='density_matrix',noise_model=backend_noise_model)\n",
    "\n",
    "n_qubits = 3\n",
    "reps = 8\n",
    "max_num_itrs = 10"
   ]
  },
  {
   "cell_type": "code",
   "execution_count": 4,
   "metadata": {},
   "outputs": [
    {
     "data": {
      "text/plain": [
       "{'type': 'roerror',\n",
       " 'operations': ['measure'],\n",
       " 'probabilities': [[0.9704, 0.0296], [0.04200000000000004, 0.958]],\n",
       " 'gate_qubits': [(64,)]}"
      ]
     },
     "execution_count": 4,
     "metadata": {},
     "output_type": "execute_result"
    }
   ],
   "source": [
    "backend_noise_model.to_dict()['errors'][-1]"
   ]
  },
  {
   "cell_type": "code",
   "execution_count": 5,
   "metadata": {},
   "outputs": [
    {
     "name": "stdout",
     "output_type": "stream",
     "text": [
      "2022-05-25 22:51:51-04:00\n"
     ]
    }
   ],
   "source": [
    "print(backend.properties().to_dict()[ 'last_update_date'])"
   ]
  },
  {
   "cell_type": "code",
   "execution_count": 6,
   "metadata": {},
   "outputs": [],
   "source": [
    "from qiskit.visualization import plot_error_map, plot_gate_map\n",
    "%matplotlib inline\n",
    "\n",
    "# plot_error_map(backend, figsize=(18, 12))"
   ]
  },
  {
   "cell_type": "code",
   "execution_count": 7,
   "metadata": {},
   "outputs": [],
   "source": [
    "from qiskit import Aer\n",
    "def single_iter(n_qubits=2):\n",
    "    iterate = QuantumCircuit(n_qubits)\n",
    "    iterate.h(0)\n",
    "    iterate.cx(0,1)\n",
    "    iterate.cx(1,2)\n",
    "    iterate.barrier()\n",
    "    iterate.cx(1,2)\n",
    "    iterate.cx(0,1)\n",
    "    iterate.h(0)\n",
    "    iterate.barrier()\n",
    "    return iterate\n",
    "\n",
    "def iterative_circ(num_itrs, n_qubits=2, save_den = True):   \n",
    "    total_circ = QuantumCircuit(n_qubits)\n",
    "    for i in range(num_itrs):\n",
    "        total_circ.compose(single_iter(n_qubits), inplace=True)\n",
    "    if save_den:\n",
    "        total_circ.save_density_matrix(pershot=False)\n",
    "    total_circ.measure_all()\n",
    "    return total_circ"
   ]
  },
  {
   "cell_type": "code",
   "execution_count": 8,
   "metadata": {},
   "outputs": [
    {
     "data": {
      "image/png": "[encoded data removed]",
      "text/plain": [
       "<Figure size 568.197x204.68 with 1 Axes>"
      ]
     },
     "execution_count": 8,
     "metadata": {},
     "output_type": "execute_result"
    }
   ],
   "source": [
    "single_iter(n_qubits).draw(\"mpl\")"
   ]
  },
  {
   "cell_type": "code",
   "execution_count": 9,
   "metadata": {},
   "outputs": [
    {
     "name": "stdout",
     "output_type": "stream",
     "text": [
      "10\n"
     ]
    },
    {
     "data": {
      "image/png": "[encoded data removed]",
      "text/plain": [
       "<Figure size 808.997x204.68 with 1 Axes>"
      ]
     },
     "execution_count": 9,
     "metadata": {},
     "output_type": "execute_result"
    }
   ],
   "source": [
    "temp_circ = transpile(single_iter(n_qubits), backend=den_simu)\n",
    "print(temp_circ.depth())\n",
    "temp_circ.draw(\"mpl\")"
   ]
  },
  {
   "cell_type": "code",
   "execution_count": 10,
   "metadata": {},
   "outputs": [
    {
     "name": "stdout",
     "output_type": "stream",
     "text": [
      "Depth: 101\n",
      "T1: 9.275249258271653e-05 sec\n",
      "T2: 9.733613343913872e-05 sec\n",
      "Circuit Operation Time: 2.2104888888888887e-05 sec\n"
     ]
    }
   ],
   "source": [
    "temp_circ2 = iterative_circ(max_num_itrs, n_qubits, save_den = False)\n",
    "temp_circ3 = transpile(temp_circ2, backend=backend)\n",
    "print(\"Depth:\", temp_circ3.depth())\n",
    "print(\"T1:\", backend.properties().qubit_property(0)['T1'][0], \"sec\")\n",
    "print(\"T2:\", backend.properties().qubit_property(0)['T2'][0], \"sec\")\n",
    "dt = backend.configuration().dt # sec\n",
    "temp_sch = schedule(temp_circ3, backend)\n",
    "print(\"Circuit Operation Time:\",(temp_sch.stop_time - temp_sch.start_time)*dt, \"sec\")"
   ]
  },
  {
   "cell_type": "markdown",
   "metadata": {},
   "source": [
    "## Qiskit Backend-noise Simulation\n",
    "\n",
    "Obtain measurement data and actual quantum states (from a backend-noise simulator)\n",
    "\n",
    "Note that the outputs does not have measurement noise because the probabilities are obtained from density matrix object, instead of measurement operator API."
   ]
  },
  {
   "cell_type": "code",
   "execution_count": 11,
   "metadata": {},
   "outputs": [],
   "source": [
    "unitary_simulator = Aer.get_backend('aer_simulator')\n",
    "unitary_circ = transpile(single_iter(n_qubits), backend=den_simu)\n",
    "unitary_circ.save_unitary()\n",
    "unitary_result = unitary_simulator.run(unitary_circ).result()\n",
    "unitary = unitary_result.get_unitary(unitary_circ)\n",
    "\n",
    "unitaries = []\n",
    "for i in range(1, max_num_itrs+1):\n",
    "    gate = unitary.data\n",
    "    F = np.kron(gate.conjugate(), gate)\n",
    "    unitaries.append(F)"
   ]
  },
  {
   "cell_type": "code",
   "execution_count": 12,
   "metadata": {},
   "outputs": [
    {
     "data": {
      "text/plain": [
       "{'000': 55374,\n",
       " '011': 1659,\n",
       " '001': 3295,\n",
       " '101': 485,\n",
       " '010': 2759,\n",
       " '100': 1015,\n",
       " '111': 426,\n",
       " '110': 523}"
      ]
     },
     "execution_count": 12,
     "metadata": {},
     "output_type": "execute_result"
    }
   ],
   "source": [
    "trans_circ = transpile(iterative_circ(3, n_qubits), backend=den_simu)\n",
    "iter_res = den_simu.run(trans_circ,shots=8192*reps,seed_simulator=np.random.randint(10**8)).result()\n",
    "iter_res.get_counts()"
   ]
  },
  {
   "cell_type": "code",
   "execution_count": 14,
   "metadata": {},
   "outputs": [
    {
     "name": "stdout",
     "output_type": "stream",
     "text": [
      "Purity\n",
      "0.9140048691246985\n",
      "0.8374504245476417\n",
      "0.7692695153662782\n",
      "0.7085171338466145\n",
      "0.6543563491444209\n",
      "0.6060458667039678\n",
      "0.5629290249950993\n",
      "0.5244240631098643\n",
      "0.4900155120590421\n",
      "0.45924657968254373\n",
      "\n",
      "Prob Vec\n",
      "[0.92071533 0.02494812 0.02590942 0.00924683 0.01112366 0.00291443\n",
      " 0.00286865 0.00227356]\n",
      "[0.88145447 0.03842163 0.03372192 0.01800537 0.01342773 0.00547791\n",
      " 0.00476074 0.00473022]\n",
      "[0.84187317 0.04949951 0.0431366  0.02671814 0.01644897 0.00799561\n",
      " 0.00782776 0.00650024]\n",
      "[0.80923462 0.06187439 0.0496521  0.03237915 0.01733398 0.01062012\n",
      " 0.01016235 0.00874329]\n",
      "[0.776474   0.07348633 0.05528259 0.03968811 0.020401   0.01210022\n",
      " 0.01194763 0.01062012]\n",
      "[0.74398804 0.08164978 0.06364441 0.04721069 0.02182007 0.01521301\n",
      " 0.01319885 0.01327515]\n",
      "[0.71765137 0.08955383 0.06669617 0.05392456 0.02478027 0.01678467\n",
      " 0.01641846 0.01419067]\n",
      "[0.69129944 0.09812927 0.07373047 0.05847168 0.02519226 0.01960754\n",
      " 0.01676941 0.01679993]\n",
      "[0.66061401 0.10742188 0.08033752 0.06532288 0.02763367 0.02075195\n",
      " 0.02000427 0.01791382]\n",
      "[0.63890076 0.11535645 0.08314514 0.06907654 0.02932739 0.0234375\n",
      " 0.02096558 0.01979065]\n"
     ]
    }
   ],
   "source": [
    "total_simu_dens = [] # quantum state in density-matrix form\n",
    "total_simu_probs = [] # measurement result\n",
    "total_simu_purs = [] # purity\n",
    "for i in range(1, max_num_itrs+1):\n",
    "    my_seed = MY_SEEDS[i]\n",
    "    trans_circ = transpile(iterative_circ(i, n_qubits, save_den = True), seed_transpiler=my_seed, backend=den_simu,optimization_level=0)\n",
    "    iter_res = den_simu.run(trans_circ,shots=8192*reps,seed_simulator=my_seed).result()\n",
    "    iter_den = iter_res.data()['density_matrix']\n",
    "    total_simu_dens.append(iter_den)\n",
    "    \n",
    "    trans_circ = transpile(iterative_circ(i, n_qubits, save_den = False), seed_transpiler=my_seed, backend=den_simu,optimization_level=0)\n",
    "    iter_res = den_simu.run(trans_circ,shots=8192*reps,seed_simulator=my_seed).result()\n",
    "    total_simu_probs.append(KSEM.dictToVec(iter_res.get_counts()))\n",
    "    total_simu_purs.append(np.real(iter_den.purity()))\n",
    "    \n",
    "print(\"Purity\")\n",
    "for pu in total_simu_purs:\n",
    "    print(pu)\n",
    "    \n",
    "print(\"\\nProb Vec\")\n",
    "for p in total_simu_probs:\n",
    "    print(p)"
   ]
  },
  {
   "cell_type": "markdown",
   "metadata": {},
   "source": [
    "## State Tomography"
   ]
  },
  {
   "cell_type": "markdown",
   "metadata": {},
   "source": [
    "### Use a Noise Model without Measurement Error for Tomography"
   ]
  },
  {
   "cell_type": "code",
   "execution_count": 15,
   "metadata": {},
   "outputs": [
    {
     "name": "stderr",
     "output_type": "stream",
     "text": [
      "Device reported a gate error parameter greater than maximum allowed value (1.000000 > 0.800000). Truncating to maximum value.\n",
      "Device model returned a depolarizing error parameter greater than maximum allowed value (1.067522 > 1.066667). Truncating to maximum value.\n",
      "Device reported a gate error parameter greater than maximum allowed value (1.000000 > 0.800000). Truncating to maximum value.\n",
      "Device model returned a depolarizing error parameter greater than maximum allowed value (1.067576 > 1.066667). Truncating to maximum value.\n",
      "Device reported a gate error parameter greater than maximum allowed value (1.000000 > 0.800000). Truncating to maximum value.\n",
      "Device model returned a depolarizing error parameter greater than maximum allowed value (1.067189 > 1.066667). Truncating to maximum value.\n",
      "Device reported a gate error parameter greater than maximum allowed value (1.000000 > 0.800000). Truncating to maximum value.\n",
      "Device model returned a depolarizing error parameter greater than maximum allowed value (1.067237 > 1.066667). Truncating to maximum value.\n",
      "Device reported a gate error parameter greater than maximum allowed value (1.000000 > 0.800000). Truncating to maximum value.\n",
      "Device model returned a depolarizing error parameter greater than maximum allowed value (1.067645 > 1.066667). Truncating to maximum value.\n",
      "Device reported a gate error parameter greater than maximum allowed value (1.000000 > 0.800000). Truncating to maximum value.\n",
      "Device model returned a depolarizing error parameter greater than maximum allowed value (1.067688 > 1.066667). Truncating to maximum value.\n",
      "Device reported a gate error parameter greater than maximum allowed value (1.000000 > 0.800000). Truncating to maximum value.\n",
      "Device model returned a depolarizing error parameter greater than maximum allowed value (1.067501 > 1.066667). Truncating to maximum value.\n",
      "Device reported a gate error parameter greater than maximum allowed value (1.000000 > 0.800000). Truncating to maximum value.\n",
      "Device model returned a depolarizing error parameter greater than maximum allowed value (1.067570 > 1.066667). Truncating to maximum value.\n"
     ]
    }
   ],
   "source": [
    "backend_noise_model_for_tomo = NoiseModel.from_backend(backend)\n",
    "# Remove readout errros\n",
    "p0given1 = 0\n",
    "p1given0 = 0\n",
    "rde = ReadoutError([[1 - p1given0, p1given0], [p0given1, 1 - p0given1]])\n",
    "for i in range(backend.configuration().num_qubits):\n",
    "    backend_noise_model_for_tomo._local_readout_errors[(i,)] = rde\n",
    "den_simu_for_tomo = AerSimulator(method='density_matrix',noise_model=backend_noise_model_for_tomo)"
   ]
  },
  {
   "cell_type": "code",
   "execution_count": 16,
   "metadata": {},
   "outputs": [
    {
     "name": "stdout",
     "output_type": "stream",
     "text": [
      "Tomography Purity\n",
      "0.82618794825788\n",
      "0.7650454363532139\n",
      "0.7296701118387733\n",
      "0.658572974028411\n",
      "0.6111471388075089\n",
      "0.5801229469446557\n",
      "0.5309413391866805\n",
      "0.4997873306274413\n",
      "0.47508080800374425\n",
      "0.4404569201999241\n",
      "\n",
      "Tomography Prob Vec\n",
      "[0.90489895 0.02771766 0.03185671 0.00756946 0.01278745 0.00442387\n",
      " 0.00562027 0.00512563]\n",
      "[0.86929763 0.04129965 0.03524065 0.01798391 0.0151237  0.00674111\n",
      " 0.00883417 0.00547918]\n",
      "[0.84858984 0.04554581 0.03556659 0.0273535  0.01650399 0.00797949\n",
      " 0.00768575 0.01077502]\n",
      "[0.80409071 0.0608724  0.04823134 0.03710938 0.02376302 0.00808377\n",
      " 0.00716146 0.01068793]\n",
      "[0.77129449 0.07180447 0.06599935 0.03903537 0.01890734 0.01538086\n",
      " 0.00827365 0.00930447]\n",
      "[0.749836   0.07792547 0.06163341 0.04406906 0.01972848 0.01575332\n",
      " 0.01655003 0.01450423]\n",
      "[0.71289063 0.0922309  0.06830512 0.05962457 0.02582465 0.01616753\n",
      " 0.01698134 0.00797526]\n",
      "[0.68934462 0.09966363 0.07118056 0.05311415 0.02484809 0.02240668\n",
      " 0.02224392 0.01719835]\n",
      "[0.66655816 0.11192491 0.07823351 0.06591797 0.02669271 0.01698134\n",
      " 0.0171441  0.01654731]\n",
      "[0.63840061 0.11805556 0.07790799 0.07123481 0.03179253 0.0195855\n",
      " 0.02370877 0.01931424]\n"
     ]
    }
   ],
   "source": [
    "tomo_dens = [] # quantum state in density-matrix form\n",
    "tomo_probs = [] # measurement result\n",
    "tomo_purs = [] # purity\n",
    "for i in range(1, max_num_itrs+1):\n",
    "    my_seed = MY_SEEDS[i]\n",
    "    tomo_target_circ = transpile(iterative_circ(i, n_qubits, save_den = False), seed_transpiler=my_seed, backend=den_simu_for_tomo,optimization_level=0)\n",
    "    qstexp = StateTomography(tomo_target_circ)\n",
    "    qstdata = qstexp.run(den_simu, seed_simulation=my_seed).block_for_results()\n",
    "    tomo_state =  qstdata.analysis_results(\"state\")\n",
    "    \n",
    "    tomo_dens.append(tomo_state.value.data)\n",
    "    tomo_probs.append(tomo_state.value.probabilities())\n",
    "    tomo_purs.append(np.real(tomo_state.value.purity()))\n",
    "    \n",
    "print(\"Tomography Purity\")\n",
    "for pu in tomo_purs:\n",
    "    print(pu)\n",
    "    \n",
    "print(\"\\nTomography Prob Vec\")\n",
    "for p in tomo_probs:\n",
    "    print(p)"
   ]
  },
  {
   "cell_type": "markdown",
   "metadata": {},
   "source": [
    "## Kalman Smoother"
   ]
  },
  {
   "cell_type": "code",
   "execution_count": 17,
   "metadata": {},
   "outputs": [],
   "source": [
    "def vecden_meas(state):# H, measurement matrix for vectorized density matrix\n",
    "    num_qubits = int(np.log2(np.sqrt(state.shape[0])))\n",
    "    nrows = 2**num_qubits\n",
    "    ncols = nrows**2\n",
    "    mat = np.zeros((nrows, ncols), dtype=np.float64)\n",
    "    for k in range(nrows):\n",
    "        mat[k, nrows*k+k] = 1.0 # take out the diagonal terms in vectorized density matrix\n",
    "    return np.real(mat.dot(state))"
   ]
  },
  {
   "cell_type": "markdown",
   "metadata": {},
   "source": [
    "### Initialize"
   ]
  },
  {
   "cell_type": "code",
   "execution_count": 18,
   "metadata": {},
   "outputs": [],
   "source": [
    "initial_state = np.array([0]*(total_simu_probs[0].size**2), dtype=complex)\n",
    "initial_state[0] = 1\n",
    "\n",
    "# initial state\n",
    "num_dim = initial_state.size\n",
    "x =initial_state\n",
    "x[0]-= 0.01/num_dim\n",
    "nrows = int(x.size-1)\n",
    "for k in range(1,nrows+1):\n",
    "    x[k] += 1/(num_dim*nrows)"
   ]
  },
  {
   "cell_type": "code",
   "execution_count": 19,
   "metadata": {},
   "outputs": [],
   "source": [
    "# Other variance parameters\n",
    "num_dim_state = initial_state.size\n",
    "num_dim_obs = total_simu_probs[0].size\n",
    "\n",
    "M = np.identity(num_dim_state, dtype=complex)* 0.01 * (1) # a guess for covariance matrix, E[(x0-xhat0^+)(x0-xhat0^+)^T]\n",
    "Q = np.identity(num_dim_state, dtype=complex)* 0.2 * (1) # state covariance\n",
    "R = np.identity(num_dim_obs)* 0.2 * (1) # meas covariance\n",
    "P = np.identity(num_dim_state, dtype=complex)* 0.1 * (1)# \n",
    "# U = np.identity(num_dim_obs, dtype=complex)* 0.0"
   ]
  },
  {
   "cell_type": "code",
   "execution_count": 20,
   "metadata": {},
   "outputs": [
    {
     "data": {
      "text/plain": [
       "(64, 64, 8, 4096)"
      ]
     },
     "execution_count": 20,
     "metadata": {},
     "output_type": "execute_result"
    }
   ],
   "source": [
    "x.size,num_dim_state,num_dim_obs, unitaries[0].size"
   ]
  },
  {
   "cell_type": "markdown",
   "metadata": {},
   "source": [
    "### EM and Smoother - Total"
   ]
  },
  {
   "cell_type": "markdown",
   "metadata": {},
   "source": [
    "Use longest iterations"
   ]
  },
  {
   "cell_type": "code",
   "execution_count": 32,
   "metadata": {},
   "outputs": [
    {
     "data": {
      "text/plain": [
       "array([[ 9.93656514e-01+0.j],\n",
       "       [ 2.87611751e-03+0.j],\n",
       "       [ 2.87611749e-03+0.j],\n",
       "       [ 2.87611751e-03+0.j],\n",
       "       [ 2.87611750e-03+0.j],\n",
       "       [ 2.87611750e-03+0.j],\n",
       "       [ 2.87611751e-03+0.j],\n",
       "       [ 2.87611750e-03+0.j],\n",
       "       [ 2.87611750e-03+0.j],\n",
       "       [-2.13777465e-01+0.j],\n",
       "       [ 2.87611751e-03+0.j],\n",
       "       [ 2.87611752e-03+0.j],\n",
       "       [ 2.87611750e-03+0.j],\n",
       "       [ 2.87611751e-03+0.j],\n",
       "       [ 2.87611750e-03+0.j],\n",
       "       [ 2.87611751e-03+0.j],\n",
       "       [ 2.87611750e-03+0.j],\n",
       "       [ 2.87611751e-03+0.j],\n",
       "       [-1.94124930e-04+0.j],\n",
       "       [ 2.87611751e-03+0.j],\n",
       "       [ 2.87611751e-03+0.j],\n",
       "       [ 2.87611750e-03+0.j],\n",
       "       [ 2.87611750e-03+0.j],\n",
       "       [ 2.87611751e-03+0.j],\n",
       "       [ 2.87611750e-03+0.j],\n",
       "       [ 2.87611750e-03+0.j],\n",
       "       [ 2.87611751e-03+0.j],\n",
       "       [-9.83241749e-02+0.j],\n",
       "       [ 2.87611750e-03+0.j],\n",
       "       [ 2.87611750e-03+0.j],\n",
       "       [ 2.87611750e-03+0.j],\n",
       "       [ 2.87611750e-03+0.j],\n",
       "       [ 2.87611751e-03+0.j],\n",
       "       [ 2.87611750e-03+0.j],\n",
       "       [ 2.87611751e-03+0.j],\n",
       "       [ 2.87611750e-03+0.j],\n",
       "       [-1.25324406e-01+0.j],\n",
       "       [ 2.87611749e-03+0.j],\n",
       "       [ 2.87611751e-03+0.j],\n",
       "       [ 2.87611750e-03+0.j],\n",
       "       [ 2.87611751e-03+0.j],\n",
       "       [ 2.87611750e-03+0.j],\n",
       "       [ 2.87611751e-03+0.j],\n",
       "       [ 2.87611750e-03+0.j],\n",
       "       [ 2.87611750e-03+0.j],\n",
       "       [ 2.92565277e-02+0.j],\n",
       "       [ 2.87611751e-03+0.j],\n",
       "       [ 2.87611750e-03+0.j],\n",
       "       [ 2.87611750e-03+0.j],\n",
       "       [ 2.87611750e-03+0.j],\n",
       "       [ 2.87611751e-03+0.j],\n",
       "       [ 2.87611750e-03+0.j],\n",
       "       [ 2.87611750e-03+0.j],\n",
       "       [ 2.87611750e-03+0.j],\n",
       "       [ 1.39169411e-01+0.j],\n",
       "       [ 2.87611752e-03+0.j],\n",
       "       [ 2.87611750e-03+0.j],\n",
       "       [ 2.87611749e-03+0.j],\n",
       "       [ 2.87611751e-03+0.j],\n",
       "       [ 2.87611750e-03+0.j],\n",
       "       [ 2.87611750e-03+0.j],\n",
       "       [ 2.87611751e-03+0.j],\n",
       "       [ 2.87611751e-03+0.j],\n",
       "       [ 1.19367364e-01+0.j]])"
      ]
     },
     "execution_count": 32,
     "metadata": {},
     "output_type": "execute_result"
    }
   ],
   "source": [
    "estX0.toarray()[:num_dim_state]"
   ]
  },
  {
   "cell_type": "code",
   "execution_count": 21,
   "metadata": {},
   "outputs": [
    {
     "name": "stderr",
     "output_type": "stream",
     "text": [
      "C:\\ProgramData\\Anaconda3\\envs\\quantum\\lib\\site-packages\\scipy\\sparse\\_index.py:82: SparseEfficiencyWarning: Changing the sparsity structure of a csc_matrix is expensive. lil_matrix is more efficient.\n",
      "  self._set_intXint(row, col, x.flat[0])\n",
      "C:\\ProgramData\\Anaconda3\\envs\\quantum\\lib\\site-packages\\scipy\\sparse\\linalg\\dsolve\\linsolve.py:318: SparseEfficiencyWarning: splu requires CSC matrix format\n",
      "  warn('splu requires CSC matrix format', SparseEfficiencyWarning)\n",
      "C:\\ProgramData\\Anaconda3\\envs\\quantum\\lib\\site-packages\\scipy\\sparse\\linalg\\dsolve\\linsolve.py:215: SparseEfficiencyWarning: spsolve is more efficient when sparse b is in the CSC matrix format\n",
      "  warn('spsolve is more efficient when sparse b '\n"
     ]
    },
    {
     "name": "stdout",
     "output_type": "stream",
     "text": [
      "Iteration statrts New ll 777.15, Last ll 767.15\n",
      "Iteration     1, New log-likelihood 8.33739e+02, Last log-likelihood 7.77150e+02, Change 5.65885e+01\n",
      "Iteration     2, New log-likelihood 8.88923e+02, Last log-likelihood 8.33739e+02, Change 5.51846e+01\n",
      "Iteration     3, New log-likelihood 9.43710e+02, Last log-likelihood 8.88923e+02, Change 5.47864e+01\n",
      "Iteration     4, New log-likelihood 9.98034e+02, Last log-likelihood 9.43710e+02, Change 5.43243e+01\n",
      "Iteration     5, New log-likelihood 1.05174e+03, Last log-likelihood 9.98034e+02, Change 5.37080e+01\n",
      "Iteration     6, New log-likelihood 1.10470e+03, Last log-likelihood 1.05174e+03, Change 5.29628e+01\n",
      "Iteration     7, New log-likelihood 1.15683e+03, Last log-likelihood 1.10470e+03, Change 5.21287e+01\n",
      "Iteration     8, New log-likelihood 1.20810e+03, Last log-likelihood 1.15683e+03, Change 5.12654e+01\n",
      "Iteration     9, New log-likelihood 1.25857e+03, Last log-likelihood 1.20810e+03, Change 5.04746e+01\n",
      "Iteration    10, New log-likelihood 5.61927e+04, Last log-likelihood 1.25857e+03, Change 5.49341e+04\n",
      "Iteration    11, New log-likelihood 9.63106e+09, Last log-likelihood 5.61927e+04, Change 9.63101e+09\n",
      "Iteration    12, New log-likelihood 1.22706e+12, Last log-likelihood 9.63106e+09, Change 1.21743e+12\n",
      "Iteration    13, New log-likelihood 6.81915e+15, Last log-likelihood 1.22706e+12, Change 6.81792e+15\n"
     ]
    }
   ],
   "source": [
    "total_smoother_dens = []\n",
    "total_smoother_purs = []\n",
    "\n",
    "observs = total_simu_probs\n",
    "learn_obj = EMLearn(observs, unitaries[0], x, M, Q, R, P)\n",
    "estX0, estM0, estQ, estR, estF = learn_obj.learn() # they are all arguemented\n",
    "\n",
    "# Slice from argumented system\n",
    "realX0 = estX0.toarray()[:num_dim_state]\n",
    "realX0 = realX0.flatten().reshape((int(np.sqrt(num_dim_state)), int(np.sqrt(num_dim_state))), order='F') # to matrix\n",
    "realX0 = KSEM.closed_den_mat(realX0) # find closest valid density matrix\n",
    "realX0 = np.array(realX0.flatten(order='C'))[0] # reshape to vector\n",
    "\n",
    "realM0 = estM0.toarray()[range(num_dim_state),:][:,range(num_dim_state)]\n",
    "realF = estF.toarray()[range(num_dim_state),:][:,range(num_dim_state)]\n",
    "realQ = estQ.toarray()[range(num_dim_state),:][:,range(num_dim_state)]\n",
    "realR = estR.toarray()[range(num_dim_obs),:][:,range(num_dim_obs)]\n",
    "realP = estQ.toarray()[range(num_dim_state),:][:,range(num_dim_state, 2*num_dim_state)]\n",
    "\n",
    "smoother = KSQS(observs, realF, realX0, realM0, realQ, realR, realP)\n",
    "x_seq, M_seq, M_prio_seq = smoother.smooth() \n",
    "\n",
    "\n",
    "\n",
    "# x_est_norms = []\n",
    "# for j in range(max_num_itrs):\n",
    "#     x_est = np.array(x_seq[j+1][:num_dim_state].todense()).flatten()\n",
    "#     diag_sum = np.sum(vecden_meas(x_est))\n",
    "\n",
    "#     #normalize along the diagonal\n",
    "#     x_est_norm = x_est+0\n",
    "#     nrows = int(np.sqrt(x_est.size))\n",
    "#     for k in range(nrows):\n",
    "#         x_est_norm[k*nrows+k] = x_est_norm[k*nrows+k]/diag_sum\n",
    "#     x_est_norms.append(x_est_norm)\n",
    "#     final_den = x_est_norm.reshape(num_dim_obs, num_dim_obs)\n",
    "#     total_smoother_dens.append(final_den)\n",
    "#     total_smoother_purs.append(np.real(qi.DensityMatrix(final_den).purity()))\n",
    "for j in range(max_num_itrs):\n",
    "    x_est = np.matrix(x_seq[j+1][:num_dim_state].todense()).flatten().reshape((num_dim_obs, num_dim_obs), order='F')\n",
    "#     x_est = (x_est+x_est.H)/2\n",
    "    final_den = KSEM.closed_den_mat(x_est)\n",
    "    total_smoother_dens.append(final_den)\n",
    "    total_smoother_purs.append(np.real(qi.DensityMatrix(final_den).purity()))"
   ]
  },
  {
   "cell_type": "code",
   "execution_count": 22,
   "metadata": {},
   "outputs": [
    {
     "data": {
      "text/plain": [
       "array([[1., 0., 0., ..., 0., 0., 0.],\n",
       "       [0., 1., 0., ..., 0., 0., 0.],\n",
       "       [0., 0., 1., ..., 0., 0., 0.],\n",
       "       ...,\n",
       "       [0., 0., 0., ..., 1., 0., 0.],\n",
       "       [0., 0., 0., ..., 0., 1., 0.],\n",
       "       [0., 0., 0., ..., 0., 0., 1.]])"
      ]
     },
     "execution_count": 22,
     "metadata": {},
     "output_type": "execute_result"
    }
   ],
   "source": [
    "realF.real"
   ]
  },
  {
   "cell_type": "code",
   "execution_count": 23,
   "metadata": {},
   "outputs": [
    {
     "data": {
      "image/png": "[encoded data removed]",
      "text/plain": [
       "<Figure size 432x288 with 2 Axes>"
      ]
     },
     "metadata": {
      "needs_background": "light"
     },
     "output_type": "display_data"
    }
   ],
   "source": [
    "plt.imshow(realF.real)\n",
    "plt.colorbar()\n",
    "plt.show()"
   ]
  },
  {
   "cell_type": "markdown",
   "metadata": {},
   "source": [
    "Only use the estimation in the final iteration as the valid output"
   ]
  },
  {
   "cell_type": "code",
   "execution_count": 24,
   "metadata": {
    "scrolled": true
   },
   "outputs": [],
   "source": [
    "# total_smoother_dens = []\n",
    "# total_smoother_purs = []\n",
    "# for i in range(1,max_num_itrs+1):\n",
    "#     print(\"Circuit Iteration\", i)\n",
    "#     observs = total_simu_probs[0:i]\n",
    "#     learn_obj = EMLearn(observs, unitaries[0], x, M, Q, R, P)\n",
    "#     estX0, estM0, estQ, estR, estF = learn_obj.learn() # they are all arguemented\n",
    "    \n",
    "#     # Slice from argumented system\n",
    "#     realX0 = estX0.toarray()[:num_dim_state]\n",
    "#     realX0norm = np.sqrt(np.sum(np.abs(realX0)**2))\n",
    "#     realM0 = estM0.toarray()[range(num_dim_state),:][:,range(num_dim_state)]\n",
    "#     realF = estF.toarray()[range(num_dim_state),:][:,range(num_dim_state)]\n",
    "#     realQ = estQ.toarray()[range(num_dim_state),:][:,range(num_dim_state)]\n",
    "#     realR = estR.toarray()[range(num_dim_obs),:][:,range(num_dim_obs)]\n",
    "#     realP = estQ.toarray()[range(num_dim_state),:][:,range(num_dim_state, 2*num_dim_state)]\n",
    "\n",
    "#     smoother = KSQS(observs, realF, realX0, realM0, realQ, realR, realP)\n",
    "#     x_seq, M_seq, M_prio_seq = smoother.smooth() \n",
    "    \n",
    "    \n",
    "#     # Normalization\n",
    "# #     x_est_norms = []\n",
    "# #     for j in range(i):\n",
    "# #         x_est = np.array(x_seq[j+1][:num_dim_state].todense()).flatten()\n",
    "# #         diag_sum = np.sum(vecden_meas(x_est))\n",
    "\n",
    "# #         #normalize along the diagonal\n",
    "# #         x_est_norm = x_est+0\n",
    "# #         nrows = int(np.sqrt(x_est.size))\n",
    "# #         for k in range(nrows):\n",
    "# #             x_est_norm[k*nrows+k] = x_est_norm[k*nrows+k]/diag_sum\n",
    "# #     final_den = x_est_norm.reshape(num_dim_obs, num_dim_obs)\n",
    "\n",
    "#     x_est = np.matrix(x_seq[-1][:num_dim_state].todense()).flatten().reshape((num_dim_obs, num_dim_obs), order='F')\n",
    "# #     x_est = (x_est+x_est.H)/2\n",
    "#     final_den = KSEM.closed_den_mat(x_est)\n",
    "#     total_smoother_dens.append(final_den)\n",
    "#     total_smoother_purs.append(np.real(qi.DensityMatrix(final_den).purity()))"
   ]
  },
  {
   "cell_type": "code",
   "execution_count": 25,
   "metadata": {},
   "outputs": [
    {
     "name": "stdout",
     "output_type": "stream",
     "text": [
      "Is state a valid density matrix: False\n",
      "Is state a valid density matrix: False\n",
      "Is state a valid density matrix: True\n",
      "Is state a valid density matrix: True\n",
      "Is state a valid density matrix: False\n",
      "Is state a valid density matrix: True\n",
      "Is state a valid density matrix: False\n",
      "Is state a valid density matrix: False\n",
      "Is state a valid density matrix: False\n",
      "Is state a valid density matrix: False\n"
     ]
    }
   ],
   "source": [
    "for den in total_smoother_dens:\n",
    "    print(\"Is state a valid density matrix:\", qi.DensityMatrix(den).is_valid())"
   ]
  },
  {
   "cell_type": "code",
   "execution_count": 26,
   "metadata": {},
   "outputs": [
    {
     "data": {
      "text/plain": [
       "matrix([[1.23737071e-01+0.j, 5.89100486e-03+0.j, 7.55184366e-01+0.j,\n",
       "         1.01356284e-01+0.j, 9.10006875e-04+0.j, 3.09616520e-04+0.j,\n",
       "         2.69599499e-04+0.j, 1.72845491e-05+0.j]])"
      ]
     },
     "execution_count": 26,
     "metadata": {},
     "output_type": "execute_result"
    }
   ],
   "source": [
    "total_smoother_dens[0].diagonal().flatten()"
   ]
  },
  {
   "cell_type": "code",
   "execution_count": 27,
   "metadata": {},
   "outputs": [
    {
     "data": {
      "text/plain": [
       "array([[1.23737071e-01+0.j, 0.00000000e+00+0.j, 0.00000000e+00+0.j,\n",
       "        0.00000000e+00+0.j, 0.00000000e+00+0.j, 0.00000000e+00+0.j,\n",
       "        0.00000000e+00+0.j, 0.00000000e+00+0.j],\n",
       "       [0.00000000e+00+0.j, 5.89100486e-03+0.j, 0.00000000e+00+0.j,\n",
       "        0.00000000e+00+0.j, 0.00000000e+00+0.j, 0.00000000e+00+0.j,\n",
       "        0.00000000e+00+0.j, 0.00000000e+00+0.j],\n",
       "       [0.00000000e+00+0.j, 0.00000000e+00+0.j, 7.55184366e-01+0.j,\n",
       "        0.00000000e+00+0.j, 0.00000000e+00+0.j, 0.00000000e+00+0.j,\n",
       "        0.00000000e+00+0.j, 0.00000000e+00+0.j],\n",
       "       [0.00000000e+00+0.j, 0.00000000e+00+0.j, 0.00000000e+00+0.j,\n",
       "        1.01356284e-01+0.j, 0.00000000e+00+0.j, 0.00000000e+00+0.j,\n",
       "        0.00000000e+00+0.j, 0.00000000e+00+0.j],\n",
       "       [0.00000000e+00+0.j, 0.00000000e+00+0.j, 0.00000000e+00+0.j,\n",
       "        0.00000000e+00+0.j, 9.10006875e-04+0.j, 0.00000000e+00+0.j,\n",
       "        0.00000000e+00+0.j, 0.00000000e+00+0.j],\n",
       "       [0.00000000e+00+0.j, 0.00000000e+00+0.j, 0.00000000e+00+0.j,\n",
       "        0.00000000e+00+0.j, 0.00000000e+00+0.j, 3.09616520e-04+0.j,\n",
       "        0.00000000e+00+0.j, 0.00000000e+00+0.j],\n",
       "       [0.00000000e+00+0.j, 0.00000000e+00+0.j, 0.00000000e+00+0.j,\n",
       "        0.00000000e+00+0.j, 0.00000000e+00+0.j, 0.00000000e+00+0.j,\n",
       "        2.69599499e-04+0.j, 0.00000000e+00+0.j],\n",
       "       [0.00000000e+00+0.j, 0.00000000e+00+0.j, 0.00000000e+00+0.j,\n",
       "        0.00000000e+00+0.j, 0.00000000e+00+0.j, 0.00000000e+00+0.j,\n",
       "        0.00000000e+00+0.j, 1.72845491e-05+0.j]])"
      ]
     },
     "execution_count": 27,
     "metadata": {},
     "output_type": "execute_result"
    }
   ],
   "source": [
    "np.diag(np.array(total_smoother_dens[0].diagonal()).flatten())"
   ]
  },
  {
   "cell_type": "code",
   "execution_count": 28,
   "metadata": {},
   "outputs": [
    {
     "name": "stdout",
     "output_type": "stream",
     "text": [
      "0.6161000578750935\n",
      "0.6005626398661054\n",
      "0.45423647519066673\n",
      "0.004410817767686602\n",
      "0.19841737631182696\n",
      "0.21905670073004413\n",
      "0.2255489421323092\n",
      "0.24365803164429697\n",
      "0.2487809226083458\n",
      "0.25091090322713894\n"
     ]
    }
   ],
   "source": [
    "with np.printoptions(precision=3, suppress=True):\n",
    "    for den in total_smoother_dens:\n",
    "        non_diag_den = den - np.diag(np.array(den.diagonal()).flatten())\n",
    "        print(np.linalg.norm(non_diag_den))\n",
    "#     print(total_smoother_dens[8])\n",
    "#     print(total_simu_dens[8].data)"
   ]
  },
  {
   "cell_type": "code",
   "execution_count": 29,
   "metadata": {},
   "outputs": [
    {
     "name": "stdout",
     "output_type": "stream",
     "text": [
      "Estimated Purity (Total)\n",
      "0.975502367421718\n",
      "0.998149048777949\n",
      "0.9999991378855952\n",
      "0.8900001933316423\n",
      "0.6581743483308381\n",
      "0.5932055932524377\n",
      "0.5817006526099048\n",
      "0.592292135731832\n",
      "0.5302639397437682\n",
      "0.4793589468316337\n"
     ]
    }
   ],
   "source": [
    "print(\"Estimated Purity (Total)\")\n",
    "for pu in total_smoother_purs:\n",
    "    print(pu)"
   ]
  },
  {
   "cell_type": "markdown",
   "metadata": {},
   "source": [
    "## Check the fidelity between estimated state and the real state in the simulator"
   ]
  },
  {
   "cell_type": "code",
   "execution_count": 30,
   "metadata": {},
   "outputs": [],
   "source": [
    "from scipy.linalg import sqrtm\n",
    "def state_fid(m1,m2):\n",
    "    sqm1 = sqrtm(m1)\n",
    "    temp = sqm1.dot(m2).dot(sqm1)\n",
    "    temp2 = sqrtm(temp)\n",
    "    return np.real(np.trace(temp2))**2"
   ]
  },
  {
   "cell_type": "code",
   "execution_count": 31,
   "metadata": {},
   "outputs": [
    {
     "ename": "QiskitError",
     "evalue": "'Input quantum state is not a valid'",
     "output_type": "error",
     "traceback": [
      "\u001b[1;31m---------------------------------------------------------------------------\u001b[0m",
      "\u001b[1;31mQiskitError\u001b[0m                               Traceback (most recent call last)",
      "\u001b[1;32m~\\AppData\\Local\\Temp/ipykernel_28600/3450122853.py\u001b[0m in \u001b[0;36m<module>\u001b[1;34m\u001b[0m\n\u001b[0;32m      6\u001b[0m     \u001b[0mqis_den_all\u001b[0m \u001b[1;33m=\u001b[0m \u001b[0mqi\u001b[0m\u001b[1;33m.\u001b[0m\u001b[0mDensityMatrix\u001b[0m\u001b[1;33m(\u001b[0m\u001b[0mtotal_smoother_dens\u001b[0m\u001b[1;33m[\u001b[0m\u001b[0mi\u001b[0m\u001b[1;33m]\u001b[0m\u001b[1;33m)\u001b[0m\u001b[1;33m\u001b[0m\u001b[1;33m\u001b[0m\u001b[0m\n\u001b[0;32m      7\u001b[0m     \u001b[0mfed_difference_tomo\u001b[0m \u001b[1;33m=\u001b[0m  \u001b[0mqi\u001b[0m\u001b[1;33m.\u001b[0m\u001b[0mstate_fidelity\u001b[0m\u001b[1;33m(\u001b[0m\u001b[0mtotal_simu_dens\u001b[0m\u001b[1;33m[\u001b[0m\u001b[0mi\u001b[0m\u001b[1;33m]\u001b[0m\u001b[1;33m,\u001b[0m \u001b[0mqis_den_tomo\u001b[0m\u001b[1;33m)\u001b[0m\u001b[1;33m\u001b[0m\u001b[1;33m\u001b[0m\u001b[0m\n\u001b[1;32m----> 8\u001b[1;33m     \u001b[0mfed_difference_all\u001b[0m \u001b[1;33m=\u001b[0m  \u001b[0mqi\u001b[0m\u001b[1;33m.\u001b[0m\u001b[0mstate_fidelity\u001b[0m\u001b[1;33m(\u001b[0m\u001b[0mtotal_simu_dens\u001b[0m\u001b[1;33m[\u001b[0m\u001b[0mi\u001b[0m\u001b[1;33m]\u001b[0m\u001b[1;33m,\u001b[0m \u001b[0mqis_den_all\u001b[0m\u001b[1;33m)\u001b[0m\u001b[1;33m\u001b[0m\u001b[1;33m\u001b[0m\u001b[0m\n\u001b[0m\u001b[0;32m      9\u001b[0m     \u001b[0mdiff_fed_all\u001b[0m\u001b[1;33m.\u001b[0m\u001b[0mappend\u001b[0m\u001b[1;33m(\u001b[0m\u001b[0mfed_difference_all\u001b[0m\u001b[1;33m)\u001b[0m\u001b[1;33m\u001b[0m\u001b[1;33m\u001b[0m\u001b[0m\n\u001b[0;32m     10\u001b[0m     \u001b[0mdiff_fed_tomo\u001b[0m\u001b[1;33m.\u001b[0m\u001b[0mappend\u001b[0m\u001b[1;33m(\u001b[0m\u001b[0mfed_difference_tomo\u001b[0m\u001b[1;33m)\u001b[0m\u001b[1;33m\u001b[0m\u001b[1;33m\u001b[0m\u001b[0m\n",
      "\u001b[1;32mC:\\ProgramData\\Anaconda3\\envs\\quantum\\lib\\site-packages\\qiskit\\quantum_info\\states\\measures.py\u001b[0m in \u001b[0;36mstate_fidelity\u001b[1;34m(state1, state2, validate)\u001b[0m\n\u001b[0;32m     54\u001b[0m     \u001b[1;31m# convert input to numpy arrays\u001b[0m\u001b[1;33m\u001b[0m\u001b[1;33m\u001b[0m\u001b[0m\n\u001b[0;32m     55\u001b[0m     \u001b[0mstate1\u001b[0m \u001b[1;33m=\u001b[0m \u001b[0m_format_state\u001b[0m\u001b[1;33m(\u001b[0m\u001b[0mstate1\u001b[0m\u001b[1;33m,\u001b[0m \u001b[0mvalidate\u001b[0m\u001b[1;33m=\u001b[0m\u001b[0mvalidate\u001b[0m\u001b[1;33m)\u001b[0m\u001b[1;33m\u001b[0m\u001b[1;33m\u001b[0m\u001b[0m\n\u001b[1;32m---> 56\u001b[1;33m     \u001b[0mstate2\u001b[0m \u001b[1;33m=\u001b[0m \u001b[0m_format_state\u001b[0m\u001b[1;33m(\u001b[0m\u001b[0mstate2\u001b[0m\u001b[1;33m,\u001b[0m \u001b[0mvalidate\u001b[0m\u001b[1;33m=\u001b[0m\u001b[0mvalidate\u001b[0m\u001b[1;33m)\u001b[0m\u001b[1;33m\u001b[0m\u001b[1;33m\u001b[0m\u001b[0m\n\u001b[0m\u001b[0;32m     57\u001b[0m \u001b[1;33m\u001b[0m\u001b[0m\n\u001b[0;32m     58\u001b[0m     \u001b[1;31m# Get underlying numpy arrays\u001b[0m\u001b[1;33m\u001b[0m\u001b[1;33m\u001b[0m\u001b[0m\n",
      "\u001b[1;32mC:\\ProgramData\\Anaconda3\\envs\\quantum\\lib\\site-packages\\qiskit\\quantum_info\\states\\utils.py\u001b[0m in \u001b[0;36m_format_state\u001b[1;34m(state, validate)\u001b[0m\n\u001b[0;32m    134\u001b[0m         \u001b[1;32mraise\u001b[0m \u001b[0mQiskitError\u001b[0m\u001b[1;33m(\u001b[0m\u001b[1;34m\"Input is not a quantum state\"\u001b[0m\u001b[1;33m)\u001b[0m\u001b[1;33m\u001b[0m\u001b[1;33m\u001b[0m\u001b[0m\n\u001b[0;32m    135\u001b[0m     \u001b[1;32mif\u001b[0m \u001b[0mvalidate\u001b[0m \u001b[1;32mand\u001b[0m \u001b[1;32mnot\u001b[0m \u001b[0mstate\u001b[0m\u001b[1;33m.\u001b[0m\u001b[0mis_valid\u001b[0m\u001b[1;33m(\u001b[0m\u001b[1;33m)\u001b[0m\u001b[1;33m:\u001b[0m\u001b[1;33m\u001b[0m\u001b[1;33m\u001b[0m\u001b[0m\n\u001b[1;32m--> 136\u001b[1;33m         \u001b[1;32mraise\u001b[0m \u001b[0mQiskitError\u001b[0m\u001b[1;33m(\u001b[0m\u001b[1;34m\"Input quantum state is not a valid\"\u001b[0m\u001b[1;33m)\u001b[0m\u001b[1;33m\u001b[0m\u001b[1;33m\u001b[0m\u001b[0m\n\u001b[0m\u001b[0;32m    137\u001b[0m     \u001b[1;32mreturn\u001b[0m \u001b[0mstate\u001b[0m\u001b[1;33m\u001b[0m\u001b[1;33m\u001b[0m\u001b[0m\n\u001b[0;32m    138\u001b[0m \u001b[1;33m\u001b[0m\u001b[0m\n",
      "\u001b[1;31mQiskitError\u001b[0m: 'Input quantum state is not a valid'"
     ]
    }
   ],
   "source": [
    "# Compare fidelity, use Qiskit API (when every state from KS is a valid density matrix)\n",
    "diff_fed_all= []\n",
    "diff_fed_tomo= []\n",
    "for i in range(max_num_itrs):\n",
    "    qis_den_tomo = qi.DensityMatrix(tomo_dens[i])\n",
    "    qis_den_all = qi.DensityMatrix(total_smoother_dens[i])\n",
    "    fed_difference_tomo =  qi.state_fidelity(total_simu_dens[i], qis_den_tomo)\n",
    "    fed_difference_all =  qi.state_fidelity(total_simu_dens[i], qis_den_all)\n",
    "    diff_fed_all.append(fed_difference_all)\n",
    "    diff_fed_tomo.append(fed_difference_tomo)\n",
    "    print(\"Iteration\",i+1, \"KS Fid:\", fed_difference_all, \"Tomo Fid:\", fed_difference_tomo)\n",
    "    \n",
    "iter_range = range(max_num_itrs)\n",
    "plt.plot(np.array(iter_range)+1, np.array(diff_fed_all)[iter_range], '+-', color='red', label='KS')\n",
    "plt.plot(np.array(iter_range)+1, np.array(diff_fed_tomo)[iter_range], '*-', color='blue', label='Tomo')\n",
    "# plt.plot(np.array(iter_range)+1, np.array([0.9]*max_num_itrs)[iter_range], '--', color='lightgray')\n",
    "plt.xlabel(\"Number of Iterations\")\n",
    "plt.ylabel(\"Fidelity\")\n",
    "plt.xticks((np.array(iter_range)+1))\n",
    "plt.legend()\n",
    "plt.tight_layout()\n",
    "# plt.savefig(\"diff_fed_qis.svg\")\n",
    "plt.show()"
   ]
  },
  {
   "cell_type": "code",
   "execution_count": null,
   "metadata": {},
   "outputs": [],
   "source": [
    "# Compare fidelity, use my own function (when some states from KS are not valid density matrices)\n",
    "diff_fed_all= []\n",
    "diff_fed_tomo= []\n",
    "for i in range(max_num_itrs):\n",
    "    fed_difference_tomo =  state_fid(total_simu_dens[i].data, tomo_dens[i])\n",
    "    fed_difference_all =  state_fid(total_simu_dens[i].data, total_smoother_dens[i])\n",
    "    diff_fed_all.append(fed_difference_all)\n",
    "    diff_fed_tomo.append(fed_difference_tomo)\n",
    "    print(\"Iteration\",i+1, \"KS Fid:\", fed_difference_all, \"Tomo Fid:\", fed_difference_tomo)\n",
    "    \n",
    "iter_range = range(max_num_itrs)\n",
    "plt.plot(np.array(iter_range)+1, np.array(diff_fed_all)[iter_range], '+-', color='red', label='KS')\n",
    "plt.plot(np.array(iter_range)+1, np.array(diff_fed_tomo)[iter_range], '*-', color='blue', label='Tomo')\n",
    "# plt.plot(np.array(iter_range)+1, np.array([0.9]*max_num_itrs)[iter_range], '--', color='lightgray')\n",
    "plt.xlabel(\"Number of Iterations\")\n",
    "plt.ylabel(\"Fidelity\")\n",
    "plt.xticks((np.array(iter_range)+1))\n",
    "plt.legend()\n",
    "plt.tight_layout()\n",
    "# plt.savefig(\"diff_fed.svg\")\n",
    "plt.show()"
   ]
  },
  {
   "cell_type": "code",
   "execution_count": null,
   "metadata": {},
   "outputs": [],
   "source": [
    "diff_norm_all= []\n",
    "diff_norm_tomo= []\n",
    "for i in range(max_num_itrs):\n",
    "    norm_difference_tomo =  np.linalg.norm(total_simu_dens[i].data-tomo_dens[i])\n",
    "    norm_difference_all =  np.linalg.norm(total_simu_dens[i].data-total_smoother_dens[i])\n",
    "    diff_norm_all.append(norm_difference_all)\n",
    "    diff_norm_tomo.append(norm_difference_tomo)\n",
    "    print(\"Iteration\",i+1, \"KS Norm:\", norm_difference_all, \"Tomo Norm:\", norm_difference_tomo)\n",
    "    \n",
    "iter_range = range(max_num_itrs)\n",
    "plt.plot(np.array(iter_range)+1, np.array(diff_norm_all)[iter_range], '+-', color='red', label='KS')\n",
    "plt.plot(np.array(iter_range)+1, np.array(diff_norm_tomo)[iter_range], '*-', color='blue', label='Tomo')\n",
    "plt.xlabel(\"Number of Iterations\")\n",
    "plt.ylabel(r'$||\\rho_{simu} - \\rho_{est}||_2$', fontsize=14)\n",
    "plt.xticks((np.array(iter_range)+1))\n",
    "plt.legend()\n",
    "plt.tight_layout()\n",
    "# plt.savefig(\"diff_norm.svg\")\n",
    "plt.show()"
   ]
  },
  {
   "cell_type": "code",
   "execution_count": null,
   "metadata": {},
   "outputs": [],
   "source": [
    "plt.plot(np.array(iter_range)+1, np.array(total_smoother_purs)[iter_range], '+-', label=\"KS\",color='red')\n",
    "plt.plot(np.array(iter_range)+1, np.array(tomo_purs)[iter_range], '*-', label=\"Tomo\",color='blue')\n",
    "# plt.plot(np.array(iter_range)+1, np.array(total_smoother_purs)[iter_range]-0.25, '+-', label=\"Estimated-0.25\",color='skyblue')\n",
    "plt.plot(np.array(iter_range)+1, np.array(total_simu_purs)[iter_range], label=\"Actual\", color='gray')\n",
    "plt.xlabel(\"Number of Iterations\")\n",
    "plt.ylabel(\"Purity\")\n",
    "plt.xticks((np.array(iter_range)+1))\n",
    "plt.legend()\n",
    "plt.tight_layout()\n",
    "# plt.savefig(\"diff_pur.svg\")\n",
    "plt.show()"
   ]
  },
  {
   "cell_type": "code",
   "execution_count": null,
   "metadata": {},
   "outputs": [],
   "source": [
    "plt.plot(np.array(iter_range)+1, np.abs(np.array(total_simu_purs)-np.array(total_smoother_purs))[iter_range], '+-', label=\"KS\",color='red')\n",
    "plt.plot(np.array(iter_range)+1, np.abs(np.array(total_simu_purs)-np.array(tomo_purs))[iter_range], '*-', label=\"Tomo\",color='blue')\n",
    "\n",
    "plt.xlabel(\"Number of Iterations\")\n",
    "plt.ylabel(\"Purity Difference\")\n",
    "plt.xticks((np.array(iter_range)+1))\n",
    "plt.legend()\n",
    "plt.tight_layout()\n",
    "# plt.savefig(\"diff_pur_diff.svg\")\n",
    "plt.show()"
   ]
  },
  {
   "cell_type": "code",
   "execution_count": null,
   "metadata": {},
   "outputs": [],
   "source": []
  },
  {
   "cell_type": "code",
   "execution_count": null,
   "metadata": {},
   "outputs": [],
   "source": []
  },
  {
   "cell_type": "code",
   "execution_count": null,
   "metadata": {},
   "outputs": [],
   "source": []
  }
 ],
 "metadata": {
  "kernelspec": {
   "display_name": "Python 3 (ipykernel)",
   "language": "python",
   "name": "python3"
  },
  "language_info": {
   "codemirror_mode": {
    "name": "ipython",
    "version": 3
   },
   "file_extension": ".py",
   "mimetype": "text/x-python",
   "name": "python",
   "nbconvert_exporter": "python",
   "pygments_lexer": "ipython3",
   "version": "3.9.7"
  }
 },
 "nbformat": 4,
 "nbformat_minor": 4
}
