{
 "cells": [
  {
   "cell_type": "code",
   "execution_count": 1,
   "metadata": {},
   "outputs": [],
   "source": [
    "import numpy as np\n",
    "from collections import Counter\n",
    "from qiskit import IBMQ,Aer,schedule, execute, QuantumCircuit, QuantumRegister, ClassicalRegister, transpile\n",
    "from qiskit.tools.visualization import plot_histogram\n",
    "from qiskit.visualization import timeline_drawer\n",
    "from qiskit.visualization.pulse_v2 import draw, IQXDebugging\n",
    "from qiskit.tools.monitor import job_monitor\n",
    "from qiskit.providers.aer.noise import NoiseModel\n",
    "from qiskit.providers.aer import AerSimulator\n",
    "import qiskit.quantum_info as qi\n",
    "from qiskit.providers.aer.noise import QuantumError, ReadoutError\n",
    "from qiskit.ignis.mitigation.measurement import (complete_meas_cal,CompleteMeasFitter,MeasurementFilter)\n",
    "\n",
    "# Tomography functions\n",
    "from qiskit_experiments.framework import ParallelExperiment\n",
    "from qiskit_experiments.library import StateTomography\n",
    "\n",
    "\n",
    "import KSEM\n",
    "from importlib import reload  \n",
    "KSEM = reload(KSEM)\n",
    "from KSEM import KSQS, EMLearn\n",
    "\n",
    "import matplotlib.pyplot as plt\n",
    "from matplotlib.pyplot import figure\n",
    "\n",
    "# plt.rcParams['text.usetex'] = True\n",
    "fig_size = (8,6)\n",
    "fig_dpi = 150"
   ]
  },
  {
   "cell_type": "code",
   "execution_count": 2,
   "metadata": {},
   "outputs": [
    {
     "data": {
      "text/plain": [
       "<AccountProvider for IBMQ(hub='ibm-q', group='open', project='main')>"
      ]
     },
     "execution_count": 2,
     "metadata": {},
     "output_type": "execute_result"
    }
   ],
   "source": [
    "IBMQ.load_account()"
   ]
  },
  {
   "cell_type": "code",
   "execution_count": 4,
   "metadata": {},
   "outputs": [
    {
     "name": "stderr",
     "output_type": "stream",
     "text": [
      "Device reported a gate error parameter greater than maximum allowed value (1.000000 > 0.800000). Truncating to maximum value.\n",
      "Device model returned a depolarizing error parameter greater than maximum allowed value (1.067061 > 1.066667). Truncating to maximum value.\n",
      "Device reported a gate error parameter greater than maximum allowed value (1.000000 > 0.800000). Truncating to maximum value.\n",
      "Device model returned a depolarizing error parameter greater than maximum allowed value (1.067097 > 1.066667). Truncating to maximum value.\n",
      "Device reported a gate error parameter greater than maximum allowed value (1.000000 > 0.800000). Truncating to maximum value.\n",
      "Device model returned a depolarizing error parameter greater than maximum allowed value (1.084952 > 1.066667). Truncating to maximum value.\n",
      "Device reported a gate error parameter greater than maximum allowed value (1.000000 > 0.800000). Truncating to maximum value.\n",
      "Device model returned a depolarizing error parameter greater than maximum allowed value (1.085530 > 1.066667). Truncating to maximum value.\n",
      "Device reported a gate error parameter greater than maximum allowed value (1.000000 > 0.800000). Truncating to maximum value.\n",
      "Device model returned a depolarizing error parameter greater than maximum allowed value (1.067042 > 1.066667). Truncating to maximum value.\n",
      "Device reported a gate error parameter greater than maximum allowed value (1.000000 > 0.800000). Truncating to maximum value.\n",
      "Device model returned a depolarizing error parameter greater than maximum allowed value (1.067073 > 1.066667). Truncating to maximum value.\n",
      "Device reported a gate error parameter greater than maximum allowed value (1.000000 > 0.800000). Truncating to maximum value.\n",
      "Device model returned a depolarizing error parameter greater than maximum allowed value (1.079984 > 1.066667). Truncating to maximum value.\n",
      "Device reported a gate error parameter greater than maximum allowed value (1.000000 > 0.800000). Truncating to maximum value.\n",
      "Device model returned a depolarizing error parameter greater than maximum allowed value (1.080546 > 1.066667). Truncating to maximum value.\n",
      "Device reported a gate error parameter greater than maximum allowed value (1.000000 > 0.800000). Truncating to maximum value.\n",
      "Device model returned a depolarizing error parameter greater than maximum allowed value (1.067664 > 1.066667). Truncating to maximum value.\n",
      "Device reported a gate error parameter greater than maximum allowed value (1.000000 > 0.800000). Truncating to maximum value.\n",
      "Device model returned a depolarizing error parameter greater than maximum allowed value (1.067771 > 1.066667). Truncating to maximum value.\n",
      "Device reported a gate error parameter greater than maximum allowed value (1.000000 > 0.800000). Truncating to maximum value.\n",
      "Device model returned a depolarizing error parameter greater than maximum allowed value (1.067970 > 1.066667). Truncating to maximum value.\n",
      "Device reported a gate error parameter greater than maximum allowed value (1.000000 > 0.800000). Truncating to maximum value.\n",
      "Device model returned a depolarizing error parameter greater than maximum allowed value (1.068075 > 1.066667). Truncating to maximum value.\n",
      "Device reported a gate error parameter greater than maximum allowed value (1.000000 > 0.800000). Truncating to maximum value.\n",
      "Device model returned a depolarizing error parameter greater than maximum allowed value (1.067523 > 1.066667). Truncating to maximum value.\n",
      "Device reported a gate error parameter greater than maximum allowed value (1.000000 > 0.800000). Truncating to maximum value.\n",
      "Device model returned a depolarizing error parameter greater than maximum allowed value (1.067594 > 1.066667). Truncating to maximum value.\n",
      "Device reported a gate error parameter greater than maximum allowed value (1.000000 > 0.800000). Truncating to maximum value.\n",
      "Device model returned a depolarizing error parameter greater than maximum allowed value (1.067129 > 1.066667). Truncating to maximum value.\n",
      "Device reported a gate error parameter greater than maximum allowed value (1.000000 > 0.800000). Truncating to maximum value.\n",
      "Device model returned a depolarizing error parameter greater than maximum allowed value (1.067176 > 1.066667). Truncating to maximum value.\n"
     ]
    }
   ],
   "source": [
    "provider = IBMQ.get_provider(hub=\"ibm-q-pnnl\", group=\"internal\", project=\"default\")\n",
    "name = \"ibm_washington\"\n",
    "backend = provider.get_backend(name)\n",
    "data_folder = \"Noisy_Id_Data/\"\n",
    "\n",
    "n_qubits = 3\n",
    "reps = 8\n",
    "max_num_itrs = 10"
   ]
  },
  {
   "cell_type": "code",
   "execution_count": 5,
   "metadata": {},
   "outputs": [
    {
     "data": {
      "text/plain": [
       "{'type': 'roerror',\n",
       " 'operations': ['measure'],\n",
       " 'probabilities': [[0.9974, 0.0026000000000000467], [0.006, 0.994]],\n",
       " 'gate_qubits': [(126,)]}"
      ]
     },
     "execution_count": 5,
     "metadata": {},
     "output_type": "execute_result"
    }
   ],
   "source": [
    "backend_noise_model.to_dict()['errors'][-1]"
   ]
  },
  {
   "cell_type": "code",
   "execution_count": 6,
   "metadata": {},
   "outputs": [
    {
     "name": "stdout",
     "output_type": "stream",
     "text": [
      "2022-03-03 02:59:16-05:00\n"
     ]
    }
   ],
   "source": [
    "print(backend.properties().to_dict()[ 'last_update_date'])"
   ]
  },
  {
   "cell_type": "code",
   "execution_count": 7,
   "metadata": {},
   "outputs": [
    {
     "ename": "UnboundLocalError",
     "evalue": "local variable 'grid_data' referenced before assignment",
     "output_type": "error",
     "traceback": [
      "\u001b[1;31m---------------------------------------------------------------------------\u001b[0m",
      "\u001b[1;31mUnboundLocalError\u001b[0m                         Traceback (most recent call last)",
      "\u001b[1;32m~\\AppData\\Local\\Temp/ipykernel_23616/2917833134.py\u001b[0m in \u001b[0;36m<module>\u001b[1;34m\u001b[0m\n\u001b[0;32m      2\u001b[0m \u001b[0mget_ipython\u001b[0m\u001b[1;33m(\u001b[0m\u001b[1;33m)\u001b[0m\u001b[1;33m.\u001b[0m\u001b[0mrun_line_magic\u001b[0m\u001b[1;33m(\u001b[0m\u001b[1;34m'matplotlib'\u001b[0m\u001b[1;33m,\u001b[0m \u001b[1;34m'inline'\u001b[0m\u001b[1;33m)\u001b[0m\u001b[1;33m\u001b[0m\u001b[1;33m\u001b[0m\u001b[0m\n\u001b[0;32m      3\u001b[0m \u001b[1;33m\u001b[0m\u001b[0m\n\u001b[1;32m----> 4\u001b[1;33m \u001b[0mplot_error_map\u001b[0m\u001b[1;33m(\u001b[0m\u001b[0mbackend\u001b[0m\u001b[1;33m,\u001b[0m \u001b[0mfigsize\u001b[0m\u001b[1;33m=\u001b[0m\u001b[1;33m(\u001b[0m\u001b[1;36m18\u001b[0m\u001b[1;33m,\u001b[0m \u001b[1;36m12\u001b[0m\u001b[1;33m)\u001b[0m\u001b[1;33m)\u001b[0m\u001b[1;33m\u001b[0m\u001b[1;33m\u001b[0m\u001b[0m\n\u001b[0m",
      "\u001b[1;32mC:\\ProgramData\\Anaconda3\\envs\\quantum\\lib\\site-packages\\qiskit\\visualization\\gate_map.py\u001b[0m in \u001b[0;36mplot_error_map\u001b[1;34m(backend, figsize, show_title)\u001b[0m\n\u001b[0;32m    815\u001b[0m     \u001b[1;32mif\u001b[0m \u001b[0mnum_qubits\u001b[0m \u001b[1;33m<=\u001b[0m \u001b[1;36m5\u001b[0m\u001b[1;33m:\u001b[0m\u001b[1;33m\u001b[0m\u001b[1;33m\u001b[0m\u001b[0m\n\u001b[0;32m    816\u001b[0m         \u001b[0mqubit_size\u001b[0m \u001b[1;33m=\u001b[0m \u001b[1;36m20\u001b[0m\u001b[1;33m\u001b[0m\u001b[1;33m\u001b[0m\u001b[0m\n\u001b[1;32m--> 817\u001b[1;33m     plot_gate_map(\n\u001b[0m\u001b[0;32m    818\u001b[0m         \u001b[0mbackend\u001b[0m\u001b[1;33m,\u001b[0m\u001b[1;33m\u001b[0m\u001b[1;33m\u001b[0m\u001b[0m\n\u001b[0;32m    819\u001b[0m         \u001b[0mqubit_color\u001b[0m\u001b[1;33m=\u001b[0m\u001b[0mq_colors\u001b[0m\u001b[1;33m,\u001b[0m\u001b[1;33m\u001b[0m\u001b[1;33m\u001b[0m\u001b[0m\n",
      "\u001b[1;32mC:\\ProgramData\\Anaconda3\\envs\\quantum\\lib\\site-packages\\qiskit\\visualization\\gate_map.py\u001b[0m in \u001b[0;36mplot_gate_map\u001b[1;34m(backend, figsize, plot_directed, label_qubits, qubit_size, line_width, font_size, qubit_color, qubit_labels, line_color, font_color, ax, filename)\u001b[0m\n\u001b[0;32m    349\u001b[0m     \u001b[0mcoupling_map\u001b[0m \u001b[1;33m=\u001b[0m \u001b[0mconfig\u001b[0m\u001b[1;33m.\u001b[0m\u001b[0mcoupling_map\u001b[0m\u001b[1;33m\u001b[0m\u001b[1;33m\u001b[0m\u001b[0m\n\u001b[0;32m    350\u001b[0m     \u001b[0mqubit_coordinates\u001b[0m \u001b[1;33m=\u001b[0m \u001b[0mqubit_coordinates_map\u001b[0m\u001b[1;33m.\u001b[0m\u001b[0mget\u001b[0m\u001b[1;33m(\u001b[0m\u001b[0mnum_qubits\u001b[0m\u001b[1;33m)\u001b[0m\u001b[1;33m\u001b[0m\u001b[1;33m\u001b[0m\u001b[0m\n\u001b[1;32m--> 351\u001b[1;33m     return plot_coupling_map(\n\u001b[0m\u001b[0;32m    352\u001b[0m         \u001b[0mnum_qubits\u001b[0m\u001b[1;33m,\u001b[0m\u001b[1;33m\u001b[0m\u001b[1;33m\u001b[0m\u001b[0m\n\u001b[0;32m    353\u001b[0m         \u001b[0mqubit_coordinates\u001b[0m\u001b[1;33m,\u001b[0m\u001b[1;33m\u001b[0m\u001b[1;33m\u001b[0m\u001b[0m\n",
      "\u001b[1;32mC:\\ProgramData\\Anaconda3\\envs\\quantum\\lib\\site-packages\\qiskit\\visualization\\gate_map.py\u001b[0m in \u001b[0;36mplot_coupling_map\u001b[1;34m(num_qubits, qubit_coordinates, coupling_map, figsize, plot_directed, label_qubits, qubit_size, line_width, font_size, qubit_color, qubit_labels, line_color, font_color, ax, filename)\u001b[0m\n\u001b[0;32m    464\u001b[0m             \u001b[1;32mreturn\u001b[0m \u001b[0mfig\u001b[0m\u001b[1;33m\u001b[0m\u001b[1;33m\u001b[0m\u001b[0m\n\u001b[0;32m    465\u001b[0m \u001b[1;33m\u001b[0m\u001b[0m\n\u001b[1;32m--> 466\u001b[1;33m     \u001b[0mx_max\u001b[0m \u001b[1;33m=\u001b[0m \u001b[0mmax\u001b[0m\u001b[1;33m(\u001b[0m\u001b[0md\u001b[0m\u001b[1;33m[\u001b[0m\u001b[1;36m1\u001b[0m\u001b[1;33m]\u001b[0m \u001b[1;32mfor\u001b[0m \u001b[0md\u001b[0m \u001b[1;32min\u001b[0m \u001b[0mgrid_data\u001b[0m\u001b[1;33m)\u001b[0m\u001b[1;33m\u001b[0m\u001b[1;33m\u001b[0m\u001b[0m\n\u001b[0m\u001b[0;32m    467\u001b[0m     \u001b[0my_max\u001b[0m \u001b[1;33m=\u001b[0m \u001b[0mmax\u001b[0m\u001b[1;33m(\u001b[0m\u001b[0md\u001b[0m\u001b[1;33m[\u001b[0m\u001b[1;36m0\u001b[0m\u001b[1;33m]\u001b[0m \u001b[1;32mfor\u001b[0m \u001b[0md\u001b[0m \u001b[1;32min\u001b[0m \u001b[0mgrid_data\u001b[0m\u001b[1;33m)\u001b[0m\u001b[1;33m\u001b[0m\u001b[1;33m\u001b[0m\u001b[0m\n\u001b[0;32m    468\u001b[0m     \u001b[0mmax_dim\u001b[0m \u001b[1;33m=\u001b[0m \u001b[0mmax\u001b[0m\u001b[1;33m(\u001b[0m\u001b[0mx_max\u001b[0m\u001b[1;33m,\u001b[0m \u001b[0my_max\u001b[0m\u001b[1;33m)\u001b[0m\u001b[1;33m\u001b[0m\u001b[1;33m\u001b[0m\u001b[0m\n",
      "\u001b[1;31mUnboundLocalError\u001b[0m: local variable 'grid_data' referenced before assignment"
     ]
    },
    {
     "data": {
      "image/png": "[encoded data removed]",
      "text/plain": [
       "<Figure size 1296x864 with 5 Axes>"
      ]
     },
     "metadata": {
      "needs_background": "light"
     },
     "output_type": "display_data"
    }
   ],
   "source": [
    "from qiskit.visualization import plot_error_map, plot_gate_map\n",
    "%matplotlib inline\n",
    "\n",
    "plot_error_map(backend, figsize=(18, 12))"
   ]
  },
  {
   "cell_type": "code",
   "execution_count": 9,
   "metadata": {},
   "outputs": [],
   "source": [
    "from qiskit import Aer\n",
    "def single_iter(n_qubits=2):\n",
    "    iterate = QuantumCircuit(n_qubits)\n",
    "    iterate.h(0)\n",
    "    iterate.cx(0,1)\n",
    "    iterate.cx(1,2)\n",
    "    iterate.barrier()\n",
    "    iterate.cx(1,2)\n",
    "    iterate.cx(0,1)\n",
    "    iterate.h(0)\n",
    "    iterate.barrier()\n",
    "    return iterate\n",
    "\n",
    "def iterative_circ(num_itrs, n_qubits=2, save_den = True):   \n",
    "    total_circ = QuantumCircuit(n_qubits)\n",
    "    for i in range(num_itrs):\n",
    "        total_circ.compose(single_iter(n_qubits), inplace=True)\n",
    "    if save_den:\n",
    "        total_circ.save_density_matrix(pershot=False)\n",
    "    total_circ.measure_all()\n",
    "    return total_circ"
   ]
  },
  {
   "cell_type": "code",
   "execution_count": 10,
   "metadata": {},
   "outputs": [
    {
     "data": {
      "image/png": "[encoded data removed]",
      "text/plain": [
       "<Figure size 568.197x204.68 with 1 Axes>"
      ]
     },
     "execution_count": 10,
     "metadata": {},
     "output_type": "execute_result"
    }
   ],
   "source": [
    "single_iter(n_qubits).draw(\"mpl\")"
   ]
  },
  {
   "cell_type": "code",
   "execution_count": 11,
   "metadata": {},
   "outputs": [
    {
     "name": "stdout",
     "output_type": "stream",
     "text": [
      "10\n"
     ]
    },
    {
     "data": {
      "image/png": "[encoded data removed]",
      "text/plain": [
       "<Figure size 808.997x204.68 with 1 Axes>"
      ]
     },
     "execution_count": 11,
     "metadata": {},
     "output_type": "execute_result"
    }
   ],
   "source": [
    "temp_circ = transpile(single_iter(n_qubits), backend=den_simu)\n",
    "print(temp_circ.depth())\n",
    "temp_circ.draw(\"mpl\")"
   ]
  },
  {
   "cell_type": "code",
   "execution_count": 12,
   "metadata": {},
   "outputs": [
    {
     "name": "stdout",
     "output_type": "stream",
     "text": [
      "Depth: 101\n",
      "T1: 8.822268769237232e-05 sec\n",
      "T2: 1.1508275572281032e-05 sec\n",
      "Circuit Operation Time: 2.461511111111111e-05 sec\n"
     ]
    }
   ],
   "source": [
    "temp_circ2 = iterative_circ(max_num_itrs, n_qubits, save_den = False)\n",
    "temp_circ3 = transpile(temp_circ2, backend=backend)\n",
    "print(\"Depth:\", temp_circ3.depth())\n",
    "print(\"T1:\", backend.properties().qubit_property(0)['T1'][0], \"sec\")\n",
    "print(\"T2:\", backend.properties().qubit_property(0)['T2'][0], \"sec\")\n",
    "dt = backend.configuration().dt # sec\n",
    "temp_sch = schedule(temp_circ3, backend)\n",
    "print(\"Circuit Operation Time:\",(temp_sch.stop_time - temp_sch.start_time)*dt, \"sec\")"
   ]
  },
  {
   "cell_type": "markdown",
   "metadata": {},
   "source": [
    "## Collect Measurement Data from Real Machine"
   ]
  },
  {
   "cell_type": "code",
   "execution_count": 13,
   "metadata": {},
   "outputs": [
    {
     "name": "stdout",
     "output_type": "stream",
     "text": [
      "Job Status: job has successfully run\n"
     ]
    }
   ],
   "source": [
    "# job_list = []\n",
    "# for i in range(1, max_num_itrs+1):\n",
    "#     trans_circ = transpile(iterative_circ(i, n_qubits, save_den = False), backend=backend).copy(name=str(i))\n",
    "#     job_list.append(trans_circ)\n",
    "# iter_job = execute(job_list,shots=8192,backend=backend)\n",
    "# job_monitor(iter_job)"
   ]
  },
  {
   "cell_type": "code",
   "execution_count": 16,
   "metadata": {},
   "outputs": [
    {
     "name": "stdout",
     "output_type": "stream",
     "text": [
      "622081c63a4a262561fbdb6e\n"
     ]
    }
   ],
   "source": [
    "# print(iter_job.job_id()) #622081c63a4a262561fbdb6e"
   ]
  },
  {
   "cell_type": "code",
   "execution_count": 19,
   "metadata": {},
   "outputs": [],
   "source": [
    "# real_probs = [] # measurement result\n",
    "# for i in range(1, max_num_itrs+1):\n",
    "#     iter_res = iter_job.result()\n",
    "#     iter_vec = KSEM.dictToVec(iter_res.get_counts(str(i)))\n",
    "#     real_probs.append(iter_vec)\n",
    "    \n",
    "# # Save to numpy\n",
    "# np.save(data_folder+backend.properties().to_dict()['backend_name']+'_meas_vec.npy',np.array(real_probs))"
   ]
  },
  {
   "cell_type": "code",
   "execution_count": null,
   "metadata": {},
   "outputs": [],
   "source": [
    "# Load\n",
    "real_probs = np.load(data_folder+backend.properties().to_dict()['backend_name']+'_meas_vec.npy')"
   ]
  },
  {
   "cell_type": "markdown",
   "metadata": {},
   "source": [
    "## Qiskit Backend-noise Simulation\n",
    "\n",
    "Obtain measurement data and actual quantum states (from a backend-noise simulator)\n",
    "\n",
    "Note that the outputs does not have measurement noise because the probabilities are obtained from density matrix object, instead of measurement operator API."
   ]
  },
  {
   "cell_type": "code",
   "execution_count": 20,
   "metadata": {},
   "outputs": [
    {
     "name": "stderr",
     "output_type": "stream",
     "text": [
      "Device reported a gate error parameter greater than maximum allowed value (1.000000 > 0.800000). Truncating to maximum value.\n",
      "Device model returned a depolarizing error parameter greater than maximum allowed value (1.067061 > 1.066667). Truncating to maximum value.\n",
      "Device reported a gate error parameter greater than maximum allowed value (1.000000 > 0.800000). Truncating to maximum value.\n",
      "Device model returned a depolarizing error parameter greater than maximum allowed value (1.067097 > 1.066667). Truncating to maximum value.\n",
      "Device reported a gate error parameter greater than maximum allowed value (1.000000 > 0.800000). Truncating to maximum value.\n",
      "Device model returned a depolarizing error parameter greater than maximum allowed value (1.084952 > 1.066667). Truncating to maximum value.\n",
      "Device reported a gate error parameter greater than maximum allowed value (1.000000 > 0.800000). Truncating to maximum value.\n",
      "Device model returned a depolarizing error parameter greater than maximum allowed value (1.085530 > 1.066667). Truncating to maximum value.\n",
      "Device reported a gate error parameter greater than maximum allowed value (1.000000 > 0.800000). Truncating to maximum value.\n",
      "Device model returned a depolarizing error parameter greater than maximum allowed value (1.067042 > 1.066667). Truncating to maximum value.\n",
      "Device reported a gate error parameter greater than maximum allowed value (1.000000 > 0.800000). Truncating to maximum value.\n",
      "Device model returned a depolarizing error parameter greater than maximum allowed value (1.067073 > 1.066667). Truncating to maximum value.\n",
      "Device reported a gate error parameter greater than maximum allowed value (1.000000 > 0.800000). Truncating to maximum value.\n",
      "Device model returned a depolarizing error parameter greater than maximum allowed value (1.079984 > 1.066667). Truncating to maximum value.\n",
      "Device reported a gate error parameter greater than maximum allowed value (1.000000 > 0.800000). Truncating to maximum value.\n",
      "Device model returned a depolarizing error parameter greater than maximum allowed value (1.080546 > 1.066667). Truncating to maximum value.\n",
      "Device reported a gate error parameter greater than maximum allowed value (1.000000 > 0.800000). Truncating to maximum value.\n",
      "Device model returned a depolarizing error parameter greater than maximum allowed value (1.067664 > 1.066667). Truncating to maximum value.\n",
      "Device reported a gate error parameter greater than maximum allowed value (1.000000 > 0.800000). Truncating to maximum value.\n",
      "Device model returned a depolarizing error parameter greater than maximum allowed value (1.067771 > 1.066667). Truncating to maximum value.\n",
      "Device reported a gate error parameter greater than maximum allowed value (1.000000 > 0.800000). Truncating to maximum value.\n",
      "Device model returned a depolarizing error parameter greater than maximum allowed value (1.067970 > 1.066667). Truncating to maximum value.\n",
      "Device reported a gate error parameter greater than maximum allowed value (1.000000 > 0.800000). Truncating to maximum value.\n",
      "Device model returned a depolarizing error parameter greater than maximum allowed value (1.068075 > 1.066667). Truncating to maximum value.\n",
      "Device reported a gate error parameter greater than maximum allowed value (1.000000 > 0.800000). Truncating to maximum value.\n",
      "Device model returned a depolarizing error parameter greater than maximum allowed value (1.067523 > 1.066667). Truncating to maximum value.\n",
      "Device reported a gate error parameter greater than maximum allowed value (1.000000 > 0.800000). Truncating to maximum value.\n",
      "Device model returned a depolarizing error parameter greater than maximum allowed value (1.067594 > 1.066667). Truncating to maximum value.\n",
      "Device reported a gate error parameter greater than maximum allowed value (1.000000 > 0.800000). Truncating to maximum value.\n",
      "Device model returned a depolarizing error parameter greater than maximum allowed value (1.067129 > 1.066667). Truncating to maximum value.\n",
      "Device reported a gate error parameter greater than maximum allowed value (1.000000 > 0.800000). Truncating to maximum value.\n",
      "Device model returned a depolarizing error parameter greater than maximum allowed value (1.067176 > 1.066667). Truncating to maximum value.\n"
     ]
    }
   ],
   "source": [
    "backend_noise_model = NoiseModel.from_backend(backend)\n",
    "# # Remove readout errros\n",
    "# p0given1 = 0\n",
    "# p1given0 = 0\n",
    "# rde = ReadoutError([[1 - p1given0, p1given0], [p0given1, 1 - p0given1]])\n",
    "# for i in range(backend.configuration().num_qubits):\n",
    "#     backend_noise_model._local_readout_errors[(i,)] = rde\n",
    "den_simu = AerSimulator(method='density_matrix',noise_model=backend_noise_model)"
   ]
  },
  {
   "cell_type": "code",
   "execution_count": 21,
   "metadata": {},
   "outputs": [],
   "source": [
    "# # Obtain Measurement Error Matrix\n",
    "# qr = QuantumRegister(n_qubits)\n",
    "# meas_calibs, state_labels = complete_meas_cal(qr=qr, circlabel='mcal')\n",
    "# for i in range(len(meas_calibs)):\n",
    "#     meas_calibs[i] = transpile(meas_calibs[i],den_simu)\n",
    "\n",
    "# job_meas = den_simu.run(meas_calibs,shots=reps*8192,optimization_level=0)\n",
    "# cal_results = job_meas.result()\n",
    "# meas_fitter = CompleteMeasFitter(cal_results,state_labels,circlabel='mcal')\n",
    "# meas_filter = meas_fitter.filter\n",
    "# cal_mat= meas_filter.cal_matrix\n",
    "# np.save(data_folder+backend.properties().to_dict()['backend_name']+'_cal_mat.npy', cal_mat)"
   ]
  },
  {
   "cell_type": "code",
   "execution_count": 22,
   "metadata": {},
   "outputs": [
    {
     "data": {
      "text/plain": [
       "array([[9.28619385e-01, 4.55780029e-02, 6.34765625e-03, 4.11987305e-04,\n",
       "        1.87072754e-02, 1.12915039e-03, 1.22070312e-04, 3.05175781e-05],\n",
       "       [5.08117676e-02, 9.33486938e-01, 1.67846680e-04, 5.59997559e-03,\n",
       "        1.17492676e-03, 1.86462402e-02, 0.00000000e+00, 1.06811523e-04],\n",
       "       [3.37219238e-03, 1.22070312e-04, 9.27719116e-01, 4.61120605e-02,\n",
       "        6.10351562e-05, 3.05175781e-05, 1.73492432e-02, 8.39233398e-04],\n",
       "       [1.22070312e-04, 3.60107422e-03, 4.85687256e-02, 9.30572510e-01,\n",
       "        3.05175781e-05, 4.57763672e-05, 8.23974609e-04, 1.79138184e-02],\n",
       "       [1.61285400e-02, 7.47680664e-04, 1.06811523e-04, 1.52587891e-05,\n",
       "        9.27505493e-01, 4.68597412e-02, 5.56945801e-03, 2.44140625e-04],\n",
       "       [8.39233398e-04, 1.64337158e-02, 0.00000000e+00, 1.22070312e-04,\n",
       "        4.92095947e-02, 9.29519653e-01, 3.81469727e-04, 6.01196289e-03],\n",
       "       [1.06811523e-04, 0.00000000e+00, 1.63879395e-02, 7.78198242e-04,\n",
       "        3.14331055e-03, 2.13623047e-04, 9.26773071e-01, 4.48455811e-02],\n",
       "       [0.00000000e+00, 3.05175781e-05, 7.01904297e-04, 1.63879395e-02,\n",
       "        1.67846680e-04, 3.55529785e-03, 4.89807129e-02, 9.30007935e-01]])"
      ]
     },
     "execution_count": 22,
     "metadata": {},
     "output_type": "execute_result"
    }
   ],
   "source": [
    "cal_mat = np.load(data_folder+backend.properties().to_dict()['backend_name']+'_cal_mat.npy')\n",
    "cal_mat"
   ]
  },
  {
   "cell_type": "code",
   "execution_count": 23,
   "metadata": {},
   "outputs": [],
   "source": [
    "unitary_simulator = Aer.get_backend('aer_simulator')\n",
    "unitary_circ = transpile(single_iter(n_qubits), backend=den_simu)\n",
    "unitary_circ.save_unitary()\n",
    "unitary_result = unitary_simulator.run(unitary_circ).result()\n",
    "unitary = unitary_result.get_unitary(unitary_circ)\n",
    "\n",
    "unitaries = []\n",
    "for i in range(1, max_num_itrs+1):\n",
    "    gate = unitary.data\n",
    "    F = np.kron(gate.conjugate(), gate)\n",
    "    unitaries.append(F)"
   ]
  },
  {
   "cell_type": "code",
   "execution_count": 24,
   "metadata": {},
   "outputs": [
    {
     "data": {
      "text/plain": [
       "{'001': 13364,\n",
       " '000': 47117,\n",
       " '011': 1096,\n",
       " '010': 1268,\n",
       " '100': 1278,\n",
       " '101': 772,\n",
       " '110': 320,\n",
       " '111': 321}"
      ]
     },
     "execution_count": 24,
     "metadata": {},
     "output_type": "execute_result"
    }
   ],
   "source": [
    "trans_circ = transpile(iterative_circ(3, n_qubits), backend=den_simu)\n",
    "iter_res = den_simu.run(trans_circ,shots=8192*reps,seed_simulator=np.random.randint(10**8)).result()\n",
    "iter_res.get_counts()"
   ]
  },
  {
   "cell_type": "code",
   "execution_count": 25,
   "metadata": {},
   "outputs": [
    {
     "name": "stdout",
     "output_type": "stream",
     "text": [
      "Purity\n",
      "0.8298677941836109\n",
      "0.7072709174797879\n",
      "0.6182598952320661\n",
      "0.5530575836065881\n",
      "0.5048029557834259\n",
      "0.4686739933745398\n",
      "0.44127517870715854\n",
      "0.4202096791932697\n",
      "0.40378045683436403\n",
      "0.3907813829577334\n",
      "\n",
      "Prob Vec\n",
      "[0.84712219 0.11294556 0.00863647 0.00642395 0.01667786 0.00469971\n",
      " 0.00180054 0.00169373]\n",
      "[0.78129578 0.16065979 0.01350403 0.01150513 0.01834106 0.00779724\n",
      " 0.0038147  0.00308228]\n",
      "[0.72038269 0.20344543 0.01878357 0.01603699 0.02030945 0.01133728\n",
      " 0.00511169 0.0045929 ]\n",
      "[0.66516113 0.24046326 0.02281189 0.02171326 0.02224731 0.01455688\n",
      " 0.00657654 0.00646973]\n",
      "[0.62329102 0.26617432 0.02648926 0.02644348 0.02406311 0.01725769\n",
      " 0.00772095 0.00856018]\n",
      "[0.58827209 0.2869873  0.03233337 0.03048706 0.02354431 0.01863098\n",
      " 0.01010132 0.00964355]\n",
      "[0.55641174 0.30526733 0.03378296 0.03404236 0.02615356 0.02232361\n",
      " 0.01141357 0.01060486]\n",
      "[0.52864075 0.31982422 0.03930664 0.03727722 0.02792358 0.0223999\n",
      " 0.01210022 0.01252747]\n",
      "[0.50227356 0.33236694 0.04298401 0.04077148 0.02832031 0.0262146\n",
      " 0.0138092  0.01325989]\n",
      "[0.48573303 0.33744812 0.04458618 0.04364014 0.0291748  0.02801514\n",
      " 0.01565552 0.01574707]\n"
     ]
    }
   ],
   "source": [
    "np.random.seed(7)\n",
    "\n",
    "\n",
    "total_simu_dens = [] # quantum state in density-matrix form\n",
    "total_simu_probs = [] # measurement result\n",
    "total_simu_purs = [] # purity\n",
    "for i in range(1, max_num_itrs+1):\n",
    "    trans_circ = transpile(iterative_circ(i, n_qubits), backend=den_simu)\n",
    "    iter_res = den_simu.run(trans_circ,shots=8192*reps,seed_simulator=np.random.randint(10**8)).result()\n",
    "    iter_den = iter_res.data()['density_matrix']\n",
    "    total_simu_dens.append(iter_den)\n",
    "    total_simu_probs.append(KSEM.dictToVec(iter_res.get_counts()))\n",
    "    total_simu_purs.append(np.real(iter_den.purity()))\n",
    "    \n",
    "print(\"Purity\")\n",
    "for pu in total_simu_purs:\n",
    "    print(pu)\n",
    "    \n",
    "print(\"\\nProb Vec\")\n",
    "for p in total_simu_probs:\n",
    "    print(p)"
   ]
  },
  {
   "cell_type": "markdown",
   "metadata": {},
   "source": [
    "## Kalman Smoother"
   ]
  },
  {
   "cell_type": "code",
   "execution_count": 26,
   "metadata": {},
   "outputs": [],
   "source": [
    "def vecden_meas(state):# H, measurement matrix for vectorized density matrix\n",
    "    num_qubits = int(np.log2(np.sqrt(state.shape[0])))\n",
    "    nrows = 2**num_qubits\n",
    "    ncols = nrows**2\n",
    "    mat = np.zeros((nrows, ncols), dtype=np.float64)\n",
    "    for k in range(nrows):\n",
    "        mat[k, nrows*k+k] = 1.0 # take out the diagonal terms in vectorized density matrix\n",
    "    return np.real(mat.dot(state))"
   ]
  },
  {
   "cell_type": "markdown",
   "metadata": {},
   "source": [
    "### Initialize"
   ]
  },
  {
   "cell_type": "code",
   "execution_count": 27,
   "metadata": {},
   "outputs": [],
   "source": [
    "initial_state = np.array([0]*(real_probs[0].size**2), dtype=complex)\n",
    "initial_state[0] = 1\n",
    "\n",
    "# initial state\n",
    "num_dim = initial_state.size\n",
    "x =initial_state\n",
    "x[0]-= 0.01/num_dim\n",
    "nrows = int(x.size-1)\n",
    "for k in range(1,nrows+1):\n",
    "    x[k] += 1/(num_dim*nrows)"
   ]
  },
  {
   "cell_type": "code",
   "execution_count": 28,
   "metadata": {},
   "outputs": [],
   "source": [
    "# Other variance parameters\n",
    "num_dim_state = initial_state.size\n",
    "num_dim_obs = real_probs[0].size\n",
    "\n",
    "M = np.identity(num_dim_state, dtype=complex)* 0.01 * (1) # a guess for covariance matrix, E[(x0-xhat0^+)(x0-xhat0^+)^T]\n",
    "Q = np.identity(num_dim_state, dtype=complex)* 0.2 * (1) # state covariance\n",
    "R = np.identity(num_dim_obs)* 0.2 * (1) # meas covariance\n",
    "P = np.identity(num_dim_state, dtype=complex)* 0.1 * (1+1j)# \n",
    "# U = np.identity(num_dim_obs, dtype=complex)* 0.0"
   ]
  },
  {
   "cell_type": "code",
   "execution_count": 29,
   "metadata": {},
   "outputs": [
    {
     "data": {
      "text/plain": [
       "(64, 64, 8, 4096)"
      ]
     },
     "execution_count": 29,
     "metadata": {},
     "output_type": "execute_result"
    }
   ],
   "source": [
    "x.size,num_dim_state,num_dim_obs, unitaries[0].size"
   ]
  },
  {
   "cell_type": "markdown",
   "metadata": {},
   "source": [
    "### EM and Smoother - Total"
   ]
  },
  {
   "cell_type": "markdown",
   "metadata": {},
   "source": [
    "Use longest iterations"
   ]
  },
  {
   "cell_type": "code",
   "execution_count": 30,
   "metadata": {},
   "outputs": [],
   "source": [
    "# total_smoother_dens = []\n",
    "# total_smoother_purs = []\n",
    "\n",
    "# observs = total_simu_probs\n",
    "# learn_obj = EMLearn(observs, unitaries[0], x, M, Q, R, P, U)\n",
    "# estX0, estM0, estQ, estR, estF = learn_obj.learn() # they are all arguemented\n",
    "\n",
    "# # Slice from argumented system\n",
    "# realX0 = estX0.toarray()[:num_dim_state]\n",
    "# realX0norm = np.sqrt(np.sum(np.abs(realX0)**2))\n",
    "# realM0 = estM0.toarray()[range(num_dim_state),:][:,range(num_dim_state)]\n",
    "# realF = estF.toarray()[range(num_dim_state),:][:,range(num_dim_state)]\n",
    "# realQ = estQ.toarray()[range(num_dim_state),:][:,range(num_dim_state)]\n",
    "# realR = estR.toarray()[range(num_dim_obs),:][:,range(num_dim_obs)]\n",
    "# realP = estQ.toarray()[range(num_dim_state),:][:,range(num_dim_state, 2*num_dim_state)]\n",
    "# realU = estR.toarray()[range(num_dim_obs),:][:,range(num_dim_obs, 2*num_dim_obs)]\n",
    "\n",
    "# smoother = KSQS(observs, realF, x, realM0, realQ, realR, realP, realU)\n",
    "# x_seq, M_seq, M_prio_seq = smoother.smooth() \n",
    "\n",
    "# x_est_norms = []\n",
    "# for j in range(max_num_itrs):\n",
    "#     x_est = np.array(x_seq[j+1][:num_dim_state].todense()).flatten()\n",
    "#     diag_sum = np.sum(vecden_meas(x_est))\n",
    "\n",
    "#     #normalize along the diagonal\n",
    "#     x_est_norm = x_est+0\n",
    "#     nrows = int(np.sqrt(x_est.size))\n",
    "#     for k in range(nrows):\n",
    "#         x_est_norm[k*nrows+k] = x_est_norm[k*nrows+k]/diag_sum\n",
    "#     x_est_norms.append(x_est_norm)\n",
    "#     final_den = x_est_norm.reshape(num_dim_obs, num_dim_obs)\n",
    "#     total_smoother_dens.append(final_den)\n",
    "#     total_smoother_purs.append(np.real(qi.DensityMatrix(final_den).purity()))"
   ]
  },
  {
   "cell_type": "markdown",
   "metadata": {},
   "source": [
    "Only use the estimation in the final iteration as the valid output"
   ]
  },
  {
   "cell_type": "code",
   "execution_count": 31,
   "metadata": {},
   "outputs": [
    {
     "name": "stderr",
     "output_type": "stream",
     "text": [
      "C:\\ProgramData\\Anaconda3\\envs\\quantum\\lib\\site-packages\\scipy\\sparse\\_index.py:82: SparseEfficiencyWarning: Changing the sparsity structure of a csc_matrix is expensive. lil_matrix is more efficient.\n",
      "  self._set_intXint(row, col, x.flat[0])\n",
      "C:\\ProgramData\\Anaconda3\\envs\\quantum\\lib\\site-packages\\scipy\\sparse\\linalg\\dsolve\\linsolve.py:318: SparseEfficiencyWarning: splu requires CSC matrix format\n",
      "  warn('splu requires CSC matrix format', SparseEfficiencyWarning)\n",
      "C:\\ProgramData\\Anaconda3\\envs\\quantum\\lib\\site-packages\\scipy\\sparse\\linalg\\dsolve\\linsolve.py:215: SparseEfficiencyWarning: spsolve is more efficient when sparse b is in the CSC matrix format\n",
      "  warn('spsolve is more efficient when sparse b '\n"
     ]
    },
    {
     "name": "stdout",
     "output_type": "stream",
     "text": [
      "Iteration     1, New log-likelihood 2.91779e+02, Last log-likelihood 2.93489e+02, Change -1.70966e+00\n",
      "Iteration     1, New log-likelihood 1.43371e+02, Last log-likelihood 2.51604e+02, Change -1.08233e+02\n",
      "Iteration     1, New log-likelihood -6.19997e+03, Last log-likelihood -1.18383e+03, Change -5.01615e+03\n",
      "Iteration     1, New log-likelihood -7.04701e+05, Last log-likelihood -2.00564e+04, Change -6.84645e+05\n",
      "Iteration     1, New log-likelihood -2.79075e+08, Last log-likelihood -2.49518e+05, Change -2.78825e+08\n",
      "Iteration     1, New log-likelihood -1.04701e+11, Last log-likelihood -2.97881e+06, Change -1.04698e+11\n",
      "Iteration     1, New log-likelihood -3.58494e+13, Last log-likelihood -3.51185e+07, Change -3.58494e+13\n",
      "Iteration     1, New log-likelihood -1.17536e+16, Last log-likelihood -4.11388e+08, Change -1.17536e+16\n",
      "Iteration     1, New log-likelihood -3.75322e+18, Last log-likelihood -4.80827e+09, Change -3.75322e+18\n",
      "Iteration     1, New log-likelihood -1.17438e+21, Last log-likelihood -5.61300e+10, Change -1.17438e+21\n"
     ]
    }
   ],
   "source": [
    "total_smoother_dens = []\n",
    "total_smoother_purs = []\n",
    "for i in range(1,max_num_itrs+1):\n",
    "    observs = real_probs[0:i]\n",
    "    learn_obj = EMLearn(observs, unitaries[0], x, M, Q, R, P)\n",
    "    estX0, estM0, estQ, estR, estF = learn_obj.learn() # they are all arguemented\n",
    "    \n",
    "    # Slice from argumented system\n",
    "    realX0 = estX0.toarray()[:num_dim_state]\n",
    "    realX0norm = np.sqrt(np.sum(np.abs(realX0)**2))\n",
    "    realM0 = estM0.toarray()[range(num_dim_state),:][:,range(num_dim_state)]\n",
    "    realF = estF.toarray()[range(num_dim_state),:][:,range(num_dim_state)]\n",
    "    realQ = estQ.toarray()[range(num_dim_state),:][:,range(num_dim_state)]\n",
    "    realR = estR.toarray()[range(num_dim_obs),:][:,range(num_dim_obs)]\n",
    "    realP = estQ.toarray()[range(num_dim_state),:][:,range(num_dim_state, 2*num_dim_state)]\n",
    "    realU = estR.toarray()[range(num_dim_obs),:][:,range(num_dim_obs, 2*num_dim_obs)]*0\n",
    "\n",
    "    smoother = KSQS(observs, realF, x, realM0, realQ, realR, realP)\n",
    "    x_seq, M_seq, M_prio_seq = smoother.smooth() \n",
    "    \n",
    "    # Normalization\n",
    "#     x_est_norms = []\n",
    "#     for j in range(i):\n",
    "#         x_est = np.array(x_seq[j+1][:num_dim_state].todense()).flatten()\n",
    "#         diag_sum = np.sum(vecden_meas(x_est))\n",
    "\n",
    "#         #normalize along the diagonal\n",
    "#         x_est_norm = x_est+0\n",
    "#         nrows = int(np.sqrt(x_est.size))\n",
    "#         for k in range(nrows):\n",
    "#             x_est_norm[k*nrows+k] = x_est_norm[k*nrows+k]/diag_sum\n",
    "#     final_den = x_est_norm.reshape(num_dim_obs, num_dim_obs)\n",
    "\n",
    "    x_est = np.matrix(x_seq[-1][:num_dim_state].todense()).flatten().reshape(num_dim_obs, num_dim_obs)\n",
    "    x_est = (x_est+x_est.H)/2\n",
    "    final_den = KSEM.closed_den_mat(x_est)\n",
    "    total_smoother_dens.append(final_den)\n",
    "    total_smoother_purs.append(np.real(qi.DensityMatrix(final_den).purity()))"
   ]
  },
  {
   "cell_type": "code",
   "execution_count": 32,
   "metadata": {},
   "outputs": [
    {
     "name": "stdout",
     "output_type": "stream",
     "text": [
      "Is state a valid density matrix: True\n",
      "Is state a valid density matrix: True\n",
      "Is state a valid density matrix: True\n",
      "Is state a valid density matrix: True\n",
      "Is state a valid density matrix: True\n",
      "Is state a valid density matrix: True\n",
      "Is state a valid density matrix: True\n",
      "Is state a valid density matrix: True\n",
      "Is state a valid density matrix: True\n",
      "Is state a valid density matrix: True\n"
     ]
    }
   ],
   "source": [
    "for den in total_smoother_dens:\n",
    "    print(\"Is state a valid density matrix:\", qi.DensityMatrix(den).is_valid())"
   ]
  },
  {
   "cell_type": "code",
   "execution_count": 33,
   "metadata": {},
   "outputs": [
    {
     "name": "stdout",
     "output_type": "stream",
     "text": [
      "[[ 0.452+0.j -0.   +0.j -0.   +0.j -0.   +0.j -0.   +0.j -0.   +0.j\n",
      "  -0.   +0.j -0.   +0.j]\n",
      " [-0.   +0.j  0.28 +0.j -0.   +0.j -0.   +0.j -0.   +0.j -0.   +0.j\n",
      "  -0.   +0.j -0.   +0.j]\n",
      " [-0.   +0.j -0.   +0.j  0.076+0.j  0.   +0.j -0.   +0.j -0.   +0.j\n",
      "  -0.   +0.j -0.   +0.j]\n",
      " [-0.   +0.j -0.   +0.j  0.   +0.j  0.088+0.j -0.   +0.j -0.   +0.j\n",
      "  -0.   +0.j -0.   +0.j]\n",
      " [-0.   +0.j -0.   +0.j -0.   +0.j -0.   +0.j  0.026+0.j -0.   +0.j\n",
      "  -0.   +0.j  0.   +0.j]\n",
      " [-0.   +0.j -0.   +0.j -0.   +0.j -0.   +0.j -0.   +0.j  0.029+0.j\n",
      "   0.   +0.j -0.   +0.j]\n",
      " [-0.   +0.j -0.   +0.j -0.   +0.j -0.   +0.j -0.   +0.j  0.   +0.j\n",
      "   0.034+0.j -0.002+0.j]\n",
      " [-0.   +0.j -0.   +0.j -0.   +0.j -0.   +0.j  0.   +0.j -0.   +0.j\n",
      "  -0.002+0.j  0.014+0.j]]\n",
      "[[ 0.526+0.j  0.088+0.j  0.   +0.j  0.   +0.j  0.   +0.j  0.   +0.j\n",
      "   0.   +0.j  0.   +0.j]\n",
      " [ 0.088+0.j  0.327+0.j  0.   +0.j  0.   +0.j  0.   +0.j  0.   +0.j\n",
      "   0.   +0.j  0.   +0.j]\n",
      " [ 0.   +0.j  0.   +0.j  0.04 +0.j  0.001+0.j  0.   +0.j  0.   +0.j\n",
      "   0.   +0.j  0.   +0.j]\n",
      " [ 0.   +0.j  0.   +0.j  0.001+0.j  0.04 +0.j  0.   +0.j  0.   +0.j\n",
      "   0.   +0.j  0.   +0.j]\n",
      " [ 0.   +0.j  0.   +0.j  0.   +0.j  0.   +0.j  0.02 +0.j -0.008-0.j\n",
      "   0.   +0.j  0.   +0.j]\n",
      " [ 0.   +0.j  0.   +0.j  0.   +0.j  0.   +0.j -0.008+0.j  0.02 +0.j\n",
      "   0.   +0.j  0.   +0.j]\n",
      " [ 0.   +0.j  0.   +0.j  0.   +0.j  0.   +0.j  0.   +0.j  0.   +0.j\n",
      "   0.013+0.j -0.002-0.j]\n",
      " [ 0.   +0.j  0.   +0.j  0.   +0.j  0.   +0.j  0.   +0.j  0.   +0.j\n",
      "  -0.002+0.j  0.013+0.j]]\n"
     ]
    }
   ],
   "source": [
    "with np.printoptions(precision=3, suppress=True):\n",
    "#     for den in total_smoother_dens:\n",
    "#         print(den)\n",
    "    print(total_smoother_dens[8])\n",
    "    print(total_simu_dens[8].data)"
   ]
  },
  {
   "cell_type": "code",
   "execution_count": 34,
   "metadata": {},
   "outputs": [
    {
     "name": "stdout",
     "output_type": "stream",
     "text": [
      "Estimated Purity (Total)\n",
      "0.7835419631656941\n",
      "0.6429680512091152\n",
      "0.551515033391776\n",
      "0.4805729164917151\n",
      "0.42847919615844693\n",
      "0.38461966511702445\n",
      "0.3464242485018588\n",
      "0.31939780004092244\n",
      "0.2996615518033936\n",
      "0.2752438540896327\n"
     ]
    }
   ],
   "source": [
    "print(\"Estimated Purity (Total)\")\n",
    "for pu in total_smoother_purs:\n",
    "    print(pu)"
   ]
  },
  {
   "cell_type": "markdown",
   "metadata": {},
   "source": [
    "## Check the fidelity between estimated state and the real state in the simulator"
   ]
  },
  {
   "cell_type": "code",
   "execution_count": 35,
   "metadata": {},
   "outputs": [],
   "source": [
    "from scipy.linalg import sqrtm\n",
    "def state_fid(m1,m2):\n",
    "    sqm1 = sqrtm(m1)\n",
    "    temp = sqm1.dot(m2).dot(sqm1)\n",
    "    temp2 = sqrtm(temp)\n",
    "    return np.real(np.trace(temp2))**2\n",
    "\n",
    "def dist(p,q):\n",
    "    return np.abs(p-q).sum()*0.5"
   ]
  },
  {
   "cell_type": "code",
   "execution_count": 37,
   "metadata": {},
   "outputs": [
    {
     "name": "stdout",
     "output_type": "stream",
     "text": [
      "Iteration 1 KS Dist: 0.044771132770737715 Simu Dist: 0.11041741895233845\n",
      "Iteration 2 KS Dist: 0.03760396667924534 Simu Dist: 0.08849476294536526\n",
      "Iteration 3 KS Dist: 0.05942449950687771 Simu Dist: 0.0777053578038333\n",
      "Iteration 4 KS Dist: 0.07975322136331804 Simu Dist: 0.08995044067649852\n",
      "Iteration 5 KS Dist: 0.036276513090884345 Simu Dist: 0.09849626968700059\n",
      "Iteration 6 KS Dist: 0.030887696260466186 Simu Dist: 0.10959686199520692\n",
      "Iteration 7 KS Dist: 0.03166259162201669 Simu Dist: 0.11927644689865204\n",
      "Iteration 8 KS Dist: 0.03029579202861198 Simu Dist: 0.12835064758565778\n",
      "Iteration 9 KS Dist: 0.024236217489109955 Simu Dist: 0.1288480260944109\n",
      "Iteration 10 KS Dist: 0.033044117306859515 Simu Dist: 0.15454708679962306\n"
     ]
    },
    {
     "data": {
      "image/png": "[encoded data removed]",
      "text/plain": [
       "<Figure size 432x288 with 1 Axes>"
      ]
     },
     "metadata": {
      "needs_background": "light"
     },
     "output_type": "display_data"
    }
   ],
   "source": [
    "diff_fed_all= []\n",
    "diff_fed_simu= []\n",
    "for i in range(max_num_itrs):\n",
    "    fed_difference_simu =  dist(real_probs[i].data, total_simu_dens[i].probabilities())\n",
    "    KS_vec = np.array(total_smoother_dens[i].diagonal()).flatten().real\n",
    "    noisy_KS_vec = cal_mat.dot(KS_vec)\n",
    "    fed_difference_all =  dist(real_probs[i].data, noisy_KS_vec)\n",
    "    diff_fed_all.append(fed_difference_all)\n",
    "    diff_fed_simu.append(fed_difference_simu)\n",
    "    print(\"Iteration\",i+1, \"KS Dist:\", fed_difference_all, \"Simu Dist:\", fed_difference_simu)\n",
    "    \n",
    "iter_range = range(max_num_itrs)\n",
    "plt.plot(np.array(iter_range)+1, np.array(diff_fed_all)[iter_range], '+-', color='red', label='KS+Meas.Err.')\n",
    "plt.plot(np.array(iter_range)+1, np.array(diff_fed_simu)[iter_range], '*-', color='blue', label='Simu')\n",
    "plt.xlabel(\"Number of Iterations\")\n",
    "plt.ylabel(\"TVD\")\n",
    "plt.xticks((np.array(iter_range)+1))\n",
    "plt.legend()\n",
    "plt.tight_layout()\n",
    "plt.savefig(data_folder+backend.properties().to_dict()['backend_name']+\"_diff_dist.svg\")\n",
    "plt.show()"
   ]
  },
  {
   "cell_type": "code",
   "execution_count": null,
   "metadata": {},
   "outputs": [],
   "source": []
  }
 ],
 "metadata": {
  "kernelspec": {
   "display_name": "Python 3 (ipykernel)",
   "language": "python",
   "name": "python3"
  },
  "language_info": {
   "codemirror_mode": {
    "name": "ipython",
    "version": 3
   },
   "file_extension": ".py",
   "mimetype": "text/x-python",
   "name": "python",
   "nbconvert_exporter": "python",
   "pygments_lexer": "ipython3",
   "version": "3.9.7"
  }
 },
 "nbformat": 4,
 "nbformat_minor": 4
}
